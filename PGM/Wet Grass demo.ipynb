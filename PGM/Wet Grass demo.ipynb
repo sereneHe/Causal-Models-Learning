{
 "cells": [
  {
   "cell_type": "code",
   "execution_count": 16,
   "source": [
    "import numpy as np\r\n",
    "from pgmpy.factors.discrete import JointProbabilityDistribution\r\n",
    "from pgmpy.factors.discrete import DiscreteFactor\r\n"
   ],
   "outputs": [],
   "metadata": {}
  },
  {
   "cell_type": "code",
   "execution_count": 19,
   "source": [
    "p_Wet = DiscreteFactor([ 'Rain','Grass'], [2, 2], values=[[3/4,1/4],[1/8,7/8]],\r\n",
    "                           state_names={'Grass': ['wet', 'no'],\r\n",
    "                             'Rain': ['yes', 'no']})\r\n",
    "                             \r\n",
    "p_Rain = DiscreteFactor([ 'Rain'], [2], values=[[1/3,2/3]],\r\n",
    "                           state_names={\r\n",
    "                             'Rain': ['yes', 'no']})\r\n",
    "\r\n",
    "print(p_Wet,'\\n',p_Rain)"
   ],
   "outputs": [
    {
     "output_type": "stream",
     "name": "stdout",
     "text": [
      "+-----------+------------+-------------------+\n",
      "| Rain      | Grass      |   phi(Rain,Grass) |\n",
      "+===========+============+===================+\n",
      "| Rain(yes) | Grass(wet) |            0.7500 |\n",
      "+-----------+------------+-------------------+\n",
      "| Rain(yes) | Grass(no)  |            0.2500 |\n",
      "+-----------+------------+-------------------+\n",
      "| Rain(no)  | Grass(wet) |            0.1250 |\n",
      "+-----------+------------+-------------------+\n",
      "| Rain(no)  | Grass(no)  |            0.8750 |\n",
      "+-----------+------------+-------------------+ \n",
      " +-----------+-------------+\n",
      "| Rain      |   phi(Rain) |\n",
      "+===========+=============+\n",
      "| Rain(yes) |      0.3333 |\n",
      "+-----------+-------------+\n",
      "| Rain(no)  |      0.6667 |\n",
      "+-----------+-------------+\n"
     ]
    }
   ],
   "metadata": {}
  },
  {
   "cell_type": "code",
   "execution_count": 18,
   "source": [
    "jpd=p_Rain.product(p_Wet,inplace=False)\r\n",
    "print(jpd.reduce([('Grass','wet')],inplace=False).normalize(inplace=False))\r\n",
    "print(jpd)"
   ],
   "outputs": [
    {
     "output_type": "stream",
     "name": "stdout",
     "text": [
      "+-----------+-------------+\n",
      "| Rain      |   phi(Rain) |\n",
      "+===========+=============+\n",
      "| Rain(yes) |      0.7500 |\n",
      "+-----------+-------------+\n",
      "| Rain(no)  |      0.2500 |\n",
      "+-----------+-------------+\n",
      "+-----------+------------+-------------------+\n",
      "| Rain      | Grass      |   phi(Rain,Grass) |\n",
      "+===========+============+===================+\n",
      "| Rain(yes) | Grass(wet) |            0.2500 |\n",
      "+-----------+------------+-------------------+\n",
      "| Rain(yes) | Grass(no)  |            0.0833 |\n",
      "+-----------+------------+-------------------+\n",
      "| Rain(no)  | Grass(wet) |            0.0833 |\n",
      "+-----------+------------+-------------------+\n",
      "| Rain(no)  | Grass(no)  |            0.5833 |\n",
      "+-----------+------------+-------------------+\n"
     ]
    }
   ],
   "metadata": {}
  },
  {
   "cell_type": "code",
   "execution_count": null,
   "source": [],
   "outputs": [],
   "metadata": {}
  }
 ],
 "metadata": {
  "orig_nbformat": 4,
  "language_info": {
   "name": "python",
   "version": "3.8.1",
   "mimetype": "text/x-python",
   "codemirror_mode": {
    "name": "ipython",
    "version": 3
   },
   "pygments_lexer": "ipython3",
   "nbconvert_exporter": "python",
   "file_extension": ".py"
  },
  "kernelspec": {
   "name": "python3",
   "display_name": "Python 3.8.1 64-bit"
  },
  "interpreter": {
   "hash": "5714e0d71dbe446fea01dd6deda0c94d4e39f67ef1cccf2400b1c09a7a184d64"
  }
 },
 "nbformat": 4,
 "nbformat_minor": 2
}
