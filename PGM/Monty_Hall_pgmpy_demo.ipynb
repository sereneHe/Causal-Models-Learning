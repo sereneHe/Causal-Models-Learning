{
 "cells": [
  {
   "cell_type": "markdown",
   "source": [
    "# Monty Hall Problem\r\n",
    "\r\n",
    "## SOURCE: pgmpy project, edited"
   ],
   "metadata": {}
  },
  {
   "cell_type": "markdown",
   "source": [
    "### Problem Description:\n",
    "The Monty Hall Problem is a very famous problem in Probability Theory. The question goes like:\n",
    "\n",
    "\n",
    "Suppose you're on a game show, and you're given the choice of three doors: Behind one door is a car; behind the others, goats. You pick a door, say No. 1, and the host, who knows what's behind the doors, opens another door, say No. 3, which has a goat. He then says to you, \"Do you want to pick door No. 2?\" Is it to your advantage to switch your choice?\n",
    "\n",
    "By intution it seems that there shouldn't be any benefit of switching the door. But using Bayes' Theorem we can show that by switching the door the contestant has more chances of winning.\n",
    "\n",
    "You can also checkout the wikipedia page: https://en.wikipedia.org/wiki/Monty_Hall_problem"
   ],
   "metadata": {}
  },
  {
   "cell_type": "markdown",
   "source": [
    "### Probabilistic Interpretetion:\n",
    "So have 3 random variables Contestant $ C \\in \\{1, 2, 3\\} $, Host $ H \\in \\{1, 2, 3\\} $ and prize $ P \\in \\{1, 2, 3 \\} $. The prize has been put randomly behind the doors therefore: $ P(P=1) = P(P=2) = P(P=3) = \\frac{1}{3} $. Also, the contestant is going to choose the door randomly, therefore: $ P(C=1) = P(C=2) = P(C=3) = \\frac{1}{3} $. For this problem we can build a Bayesian Network structure like:\n",
    "\n"
   ],
   "metadata": {}
  },
  {
   "cell_type": "code",
   "execution_count": 6,
   "source": [
    "import matplotlib.pyplot as plt\r\n",
    "import daft\r\n",
    "from daft import PGM\r\n",
    "\r\n",
    "plt.rcParams['figure.facecolor'] = 'white'\r\n",
    "pgm = PGM(shape=[3, 3])\r\n",
    "\r\n",
    "pgm.add_node(daft.Node('P', r\"Gold\", 1, 3))\r\n",
    "pgm.add_node(daft.Node('C', r\"You\", 3, 3))\r\n",
    "pgm.add_node(daft.Node('H', r\"Host\", 2, 1))\r\n",
    "\r\n",
    "\r\n",
    "pgm.add_edge('P', 'H')\r\n",
    "pgm.add_edge('C', 'H')\r\n",
    "pgm.render()\r\n",
    "plt.show()"
   ],
   "outputs": [
    {
     "output_type": "stream",
     "name": "stderr",
     "text": [
      "Finding Elimination Order: : : 0it [14:10, ?it/s]\n"
     ]
    },
    {
     "output_type": "display_data",
     "data": {
      "image/png": "[encoded data removed]",
      "text/plain": [
       "<Figure size 170.079x170.079 with 1 Axes>"
      ]
     },
     "metadata": {}
    }
   ],
   "metadata": {}
  },
  {
   "cell_type": "markdown",
   "source": [
    "with the following CPDs:\n",
    "\n",
    "<pre>\n",
    "\n",
    "P(C):\n",
    "+----------+----------+-----------+-----------+\n",
    "|    C     |     0    |     1     |      2    |\n",
    "+----------+----------+-----------+-----------+\n",
    "|          |    0.33  |    0.33   |    0.33   |\n",
    "+----------+----------+-----------+-----------+\n",
    "\n",
    "P(P):\n",
    "+----------+----------+-----------+-----------+\n",
    "|    P     |     0    |     1     |      2    |\n",
    "+----------+----------+-----------+-----------+\n",
    "|          |    0.33  |    0.33   |    0.33   |\n",
    "+----------+----------+-----------+-----------+\n",
    "\n",
    "P(H | P, C):\n",
    "+------+------+------+------+------+------+------+------+------+------+\n",
    "|   C  |          0         |          1         |          2         |\n",
    "+------+------+------+------+------+------+------+------+------+------+\n",
    "|   P  |   0  |   1  |   2  |   0  |   1  |   2  |   0  |   1  |   2  |\n",
    "+------+------+------+------+------+------+------+------+------+------+\n",
    "|  H=0 |   0  |   0  |   0  |   0  |  0.5 |   1  |   0  |   1  |  0.5 | \n",
    "+------+------+------+------+------+------+------+------+------+------+\n",
    "|  H=1 |  0.5 |   0  |   1  |   0  |   0  |   0  |   1  |   0  |  0.5 |\n",
    "+------+------+------+------+------+------+------+------+------+------+\n",
    "|  H=2 |  0.5 |   1  |   0  |   1  |  0.5 |   0  |   0  |   0  |   0  |\n",
    "+------+------+------+------+------+------+------+------+------+------+\n",
    "</pre>\n",
    "\n",
    "Let's say that the contestant selected door 0 and the host opened door 2, we need to find the probability of the prize i.e. P(P | H=2, C=0)."
   ],
   "metadata": {}
  },
  {
   "cell_type": "code",
   "execution_count": 3,
   "source": [
    "from pgmpy.models import BayesianModel\r\n",
    "from pgmpy.factors.discrete import TabularCPD\r\n",
    "\r\n",
    "# Defining the network structure\r\n",
    "model = BayesianModel([('C', 'H'), ('P', 'H')])\r\n",
    "\r\n",
    "# Defining the CPDs:\r\n",
    "cpd_c = TabularCPD('C', 3, [[0.33], [0.33], [0.33]])\r\n",
    "cpd_p = TabularCPD('P', 3, [[0.33], [0.33], [0.33]])\r\n",
    "cpd_h = TabularCPD('H', 3, [[0, 0, 0, 0, 0.5, 1, 0, 1, 0.5], \r\n",
    "                            [0.5, 0, 1, 0, 0, 0, 1, 0, 0.5], \r\n",
    "                            [0.5, 1, 0, 1, 0.5, 0, 0, 0, 0]],\r\n",
    "                  evidence=['C', 'P'], evidence_card=[3, 3])\r\n",
    "\r\n",
    "# Associating the CPDs with the network structure.\r\n",
    "model.add_cpds(cpd_c, cpd_p, cpd_h)\r\n",
    "\r\n",
    "# Some other methods\r\n",
    "model.get_cpds()"
   ],
   "outputs": [
    {
     "output_type": "execute_result",
     "data": {
      "text/plain": [
       "[<TabularCPD representing P(C:3) at 0x2049927fd60>,\n",
       " <TabularCPD representing P(P:3) at 0x204c6f5b460>,\n",
       " <TabularCPD representing P(H:3 | C:3, P:3) at 0x204c6f5b370>]"
      ]
     },
     "metadata": {},
     "execution_count": 3
    }
   ],
   "metadata": {}
  },
  {
   "cell_type": "code",
   "execution_count": 4,
   "source": [
    "# check_model check for the model structure and the associated CPD and returns True if everything is correct otherwise throws an exception\r\n",
    "model.check_model()"
   ],
   "outputs": [
    {
     "output_type": "execute_result",
     "data": {
      "text/plain": [
       "True"
      ]
     },
     "metadata": {},
     "execution_count": 4
    }
   ],
   "metadata": {}
  },
  {
   "cell_type": "code",
   "execution_count": 5,
   "source": [
    "# Infering the posterior probability \r\n",
    "from pgmpy.inference import VariableElimination\r\n",
    "\r\n",
    "infer = VariableElimination(model)\r\n",
    "posterior_p = infer.query(['P'], evidence={'C': 0, 'H': 2})\r\n",
    "print(posterior_p)"
   ],
   "outputs": [
    {
     "output_type": "stream",
     "name": "stderr",
     "text": [
      "0it [00:00, ?it/s]"
     ]
    },
    {
     "output_type": "stream",
     "name": "stdout",
     "text": [
      "+------+----------+\n",
      "| P    |   phi(P) |\n",
      "+======+==========+\n",
      "| P(0) |   0.3333 |\n",
      "+------+----------+\n",
      "| P(1) |   0.6667 |\n",
      "+------+----------+\n",
      "| P(2) |   0.0000 |\n",
      "+------+----------+\n"
     ]
    },
    {
     "output_type": "stream",
     "name": "stderr",
     "text": [
      "\n"
     ]
    }
   ],
   "metadata": {}
  },
  {
   "cell_type": "markdown",
   "source": [
    "We see that the posterior probability of having the prize behind door 1 is more that door 0. Therefore the contestant should switch the door."
   ],
   "metadata": {}
  }
 ],
 "metadata": {
  "anaconda-cloud": {},
  "kernelspec": {
   "name": "python3",
   "display_name": "Python 3.8.1 64-bit"
  },
  "language_info": {
   "codemirror_mode": {
    "name": "ipython",
    "version": 3
   },
   "file_extension": ".py",
   "mimetype": "text/x-python",
   "name": "python",
   "nbconvert_exporter": "python",
   "pygments_lexer": "ipython3",
   "version": "3.8.1"
  },
  "interpreter": {
   "hash": "5714e0d71dbe446fea01dd6deda0c94d4e39f67ef1cccf2400b1c09a7a184d64"
  }
 },
 "nbformat": 4,
 "nbformat_minor": 4
}
