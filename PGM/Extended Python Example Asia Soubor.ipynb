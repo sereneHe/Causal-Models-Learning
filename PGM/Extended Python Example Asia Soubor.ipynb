{
 "cells": [
  {
   "cell_type": "markdown",
   "metadata": {},
   "source": [
    "# Asia network example\n",
    "network source and some code pieces from pgmpy demo"
   ]
  },
  {
   "cell_type": "code",
   "execution_count": 1,
   "metadata": {},
   "outputs": [],
   "source": [
    "import numpy as np\n",
    "from pgmpy.models import BayesianModel\n",
    "from pgmpy.factors.discrete import TabularCPD\n",
    "from pgmpy.factors.discrete import DiscreteFactor"
   ]
  },
  {
   "cell_type": "markdown",
   "metadata": {},
   "source": [
    "## Get example model\n",
    "list of possible options at the end of this file"
   ]
  },
  {
   "cell_type": "code",
   "execution_count": 2,
   "metadata": {},
   "outputs": [
    {
     "data": {
      "text/plain": [
       "[<TabularCPD representing P(asia:2) at 0x2b78e436f70>,\n",
       " <TabularCPD representing P(bronc:2 | smoke:2) at 0x2b78e436e20>,\n",
       " <TabularCPD representing P(dysp:2 | bronc:2, either:2) at 0x2b78e436d30>,\n",
       " <TabularCPD representing P(either:2 | lung:2, tub:2) at 0x2b78e436df0>,\n",
       " <TabularCPD representing P(lung:2 | smoke:2) at 0x2b78e436ee0>,\n",
       " <TabularCPD representing P(smoke:2) at 0x2b78e449340>,\n",
       " <TabularCPD representing P(tub:2 | asia:2) at 0x2b78e449ac0>,\n",
       " <TabularCPD representing P(xray:2 | either:2) at 0x2b78e4498b0>]"
      ]
     },
     "execution_count": 2,
     "metadata": {},
     "output_type": "execute_result"
    }
   ],
   "source": [
    "from pgmpy.utils import get_example_model\n",
    "model = get_example_model('asia')\n",
    "model.get_cpds()"
   ]
  },
  {
   "cell_type": "code",
   "execution_count": 3,
   "metadata": {},
   "outputs": [
    {
     "data": {
      "text/plain": [
       "NodeView(('asia', 'tub', 'smoke', 'lung', 'bronc', 'either', 'xray', 'dysp'))"
      ]
     },
     "execution_count": 3,
     "metadata": {},
     "output_type": "execute_result"
    }
   ],
   "source": [
    "model.nodes()"
   ]
  },
  {
   "cell_type": "code",
   "execution_count": 4,
   "metadata": {},
   "outputs": [
    {
     "data": {
      "text/plain": [
       "2"
      ]
     },
     "execution_count": 4,
     "metadata": {},
     "output_type": "execute_result"
    }
   ],
   "source": [
    "model.get_cardinality('smoke')"
   ]
  },
  {
   "cell_type": "code",
   "execution_count": 5,
   "metadata": {},
   "outputs": [
    {
     "data": {
      "text/plain": [
       "(dysp ⟂ asia, tub, smoke, xray, lung | either, bronc)"
      ]
     },
     "execution_count": 5,
     "metadata": {},
     "output_type": "execute_result"
    }
   ],
   "source": [
    "# Getting the local independencies of a variable.\n",
    "model.local_independencies('dysp')"
   ]
  },
  {
   "cell_type": "code",
   "execution_count": 6,
   "metadata": {},
   "outputs": [
    {
     "data": {
      "text/plain": [
       "(bronc ⟂ asia, tub, either, xray, lung | smoke)\n",
       "(smoke ⟂ tub, asia)\n",
       "(lung ⟂ bronc, tub, asia | smoke)"
      ]
     },
     "execution_count": 6,
     "metadata": {},
     "output_type": "execute_result"
    }
   ],
   "source": [
    "# Getting all the local independencies in the network.\n",
    "model.local_independencies(['bronc', 'smoke', 'lung'])"
   ]
  },
  {
   "cell_type": "code",
   "execution_count": 7,
   "metadata": {},
   "outputs": [
    {
     "data": {
      "text/plain": [
       "{'smoke': {'bronc', 'dysp', 'either', 'lung', 'smoke', 'xray'}}"
      ]
     },
     "execution_count": 7,
     "metadata": {},
     "output_type": "execute_result"
    }
   ],
   "source": [
    "model.active_trail_nodes('smoke')"
   ]
  },
  {
   "cell_type": "code",
   "execution_count": 8,
   "metadata": {},
   "outputs": [
    {
     "data": {
      "text/plain": [
       "{'smoke': {'asia', 'bronc', 'dysp', 'either', 'lung', 'smoke', 'tub'}}"
      ]
     },
     "execution_count": 8,
     "metadata": {},
     "output_type": "execute_result"
    }
   ],
   "source": [
    "model.active_trail_nodes('smoke', observed='xray')"
   ]
  },
  {
   "cell_type": "code",
   "execution_count": 9,
   "metadata": {},
   "outputs": [
    {
     "data": {
      "text/plain": [
       "['asia']"
      ]
     },
     "execution_count": 9,
     "metadata": {},
     "output_type": "execute_result"
    }
   ],
   "source": [
    "model.get_parents('tub')"
   ]
  },
  {
   "cell_type": "markdown",
   "metadata": {},
   "source": [
    "## Conditional probability distribution"
   ]
  },
  {
   "cell_type": "code",
   "execution_count": 10,
   "metadata": {},
   "outputs": [
    {
     "name": "stdout",
     "output_type": "stream",
     "text": [
      "+----------+-----------+----------+\n",
      "| asia     | asia(yes) | asia(no) |\n",
      "+----------+-----------+----------+\n",
      "| tub(yes) | 0.05      | 0.01     |\n",
      "+----------+-----------+----------+\n",
      "| tub(no)  | 0.95      | 0.99     |\n",
      "+----------+-----------+----------+\n"
     ]
    }
   ],
   "source": [
    "print(model.get_cpds('tub'))"
   ]
  },
  {
   "cell_type": "markdown",
   "metadata": {},
   "source": [
    "## Factor: more general probability potential"
   ]
  },
  {
   "cell_type": "code",
   "execution_count": 11,
   "metadata": {},
   "outputs": [
    {
     "name": "stdout",
     "output_type": "stream",
     "text": [
      "+----------+-----------+-----------------+\n",
      "| tub      | asia      |   phi(tub,asia) |\n",
      "+==========+===========+=================+\n",
      "| tub(yes) | asia(yes) |          0.0500 |\n",
      "+----------+-----------+-----------------+\n",
      "| tub(yes) | asia(no)  |          0.0100 |\n",
      "+----------+-----------+-----------------+\n",
      "| tub(no)  | asia(yes) |          0.9500 |\n",
      "+----------+-----------+-----------------+\n",
      "| tub(no)  | asia(no)  |          0.9900 |\n",
      "+----------+-----------+-----------------+\n"
     ]
    }
   ],
   "source": [
    "tub=model.get_cpds('tub')\n",
    "print(tub.to_factor())"
   ]
  },
  {
   "cell_type": "code",
   "execution_count": 12,
   "metadata": {},
   "outputs": [
    {
     "data": {
      "text/plain": [
       "True"
      ]
     },
     "execution_count": 12,
     "metadata": {},
     "output_type": "execute_result"
    }
   ],
   "source": [
    "model.check_model()"
   ]
  },
  {
   "cell_type": "markdown",
   "metadata": {},
   "source": [
    "## Daft graph display\n",
    "\n",
    "node coordinates needed"
   ]
  },
  {
   "cell_type": "code",
   "execution_count": 13,
   "metadata": {},
   "outputs": [
    {
     "data": {
      "text/plain": [
       "<matplotlib.axes._axes.Axes at 0x2b78eda65e0>"
      ]
     },
     "execution_count": 13,
     "metadata": {},
     "output_type": "execute_result"
    },
    {
     "data": {
      "image/png": "[encoded data removed]",
      "text/plain": [
       "<Figure size 153.071x209.764 with 1 Axes>"
      ]
     },
     "metadata": {},
     "output_type": "display_data"
    }
   ],
   "source": [
    "import matplotlib.pyplot as plt\n",
    "import daft\n",
    "\n",
    "plt.rcParams['figure.facecolor'] = 'white'\n",
    "#\n",
    "pos={'asia': (1, 4), 'smoke': (3, 4), 'tub': (1, 3), 'lung': (2, 3),\n",
    "                         'bronc': (3, 3),'either': (2, 2),'xray': (1, 1),'dysp': (3, 1)}\n",
    "model.to_daft(node_pos=pos).render()"
   ]
  },
  {
   "cell_type": "code",
   "execution_count": 14,
   "metadata": {},
   "outputs": [
    {
     "name": "stdout",
     "output_type": "stream",
     "text": [
      "+-----------+-------------+\n",
      "| lung      |   phi(lung) |\n",
      "+===========+=============+\n",
      "| lung(yes) |      0.0550 |\n",
      "+-----------+-------------+\n",
      "| lung(no)  |      0.9450 |\n",
      "+-----------+-------------+\n"
     ]
    }
   ],
   "source": [
    "from pgmpy.inference import VariableElimination\n",
    "infer = VariableElimination(model)\n",
    "g_dist = infer.query(['lung'],show_progress=False)\n",
    "print(g_dist)"
   ]
  },
  {
   "cell_type": "code",
   "execution_count": 31,
   "metadata": {},
   "outputs": [
    {
     "name": "stdout",
     "output_type": "stream",
     "text": [
      "Width: 5\n",
      "['either', 'tub', 'bronc', 'lung', 'asia', 'smoke', 'xray', 'dysp']\n"
     ]
    },
    {
     "data": {
      "text/plain": [
       "<matplotlib.axes._axes.Axes at 0x2b7913a12b0>"
      ]
     },
     "execution_count": 31,
     "metadata": {},
     "output_type": "execute_result"
    },
    {
     "data": {
      "image/png": "[encoded data removed]",
      "text/plain": [
       "<Figure size 153.071x209.764 with 1 Axes>"
      ]
     },
     "metadata": {},
     "output_type": "display_data"
    }
   ],
   "source": [
    "from pgmpy.inference.EliminationOrder import WeightedMinFill\n",
    "import matplotlib.pyplot as plt\n",
    "import daft\n",
    "import sys\n",
    "\n",
    "plt.rcParams['figure.facecolor'] = 'white'\n",
    "\n",
    "## Transforms pgmpy.models.BayesianModel to daft.PGM\n",
    "def to_daft(model,pos):\n",
    "    daft_model=daft.PGM()\n",
    "    for node in model.nodes:\n",
    "        daft_model.add_node(daft.Node(node, node,pos[node][0],pos[node][1]))\n",
    "    for edge in model.edges:\n",
    "        try:\n",
    "            daft_model.add_edge(edge[0],edge[1],directed=False)\n",
    "        except:\n",
    "            print(sys.exc_info())\n",
    "    return daft_model\n",
    "\n",
    "order=['either', 'tub','bronc','lung', 'asia', 'smoke', 'xray', 'dysp']\n",
    "#order=WeightedMinFill(model).get_elimination_order(nodes=None, show_progress=False)\n",
    "gg=infer.induced_graph(order)\n",
    "\n",
    "print('Width: {}'.format(infer.induced_width(order)))\n",
    "print(order)\n",
    "mm=to_daft(gg,pos)\n",
    "mm.render()\n",
    "\n"
   ]
  },
  {
   "cell_type": "code",
   "execution_count": 28,
   "metadata": {},
   "outputs": [
    {
     "name": "stdout",
     "output_type": "stream",
     "text": [
      "either: fills [('xray', 'dysp')]\n",
      "smoke: fills [('lung', 'bronc')]\n"
     ]
    }
   ],
   "source": [
    "elim_o=WeightedMinFill(model)#.get_elimination_order(nodes=None, show_progress=False)\n",
    "for node in order:\n",
    "    fill=list(elim_o.fill_in_edges(node))\n",
    "    if len(fill)>0:\n",
    "            print('{}: fills {}'.format(node,fill))"
   ]
  },
  {
   "cell_type": "code",
   "execution_count": 15,
   "metadata": {},
   "outputs": [
    {
     "name": "stdout",
     "output_type": "stream",
     "text": [
      "+-----------+-------------+\n",
      "| lung      |   phi(lung) |\n",
      "+===========+=============+\n",
      "| lung(yes) |      0.4887 |\n",
      "+-----------+-------------+\n",
      "| lung(no)  |      0.5113 |\n",
      "+-----------+-------------+\n"
     ]
    }
   ],
   "source": [
    "print(infer.query(['lung'], evidence={'xray': 'yes'},show_progress=False))"
   ]
  },
  {
   "cell_type": "code",
   "execution_count": 16,
   "metadata": {},
   "outputs": [
    {
     "name": "stdout",
     "output_type": "stream",
     "text": [
      "+-----------+-------------+\n",
      "| lung      |   phi(lung) |\n",
      "+===========+=============+\n",
      "| lung(yes) |      0.6460 |\n",
      "+-----------+-------------+\n",
      "| lung(no)  |      0.3540 |\n",
      "+-----------+-------------+\n"
     ]
    }
   ],
   "source": [
    "print(infer.query(['lung'], evidence={'xray': 'yes','smoke':'yes'},show_progress=False))"
   ]
  },
  {
   "cell_type": "code",
   "execution_count": 17,
   "metadata": {},
   "outputs": [
    {
     "name": "stdout",
     "output_type": "stream",
     "text": [
      "+-----------+-------------+\n",
      "| lung      |   phi(lung) |\n",
      "+===========+=============+\n",
      "| lung(yes) |      0.3715 |\n",
      "+-----------+-------------+\n",
      "| lung(no)  |      0.6285 |\n",
      "+-----------+-------------+\n"
     ]
    }
   ],
   "source": [
    "print(infer.query(['lung'], evidence={'xray': 'yes','asia':'yes'},show_progress=False))"
   ]
  },
  {
   "cell_type": "markdown",
   "metadata": {},
   "source": [
    "## Read and write models in pgmpy\n"
   ]
  },
  {
   "cell_type": "markdown",
   "metadata": {},
   "source": [
    "Unfortunatelly, the standard *.net format is not supported."
   ]
  },
  {
   "cell_type": "code",
   "execution_count": 18,
   "metadata": {},
   "outputs": [],
   "source": [
    "from pgmpy.readwrite import BIFReader, BIFWriter\n",
    "writer = BIFWriter(model)\n",
    "writer.write_bif(filename='{}.bif'.format('example'))"
   ]
  },
  {
   "cell_type": "markdown",
   "metadata": {},
   "source": [
    "## Other sample models\n",
    "\n",
    "The continuous ones did not work when I tried them.\n"
   ]
  },
  {
   "cell_type": "markdown",
   "metadata": {},
   "source": [
    "\n",
    "pgmpy examples\n",
    "\n",
    "Options:\n",
    "            Small Networks:\n",
    "                1. asia\n",
    "                2. cancer\n",
    "                3. earthquake\n",
    "                4. sachs\n",
    "                5. survey\n",
    "            Medium Networks:\n",
    "                1. alarm\n",
    "                2. barley\n",
    "                3. child\n",
    "                4. insurance\n",
    "                5. mildew\n",
    "                6. water\n",
    "            Large Networks:\n",
    "                1. hailfinder\n",
    "                2. hepar2\n",
    "                3. win95pts\n",
    "            Very Large Networks:\n",
    "                1. andes\n",
    "                2. diabetes\n",
    "                3. link\n",
    "                4. munin1\n",
    "                5. munin2\n",
    "                6. munin3\n",
    "                7. munin4\n",
    "                8. pathfinder\n",
    "                9. pigs\n",
    "                10. munin\n",
    "        Gaussian Bayesian Network Options:\n",
    "                1. ecoli70\n",
    "                2. magic-niab\n",
    "                3. magic-irri\n",
    "                4. arth150\n",
    "        Conditional Linear Gaussian Bayesian Network Options:\n",
    "                1. sangiovese\n",
    "                2. mehra"
   ]
  },
  {
   "cell_type": "code",
   "execution_count": 19,
   "metadata": {},
   "outputs": [],
   "source": [
    "from pgmpy.utils import get_example_model\n",
    "names=['earthquake','barley']\n",
    "model2 = get_example_model(names[1])\n"
   ]
  },
  {
   "cell_type": "code",
   "execution_count": 20,
   "metadata": {},
   "outputs": [
    {
     "data": {
      "text/plain": [
       "'test-output\\\\barley.gv.pdf'"
      ]
     },
     "execution_count": 20,
     "metadata": {},
     "output_type": "execute_result"
    }
   ],
   "source": [
    "import graphviz\n",
    "dot = graphviz.Digraph(comment='')\n",
    "\n",
    "for nd in model2.nodes():\n",
    "    dot.node(nd,nd)\n",
    "\n",
    "dot.edges(model2.edges)\n",
    "dot.render('test-output/{}.gv'.format(names[1]), view=False) "
   ]
  }
 ],
 "metadata": {
  "hide_input": false,
  "interpreter": {
   "hash": "5714e0d71dbe446fea01dd6deda0c94d4e39f67ef1cccf2400b1c09a7a184d64"
  },
  "kernelspec": {
   "display_name": "Python 3",
   "language": "python",
   "name": "python3"
  },
  "language_info": {
   "codemirror_mode": {
    "name": "ipython",
    "version": 3
   },
   "file_extension": ".py",
   "mimetype": "text/x-python",
   "name": "python",
   "nbconvert_exporter": "python",
   "pygments_lexer": "ipython3",
   "version": "3.8.1"
  }
 },
 "nbformat": 4,
 "nbformat_minor": 4
}
