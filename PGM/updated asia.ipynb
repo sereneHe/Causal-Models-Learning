{
 "cells": [
  {
   "cell_type": "markdown",
   "metadata": {},
   "source": [
    "# Asia network example\n",
    "network source and some code pieces from pgmpy demo"
   ]
  },
  {
   "cell_type": "code",
   "execution_count": 1,
   "metadata": {},
   "outputs": [],
   "source": [
    "import numpy as np\n",
    "from pgmpy.models import BayesianModel\n",
    "from pgmpy.factors.discrete import TabularCPD\n",
    "from pgmpy.factors.discrete import DiscreteFactor"
   ]
  },
  {
   "cell_type": "markdown",
   "metadata": {},
   "source": [
    "## Get example model\n",
    "list of possible options at the end of this file"
   ]
  },
  {
   "cell_type": "code",
   "execution_count": 2,
   "metadata": {},
   "outputs": [
    {
     "data": {
      "text/plain": [
       "[<TabularCPD representing P(asia:2) at 0x234adc08880>,\n",
       " <TabularCPD representing P(bronc:2 | smoke:2) at 0x234adc08bb0>,\n",
       " <TabularCPD representing P(dysp:2 | bronc:2, either:2) at 0x234adc08640>,\n",
       " <TabularCPD representing P(either:2 | lung:2, tub:2) at 0x234adc08490>,\n",
       " <TabularCPD representing P(lung:2 | smoke:2) at 0x234adc082b0>,\n",
       " <TabularCPD representing P(smoke:2) at 0x234adc083d0>,\n",
       " <TabularCPD representing P(tub:2 | asia:2) at 0x234adc08c70>,\n",
       " <TabularCPD representing P(xray:2 | either:2) at 0x234adc08f40>]"
      ]
     },
     "execution_count": 2,
     "metadata": {},
     "output_type": "execute_result"
    }
   ],
   "source": [
    "from pgmpy.utils import get_example_model\n",
    "model = get_example_model('asia')\n",
    "model.get_cpds()"
   ]
  },
  {
   "cell_type": "code",
   "execution_count": 3,
   "metadata": {},
   "outputs": [
    {
     "data": {
      "text/plain": [
       "NodeView(('asia', 'tub', 'smoke', 'lung', 'bronc', 'either', 'xray', 'dysp'))"
      ]
     },
     "execution_count": 3,
     "metadata": {},
     "output_type": "execute_result"
    }
   ],
   "source": [
    "model.nodes()"
   ]
  },
  {
   "cell_type": "code",
   "execution_count": 4,
   "metadata": {},
   "outputs": [
    {
     "data": {
      "text/plain": [
       "2"
      ]
     },
     "execution_count": 4,
     "metadata": {},
     "output_type": "execute_result"
    }
   ],
   "source": [
    "model.get_cardinality('smoke')"
   ]
  },
  {
   "cell_type": "code",
   "execution_count": 5,
   "metadata": {},
   "outputs": [
    {
     "data": {
      "text/plain": [
       "(dysp ⟂ smoke, xray, tub, asia, lung | bronc, either)"
      ]
     },
     "execution_count": 5,
     "metadata": {},
     "output_type": "execute_result"
    }
   ],
   "source": [
    "# Getting the local independencies of a variable.\n",
    "model.local_independencies('dysp')"
   ]
  },
  {
   "cell_type": "code",
   "execution_count": 6,
   "metadata": {},
   "outputs": [
    {
     "data": {
      "text/plain": [
       "(bronc ⟂ xray, tub, asia, lung, either | smoke)\n",
       "(smoke ⟂ asia, tub)\n",
       "(lung ⟂ bronc, asia, tub | smoke)"
      ]
     },
     "execution_count": 6,
     "metadata": {},
     "output_type": "execute_result"
    }
   ],
   "source": [
    "# Getting all the local independencies in the network.\n",
    "model.local_independencies(['bronc', 'smoke', 'lung'])"
   ]
  },
  {
   "cell_type": "code",
   "execution_count": 7,
   "metadata": {},
   "outputs": [
    {
     "data": {
      "text/plain": [
       "{'smoke': {'bronc', 'dysp', 'either', 'lung', 'smoke', 'xray'}}"
      ]
     },
     "execution_count": 7,
     "metadata": {},
     "output_type": "execute_result"
    }
   ],
   "source": [
    "model.active_trail_nodes('smoke')"
   ]
  },
  {
   "cell_type": "code",
   "execution_count": 8,
   "metadata": {},
   "outputs": [
    {
     "data": {
      "text/plain": [
       "{'smoke': {'asia', 'bronc', 'dysp', 'either', 'lung', 'smoke', 'tub'}}"
      ]
     },
     "execution_count": 8,
     "metadata": {},
     "output_type": "execute_result"
    }
   ],
   "source": [
    "model.active_trail_nodes('smoke', observed='xray')"
   ]
  },
  {
   "cell_type": "code",
   "execution_count": 9,
   "metadata": {},
   "outputs": [
    {
     "data": {
      "text/plain": [
       "['asia']"
      ]
     },
     "execution_count": 9,
     "metadata": {},
     "output_type": "execute_result"
    }
   ],
   "source": [
    "model.get_parents('tub')"
   ]
  },
  {
   "cell_type": "markdown",
   "metadata": {},
   "source": [
    "## Conditional probability distribution"
   ]
  },
  {
   "cell_type": "code",
   "execution_count": 48,
   "metadata": {},
   "outputs": [
    {
     "name": "stdout",
     "output_type": "stream",
     "text": [
      "+-----------+-------------+------------+\n",
      "| either    | either(yes) | either(no) |\n",
      "+-----------+-------------+------------+\n",
      "| xray(yes) | 0.98        | 0.05       |\n",
      "+-----------+-------------+------------+\n",
      "| xray(no)  | 0.02        | 0.95       |\n",
      "+-----------+-------------+------------+\n"
     ]
    }
   ],
   "source": [
    "print(model.get_cpds('xray'))"
   ]
  },
  {
   "cell_type": "markdown",
   "metadata": {},
   "source": [
    "## Factor: more general probability potential"
   ]
  },
  {
   "cell_type": "code",
   "execution_count": 11,
   "metadata": {},
   "outputs": [
    {
     "name": "stdout",
     "output_type": "stream",
     "text": [
      "+----------+-----------+-----------------+\n",
      "| tub      | asia      |   phi(tub,asia) |\n",
      "+==========+===========+=================+\n",
      "| tub(yes) | asia(yes) |          0.0500 |\n",
      "+----------+-----------+-----------------+\n",
      "| tub(yes) | asia(no)  |          0.0100 |\n",
      "+----------+-----------+-----------------+\n",
      "| tub(no)  | asia(yes) |          0.9500 |\n",
      "+----------+-----------+-----------------+\n",
      "| tub(no)  | asia(no)  |          0.9900 |\n",
      "+----------+-----------+-----------------+\n"
     ]
    }
   ],
   "source": [
    "tub=model.get_cpds('tub')\n",
    "print(tub.to_factor())"
   ]
  },
  {
   "cell_type": "code",
   "execution_count": 12,
   "metadata": {},
   "outputs": [
    {
     "data": {
      "text/plain": [
       "True"
      ]
     },
     "execution_count": 12,
     "metadata": {},
     "output_type": "execute_result"
    }
   ],
   "source": [
    "model.check_model()"
   ]
  },
  {
   "cell_type": "markdown",
   "metadata": {},
   "source": [
    "## Daft graph display\n",
    "\n",
    "node coordinates needed"
   ]
  },
  {
   "cell_type": "code",
   "execution_count": 13,
   "metadata": {},
   "outputs": [
    {
     "data": {
      "text/plain": [
       "<matplotlib.axes._axes.Axes at 0x234ae56d730>"
      ]
     },
     "execution_count": 13,
     "metadata": {},
     "output_type": "execute_result"
    },
    {
     "data": {
      "image/png": "[encoded data removed]",
      "text/plain": [
       "<Figure size 153.071x209.764 with 1 Axes>"
      ]
     },
     "metadata": {},
     "output_type": "display_data"
    }
   ],
   "source": [
    "import matplotlib.pyplot as plt\n",
    "import daft\n",
    "\n",
    "plt.rcParams['figure.facecolor'] = 'white'\n",
    "#\n",
    "pos={'asia': (1, 4), 'smoke': (3, 4), 'tub': (1, 3), 'lung': (2, 3),\n",
    "                         'bronc': (3, 3),'either': (2, 2),'xray': (1, 1),'dysp': (3, 1)}\n",
    "model.to_daft(node_pos=pos).render()"
   ]
  },
  {
   "cell_type": "code",
   "execution_count": 58,
   "metadata": {},
   "outputs": [
    {
     "name": "stderr",
     "output_type": "stream",
     "text": [
      "Generating for node: tub:   0%|                          | 0/8 [00:00<?, ?it/s]c:\\users\\marta\\appdata\\local\\programs\\python\\python38\\lib\\site-packages\\pgmpy\\factors\\discrete\\DiscreteFactor.py:521: UserWarning: Found unknown state name. Trying to switch to using all state names as state numbers\n",
      "  warn(\n",
      "Generating for node: dysp: 100%|████████████████| 8/8 [00:00<00:00, 222.35it/s]\n"
     ]
    }
   ],
   "source": [
    "from pgmpy.sampling import BayesianModelSampling\n",
    "from pgmpy.factors.discrete import State\n",
    "inference = BayesianModelSampling(model)\n",
    "inference.forward_sample(size=2,show_progress=True)\n",
    "evidence=[State('xray','yes')]\n",
    "inference.likelihood_weighted_sample(evidence=evidence, size=4, show_progress=False)\n",
    "rinference.rejection_sample(evidence=evidence, size=4, show_progress=False)\n"
   ]
  },
  {
   "cell_type": "code",
   "execution_count": 101,
   "metadata": {},
   "outputs": [
    {
     "data": {
      "text/plain": [
       "0.1397357241715437"
      ]
     },
     "execution_count": 101,
     "metadata": {},
     "output_type": "execute_result"
    }
   ],
   "source": [
    "import scipy\n",
    "rj=inference.rejection_sample(evidence=evidence, size=10, show_progress=False)\n",
    "cnts=rj.groupby(['lung','tub'])['asia'].count()\n",
    "summ=cnts.sum()\n",
    "res=[('yes','no'),('no','no'),('no','yes')]\n",
    "sampled_prob=[cnts[(a,b)]/summ for (a,b) in res]\n",
    "precise=infer.query(['lung','tub'], evidence={'xray': 'yes'},show_progress=False)\n",
    "precise_prob=[precise.get_value(lung=a, tub=b) for (a,b) in res]\n",
    "scipy.stats.entropy(sampled_prob,precise_prob)"
   ]
  },
  {
   "cell_type": "code",
   "execution_count": 64,
   "metadata": {},
   "outputs": [
    {
     "name": "stdout",
     "output_type": "stream",
     "text": [
      "+----------+-----------+-----------------+\n",
      "| tub      | lung      |   phi(tub,lung) |\n",
      "+==========+===========+=================+\n",
      "| tub(yes) | lung(yes) |          0.0051 |\n",
      "+----------+-----------+-----------------+\n",
      "| tub(yes) | lung(no)  |          0.0873 |\n",
      "+----------+-----------+-----------------+\n",
      "| tub(no)  | lung(yes) |          0.4836 |\n",
      "+----------+-----------+-----------------+\n",
      "| tub(no)  | lung(no)  |          0.4240 |\n",
      "+----------+-----------+-----------------+\n"
     ]
    }
   ],
   "source": [
    "print(infer.query(['lung','tub'], evidence={'xray': 'yes'},show_progress=False))"
   ]
  },
  {
   "cell_type": "code",
   "execution_count": 42,
   "metadata": {},
   "outputs": [
    {
     "name": "stderr",
     "output_type": "stream",
     "text": [
      "c:\\users\\marta\\appdata\\local\\programs\\python\\python38\\lib\\site-packages\\pgmpy\\factors\\discrete\\DiscreteFactor.py:521: UserWarning: Found unknown state name. Trying to switch to using all state names as state numbers\n",
      "  warn(\n",
      "c:\\users\\marta\\appdata\\local\\programs\\python\\python38\\lib\\site-packages\\pgmpy\\sampling\\Sampling.py:404: RuntimeWarning: invalid value encountered in true_divide\n",
      "  kernel[tup] = prod_cpd_reduced.values / sum(prod_cpd_reduced.values)\n",
      "100%|█████████████████████████████████████████| 19/19 [00:00<00:00, 700.53it/s]\n"
     ]
    },
    {
     "data": {
      "text/html": [
       "<div>\n",
       "<style scoped>\n",
       "    .dataframe tbody tr th:only-of-type {\n",
       "        vertical-align: middle;\n",
       "    }\n",
       "\n",
       "    .dataframe tbody tr th {\n",
       "        vertical-align: top;\n",
       "    }\n",
       "\n",
       "    .dataframe thead th {\n",
       "        text-align: right;\n",
       "    }\n",
       "</style>\n",
       "<table border=\"1\" class=\"dataframe\">\n",
       "  <thead>\n",
       "    <tr style=\"text-align: right;\">\n",
       "      <th></th>\n",
       "      <th>asia</th>\n",
       "      <th>tub</th>\n",
       "      <th>smoke</th>\n",
       "      <th>lung</th>\n",
       "      <th>bronc</th>\n",
       "      <th>either</th>\n",
       "      <th>xray</th>\n",
       "      <th>dysp</th>\n",
       "    </tr>\n",
       "  </thead>\n",
       "  <tbody>\n",
       "    <tr>\n",
       "      <th>0</th>\n",
       "      <td>0</td>\n",
       "      <td>0</td>\n",
       "      <td>1</td>\n",
       "      <td>1</td>\n",
       "      <td>0</td>\n",
       "      <td>1</td>\n",
       "      <td>1</td>\n",
       "      <td>0</td>\n",
       "    </tr>\n",
       "    <tr>\n",
       "      <th>1</th>\n",
       "      <td>1</td>\n",
       "      <td>1</td>\n",
       "      <td>0</td>\n",
       "      <td>1</td>\n",
       "      <td>0</td>\n",
       "      <td>1</td>\n",
       "      <td>1</td>\n",
       "      <td>0</td>\n",
       "    </tr>\n",
       "    <tr>\n",
       "      <th>2</th>\n",
       "      <td>1</td>\n",
       "      <td>1</td>\n",
       "      <td>0</td>\n",
       "      <td>1</td>\n",
       "      <td>0</td>\n",
       "      <td>1</td>\n",
       "      <td>1</td>\n",
       "      <td>0</td>\n",
       "    </tr>\n",
       "    <tr>\n",
       "      <th>3</th>\n",
       "      <td>1</td>\n",
       "      <td>1</td>\n",
       "      <td>1</td>\n",
       "      <td>1</td>\n",
       "      <td>0</td>\n",
       "      <td>1</td>\n",
       "      <td>1</td>\n",
       "      <td>0</td>\n",
       "    </tr>\n",
       "    <tr>\n",
       "      <th>4</th>\n",
       "      <td>1</td>\n",
       "      <td>1</td>\n",
       "      <td>1</td>\n",
       "      <td>1</td>\n",
       "      <td>1</td>\n",
       "      <td>1</td>\n",
       "      <td>1</td>\n",
       "      <td>1</td>\n",
       "    </tr>\n",
       "    <tr>\n",
       "      <th>5</th>\n",
       "      <td>1</td>\n",
       "      <td>1</td>\n",
       "      <td>1</td>\n",
       "      <td>1</td>\n",
       "      <td>1</td>\n",
       "      <td>1</td>\n",
       "      <td>1</td>\n",
       "      <td>1</td>\n",
       "    </tr>\n",
       "    <tr>\n",
       "      <th>6</th>\n",
       "      <td>1</td>\n",
       "      <td>1</td>\n",
       "      <td>1</td>\n",
       "      <td>1</td>\n",
       "      <td>1</td>\n",
       "      <td>1</td>\n",
       "      <td>1</td>\n",
       "      <td>1</td>\n",
       "    </tr>\n",
       "    <tr>\n",
       "      <th>7</th>\n",
       "      <td>1</td>\n",
       "      <td>1</td>\n",
       "      <td>1</td>\n",
       "      <td>1</td>\n",
       "      <td>1</td>\n",
       "      <td>1</td>\n",
       "      <td>1</td>\n",
       "      <td>1</td>\n",
       "    </tr>\n",
       "    <tr>\n",
       "      <th>8</th>\n",
       "      <td>1</td>\n",
       "      <td>1</td>\n",
       "      <td>0</td>\n",
       "      <td>1</td>\n",
       "      <td>0</td>\n",
       "      <td>1</td>\n",
       "      <td>1</td>\n",
       "      <td>1</td>\n",
       "    </tr>\n",
       "    <tr>\n",
       "      <th>9</th>\n",
       "      <td>1</td>\n",
       "      <td>1</td>\n",
       "      <td>1</td>\n",
       "      <td>1</td>\n",
       "      <td>1</td>\n",
       "      <td>1</td>\n",
       "      <td>1</td>\n",
       "      <td>0</td>\n",
       "    </tr>\n",
       "    <tr>\n",
       "      <th>10</th>\n",
       "      <td>1</td>\n",
       "      <td>1</td>\n",
       "      <td>1</td>\n",
       "      <td>1</td>\n",
       "      <td>1</td>\n",
       "      <td>1</td>\n",
       "      <td>1</td>\n",
       "      <td>0</td>\n",
       "    </tr>\n",
       "    <tr>\n",
       "      <th>11</th>\n",
       "      <td>1</td>\n",
       "      <td>1</td>\n",
       "      <td>1</td>\n",
       "      <td>1</td>\n",
       "      <td>0</td>\n",
       "      <td>1</td>\n",
       "      <td>1</td>\n",
       "      <td>1</td>\n",
       "    </tr>\n",
       "    <tr>\n",
       "      <th>12</th>\n",
       "      <td>1</td>\n",
       "      <td>1</td>\n",
       "      <td>0</td>\n",
       "      <td>1</td>\n",
       "      <td>1</td>\n",
       "      <td>1</td>\n",
       "      <td>1</td>\n",
       "      <td>1</td>\n",
       "    </tr>\n",
       "    <tr>\n",
       "      <th>13</th>\n",
       "      <td>1</td>\n",
       "      <td>1</td>\n",
       "      <td>1</td>\n",
       "      <td>1</td>\n",
       "      <td>1</td>\n",
       "      <td>1</td>\n",
       "      <td>1</td>\n",
       "      <td>1</td>\n",
       "    </tr>\n",
       "    <tr>\n",
       "      <th>14</th>\n",
       "      <td>1</td>\n",
       "      <td>1</td>\n",
       "      <td>1</td>\n",
       "      <td>1</td>\n",
       "      <td>1</td>\n",
       "      <td>1</td>\n",
       "      <td>1</td>\n",
       "      <td>1</td>\n",
       "    </tr>\n",
       "    <tr>\n",
       "      <th>15</th>\n",
       "      <td>1</td>\n",
       "      <td>1</td>\n",
       "      <td>1</td>\n",
       "      <td>1</td>\n",
       "      <td>1</td>\n",
       "      <td>1</td>\n",
       "      <td>1</td>\n",
       "      <td>1</td>\n",
       "    </tr>\n",
       "    <tr>\n",
       "      <th>16</th>\n",
       "      <td>1</td>\n",
       "      <td>1</td>\n",
       "      <td>1</td>\n",
       "      <td>1</td>\n",
       "      <td>0</td>\n",
       "      <td>1</td>\n",
       "      <td>1</td>\n",
       "      <td>0</td>\n",
       "    </tr>\n",
       "    <tr>\n",
       "      <th>17</th>\n",
       "      <td>1</td>\n",
       "      <td>1</td>\n",
       "      <td>1</td>\n",
       "      <td>1</td>\n",
       "      <td>0</td>\n",
       "      <td>1</td>\n",
       "      <td>1</td>\n",
       "      <td>0</td>\n",
       "    </tr>\n",
       "    <tr>\n",
       "      <th>18</th>\n",
       "      <td>1</td>\n",
       "      <td>1</td>\n",
       "      <td>0</td>\n",
       "      <td>1</td>\n",
       "      <td>0</td>\n",
       "      <td>1</td>\n",
       "      <td>1</td>\n",
       "      <td>0</td>\n",
       "    </tr>\n",
       "    <tr>\n",
       "      <th>19</th>\n",
       "      <td>1</td>\n",
       "      <td>1</td>\n",
       "      <td>1</td>\n",
       "      <td>1</td>\n",
       "      <td>1</td>\n",
       "      <td>1</td>\n",
       "      <td>1</td>\n",
       "      <td>1</td>\n",
       "    </tr>\n",
       "  </tbody>\n",
       "</table>\n",
       "</div>"
      ],
      "text/plain": [
       "    asia  tub  smoke  lung  bronc  either  xray  dysp\n",
       "0      0    0      1     1      0       1     1     0\n",
       "1      1    1      0     1      0       1     1     0\n",
       "2      1    1      0     1      0       1     1     0\n",
       "3      1    1      1     1      0       1     1     0\n",
       "4      1    1      1     1      1       1     1     1\n",
       "5      1    1      1     1      1       1     1     1\n",
       "6      1    1      1     1      1       1     1     1\n",
       "7      1    1      1     1      1       1     1     1\n",
       "8      1    1      0     1      0       1     1     1\n",
       "9      1    1      1     1      1       1     1     0\n",
       "10     1    1      1     1      1       1     1     0\n",
       "11     1    1      1     1      0       1     1     1\n",
       "12     1    1      0     1      1       1     1     1\n",
       "13     1    1      1     1      1       1     1     1\n",
       "14     1    1      1     1      1       1     1     1\n",
       "15     1    1      1     1      1       1     1     1\n",
       "16     1    1      1     1      0       1     1     0\n",
       "17     1    1      1     1      0       1     1     0\n",
       "18     1    1      0     1      0       1     1     0\n",
       "19     1    1      1     1      1       1     1     1"
      ]
     },
     "execution_count": 42,
     "metadata": {},
     "output_type": "execute_result"
    }
   ],
   "source": [
    "from pgmpy.sampling import GibbsSampling #Bayesian and Markov networks\n",
    "gibbs_chain = GibbsSampling(model)\n",
    "gen=gibbs_chain.generate_sample(size=1)\n",
    "#[s for s in gen]\n",
    "gibbs_chain.sample(size=20)"
   ]
  },
  {
   "cell_type": "code",
   "execution_count": null,
   "metadata": {},
   "outputs": [],
   "source": []
  },
  {
   "cell_type": "code",
   "execution_count": 14,
   "metadata": {},
   "outputs": [
    {
     "name": "stdout",
     "output_type": "stream",
     "text": [
      "+-----------+-------------+\n",
      "| lung      |   phi(lung) |\n",
      "+===========+=============+\n",
      "| lung(yes) |      0.0550 |\n",
      "+-----------+-------------+\n",
      "| lung(no)  |      0.9450 |\n",
      "+-----------+-------------+\n"
     ]
    }
   ],
   "source": [
    "from pgmpy.inference import VariableElimination\n",
    "infer = VariableElimination(model)\n",
    "g_dist = infer.query(['lung'],show_progress=False)\n",
    "print(g_dist)"
   ]
  },
  {
   "cell_type": "code",
   "execution_count": 15,
   "metadata": {},
   "outputs": [
    {
     "name": "stdout",
     "output_type": "stream",
     "text": [
      "Width: 5\n",
      "['either', 'tub', 'bronc', 'lung', 'asia', 'smoke', 'xray', 'dysp']\n"
     ]
    },
    {
     "data": {
      "text/plain": [
       "<matplotlib.axes._axes.Axes at 0x234b06222e0>"
      ]
     },
     "execution_count": 15,
     "metadata": {},
     "output_type": "execute_result"
    },
    {
     "data": {
      "image/png": "[encoded data removed]",
      "text/plain": [
       "<Figure size 153.071x209.764 with 1 Axes>"
      ]
     },
     "metadata": {},
     "output_type": "display_data"
    }
   ],
   "source": [
    "from pgmpy.inference.EliminationOrder import WeightedMinFill\n",
    "import matplotlib.pyplot as plt\n",
    "import daft\n",
    "import sys\n",
    "\n",
    "plt.rcParams['figure.facecolor'] = 'white'\n",
    "\n",
    "## Transforms pgmpy.models.BayesianModel to daft.PGM\n",
    "def to_daft(model,pos):\n",
    "    daft_model=daft.PGM()\n",
    "    for node in model.nodes:\n",
    "        daft_model.add_node(daft.Node(node, node,pos[node][0],pos[node][1]))\n",
    "    for edge in model.edges:\n",
    "        try:\n",
    "            daft_model.add_edge(edge[0],edge[1],directed=False)\n",
    "        except:\n",
    "            print(sys.exc_info())\n",
    "    return daft_model\n",
    "\n",
    "order=['either', 'tub','bronc','lung', 'asia', 'smoke', 'xray', 'dysp']\n",
    "#order=WeightedMinFill(model).get_elimination_order(nodes=None, show_progress=False)\n",
    "gg=infer.induced_graph(order)\n",
    "\n",
    "print('Width: {}'.format(infer.induced_width(order)))\n",
    "print(order)\n",
    "mm=to_daft(gg,pos)\n",
    "mm.render()\n",
    "\n"
   ]
  },
  {
   "cell_type": "code",
   "execution_count": 16,
   "metadata": {},
   "outputs": [
    {
     "data": {
      "text/plain": [
       "<matplotlib.axes._axes.Axes at 0x234b0709a90>"
      ]
     },
     "execution_count": 16,
     "metadata": {},
     "output_type": "execute_result"
    },
    {
     "data": {
      "image/png": "[encoded data removed]",
      "text/plain": [
       "<Figure size 153.071x209.764 with 1 Axes>"
      ]
     },
     "metadata": {},
     "output_type": "display_data"
    }
   ],
   "source": [
    "moral=model.to_markov_model()\n",
    "daft_moral=to_daft(moral, pos)\n",
    "daft_moral.render()"
   ]
  },
  {
   "cell_type": "code",
   "execution_count": 17,
   "metadata": {},
   "outputs": [
    {
     "data": {
      "text/plain": [
       "<matplotlib.axes._axes.Axes at 0x234b07d67c0>"
      ]
     },
     "execution_count": 17,
     "metadata": {},
     "output_type": "execute_result"
    },
    {
     "data": {
      "image/png": "[encoded data removed]",
      "text/plain": [
       "<Figure size 153.071x209.764 with 1 Axes>"
      ]
     },
     "metadata": {},
     "output_type": "display_data"
    }
   ],
   "source": [
    "triangulated=moral.triangulate(order=order)#(heuristic='H6')\n",
    "daft_triangulated=to_daft(triangulated, pos)\n",
    "daft_triangulated.render()"
   ]
  },
  {
   "cell_type": "code",
   "execution_count": 18,
   "metadata": {},
   "outputs": [
    {
     "name": "stdout",
     "output_type": "stream",
     "text": [
      "either: fills [('xray', 'dysp')]\n",
      "smoke: fills [('lung', 'bronc')]\n"
     ]
    }
   ],
   "source": [
    "elim_o=WeightedMinFill(model)#.get_elimination_order(nodes=None, show_progress=False)\n",
    "for node in order:\n",
    "    fill=list(elim_o.fill_in_edges(node))\n",
    "    if len(fill)>0:\n",
    "            print('{}: fills {}'.format(node,fill))"
   ]
  },
  {
   "cell_type": "markdown",
   "metadata": {},
   "source": [
    "## Junction Tree"
   ]
  },
  {
   "cell_type": "code",
   "execution_count": 19,
   "metadata": {},
   "outputs": [
    {
     "data": {
      "image/png": "[encoded data removed]",
      "text/plain": [
       "<Figure size 576x216 with 1 Axes>"
      ]
     },
     "metadata": {},
     "output_type": "display_data"
    }
   ],
   "source": [
    "import networkx as nx\n",
    "jt=triangulated.to_junction_tree()\n",
    "plt.rcParams[\"figure.figsize\"] = (8,3)\n",
    "nx.draw_circular(jt,with_labels=True,)"
   ]
  },
  {
   "cell_type": "code",
   "execution_count": 20,
   "metadata": {},
   "outputs": [
    {
     "data": {
      "text/plain": [
       "NodeView((('bronc', 'xray', 'lung', 'dysp', 'asia', 'smoke'), ('bronc', 'xray', 'lung', 'dysp', 'asia', 'tub'), ('bronc', 'xray', 'lung', 'dysp', 'either', 'tub')))"
      ]
     },
     "execution_count": 20,
     "metadata": {},
     "output_type": "execute_result"
    }
   ],
   "source": [
    "jt.nodes\n",
    "# 'lung', 'bronc', 'dysp' must be also in the inner node."
   ]
  },
  {
   "cell_type": "code",
   "execution_count": 21,
   "metadata": {},
   "outputs": [
    {
     "data": {
      "text/plain": [
       "NodeView((('either', 'smoke', 'dysp', 'bronc'), ('either', 'smoke', 'dysp', 'asia', 'xray'), ('either', 'smoke', 'lung', 'asia'), ('either', 'tub', 'asia', 'lung')))"
      ]
     },
     "execution_count": 21,
     "metadata": {},
     "output_type": "execute_result"
    },
    {
     "data": {
      "image/png": "[encoded data removed]",
      "text/plain": [
       "<Figure size 576x216 with 1 Axes>"
      ]
     },
     "metadata": {},
     "output_type": "display_data"
    }
   ],
   "source": [
    "triangulated=moral.triangulate()#(heuristic='H6')\n",
    "jt=triangulated.to_junction_tree()\n",
    "plt.rcParams[\"figure.figsize\"] = (8,3)\n",
    "nx.draw_circular(jt,with_labels=True,)\n",
    "jt.nodes"
   ]
  },
  {
   "cell_type": "code",
   "execution_count": 22,
   "metadata": {},
   "outputs": [
    {
     "name": "stdout",
     "output_type": "stream",
     "text": [
      "+-----------+-------------+\n",
      "| lung      |   phi(lung) |\n",
      "+===========+=============+\n",
      "| lung(yes) |      0.4887 |\n",
      "+-----------+-------------+\n",
      "| lung(no)  |      0.5113 |\n",
      "+-----------+-------------+\n"
     ]
    }
   ],
   "source": [
    "print(infer.query(['lung'], evidence={'xray': 'yes'},show_progress=False))"
   ]
  },
  {
   "cell_type": "code",
   "execution_count": 23,
   "metadata": {},
   "outputs": [
    {
     "name": "stdout",
     "output_type": "stream",
     "text": [
      "+-----------+-------------+\n",
      "| lung      |   phi(lung) |\n",
      "+===========+=============+\n",
      "| lung(yes) |      0.6460 |\n",
      "+-----------+-------------+\n",
      "| lung(no)  |      0.3540 |\n",
      "+-----------+-------------+\n"
     ]
    }
   ],
   "source": [
    "print(infer.query(['lung'], evidence={'xray': 'yes','smoke':'yes'},show_progress=False))"
   ]
  },
  {
   "cell_type": "code",
   "execution_count": 24,
   "metadata": {},
   "outputs": [
    {
     "name": "stdout",
     "output_type": "stream",
     "text": [
      "+-----------+-------------+\n",
      "| lung      |   phi(lung) |\n",
      "+===========+=============+\n",
      "| lung(yes) |      0.3715 |\n",
      "+-----------+-------------+\n",
      "| lung(no)  |      0.6285 |\n",
      "+-----------+-------------+\n"
     ]
    }
   ],
   "source": [
    "print(infer.query(['lung'], evidence={'xray': 'yes','asia':'yes'},show_progress=False))"
   ]
  },
  {
   "cell_type": "markdown",
   "metadata": {},
   "source": [
    "## Read and write models in pgmpy\n"
   ]
  },
  {
   "cell_type": "markdown",
   "metadata": {},
   "source": [
    "Unfortunatelly, the standard *.net format is not supported."
   ]
  },
  {
   "cell_type": "code",
   "execution_count": 25,
   "metadata": {},
   "outputs": [],
   "source": [
    "from pgmpy.readwrite import BIFReader, BIFWriter\n",
    "writer = BIFWriter(model)\n",
    "writer.write_bif(filename='{}.bif'.format('example'))"
   ]
  },
  {
   "cell_type": "markdown",
   "metadata": {},
   "source": [
    "## Other sample models\n",
    "\n",
    "The continuous ones did not work when I tried them.\n"
   ]
  },
  {
   "cell_type": "markdown",
   "metadata": {},
   "source": [
    "\n",
    "pgmpy examples\n",
    "\n",
    "Options:\n",
    "            Small Networks:\n",
    "                1. asia\n",
    "                2. cancer\n",
    "                3. earthquake\n",
    "                4. sachs\n",
    "                5. survey\n",
    "            Medium Networks:\n",
    "                1. alarm\n",
    "                2. barley\n",
    "                3. child\n",
    "                4. insurance\n",
    "                5. mildew\n",
    "                6. water\n",
    "            Large Networks:\n",
    "                1. hailfinder\n",
    "                2. hepar2\n",
    "                3. win95pts\n",
    "            Very Large Networks:\n",
    "                1. andes\n",
    "                2. diabetes\n",
    "                3. link\n",
    "                4. munin1\n",
    "                5. munin2\n",
    "                6. munin3\n",
    "                7. munin4\n",
    "                8. pathfinder\n",
    "                9. pigs\n",
    "                10. munin\n",
    "        Gaussian Bayesian Network Options:\n",
    "                1. ecoli70\n",
    "                2. magic-niab\n",
    "                3. magic-irri\n",
    "                4. arth150\n",
    "        Conditional Linear Gaussian Bayesian Network Options:\n",
    "                1. sangiovese\n",
    "                2. mehra"
   ]
  },
  {
   "cell_type": "code",
   "execution_count": 26,
   "metadata": {},
   "outputs": [],
   "source": [
    "from pgmpy.utils import get_example_model\n",
    "names=['earthquake','barley']\n",
    "model2 = get_example_model(names[1])\n"
   ]
  },
  {
   "cell_type": "code",
   "execution_count": 27,
   "metadata": {},
   "outputs": [
    {
     "data": {
      "text/plain": [
       "'test-output\\\\barley.gv.pdf'"
      ]
     },
     "execution_count": 27,
     "metadata": {},
     "output_type": "execute_result"
    }
   ],
   "source": [
    "import graphviz\n",
    "dot = graphviz.Digraph(comment='')\n",
    "\n",
    "for nd in model2.nodes():\n",
    "    dot.node(nd,nd)\n",
    "\n",
    "dot.edges(model2.edges)\n",
    "dot.render('test-output/{}.gv'.format(names[1]), view=False) "
   ]
  }
 ],
 "metadata": {
  "hide_input": false,
  "interpreter": {
   "hash": "5714e0d71dbe446fea01dd6deda0c94d4e39f67ef1cccf2400b1c09a7a184d64"
  },
  "kernelspec": {
   "display_name": "Python 3",
   "language": "python",
   "name": "python3"
  },
  "language_info": {
   "codemirror_mode": {
    "name": "ipython",
    "version": 3
   },
   "file_extension": ".py",
   "mimetype": "text/x-python",
   "name": "python",
   "nbconvert_exporter": "python",
   "pygments_lexer": "ipython3",
   "version": "3.8.1"
  }
 },
 "nbformat": 4,
 "nbformat_minor": 4
}
