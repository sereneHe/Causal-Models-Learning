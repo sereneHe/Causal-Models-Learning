{
  "cells": [
    {
      "cell_type": "markdown",
      "source": [
        "# <img src=\"https://github.com/JuliaLang/julia-logo-graphics/raw/master/images/julia-logo-color.png\" height=\"100\" /> _NCTSSOS Colab Notebook Template_\n",
        "\n",
        "## Introduction NCTSSOS Julia\n",
        "[NCTSSOS](https://github.com/wangjie212/NCTSSOS) is a non-commutative polynomial optimization tool based on the sparsity adapted moment-SOHS hierarchies.\n",
        "\n",
        "[TSSOS](https://github.com/wangjie212/TSSOS) is a sparse polynomial optimization package based on the sparsity adapted moment-SOS hierarchies, which can fully exploit the sparsity in the problem data including correlative (variable) sparsity and term sparsity.\n",
        "\n",
        "## Instructions\n",
        "1. Work on a copy of this notebook: _File_ > _Save a copy in Drive_ (you will need a Google account). Alternatively, you can download the notebook using _File_ > _Download .ipynb_, then upload it to [Colab](https://colab.research.google.com/).\n",
        "2. If you need a GPU: _Runtime_ > _Change runtime type_ > _Harware accelerator_ = _GPU_.\n",
        "3. You might need to install Julia, IJulia and other packages (if needed, update `JULIA_VERSION` and the other parameters). This takes a couple of minutes.\n",
        "4. Reload the page (press Ctrl+R, or ⌘+R, or the F5 key) after successfully installing Julia and continue to the next section.\n",
        "5. Execute the following cell **Step 1-Step 7**(click on it and press Ctrl+Enter)\n",
        "\n",
        "_Notes_:\n",
        "* If your Colab Runtime gets reset (e.g., due to inactivity), repeat steps 5, 6 and 7.\n",
        "* After installation, if you want to change the Julia version or activate/deactivate the GPU, you will need to reset the Runtime: _Runtime_ > _Factory reset runtime_ and repeat steps 5 and 6.\n"
      ],
      "metadata": {
        "id": "AuuS5V8YNQck"
      }
    },
    {
      "cell_type": "markdown",
      "source": [
        "#__Step 1: Set up Colab Notebook__\n"
      ],
      "metadata": {
        "id": "6omp8Xzz0Lu0"
      }
    },
    {
      "cell_type": "markdown",
      "source": [
        "## **1.1. Mount Drive - PY**\n"
      ],
      "metadata": {
        "id": "G4MgPEBXHrqG"
      }
    },
    {
      "cell_type": "code",
      "source": [
        "from google.colab import drive\n",
        "drive.mount('/content/gdrive')\n"
      ],
      "metadata": {
        "colab": {
          "base_uri": "https://localhost:8080/"
        },
        "id": "xDciBmyzeBJl",
        "outputId": "6e61b25a-1728-4e93-bc86-01b62fc101b1"
      },
      "execution_count": 1,
      "outputs": [
        {
          "output_type": "stream",
          "name": "stdout",
          "text": [
            "Drive already mounted at /content/gdrive; to attempt to forcibly remount, call drive.mount(\"/content/gdrive\", force_remount=True).\n"
          ]
        }
      ]
    },
    {
      "cell_type": "code",
      "source": [
        "# touch(\"/root/mosek/\")\n",
        "mv(\"/content/gdrive/MyDrive/Colab Notebooks/mosek.lic\", \"/root/mosek/\")\n"
      ],
      "metadata": {
        "id": "NPm7jPPIFyz1"
      },
      "execution_count": null,
      "outputs": []
    },
    {
      "cell_type": "markdown",
      "source": [
        "## **1.2. Relocate MOSEK_lic**\n",
        "Use the following code to move MOSEKLM_LICENSE_FILE to the default lic file search path ':/root/mosek/mosek.lic:'.\n",
        "\n",
        "__* Set new_file_path as the place where you save MOSEK LICENSE__"
      ],
      "metadata": {
        "id": "Y3MGeZN4FP94"
      }
    },
    {
      "cell_type": "code",
      "source": [
        "import os\n",
        "import shutil\n",
        "\n",
        "new_folder_path = \"/root/mosek\"\n",
        "os.makedirs(new_folder_path)\n",
        "\n",
        "# Move\n",
        "\n",
        "new_file_path = \"/content/gdrive/MyDrive/Colab Notebooks/mosek.lic\"\n",
        "shutil.move(new_file_path , new_folder_path)"
      ],
      "metadata": {
        "colab": {
          "base_uri": "https://localhost:8080/",
          "height": 35
        },
        "id": "x10QXYYlFR5x",
        "outputId": "1c439f21-03c2-4bba-c489-64c5c3900670"
      },
      "execution_count": 2,
      "outputs": [
        {
          "output_type": "execute_result",
          "data": {
            "text/plain": [
              "'/root/mosek/mosek.lic'"
            ],
            "application/vnd.google.colaboratory.intrinsic+json": {
              "type": "string"
            }
          },
          "metadata": {},
          "execution_count": 2
        }
      ]
    },
    {
      "cell_type": "markdown",
      "source": [
        "## Save tsv as txt"
      ],
      "metadata": {
        "id": "X6cAzCEZiXho"
      }
    },
    {
      "cell_type": "code",
      "source": [
        "import pandas as pd\n",
        "import os\n",
        "# Setting read route\n",
        "directory = \"/content/gdrive/MyDrive/Colab Notebooks/TSSOS/krebs_cycle/\"\n",
        "# Listing files under route\n",
        "tsv_files = [f for f in os.listdir(directory) if f.endswith(\".tsv\")]\n",
        "# Through every tsv\n",
        "for tsv_file in tsv_files:\n",
        "        df = pd.read_csv(os.path.join(directory, tsv_file), header = None, sep=\"\\t\", index_col = None)\n",
        "        #df.insert(0, \"Sample\", tsv_file)\n",
        "        txt_file = os.path.splitext(os.path.join(directory, tsv_file))[0] + \".txt\"\n",
        "        df.iloc[0,:100][1:].to_csv(txt_file, sep=\"\\t\", index=False, header = False)\n",
        "        print(df.iloc[0,:10][1:])\n"
      ],
      "metadata": {
        "id": "GLCIy5QJfLqn",
        "colab": {
          "base_uri": "https://localhost:8080/",
          "height": 216
        },
        "outputId": "11fe059b-e74a-413c-9c30-3d5e9ae81f5c"
      },
      "execution_count": null,
      "outputs": [
        {
          "output_type": "error",
          "ename": "LoadError",
          "evalue": "ArgumentError: Package pandas not found in current path.\n- Run `import Pkg; Pkg.add(\"pandas\")` to install the pandas package.",
          "traceback": [
            "ArgumentError: Package pandas not found in current path.\n- Run `import Pkg; Pkg.add(\"pandas\")` to install the pandas package.",
            "",
            "Stacktrace:",
            " [1] macro expansion",
            "   @ ./loading.jl:1163 [inlined]",
            " [2] macro expansion",
            "   @ ./lock.jl:223 [inlined]",
            " [3] require(into::Module, mod::Symbol)",
            "   @ Base ./loading.jl:1144"
          ]
        }
      ]
    },
    {
      "cell_type": "markdown",
      "source": [
        "# __Step 2: Install Julia and pkgs__"
      ],
      "metadata": {
        "id": "RucL_NMNidzR"
      }
    },
    {
      "cell_type": "markdown",
      "source": [
        "## **2.1. Install Julia 1.8.2 and pkgs**"
      ],
      "metadata": {
        "id": "z0L9vW6hOXzh"
      }
    },
    {
      "cell_type": "code",
      "source": [
        "%%shell\n",
        "set -e\n",
        "\n",
        "JULIA_DEPOT_PATH=\"/content/gdrive/MyDrive/Colab Notebooks/test julia\"\n",
        "#---------------------------------------------------#\n",
        "JULIA_VERSION=\"1.8.2\" # any version ≥ 0.7.0\n",
        "JULIA_PACKAGES=\"IJulia BenchmarkTools DelimitedFiles DynamicPolynomials Random Statistics DataFrames CSV\"\n",
        "\n",
        "JULIA_PACKAGES_IF_GPU=\"CUDA\" # or CuArrays for older Julia versions\n",
        "JULIA_NUM_THREADS=2\n",
        "#---------------------------------------------------#\n",
        "\n",
        "if [ -z `which julia` ]; then\n",
        "  # Install Julia\n",
        "  JULIA_VER=`cut -d '.' -f -2 <<< \"$JULIA_VERSION\"`\n",
        "  echo \"Installing Julia $JULIA_VERSION on the current Colab Runtime...\"\n",
        "  BASE_URL=\"https://julialang-s3.julialang.org/bin/linux/x64\"\n",
        "  URL=\"$BASE_URL/$JULIA_VER/julia-$JULIA_VERSION-linux-x86_64.tar.gz\"\n",
        "  wget -nv $URL -O /tmp/julia.tar.gz # -nv means \"not verbose\"\n",
        "  tar -x -f /tmp/julia.tar.gz -C /usr/local --strip-components 1\n",
        "  rm /tmp/julia.tar.gz\n",
        "\n",
        "  # Install Packages\n",
        "  nvidia-smi -L &> /dev/null && export GPU=1 || export GPU=0\n",
        "  if [ $GPU -eq 1 ]; then\n",
        "    JULIA_PACKAGES=\"$JULIA_PACKAGES $JULIA_PACKAGES_IF_GPU\"\n",
        "  fi\n",
        "  for PKG in `echo $JULIA_PACKAGES`; do\n",
        "    echo \"Installing Julia package $PKG...\"\n",
        "    julia -e 'using Pkg; pkg\"add '$PKG'; precompile;\"' &> /dev/null\n",
        "  done\n",
        "\n",
        "  # Install kernel and rename it to \"julia\"\n",
        "  echo \"Installing IJulia kernel...\"\n",
        "  julia -e 'using IJulia; IJulia.installkernel(\"julia\", env=Dict(\n",
        "      \"JULIA_NUM_THREADS\"=>\"'\"$JULIA_NUM_THREADS\"'\"))'\n",
        "  KERNEL_DIR=`julia -e \"using IJulia; print(IJulia.kerneldir())\"`\n",
        "  KERNEL_NAME=`ls -d \"$KERNEL_DIR\"/julia*`\n",
        "  mv -f $KERNEL_NAME \"$KERNEL_DIR\"/julia\n",
        "\n",
        "  echo ''\n",
        "  echo \"Successfully installed `julia -v`!\"\n",
        "  echo \"Please reload this page (press Ctrl+R, ⌘+R, or the F5 key) then\"\n",
        "  echo \"jump to the 'Checking the Installation' section.\"\n",
        "fi"
      ],
      "metadata": {
        "colab": {
          "base_uri": "https://localhost:8080/"
        },
        "id": "moMejzteiY54",
        "outputId": "03758640-d424-4976-ce13-793e823b1ca6"
      },
      "execution_count": 6,
      "outputs": [
        {
          "output_type": "stream",
          "name": "stdout",
          "text": [
            "Installing Julia 1.8.2 on the current Colab Runtime...\n",
            "2024-04-20 10:10:24 URL:https://storage.googleapis.com/julialang2/bin/linux/x64/1.8/julia-1.8.2-linux-x86_64.tar.gz [135859273/135859273] -> \"/tmp/julia.tar.gz\" [1]\n",
            "Installing Julia package IJulia...\n",
            "Installing Julia package BenchmarkTools...\n",
            "Installing Julia package DelimitedFiles...\n",
            "Installing Julia package DynamicPolynomials...\n",
            "Installing Julia package Random...\n",
            "Installing Julia package Statistics...\n",
            "Installing Julia package DataFrames...\n",
            "Installing Julia package CSV...\n",
            "Installing IJulia kernel...\n",
            "\u001b[36m\u001b[1m[ \u001b[22m\u001b[39m\u001b[36m\u001b[1mInfo: \u001b[22m\u001b[39mInstalling julia kernelspec in /root/.local/share/jupyter/kernels/julia-1.8\n",
            "\n",
            "Successfully installed julia version 1.8.2!\n",
            "Please reload this page (press Ctrl+R, ⌘+R, or the F5 key) then\n",
            "jump to the 'Checking the Installation' section.\n"
          ]
        },
        {
          "output_type": "execute_result",
          "data": {
            "text/plain": []
          },
          "metadata": {},
          "execution_count": 6
        }
      ]
    },
    {
      "cell_type": "markdown",
      "source": [
        "## **2.2. Notebook settings and check Julia version - JL**\n",
        "__* Select Notebook setting: Set Edit-Notbook Setting-Runtime type-Julia__\n",
        "* The `versioninfo()` function should print your Julia version and some other info about the system:"
      ],
      "metadata": {
        "id": "i3xnrqWCWCJo"
      }
    },
    {
      "cell_type": "code",
      "source": [
        "versioninfo()"
      ],
      "metadata": {
        "colab": {
          "base_uri": "https://localhost:8080/"
        },
        "id": "hKohmJ62ih60",
        "outputId": "7e0eee1e-e5de-4c58-b718-e6ef18ace4ae"
      },
      "execution_count": 1,
      "outputs": [
        {
          "output_type": "stream",
          "name": "stdout",
          "text": [
            "Julia Version 1.8.2\n",
            "Commit 36034abf260 (2022-09-29 15:21 UTC)\n",
            "Platform Info:\n",
            "  OS: Linux (x86_64-linux-gnu)\n",
            "  CPU: 2 × Intel(R) Xeon(R) CPU @ 2.20GHz\n",
            "  WORD_SIZE: 64\n",
            "  LIBM: libopenlibm\n",
            "  LLVM: libLLVM-13.0.1 (ORCJIT, broadwell)\n",
            "  Threads: 2 on 2 virtual cores\n",
            "Environment:\n",
            "  LD_LIBRARY_PATH = /usr/local/nvidia/lib:/usr/local/nvidia/lib64\n",
            "  JULIA_NUM_THREADS = 2\n"
          ]
        }
      ]
    },
    {
      "cell_type": "markdown",
      "source": [
        "# __Step 3: Install Pkg_MOSEK__"
      ],
      "metadata": {
        "id": "2WP67SpBmKVx"
      }
    },
    {
      "cell_type": "markdown",
      "source": [
        "For a more complete manual and full API reference, please refer to\n",
        "[the MOSEK Julia API documentation](https://docs.mosek.com/latest/juliaapi/index.html).\n",
        "\n",
        "## **3.1. Install**\n",
        "\n",
        "Use the Julia package manager to install Mosek.jl, if not already installed:\n",
        "\n",
        "```julia\n",
        "Pkg.add(\"Mosek\")\n",
        "```\n",
        "\n",
        "The `Mosek.jl` package requires the MOSEK distribution binaries run. Upon installation it will attempt to either local an installed MOSEK or download and install from the MOSEK website (www.mosek.com):\n",
        "\n"
      ],
      "metadata": {
        "id": "4EZ-7L0QG_uB"
      }
    },
    {
      "cell_type": "code",
      "source": [
        "Pkg.add(\"Mosek\")\n",
        "using Pkg\n",
        "\n",
        "Pkg.add(\"MosekTools\")\n",
        "using MosekTools\n",
        "\n",
        "#Pkg.add(Pkg.PackageSpec(url=\"https://github.com/mosek/Mosek.jl\",rev=\"master\"))\n",
        "Pkg.build(\"Mosek\")"
      ],
      "metadata": {
        "id": "fWd-wEYvSYL0",
        "colab": {
          "base_uri": "https://localhost:8080/"
        },
        "outputId": "05754894-e453-4b7a-90f8-44a942330bfa"
      },
      "execution_count": 4,
      "outputs": [
        {
          "output_type": "stream",
          "name": "stderr",
          "text": [
            "\u001b[32m\u001b[1m    Updating\u001b[22m\u001b[39m registry at `~/.julia/registries/General.toml`\n",
            "\u001b[32m\u001b[1m   Resolving\u001b[22m\u001b[39m package versions...\n",
            "\u001b[32m\u001b[1m   Installed\u001b[22m\u001b[39m Mosek ─ v10.1.4\n",
            "\u001b[32m\u001b[1m    Updating\u001b[22m\u001b[39m `~/.julia/environments/v1.8/Project.toml`\n",
            " \u001b[90m [6405355b] \u001b[39m\u001b[92m+ Mosek v10.1.4\u001b[39m\n",
            "\u001b[32m\u001b[1m    Updating\u001b[22m\u001b[39m `~/.julia/environments/v1.8/Manifest.toml`\n",
            " \u001b[90m [6405355b] \u001b[39m\u001b[92m+ Mosek v10.1.4\u001b[39m\n",
            "\u001b[32m\u001b[1m    Building\u001b[22m\u001b[39m Mosek → `~/.julia/scratchspaces/44cfe95a-1eb2-52ea-b672-e2afdf69b78f/d745a2a4a0f71c4bcc8a3f5be3aff9feade3f644/build.log`\n",
            "\u001b[32m\u001b[1mPrecompiling\u001b[22m\u001b[39m project...\n",
            "\u001b[32m  ✓ \u001b[39mMosek\n",
            "  1 dependency successfully precompiled in 8 seconds. 50 already precompiled.\n",
            "\u001b[32m\u001b[1m   Resolving\u001b[22m\u001b[39m package versions...\n",
            "\u001b[32m\u001b[1m   Installed\u001b[22m\u001b[39m Bzip2_jll ──────────── v1.0.8+1\n",
            "\u001b[32m\u001b[1m   Installed\u001b[22m\u001b[39m CodecBzip2 ─────────── v0.8.2\n",
            "\u001b[32m\u001b[1m   Installed\u001b[22m\u001b[39m IrrationalConstants ── v0.2.2\n",
            "\u001b[32m\u001b[1m   Installed\u001b[22m\u001b[39m DiffRules ──────────── v1.15.1\n",
            "\u001b[32m\u001b[1m   Installed\u001b[22m\u001b[39m DiffResults ────────── v1.1.0\n",
            "\u001b[32m\u001b[1m   Installed\u001b[22m\u001b[39m StaticArraysCore ───── v1.4.2\n",
            "\u001b[32m\u001b[1m   Installed\u001b[22m\u001b[39m SpecialFunctions ───── v2.3.1\n",
            "\u001b[32m\u001b[1m   Installed\u001b[22m\u001b[39m NaNMath ────────────── v1.0.2\n",
            "\u001b[32m\u001b[1m   Installed\u001b[22m\u001b[39m StaticArrays ───────── v1.9.3\n",
            "\u001b[32m\u001b[1m   Installed\u001b[22m\u001b[39m CommonSubexpressions ─ v0.3.0\n",
            "\u001b[32m\u001b[1m   Installed\u001b[22m\u001b[39m OpenSpecFun_jll ────── v0.5.5+0\n",
            "\u001b[32m\u001b[1m   Installed\u001b[22m\u001b[39m ForwardDiff ────────── v0.10.36\n",
            "\u001b[32m\u001b[1m   Installed\u001b[22m\u001b[39m MacroTools ─────────── v0.5.13\n",
            "\u001b[32m\u001b[1m   Installed\u001b[22m\u001b[39m LogExpFunctions ────── v0.3.27\n",
            "\u001b[32m\u001b[1m   Installed\u001b[22m\u001b[39m InverseFunctions ───── v0.1.13\n",
            "\u001b[32m\u001b[1m   Installed\u001b[22m\u001b[39m MosekTools ─────────── v0.15.1\n",
            "\u001b[32m\u001b[1m   Installed\u001b[22m\u001b[39m ChangesOfVariables ─── v0.1.8\n",
            "\u001b[32m\u001b[1m   Installed\u001b[22m\u001b[39m DocStringExtensions ── v0.9.3\n",
            "\u001b[32m\u001b[1m   Installed\u001b[22m\u001b[39m MathOptInterface ───── v1.29.0\n",
            "\u001b[32m\u001b[1m    Updating\u001b[22m\u001b[39m `~/.julia/environments/v1.8/Project.toml`\n",
            " \u001b[90m [1ec41992] \u001b[39m\u001b[92m+ MosekTools v0.15.1\u001b[39m\n",
            "\u001b[32m\u001b[1m    Updating\u001b[22m\u001b[39m `~/.julia/environments/v1.8/Manifest.toml`\n",
            " \u001b[90m [9e997f8a] \u001b[39m\u001b[92m+ ChangesOfVariables v0.1.8\u001b[39m\n",
            " \u001b[90m [523fee87] \u001b[39m\u001b[92m+ CodecBzip2 v0.8.2\u001b[39m\n",
            " \u001b[90m [bbf7d656] \u001b[39m\u001b[92m+ CommonSubexpressions v0.3.0\u001b[39m\n",
            " \u001b[90m [163ba53b] \u001b[39m\u001b[92m+ DiffResults v1.1.0\u001b[39m\n",
            " \u001b[90m [b552c78f] \u001b[39m\u001b[92m+ DiffRules v1.15.1\u001b[39m\n",
            " \u001b[90m [ffbed154] \u001b[39m\u001b[92m+ DocStringExtensions v0.9.3\u001b[39m\n",
            " \u001b[90m [f6369f11] \u001b[39m\u001b[92m+ ForwardDiff v0.10.36\u001b[39m\n",
            " \u001b[90m [3587e190] \u001b[39m\u001b[92m+ InverseFunctions v0.1.13\u001b[39m\n",
            " \u001b[90m [92d709cd] \u001b[39m\u001b[92m+ IrrationalConstants v0.2.2\u001b[39m\n",
            " \u001b[90m [2ab3a3ac] \u001b[39m\u001b[92m+ LogExpFunctions v0.3.27\u001b[39m\n",
            " \u001b[90m [1914dd2f] \u001b[39m\u001b[92m+ MacroTools v0.5.13\u001b[39m\n",
            " \u001b[90m [b8f27783] \u001b[39m\u001b[92m+ MathOptInterface v1.29.0\u001b[39m\n",
            " \u001b[90m [1ec41992] \u001b[39m\u001b[92m+ MosekTools v0.15.1\u001b[39m\n",
            " \u001b[90m [77ba4419] \u001b[39m\u001b[92m+ NaNMath v1.0.2\u001b[39m\n",
            " \u001b[90m [276daf66] \u001b[39m\u001b[92m+ SpecialFunctions v2.3.1\u001b[39m\n",
            " \u001b[90m [90137ffa] \u001b[39m\u001b[92m+ StaticArrays v1.9.3\u001b[39m\n",
            " \u001b[90m [1e83bf80] \u001b[39m\u001b[92m+ StaticArraysCore v1.4.2\u001b[39m\n",
            " \u001b[90m [6e34b625] \u001b[39m\u001b[92m+ Bzip2_jll v1.0.8+1\u001b[39m\n",
            " \u001b[90m [efe28fd5] \u001b[39m\u001b[92m+ OpenSpecFun_jll v0.5.5+0\u001b[39m\n",
            " \u001b[90m [05823500] \u001b[39m\u001b[92m+ OpenLibm_jll v0.8.1+0\u001b[39m\n",
            "\u001b[32m\u001b[1mPrecompiling\u001b[22m\u001b[39m project...\n",
            "\u001b[32m  ✓ \u001b[39m\u001b[90mOpenLibm_jll\u001b[39m\n",
            "\u001b[32m  ✓ \u001b[39m\u001b[90mInverseFunctions\u001b[39m\n",
            "\u001b[32m  ✓ \u001b[39m\u001b[90mDocStringExtensions\u001b[39m\n",
            "\u001b[32m  ✓ \u001b[39m\u001b[90mStaticArraysCore\u001b[39m\n",
            "\u001b[32m  ✓ \u001b[39m\u001b[90mIrrationalConstants\u001b[39m\n",
            "\u001b[32m  ✓ \u001b[39m\u001b[90mBzip2_jll\u001b[39m\n",
            "\u001b[32m  ✓ \u001b[39m\u001b[90mOpenSpecFun_jll\u001b[39m\n",
            "\u001b[32m  ✓ \u001b[39m\u001b[90mNaNMath\u001b[39m\n",
            "\u001b[32m  ✓ \u001b[39m\u001b[90mChangesOfVariables\u001b[39m\n",
            "\u001b[32m  ✓ \u001b[39m\u001b[90mDiffResults\u001b[39m\n",
            "\u001b[32m  ✓ \u001b[39m\u001b[90mCodecBzip2\u001b[39m\n",
            "\u001b[32m  ✓ \u001b[39m\u001b[90mMacroTools\u001b[39m\n",
            "\u001b[32m  ✓ \u001b[39m\u001b[90mCommonSubexpressions\u001b[39m\n",
            "\u001b[32m  ✓ \u001b[39m\u001b[90mLogExpFunctions\u001b[39m\n",
            "\u001b[32m  ✓ \u001b[39m\u001b[90mSpecialFunctions\u001b[39m\n",
            "\u001b[32m  ✓ \u001b[39m\u001b[90mDiffRules\u001b[39m\n",
            "\u001b[32m  ✓ \u001b[39m\u001b[90mStaticArrays\u001b[39m\n",
            "\u001b[32m  ✓ \u001b[39m\u001b[90mForwardDiff\u001b[39m\n",
            "\u001b[32m  ✓ \u001b[39m\u001b[90mMathOptInterface\u001b[39m\n",
            "\u001b[32m  ✓ \u001b[39mMosekTools\n",
            "  20 dependencies successfully precompiled in 130 seconds. 51 already precompiled.\n",
            "\u001b[32m\u001b[1m    Building\u001b[22m\u001b[39m Mosek → `~/.julia/scratchspaces/44cfe95a-1eb2-52ea-b672-e2afdf69b78f/d745a2a4a0f71c4bcc8a3f5be3aff9feade3f644/build.log`\n",
            "\u001b[32m\u001b[1mPrecompiling\u001b[22m\u001b[39m project...\n",
            "\u001b[33m  ✓ \u001b[39mMosek\n",
            "\u001b[33m  ✓ \u001b[39mMosekTools\n",
            "  2 dependencies successfully precompiled in 22 seconds. 69 already precompiled.\n",
            "  \u001b[33m2\u001b[39m dependencies precompiled but different versions are currently loaded. Restart julia to access the new versions\n"
          ]
        }
      ]
    },
    {
      "cell_type": "markdown",
      "source": [
        "## Update the Mosek library*\n",
        "\n",
        "If the MOSEK distro was installed manually, it can be updated simply by installing a newer distro in the same place. Otherwise, doing `Pkg.build(\"Mosek\")` will check the latest MOSEK distro and update if possible.\n",
        "You can see if the MOSEK distro was installed internally this way:"
      ],
      "metadata": {
        "id": "fK0Hh0h8IXvJ"
      }
    },
    {
      "cell_type": "code",
      "source": [
        "using Pkg\n",
        "is_internal = open(joinpath(Pkg.dir(\"Mosek\"),\"deps\",\"inst_method\"),\"r\") do f read(f) == \"internal\" end"
      ],
      "metadata": {
        "id": "-WnMngdVBG5j",
        "colab": {
          "base_uri": "https://localhost:8080/"
        },
        "outputId": "f85b3561-3d3a-48ae-bf05-662a89935a36"
      },
      "execution_count": 6,
      "outputs": [
        {
          "output_type": "execute_result",
          "data": {
            "text/plain": [
              "false"
            ]
          },
          "metadata": {},
          "execution_count": 6
        }
      ]
    },
    {
      "cell_type": "markdown",
      "source": [
        "## Set environment*\n",
        "Note that environment variables can be set temporarily from Julia as"
      ],
      "metadata": {
        "id": "vu710HqULQBU"
      }
    },
    {
      "cell_type": "code",
      "source": [
        "ENV[\"MOSEKBINDIR\"] = \"\\\\conten\\\\gdrive\\\\MyDrive\\\\Colab Notebooks\\\\TSSOS\\\\\""
      ],
      "metadata": {
        "id": "9ehSV2UTJiBX",
        "colab": {
          "base_uri": "https://localhost:8080/"
        },
        "outputId": "778206b7-63ab-4143-bc3d-aed413c13e8e"
      },
      "execution_count": null,
      "outputs": [
        {
          "output_type": "execute_result",
          "data": {
            "text/plain": [
              "\"\\\\conten\\\\gdrive\\\\MyDrive\\\\Colab Notebooks\\\\TSSOS\\\\\""
            ]
          },
          "metadata": {},
          "execution_count": 53
        }
      ]
    },
    {
      "cell_type": "markdown",
      "source": [
        "# __Step 4: Install Pkg_TSSOS_NCTSSOS__"
      ],
      "metadata": {
        "id": "ZE1-mt4kVi6N"
      }
    },
    {
      "cell_type": "code",
      "source": [
        "# Load the Pkg module\n",
        "using Pkg\n",
        "\n",
        "#import Pkgs TSSOS and NCTSSOS\n",
        "Pkg.add(url=\"https://github.com/wangjie212/TSSOS\")\n",
        "Pkg.add(url=\"https://github.com/wangjie212/NCTSSOS\")"
      ],
      "metadata": {
        "colab": {
          "base_uri": "https://localhost:8080/"
        },
        "id": "TcgrPaPhU6b-",
        "outputId": "8217d72a-0e91-4c56-9a92-19ef5a176e7b"
      },
      "execution_count": 7,
      "outputs": [
        {
          "output_type": "stream",
          "name": "stderr",
          "text": [
            "\u001b[32m\u001b[1m     Cloning\u001b[22m\u001b[39m git-repo `https://github.com/wangjie212/TSSOS`\n",
            "\u001b[32m\u001b[1m    Updating\u001b[22m\u001b[39m git-repo `https://github.com/wangjie212/TSSOS`\n",
            "\u001b[32m\u001b[1m   Resolving\u001b[22m\u001b[39m package versions...\n",
            "\u001b[32m\u001b[1m   Installed\u001b[22m\u001b[39m DynamicPolynomials ────── v0.4.6\n",
            "\u001b[32m\u001b[1m   Installed\u001b[22m\u001b[39m MUMPS_seq_jll ─────────── v5.4.1+0\n",
            "\u001b[32m\u001b[1m   Installed\u001b[22m\u001b[39m MultivariatePolynomials ─ v0.4.7\n",
            "\u001b[32m\u001b[1m   Installed\u001b[22m\u001b[39m QDLDL ─────────────────── v0.4.1\n",
            "\u001b[32m\u001b[1m   Installed\u001b[22m\u001b[39m JLD2 ──────────────────── v0.4.46\n",
            "\u001b[32m\u001b[1m   Installed\u001b[22m\u001b[39m IterTools ─────────────── v1.10.0\n",
            "\u001b[32m\u001b[1m   Installed\u001b[22m\u001b[39m ArnoldiMethod ─────────── v0.4.0\n",
            "\u001b[32m\u001b[1m   Installed\u001b[22m\u001b[39m Inflate ───────────────── v0.1.4\n",
            "\u001b[32m\u001b[1m   Installed\u001b[22m\u001b[39m Ipopt ─────────────────── v1.6.2\n",
            "\u001b[32m\u001b[1m   Installed\u001b[22m\u001b[39m ChordalGraph ──────────── v0.4.1\n",
            "\u001b[32m\u001b[1m   Installed\u001b[22m\u001b[39m COSMO ─────────────────── v0.8.8\n",
            "\u001b[32m\u001b[1m   Installed\u001b[22m\u001b[39m COSMOAccelerators ─────── v0.1.0\n",
            "\u001b[32m\u001b[1m   Installed\u001b[22m\u001b[39m Dualization ───────────── v0.5.8\n",
            "\u001b[32m\u001b[1m   Installed\u001b[22m\u001b[39m FileIO ────────────────── v1.16.3\n",
            "\u001b[32m\u001b[1m   Installed\u001b[22m\u001b[39m Ipopt_jll ─────────────── v300.1400.400+0\n",
            "\u001b[32m\u001b[1m   Installed\u001b[22m\u001b[39m OpenBLAS32_jll ────────── v0.3.17+0\n",
            "\u001b[32m\u001b[1m   Installed\u001b[22m\u001b[39m SemialgebraicSets ─────── v0.2.5\n",
            "\u001b[32m\u001b[1m   Installed\u001b[22m\u001b[39m UnsafeArrays ──────────── v1.0.5\n",
            "\u001b[32m\u001b[1m   Installed\u001b[22m\u001b[39m AMD ───────────────────── v0.5.3\n",
            "\u001b[32m\u001b[1m   Installed\u001b[22m\u001b[39m JuMP ──────────────────── v1.21.1\n",
            "\u001b[32m\u001b[1m   Installed\u001b[22m\u001b[39m Graphs ────────────────── v1.10.0\n",
            "\u001b[32m\u001b[1m   Installed\u001b[22m\u001b[39m ASL_jll ───────────────── v0.1.3+0\n",
            "\u001b[32m\u001b[1m   Installed\u001b[22m\u001b[39m METIS_jll ─────────────── v5.1.2+0\n",
            "\u001b[32m\u001b[1m   Installed\u001b[22m\u001b[39m MetaGraphs ────────────── v0.7.2\n",
            "\u001b[32m\u001b[1m   Installed\u001b[22m\u001b[39m SimpleTraits ──────────── v0.9.4\n",
            "\u001b[32m\u001b[1m   Installed\u001b[22m\u001b[39m Requires ──────────────── v1.3.0\n",
            "\u001b[32m\u001b[1m    Updating\u001b[22m\u001b[39m `~/.julia/environments/v1.8/Project.toml`\n",
            "\u001b[32m⌃\u001b[39m\u001b[90m [7c1d4256] \u001b[39m\u001b[95m↓ DynamicPolynomials v0.5.6 ⇒ v0.4.6\u001b[39m\n",
            " \u001b[90m [81648402] \u001b[39m\u001b[92m+ TSSOS v1.1.1 `https://github.com/wangjie212/TSSOS#master`\u001b[39m\n",
            "\u001b[32m\u001b[1m    Updating\u001b[22m\u001b[39m `~/.julia/environments/v1.8/Manifest.toml`\n",
            " \u001b[90m [14f7f29c] \u001b[39m\u001b[92m+ AMD v0.5.3\u001b[39m\n",
            " \u001b[90m [ec485272] \u001b[39m\u001b[92m+ ArnoldiMethod v0.4.0\u001b[39m\n",
            " \u001b[90m [1e616198] \u001b[39m\u001b[92m+ COSMO v0.8.8\u001b[39m\n",
            " \u001b[90m [bbd8fffe] \u001b[39m\u001b[92m+ COSMOAccelerators v0.1.0\u001b[39m\n",
            " \u001b[90m [60fd0770] \u001b[39m\u001b[92m+ ChordalGraph v0.4.1\u001b[39m\n",
            " \u001b[90m [191a621a] \u001b[39m\u001b[92m+ Dualization v0.5.8\u001b[39m\n",
            "\u001b[32m⌃\u001b[39m\u001b[90m [7c1d4256] \u001b[39m\u001b[95m↓ DynamicPolynomials v0.5.6 ⇒ v0.4.6\u001b[39m\n",
            " \u001b[90m [5789e2e9] \u001b[39m\u001b[92m+ FileIO v1.16.3\u001b[39m\n",
            " \u001b[90m [86223c79] \u001b[39m\u001b[92m+ Graphs v1.10.0\u001b[39m\n",
            " \u001b[90m [d25df0c9] \u001b[39m\u001b[92m+ Inflate v0.1.4\u001b[39m\n",
            " \u001b[90m [b6b21f68] \u001b[39m\u001b[92m+ Ipopt v1.6.2\u001b[39m\n",
            " \u001b[90m [c8e1da08] \u001b[39m\u001b[92m+ IterTools v1.10.0\u001b[39m\n",
            " \u001b[90m [033835bb] \u001b[39m\u001b[92m+ JLD2 v0.4.46\u001b[39m\n",
            " \u001b[90m [4076af6c] \u001b[39m\u001b[92m+ JuMP v1.21.1\u001b[39m\n",
            " \u001b[90m [626554b9] \u001b[39m\u001b[92m+ MetaGraphs v0.7.2\u001b[39m\n",
            "\u001b[33m⌅\u001b[39m\u001b[90m [102ac46a] \u001b[39m\u001b[95m↓ MultivariatePolynomials v0.5.4 ⇒ v0.4.7\u001b[39m\n",
            " \u001b[90m [bfc457fd] \u001b[39m\u001b[92m+ QDLDL v0.4.1\u001b[39m\n",
            " \u001b[90m [ae029012] \u001b[39m\u001b[92m+ Requires v1.3.0\u001b[39m\n",
            "\u001b[32m⌃\u001b[39m\u001b[90m [8e049039] \u001b[39m\u001b[92m+ SemialgebraicSets v0.2.5\u001b[39m\n",
            " \u001b[90m [699a6c99] \u001b[39m\u001b[92m+ SimpleTraits v0.9.4\u001b[39m\n",
            " \u001b[90m [81648402] \u001b[39m\u001b[92m+ TSSOS v1.1.1 `https://github.com/wangjie212/TSSOS#master`\u001b[39m\n",
            " \u001b[90m [c4a57d5a] \u001b[39m\u001b[92m+ UnsafeArrays v1.0.5\u001b[39m\n",
            " \u001b[90m [ae81ac8f] \u001b[39m\u001b[92m+ ASL_jll v0.1.3+0\u001b[39m\n",
            "\u001b[33m⌅\u001b[39m\u001b[90m [9cc047cb] \u001b[39m\u001b[92m+ Ipopt_jll v300.1400.400+0\u001b[39m\n",
            " \u001b[90m [d00139f3] \u001b[39m\u001b[92m+ METIS_jll v5.1.2+0\u001b[39m\n",
            "\u001b[33m⌅\u001b[39m\u001b[90m [d7ed1dd3] \u001b[39m\u001b[92m+ MUMPS_seq_jll v5.4.1+0\u001b[39m\n",
            "\u001b[33m⌅\u001b[39m\u001b[90m [656ef2d0] \u001b[39m\u001b[92m+ OpenBLAS32_jll v0.3.17+0\u001b[39m\n",
            " \u001b[90m [8ba89e20] \u001b[39m\u001b[92m+ Distributed\u001b[39m\n",
            " \u001b[90m [1a1011a3] \u001b[39m\u001b[92m+ SharedArrays\u001b[39m\n",
            " \u001b[90m [4607b0f0] \u001b[39m\u001b[92m+ SuiteSparse\u001b[39m\n",
            " \u001b[90m [bea87d4a] \u001b[39m\u001b[92m+ SuiteSparse_jll v5.10.1+0\u001b[39m\n",
            "\u001b[36m\u001b[1m        Info\u001b[22m\u001b[39m Packages marked with \u001b[32m⌃\u001b[39m and \u001b[33m⌅\u001b[39m have new versions available, but those with \u001b[33m⌅\u001b[39m are restricted by compatibility constraints from upgrading. To see why use `status --outdated -m`\n",
            "\u001b[32m\u001b[1mPrecompiling\u001b[22m\u001b[39m project...\n",
            "\u001b[32m  ✓ \u001b[39m\u001b[90mRequires\u001b[39m\n",
            "\u001b[32m  ✓ \u001b[39m\u001b[90mInflate\u001b[39m\n",
            "\u001b[32m  ✓ \u001b[39m\u001b[90mIterTools\u001b[39m\n",
            "\u001b[32m  ✓ \u001b[39m\u001b[90mCOSMOAccelerators\u001b[39m\n",
            "\u001b[32m  ✓ \u001b[39m\u001b[90mUnsafeArrays\u001b[39m\n",
            "\u001b[32m  ✓ \u001b[39m\u001b[90mASL_jll\u001b[39m\n",
            "\u001b[32m  ✓ \u001b[39m\u001b[90mSimpleTraits\u001b[39m\n",
            "\u001b[32m  ✓ \u001b[39m\u001b[90mMETIS_jll\u001b[39m\n",
            "\u001b[32m  ✓ \u001b[39m\u001b[90mOpenBLAS32_jll\u001b[39m\n",
            "\u001b[32m  ✓ \u001b[39m\u001b[90mSuiteSparse_jll\u001b[39m\n",
            "\u001b[32m  ✓ \u001b[39m\u001b[90mArnoldiMethod\u001b[39m\n",
            "\u001b[32m  ✓ \u001b[39m\u001b[90mMultivariatePolynomials\u001b[39m\n",
            "\u001b[32m  ✓ \u001b[39m\u001b[90mMUMPS_seq_jll\u001b[39m\n",
            "\u001b[32m  ✓ \u001b[39m\u001b[90mAMD\u001b[39m\n",
            "\u001b[32m  ✓ \u001b[39m\u001b[90mFileIO\u001b[39m\n",
            "\u001b[32m  ✓ \u001b[39m\u001b[90mSemialgebraicSets\u001b[39m\n",
            "\u001b[32m  ✓ \u001b[39m\u001b[90mGraphs\u001b[39m\n",
            "\u001b[32m  ✓ \u001b[39m\u001b[90mIpopt_jll\u001b[39m\n",
            "\u001b[32m  ✓ \u001b[39mDynamicPolynomials\n",
            "\u001b[32m  ✓ \u001b[39m\u001b[90mQDLDL\u001b[39m\n",
            "\u001b[32m  ✓ \u001b[39m\u001b[90mChordalGraph\u001b[39m\n",
            "\u001b[32m  ✓ \u001b[39m\u001b[90mJLD2\u001b[39m\n",
            "\u001b[32m  ✓ \u001b[39m\u001b[90mIpopt\u001b[39m\n",
            "\u001b[32m  ✓ \u001b[39m\u001b[90mJuMP\u001b[39m\n",
            "\u001b[32m  ✓ \u001b[39m\u001b[90mMetaGraphs\u001b[39m\n",
            "\u001b[32m  ✓ \u001b[39m\u001b[90mCOSMO\u001b[39m\n",
            "\u001b[32m  ✓ \u001b[39m\u001b[90mDualization\u001b[39m\n",
            "\u001b[32m  ✓ \u001b[39mTSSOS\n",
            "  28 dependencies successfully precompiled in 159 seconds. 69 already precompiled.\n",
            "\u001b[32m\u001b[1m     Cloning\u001b[22m\u001b[39m git-repo `https://github.com/wangjie212/NCTSSOS`\n",
            "\u001b[32m\u001b[1m    Updating\u001b[22m\u001b[39m git-repo `https://github.com/wangjie212/NCTSSOS`\n",
            "\u001b[32m\u001b[1m   Resolving\u001b[22m\u001b[39m package versions...\n",
            "\u001b[32m\u001b[1m    Updating\u001b[22m\u001b[39m `~/.julia/environments/v1.8/Project.toml`\n",
            " \u001b[90m [74af9cd0] \u001b[39m\u001b[92m+ NCTSSOS v0.2.0 `https://github.com/wangjie212/NCTSSOS#master`\u001b[39m\n",
            "\u001b[32m\u001b[1m    Updating\u001b[22m\u001b[39m `~/.julia/environments/v1.8/Manifest.toml`\n",
            " \u001b[90m [74af9cd0] \u001b[39m\u001b[92m+ NCTSSOS v0.2.0 `https://github.com/wangjie212/NCTSSOS#master`\u001b[39m\n",
            "\u001b[32m\u001b[1mPrecompiling\u001b[22m\u001b[39m project...\n",
            "\u001b[32m  ✓ \u001b[39mNCTSSOS\n",
            "  1 dependency successfully precompiled in 21 seconds. 97 already precompiled.\n"
          ]
        }
      ]
    },
    {
      "cell_type": "markdown",
      "source": [
        "## Check for package path*"
      ],
      "metadata": {
        "id": "SAlR_G8lO49X"
      }
    },
    {
      "cell_type": "code",
      "source": [
        "# Load the Pkg module\n",
        "using Pkg\n",
        "\n",
        "# Replace \"PackageName\" with the name of the package you want to find the path for\n",
        "package_name = \"DelimitedFiles\"\n",
        "\n",
        "# Find the path of the installed package\n",
        "path_to_mosek = Base.find_package(package_name)\n",
        "\n",
        "# Display the path\n",
        "println(\"Path of $package_name: $path_to_mosek\")\n"
      ],
      "metadata": {
        "colab": {
          "base_uri": "https://localhost:8080/"
        },
        "id": "HqLqi2pUr3-8",
        "outputId": "b0dfa85d-d44c-411b-d93b-9c10f67955bc"
      },
      "execution_count": 8,
      "outputs": [
        {
          "output_type": "stream",
          "name": "stdout",
          "text": [
            "Path of DelimitedFiles: /usr/local/share/julia/stdlib/v1.8/DelimitedFiles/src/DelimitedFiles.jl\n"
          ]
        }
      ]
    },
    {
      "cell_type": "markdown",
      "source": [
        "# __Step 5: Test for Krebs cycle__\n",
        "* Read Krebs_cycle tsv Observations\n",
        "* NCTSSOS\n",
        "* Runtime Plot"
      ],
      "metadata": {
        "id": "WdcWkUYvBtG5"
      }
    },
    {
      "cell_type": "markdown",
      "source": [
        "## **5.1. Try to active pkgs**\n",
        "If any errors happen, check for Julia and pkgs installation and go back to Step 1-4."
      ],
      "metadata": {
        "id": "F8tPZg3ygMLz"
      }
    },
    {
      "cell_type": "code",
      "execution_count": 10,
      "metadata": {
        "id": "QsVYtmnRhjF9"
      },
      "outputs": [],
      "source": [
        "using NCTSSOS\n",
        "using TSSOS\n",
        "using DynamicPolynomials\n",
        "using CSV\n",
        "using Random\n",
        "using Statistics\n",
        "using DataFrames\n",
        "using DelimitedFiles"
      ]
    },
    {
      "cell_type": "markdown",
      "source": [
        "## **5.2. Read Krebs_cycle tsv Observations**\n",
        "* To execute the notebook directly in colab make sure your tsv files are in the location /krebs_cycle inside this notebook's internal filesystem.\n",
        "* Data discription: 10 tsv files about krebs_cycle time series data have been collected."
      ],
      "metadata": {
        "id": "6bVPJNVb42Zs"
      }
    },
    {
      "cell_type": "code",
      "execution_count": 11,
      "metadata": {
        "id": "4kHuVEvVhjGE"
      },
      "outputs": [],
      "source": [
        "# the stock-market.txt is generated by\n",
        "\"\"\"\n",
        "# Load stock-market data\n",
        "load_path = 'setting6.mat'\n",
        "load_data = sio.loadmat(load_path)\n",
        "seq=flatten(load_data['seq_d0'].tolist())\n",
        "\"\"\"\n",
        "ts = readdlm( \"/content/gdrive/MyDrive/Colab Notebooks/TSSOS/krebs_cycle/series1713271727120.txt\" );"
      ]
    },
    {
      "cell_type": "markdown",
      "source": [
        "# __Step 6: TSSOS_Krebs cycle__\n",
        "* Find a locally optimal solution and predicted Y\n",
        "* Functions(observation, parameter_estimation and rmse)"
      ],
      "metadata": {
        "id": "zOQpUbHQlfyw"
      }
    },
    {
      "cell_type": "code",
      "source": [
        "function observation(T,ts,start)\n",
        "    # randomly select a trajectory of time series\n",
        "    return copy(ts[start:start+T-1])\n",
        "end\n",
        "\n",
        "\n",
        "function parameter_estimation(Y)\n",
        "    # training process\n",
        "    # use Y to learn the system parameters in f[t+1] = Fdash*f[t] + p[t]\n",
        "    # output Fdash and p[1:T]\n",
        "\n",
        "    T=length(Y)\n",
        "\n",
        "    @polyvar G p[1:T] q[1:T-1] f[1:T+1] m[1:T+1]; # all variables are assumed to be nc\n",
        "    var=vcat(m,f,p,q,G);\n",
        "\n",
        "    # constraints\n",
        "    ine1 = [f[i] - m[i] - p[i] for i in 1:T];\n",
        "    ine2 = [- f[i] + m[i] + p[i] for i in 1:T];\n",
        "    ine3 = [m[i+1] - G*m[i] - q[i] for i in 1:T-1];\n",
        "    ine4 = [-m[i+1] + G*m[i] + q[i] for i in 1:T-1];\n",
        "    ine5 = [m[T+1] - G*m[T],-m[T+1] + G*m[T]]\n",
        "    #ine6 = [f[T+1] - m[T+1],-f[T+1] + F*m[T+1]]\n",
        "\n",
        "    #objective\n",
        "    obj=sum((Y[i]-f[i])^2 for i in 1:T)+ 0.01*sum(p[i]^2 for i in 1:T) +0.01*sum(q[i]^2 for i in 1:T-1) #+ p[T+1]^2 + q[T]^2 #+ 0.0001*sum(p[i]^2 for i in 1:T); #+0.1*q[i]^2\n",
        "\n",
        "    # pop\n",
        "    pop=vcat(obj,ine1,ine2,ine3,ine4,ine5); #,ine5,ine6\n",
        "\n",
        "    # solve model\n",
        "    opt,sol,data=tssos_first(pop,var,1,TS=\"MD\",solution=true);\n",
        "    print(sol)\n",
        "    return sol[T+1]\n",
        "end\n",
        "\n",
        "\n",
        "function rmse(Y_predict, Y_true)\n",
        "    # compare predicted Y_[T+1：T+pred] with actual value of predicted Y_[T+1：T+pred]\n",
        "    # calcluate rmse: sqrt( sum((Y-f)^2)/N)\n",
        "    Y=copy(Y_true[1:length(Y_predict)])\n",
        "    return  abs(Y[1]-Y_predict[1])\n",
        "    #1-sum( abs(Y[i]-Y_predict[i]) for i in 1:length(Y_predict) )/ sum(abs(Y[i]-mean(Y)) for i in 1:length(Y_predict) )\n",
        "end"
      ],
      "metadata": {
        "colab": {
          "base_uri": "https://localhost:8080/"
        },
        "id": "Rtr_bk0PV5Gx",
        "outputId": "11efe429-d6f1-48f0-84b5-49aeee7046a8"
      },
      "execution_count": 12,
      "outputs": [
        {
          "output_type": "execute_result",
          "data": {
            "text/plain": [
              "rmse (generic function with 1 method)"
            ]
          },
          "metadata": {},
          "execution_count": 12
        }
      ]
    },
    {
      "cell_type": "markdown",
      "source": [
        "## **6.1. Parameter estimations**"
      ],
      "metadata": {
        "id": "tOFXnnF1jgLE"
      }
    },
    {
      "cell_type": "code",
      "source": [
        "## a single run (because the first time using TSSOS is very slow)\n",
        "# the length of time window is 20\n",
        "T=20\n",
        "# we are making one-step ahead prediction\n",
        "pred=1\n",
        "# select a 21-period time series from Krebs cycle data.\n",
        "Y=observation(T+pred,ts,1)\n",
        "# system identification using the first 20-period\n",
        "parameter_estimation(Y[1:T])\n"
      ],
      "metadata": {
        "colab": {
          "base_uri": "https://localhost:8080/"
        },
        "id": "fR04bIPfWDjB",
        "outputId": "a260c5ca-d884-4028-bf05-4496e75dfbb6"
      },
      "execution_count": 16,
      "outputs": [
        {
          "output_type": "stream",
          "name": "stdout",
          "text": [
            "*********************************** TSSOS ***********************************\n",
            "Version 1.0.0, developed by Jie Wang, 2020--2024\n",
            "TSSOS is launching...\n",
            "Starting to compute the block structure...\n",
            "-----------------------------------------------------------------------------\n",
            "The sizes of PSD blocks:\n",
            "[3, 2, 1]\n",
            "[20, 60, 1]\n",
            "-----------------------------------------------------------------------------\n",
            "Obtained the block structure in 0.010734857 seconds.\n",
            "The maximal size of blocks is 3.\n",
            "Assembling the SDP...\n",
            "There are 3486 affine constraints.\n",
            "SDP assembling time: 2.303642723 seconds.\n",
            "Solving the SDP...\n",
            "Problem\n",
            "  Name                   :                 \n",
            "  Objective sense        : maximize        \n",
            "  Type                   : CONIC (conic optimization problem)\n",
            "  Constraints            : 3486            \n",
            "  Affine conic cons.     : 0               \n",
            "  Disjunctive cons.      : 0               \n",
            "  Cones                  : 0               \n",
            "  Scalar variables       : 82              \n",
            "  Matrix variables       : 161 (scalarized: 282666)\n",
            "  Integer variables      : 0               \n",
            "\n",
            "Optimizer started.\n",
            "Presolve started.\n",
            "Linear dependency checker started.\n",
            "Linear dependency checker terminated.\n",
            "Eliminator started.\n",
            "Freed constraints in eliminator : 0\n",
            "Eliminator terminated.\n",
            "Eliminator - tries                  : 1                 time                   : 0.00            \n",
            "Lin. dep.  - tries                  : 1                 time                   : 0.00            \n",
            "Lin. dep.  - primal attempts        : 1                 successes              : 1               \n",
            "Lin. dep.  - dual attempts          : 0                 successes              : 0               \n",
            "Lin. dep.  - primal deps.           : 0                 dual deps.             : 0               \n",
            "Presolve terminated. Time: 0.01    \n",
            "GP based matrix reordering started.\n",
            "GP based matrix reordering terminated.\n",
            "Optimizer  - threads                : 1               \n",
            "Optimizer  - solved problem         : the primal      \n",
            "Optimizer  - Constraints            : 3486            \n",
            "Optimizer  - Cones                  : 61              \n",
            "Optimizer  - Scalar variables       : 223               conic                  : 222             \n",
            "Optimizer  - Semi-definite variables: 101               scalarized             : 282486          \n",
            "Factor     - setup time             : 4.82            \n",
            "Factor     - dense det. time        : 0.65              GP order time          : 0.03            \n",
            "Factor     - nonzeros before factor : 6.08e+06          after factor           : 6.08e+06        \n",
            "Factor     - dense dim.             : 0                 flops                  : 1.76e+10        \n",
            "ITE PFEAS    DFEAS    GFEAS    PRSTATUS   POBJ              DOBJ              MU       TIME  \n",
            "0   2.3e+04  1.0e+00  1.0e+00  0.00e+00   -0.000000000e+00  -0.000000000e+00  1.0e+00  5.33  \n",
            "1   5.5e+02  2.4e-02  1.4e-01  -9.87e-01  4.578485759e-01   -3.096798648e+01  2.4e-02  15.50 \n",
            "2   1.9e+02  8.3e-03  5.7e-02  -5.70e-01  1.077362365e+02   6.104659460e+01   8.3e-03  19.79 \n",
            "3   1.5e+02  6.6e-03  4.3e-02  2.85e-03   3.003307796e+03   2.960871787e+03   6.6e-03  24.40 \n",
            "4   7.8e+01  3.5e-03  1.9e-02  9.92e-02   1.250886112e+04   1.247880885e+04   3.5e-03  29.13 \n",
            "5   1.7e+01  7.3e-04  2.0e-03  5.99e-01   1.836804149e+04   1.836096530e+04   7.3e-04  33.41 \n",
            "6   6.1e+00  2.7e-04  6.8e-04  6.39e-01   1.739032528e+04   1.738401017e+04   2.7e-04  38.03 \n",
            "7   1.6e+00  7.2e-05  1.9e-04  1.18e+00   1.455301770e+04   1.454618033e+04   7.2e-05  43.09 \n",
            "8   4.0e-01  1.8e-05  4.3e-05  -2.76e-02  1.084915007e+04   1.084330054e+04   1.8e-05  47.43 \n",
            "9   1.2e-01  5.2e-06  1.1e-05  -2.01e-02  6.876646098e+03   6.872071235e+03   5.2e-06  52.30 \n",
            "10  2.6e-02  1.2e-06  1.5e-06  7.98e-01   2.640044802e+03   2.638447442e+03   1.2e-06  57.10 \n",
            "11  3.5e-03  1.5e-07  2.3e-08  8.52e-01   4.470328014e+02   4.470101401e+02   1.5e-07  61.43 \n",
            "12  3.4e-03  1.5e-07  2.4e-08  7.12e-02   4.547571113e+02   4.547322198e+02   1.5e-07  66.22 \n",
            "13  2.2e-03  9.9e-08  1.4e-08  1.68e+00   2.346288584e+02   2.346089071e+02   9.9e-08  70.58 \n",
            "14  4.9e-04  2.2e-08  1.9e-09  1.47e+00   5.135719162e+01   5.134978353e+01   2.2e-08  74.90 \n",
            "15  6.4e-05  2.8e-09  1.1e-10  9.28e-01   6.774112908e+00   6.772712650e+00   2.8e-09  79.99 \n",
            "16  7.8e-07  3.5e-11  1.5e-13  1.00e+00   9.119154343e-02   9.117336066e-02   3.5e-11  84.53 \n",
            "17  1.6e-07  4.7e-10  1.1e-17  9.99e-01   1.713813929e-04   1.713480247e-04   6.4e-14  88.84 \n",
            "18  1.8e-07  7.3e-08  4.1e-19  1.00e+00   2.831662716e-06   2.831326154e-06   6.1e-16  113.70\n",
            "Optimizer terminated. Time: 113.73  \n",
            "\n",
            "SDP solving time: 114.358874039 seconds.\n",
            "optimum = 2.8316627157491785e-6\n",
            "\n",
            "******************************************************************************\n",
            "This program contains Ipopt, a library for large-scale nonlinear optimization.\n",
            " Ipopt is released as open source code under the Eclipse Public License (EPL).\n",
            "         For more information visit https://github.com/coin-or/Ipopt\n",
            "******************************************************************************\n",
            "\n",
            "Found a locally optimal solution by Ipopt, giving an upper bound: 1.26286824.\n",
            "The relative optimality gap is: 99.999776%.\n",
            "[13.056812147413298, 16.481040935381387, 20.387953701733824, 25.647388630988026, 26.797803902558847, 29.700704869394464, 33.3151240323195, 33.46804723403683, 33.163646117630165, 33.06420190391891, 33.074822123595496, 33.205640889362215, 33.581489151571695, 35.513761245600726, 38.94078694265602, 40.463485303594844, 41.53485798691353, 42.22448964023482, 43.190446208848726, 43.44897197587837, 45.152258186725426, 10.030265466813974, 16.00476278154232, 19.01374211585942, 29.956904837930402, 25.017800038637958, 29.006937671973798, 36.96351607953061, 33.99473314093269, 33.00162025859168, 33.00063566241634, 33.000740813106226, 33.00203604841088, 32.01565830843238, 34.01498773510666, 40.979611751911335, 40.99468797330662, 41.99539463353763, 42.00222266970907, 43.99198461593325, 42.01434625719071, 1.0e-10, -3.0265466813974147, -0.47627815423195047, -1.3742115859417536, 4.309516206959666, -1.7800038637957605, -0.6937671973798443, 3.6483920469385662, 0.5266859067309291, -0.16202585916821297, -0.0635662416343648, -0.07408131062278064, -0.20360484108799592, -1.5658308432380952, -1.498773510665648, 2.0388248088665284, 0.5312026693382247, 0.4605366462374767, -0.22226697090677852, 0.8015384066752829, -1.4346257190712495, 2.9123757531590924, 3.2608231475143583, 4.460186540566965, 0.14498657133403847, 1.8523736979819658, 2.450092395189726, -1.1530959929423423, -1.6164152052480987, -1.3995251727689375, -1.2855623282361555, -1.1657801159308803, -0.9258789755219503, 0.6158108560429763, 2.0348155458709143, -0.0038580208949809004, -0.5148765060462439, -0.9386174782911131, -0.6893274970092556, -1.4346257190712495, 1.03920199105987]"
          ]
        },
        {
          "output_type": "execute_result",
          "data": {
            "text/plain": [
              "45.152258186725426"
            ]
          },
          "metadata": {},
          "execution_count": 16
        }
      ]
    },
    {
      "cell_type": "markdown",
      "source": [
        "## **6.2. RMSE**"
      ],
      "metadata": {
        "id": "WqLPUsLXjLZu"
      }
    },
    {
      "cell_type": "code",
      "source": [
        "T=20\n",
        "pred=1\n",
        "\n",
        "opt=DataFrame(time=[],pred=[],rmse=[])\n",
        "for s in 1:100\n",
        "    Y=observation(T+pred,ts,s);\n",
        "    Y_predict=parameter_estimation(Y[1:T]);\n",
        "    opt_tem=rmse(Y_predict,Y[T+1:T+pred]); # assess the prediction\n",
        "    push!(opt,(s,Y_predict,opt_tem))\n",
        "end"
      ],
      "metadata": {
        "id": "wt7RjHeg4IS6",
        "colab": {
          "base_uri": "https://localhost:8080/"
        },
        "outputId": "d5059fef-527f-4aeb-fbd9-7b43f0c5ac26"
      },
      "execution_count": null,
      "outputs": [
        {
          "output_type": "stream",
          "name": "stdout",
          "text": [
            "*********************************** TSSOS ***********************************\n",
            "Version 1.0.0, developed by Jie Wang, 2020--2024\n",
            "TSSOS is launching...\n",
            "Starting to compute the block structure...\n",
            "-----------------------------------------------------------------------------\n",
            "The sizes of PSD blocks:\n",
            "[3, 2, 1]\n",
            "[20, 60, 1]\n",
            "-----------------------------------------------------------------------------\n",
            "Obtained the block structure in 0.008883991 seconds.\n",
            "The maximal size of blocks is 3.\n",
            "Assembling the SDP...\n",
            "There are 3486 affine constraints.\n",
            "SDP assembling time: 2.689908021 seconds.\n",
            "Solving the SDP...\n",
            "Problem\n",
            "  Name                   :                 \n",
            "  Objective sense        : maximize        \n",
            "  Type                   : CONIC (conic optimization problem)\n",
            "  Constraints            : 3486            \n",
            "  Affine conic cons.     : 0               \n",
            "  Disjunctive cons.      : 0               \n",
            "  Cones                  : 0               \n",
            "  Scalar variables       : 82              \n",
            "  Matrix variables       : 161 (scalarized: 282666)\n",
            "  Integer variables      : 0               \n",
            "\n",
            "Optimizer started.\n",
            "Presolve started.\n",
            "Linear dependency checker started.\n",
            "Linear dependency checker terminated.\n",
            "Eliminator started.\n",
            "Freed constraints in eliminator : 0\n",
            "Eliminator terminated.\n",
            "Eliminator - tries                  : 1                 time                   : 0.00            \n",
            "Lin. dep.  - tries                  : 1                 time                   : 0.00            \n",
            "Lin. dep.  - primal attempts        : 1                 successes              : 1               \n",
            "Lin. dep.  - dual attempts          : 0                 successes              : 0               \n",
            "Lin. dep.  - primal deps.           : 0                 dual deps.             : 0               \n",
            "Presolve terminated. Time: 0.00    \n",
            "GP based matrix reordering started.\n",
            "GP based matrix reordering terminated.\n",
            "Optimizer  - threads                : 1               \n",
            "Optimizer  - solved problem         : the primal      \n",
            "Optimizer  - Constraints            : 3486            \n",
            "Optimizer  - Cones                  : 61              \n",
            "Optimizer  - Scalar variables       : 223               conic                  : 222             \n",
            "Optimizer  - Semi-definite variables: 101               scalarized             : 282486          \n",
            "Factor     - setup time             : 5.24            \n",
            "Factor     - dense det. time        : 0.68              GP order time          : 0.04            \n",
            "Factor     - nonzeros before factor : 6.08e+06          after factor           : 6.08e+06        \n",
            "Factor     - dense dim.             : 0                 flops                  : 1.76e+10        \n",
            "ITE PFEAS    DFEAS    GFEAS    PRSTATUS   POBJ              DOBJ              MU       TIME  \n",
            "0   2.3e+04  1.0e+00  1.0e+00  0.00e+00   -0.000000000e+00  -0.000000000e+00  1.0e+00  5.97  \n",
            "1   5.5e+02  2.4e-02  1.4e-01  -9.87e-01  4.578485759e-01   -3.096798648e+01  2.4e-02  12.07 \n",
            "2   1.9e+02  8.3e-03  5.7e-02  -5.70e-01  1.077362365e+02   6.104659460e+01   8.3e-03  19.81 \n",
            "3   1.5e+02  6.6e-03  4.3e-02  2.85e-03   3.003307796e+03   2.960871787e+03   6.6e-03  24.82 \n",
            "4   7.8e+01  3.5e-03  1.9e-02  9.92e-02   1.250886112e+04   1.247880885e+04   3.5e-03  29.00 \n",
            "5   1.7e+01  7.3e-04  2.0e-03  5.99e-01   1.836804149e+04   1.836096530e+04   7.3e-04  34.44 \n",
            "6   6.1e+00  2.7e-04  6.8e-04  6.39e-01   1.739032528e+04   1.738401017e+04   2.7e-04  38.45 \n",
            "7   1.6e+00  7.2e-05  1.9e-04  1.18e+00   1.455301770e+04   1.454618033e+04   7.2e-05  42.73 \n",
            "8   4.0e-01  1.8e-05  4.3e-05  -2.76e-02  1.084915007e+04   1.084330054e+04   1.8e-05  48.35 \n",
            "9   1.2e-01  5.2e-06  1.1e-05  -2.01e-02  6.876646098e+03   6.872071235e+03   5.2e-06  52.99 \n",
            "10  2.6e-02  1.2e-06  1.5e-06  7.98e-01   2.640044802e+03   2.638447442e+03   1.2e-06  58.36 \n",
            "11  3.5e-03  1.5e-07  2.3e-08  8.52e-01   4.470328014e+02   4.470101401e+02   1.5e-07  64.02 \n",
            "12  3.4e-03  1.5e-07  2.4e-08  7.12e-02   4.547571113e+02   4.547322198e+02   1.5e-07  68.23 \n",
            "13  2.2e-03  9.9e-08  1.4e-08  1.68e+00   2.346288584e+02   2.346089071e+02   9.9e-08  73.28 \n",
            "14  4.9e-04  2.2e-08  1.9e-09  1.47e+00   5.135719162e+01   5.134978353e+01   2.2e-08  77.96 \n",
            "15  6.4e-05  2.8e-09  1.1e-10  9.28e-01   6.774112908e+00   6.772712650e+00   2.8e-09  82.25 \n",
            "16  7.8e-07  3.5e-11  1.5e-13  1.00e+00   9.119154343e-02   9.117336066e-02   3.5e-11  87.39 \n",
            "17  1.6e-07  4.7e-10  1.1e-17  9.99e-01   1.713813929e-04   1.713480247e-04   6.4e-14  91.81 \n",
            "18  1.8e-07  7.3e-08  4.1e-19  1.00e+00   2.831662716e-06   2.831326154e-06   6.1e-16  124.20\n",
            "Optimizer terminated. Time: 124.22  \n",
            "\n",
            "SDP solving time: 125.067476322 seconds.\n",
            "optimum = 2.8316627157491785e-6\n",
            "Found a locally optimal solution by Ipopt, giving an upper bound: 1.26286824.\n",
            "The relative optimality gap is: 99.999776%.\n",
            "[13.056812147413298, 16.481040935381387, 20.387953701733824, 25.647388630988026, 26.797803902558847, 29.700704869394464, 33.3151240323195, 33.46804723403683, 33.163646117630165, 33.06420190391891, 33.074822123595496, 33.205640889362215, 33.581489151571695, 35.513761245600726, 38.94078694265602, 40.463485303594844, 41.53485798691353, 42.22448964023482, 43.190446208848726, 43.44897197587837, 45.152258186725426, 10.030265466813974, 16.00476278154232, 19.01374211585942, 29.956904837930402, 25.017800038637958, 29.006937671973798, 36.96351607953061, 33.99473314093269, 33.00162025859168, 33.00063566241634, 33.000740813106226, 33.00203604841088, 32.01565830843238, 34.01498773510666, 40.979611751911335, 40.99468797330662, 41.99539463353763, 42.00222266970907, 43.99198461593325, 42.01434625719071, 1.0e-10, -3.0265466813974147, -0.47627815423195047, -1.3742115859417536, 4.309516206959666, -1.7800038637957605, -0.6937671973798443, 3.6483920469385662, 0.5266859067309291, -0.16202585916821297, -0.0635662416343648, -0.07408131062278064, -0.20360484108799592, -1.5658308432380952, -1.498773510665648, 2.0388248088665284, 0.5312026693382247, 0.4605366462374767, -0.22226697090677852, 0.8015384066752829, -1.4346257190712495, 2.9123757531590924, 3.2608231475143583, 4.460186540566965, 0.14498657133403847, 1.8523736979819658, 2.450092395189726, -1.1530959929423423, -1.6164152052480987, -1.3995251727689375, -1.2855623282361555, -1.1657801159308803, -0.9258789755219503, 0.6158108560429763, 2.0348155458709143, -0.0038580208949809004, -0.5148765060462439, -0.9386174782911131, -0.6893274970092556, -1.4346257190712495, 1.03920199105987]*********************************** TSSOS ***********************************\n",
            "Version 1.0.0, developed by Jie Wang, 2020--2024\n",
            "TSSOS is launching...\n",
            "Starting to compute the block structure...\n",
            "-----------------------------------------------------------------------------\n",
            "The sizes of PSD blocks:\n",
            "[3, 2, 1]\n",
            "[20, 60, 1]\n",
            "-----------------------------------------------------------------------------\n",
            "Obtained the block structure in 0.008668048 seconds.\n",
            "The maximal size of blocks is 3.\n",
            "Assembling the SDP...\n",
            "There are 3486 affine constraints.\n",
            "SDP assembling time: 2.429529005 seconds.\n",
            "Solving the SDP...\n",
            "Problem\n",
            "  Name                   :                 \n",
            "  Objective sense        : maximize        \n",
            "  Type                   : CONIC (conic optimization problem)\n",
            "  Constraints            : 3486            \n",
            "  Affine conic cons.     : 0               \n",
            "  Disjunctive cons.      : 0               \n",
            "  Cones                  : 0               \n",
            "  Scalar variables       : 82              \n",
            "  Matrix variables       : 161 (scalarized: 282666)\n",
            "  Integer variables      : 0               \n",
            "\n",
            "Optimizer started.\n",
            "Presolve started.\n",
            "Linear dependency checker started.\n",
            "Linear dependency checker terminated.\n",
            "Eliminator started.\n",
            "Freed constraints in eliminator : 0\n",
            "Eliminator terminated.\n",
            "Eliminator - tries                  : 1                 time                   : 0.00            \n",
            "Lin. dep.  - tries                  : 1                 time                   : 0.00            \n",
            "Lin. dep.  - primal attempts        : 1                 successes              : 1               \n",
            "Lin. dep.  - dual attempts          : 0                 successes              : 0               \n",
            "Lin. dep.  - primal deps.           : 0                 dual deps.             : 0               \n",
            "Presolve terminated. Time: 0.00    \n",
            "GP based matrix reordering started.\n",
            "GP based matrix reordering terminated.\n",
            "Optimizer  - threads                : 1               \n",
            "Optimizer  - solved problem         : the primal      \n",
            "Optimizer  - Constraints            : 3486            \n",
            "Optimizer  - Cones                  : 61              \n",
            "Optimizer  - Scalar variables       : 223               conic                  : 222             \n",
            "Optimizer  - Semi-definite variables: 101               scalarized             : 282486          \n",
            "Factor     - setup time             : 4.70            \n",
            "Factor     - dense det. time        : 0.60              GP order time          : 0.03            \n",
            "Factor     - nonzeros before factor : 6.08e+06          after factor           : 6.08e+06        \n",
            "Factor     - dense dim.             : 0                 flops                  : 1.76e+10        \n",
            "ITE PFEAS    DFEAS    GFEAS    PRSTATUS   POBJ              DOBJ              MU       TIME  \n",
            "0   2.4e+04  1.0e+00  1.0e+00  0.00e+00   -0.000000000e+00  -0.000000000e+00  1.0e+00  5.24  \n",
            "1   5.9e+02  2.4e-02  1.4e-01  -9.88e-01  4.337325572e-01   -3.143618892e+01  2.4e-02  12.80 \n",
            "2   1.9e+02  7.9e-03  5.6e-02  -5.94e-01  1.033228520e+02   5.280590825e+01   7.9e-03  17.05 \n",
            "3   1.6e+02  6.5e-03  4.4e-02  -3.51e-03  2.250085772e+03   2.203793343e+03   6.5e-03  21.76 \n",
            "4   8.3e+01  3.4e-03  2.0e-02  5.77e-02   1.409037782e+04   1.405603447e+04   3.4e-03  26.05 \n",
            "5   1.6e+01  6.8e-04  2.0e-03  5.13e-01   1.977687117e+04   1.976808040e+04   6.8e-04  30.36 \n",
            "6   6.3e+00  2.6e-04  6.3e-04  9.25e-01   1.898167856e+04   1.897593137e+04   2.6e-04  35.19 \n",
            "7   3.2e+00  1.3e-04  5.0e-04  1.08e-01   1.752632769e+04   1.751227516e+04   1.3e-04  39.56 \n",
            "8   9.6e-01  4.0e-05  7.1e-05  1.33e+00   1.350123755e+04   1.349804821e+04   4.0e-05  43.89 \n",
            "9   1.4e-01  5.8e-06  1.1e-05  -8.70e-02  8.095519002e+03   8.091665785e+03   5.8e-06  48.89 \n",
            "10  3.5e-02  1.5e-06  1.4e-06  1.42e-01   3.346281121e+03   3.345388439e+03   1.5e-06  53.51 \n",
            "11  5.1e-03  2.1e-07  5.6e-08  3.24e-01   5.459795084e+02   5.459081593e+02   2.1e-07  57.91 \n",
            "12  1.1e-03  4.7e-08  4.9e-09  1.86e+00   1.113158603e+02   1.113053960e+02   4.7e-08  63.17 \n",
            "13  2.6e-04  1.1e-08  7.1e-10  1.06e+00   2.872059380e+01   2.871619310e+01   1.1e-08  67.55 \n",
            "14  7.9e-06  3.3e-10  4.0e-12  9.72e-01   9.364987205e-01   9.363468478e-01   3.3e-10  71.85 \n",
            "15  3.6e-08  2.8e-11  1.3e-16  9.96e-01   1.023691779e-03   1.023508160e-03   3.8e-13  89.80 \n",
            "16  2.1e-07  2.0e-08  1.5e-19  1.00e+00   4.079562418e-06   4.079331408e-06   4.6e-16  102.20\n",
            "Optimizer terminated. Time: 102.23  \n",
            "\n",
            "SDP solving time: 102.782951228 seconds.\n",
            "optimum = 4.079562417816126e-6\n",
            "Found a locally optimal solution by Ipopt, giving an upper bound: 1.08436857.\n",
            "The relative optimality gap is: 99.999624%.\n",
            "[18.317365085032833, 21.109976229762825, 25.94856428972645, 26.920411907587468, 29.761587036596417, 33.36183409983549, 33.4991233711007, 33.186531076999856, 33.08393017422651, 33.09269076924227, 33.22123439426196, 33.593129588618915, 35.52624475502385, 38.958143110967605, 40.46532874180523, 41.49665396750332, 42.083161306652556, 42.78865822819713, 42.37060279157263, 42.3478534404978, 43.65890814515642, 16.022944208762702, 19.02089085376003, 29.959886775145815, 25.019013979283052, 29.007540465708875, 36.963978555443916, 33.99504082545644, 33.001846842346524, 33.000830991824024, 33.000917730388544, 33.00219043954715, 32.015773560283364, 34.015111334208164, 40.97978359515809, 40.99470622516638, 41.99501637591588, 42.00082337927379, 43.988006517110854, 42.00366933457003, 41.013345083569284, 1.0e-10, -2.2944208762701574, -2.0890853760028136, 4.011322485419366, -1.9013979283044207, -0.7540465708875441, 3.6021444556084226, 0.49591745435573753, -0.1846842346533318, -0.08309918240248595, -0.09177303885372035, -0.21904395471480792, -1.5773560283355519, -1.51113342081569, 2.0216404841904887, 0.5293774833611521, 0.49836240841255586, -0.08233792737876933, 1.1993482889137301, -0.36693345700260604, -1.3345083569285228, 2.2255205906496682, 4.185040562210232, 0.1685014142810054, 2.007741322679577, 2.6788528122349593, -0.8955656670398056, -1.3496975953019044, -1.1300286037060128, -1.0154906663726448, -0.8959788571834053, -0.6566068927291443, 0.8930995100446457, 2.332035044326918, 0.3010735694040877, -0.2214480629657595, -0.698194930072872, -0.5973631324018184, -1.742757094878265, -1.3345083569279275, 1.0309591773406146]*********************************** TSSOS ***********************************\n",
            "Version 1.0.0, developed by Jie Wang, 2020--2024\n",
            "TSSOS is launching...\n",
            "Starting to compute the block structure...\n",
            "-----------------------------------------------------------------------------\n",
            "The sizes of PSD blocks:\n",
            "[3, 2, 1]\n",
            "[20, 60, 1]\n",
            "-----------------------------------------------------------------------------\n",
            "Obtained the block structure in 0.009242413 seconds.\n",
            "The maximal size of blocks is 3.\n",
            "Assembling the SDP...\n",
            "There are 3486 affine constraints.\n",
            "SDP assembling time: 2.633993774 seconds.\n",
            "Solving the SDP...\n",
            "Problem\n",
            "  Name                   :                 \n",
            "  Objective sense        : maximize        \n",
            "  Type                   : CONIC (conic optimization problem)\n",
            "  Constraints            : 3486            \n",
            "  Affine conic cons.     : 0               \n",
            "  Disjunctive cons.      : 0               \n",
            "  Cones                  : 0               \n",
            "  Scalar variables       : 82              \n",
            "  Matrix variables       : 161 (scalarized: 282666)\n",
            "  Integer variables      : 0               \n",
            "\n",
            "Optimizer started.\n",
            "Presolve started.\n",
            "Linear dependency checker started.\n",
            "Linear dependency checker terminated.\n",
            "Eliminator started.\n",
            "Freed constraints in eliminator : 0\n",
            "Eliminator terminated.\n",
            "Eliminator - tries                  : 1                 time                   : 0.00            \n",
            "Lin. dep.  - tries                  : 1                 time                   : 0.00            \n",
            "Lin. dep.  - primal attempts        : 1                 successes              : 1               \n",
            "Lin. dep.  - dual attempts          : 0                 successes              : 0               \n",
            "Lin. dep.  - primal deps.           : 0                 dual deps.             : 0               \n",
            "Presolve terminated. Time: 0.00    \n",
            "GP based matrix reordering started.\n",
            "GP based matrix reordering terminated.\n",
            "Optimizer  - threads                : 1               \n",
            "Optimizer  - solved problem         : the primal      \n",
            "Optimizer  - Constraints            : 3486            \n",
            "Optimizer  - Cones                  : 61              \n",
            "Optimizer  - Scalar variables       : 223               conic                  : 222             \n",
            "Optimizer  - Semi-definite variables: 101               scalarized             : 282486          \n",
            "Factor     - setup time             : 7.47            \n",
            "Factor     - dense det. time        : 0.71              GP order time          : 0.03            \n",
            "Factor     - nonzeros before factor : 6.08e+06          after factor           : 6.08e+06        \n",
            "Factor     - dense dim.             : 0                 flops                  : 1.76e+10        \n",
            "ITE PFEAS    DFEAS    GFEAS    PRSTATUS   POBJ              DOBJ              MU       TIME  \n",
            "0   2.6e+04  1.0e+00  1.0e+00  0.00e+00   -0.000000000e+00  -0.000000000e+00  1.0e+00  7.93  \n",
            "1   6.3e+02  2.4e-02  1.4e-01  -9.89e-01  4.140738624e-01   -3.181782011e+01  2.4e-02  14.18 \n",
            "2   1.9e+02  7.5e-03  5.5e-02  -6.13e-01  9.997184952e+01   4.600485188e+01   7.5e-03  19.71 \n",
            "3   1.6e+02  6.2e-03  4.4e-02  -9.53e-03  1.858309863e+03   1.808683481e+03   6.2e-03  24.33 \n",
            "4   9.6e+01  3.7e-03  2.4e-02  3.44e-02   1.379702420e+04   1.375715583e+04   3.7e-03  28.43 \n",
            "5   1.9e+01  7.5e-04  2.3e-03  4.20e-01   2.097662310e+04   2.096751789e+04   7.5e-04  33.48 \n",
            "6   6.8e+00  2.7e-04  6.5e-04  7.72e-01   2.027675811e+04   2.027083461e+04   2.7e-04  39.89 \n",
            "7   3.9e+00  1.5e-04  5.9e-04  4.67e-01   1.889972401e+04   1.888504890e+04   1.5e-04  44.31 \n",
            "8   1.3e+00  5.2e-05  9.1e-05  1.43e+00   1.532506917e+04   1.532204442e+04   5.2e-05  49.55 \n",
            "9   1.9e-01  7.4e-06  1.6e-05  -1.60e-01  9.497124512e+03   9.492392519e+03   7.4e-06  53.82 \n",
            "10  5.1e-02  2.0e-06  3.5e-06  1.14e+00   4.625284530e+03   4.622175747e+03   2.0e-06  58.10 \n",
            "11  7.5e-03  2.9e-07  1.2e-07  5.20e-01   9.468487950e+02   9.466803171e+02   2.9e-07  63.45 \n",
            "12  1.7e-03  6.7e-08  8.4e-09  1.52e+00   1.893898240e+02   1.893742502e+02   6.7e-08  67.76 \n",
            "13  2.9e-04  1.1e-08  9.0e-10  1.21e+00   3.393917821e+01   3.393305132e+01   1.1e-08  72.01 \n",
            "14  6.4e-05  2.5e-09  9.8e-11  9.10e-01   8.065046396e+00   8.063508899e+00   2.5e-09  77.44 \n",
            "15  1.0e-06  5.4e-11  1.8e-13  9.63e-01   1.241935472e-01   1.241720349e-01   4.0e-11  81.73 \n",
            "16  4.0e-09  7.4e-11  9.7e-18  9.99e-01   1.621460603e-04   1.621223546e-04   5.7e-14  85.83 \n",
            "17  4.5e-08  9.4e-08  4.9e-19  1.00e+00   3.104569351e-05   3.104147629e-05   9.8e-15  110.85\n",
            "Optimizer terminated. Time: 110.87  \n",
            "\n",
            "SDP solving time: 111.410369797 seconds.\n",
            "optimum = 3.104569351426605e-5\n",
            "Found a locally optimal solution by Ipopt, giving an upper bound: 0.96978637.\n",
            "The relative optimality gap is: 96.975533%.\n",
            "[22.537220810525238, 26.515098457336187, 27.14234861562973, 29.855637923213646, 33.41355919063751, 33.52692556201, 33.203518915956515, 33.09677690927447, 33.10351538805008, 33.230248238197234, 33.59948412465056, 35.5342165198309, 38.972561110809245, 40.47580473687278, 41.49708587571558, 42.05758024230692, 42.69910017413921, 42.10965342667073, 41.651569749732225, 41.84809873454236, 42.88921879280023, 19.035021988223015, 29.965496024330058, 25.02121137243198, 29.008471662606066, 36.96449068505583, 33.99531609467337, 33.00201503877184, 33.00095818722054, 33.00102490483218, 33.0022796855267, 32.015836476481695, 34.01519026257258, 40.979926347631775, 40.99480994788983, 41.99502065223481, 42.000570101408975, 43.987119803704346, 42.001085677491794, 41.00645118564091, 41.00839701717368, 1.0e-10, -3.502198822302232, 3.450397566993871, -2.1211372431977487, -0.8471662606075782, 3.550931494418319, 0.4683905326633667, -0.20150387718467702, -0.09581872205392973, -0.1024904832178995, -0.22796855267053245, -1.5836476481688682, -1.5190262572583182, 2.007365236822526, 0.519005211017046, 0.49793477651923057, -0.05701014089794129, 1.2880196295651303, -0.10856774917894155, -0.6451185640913158, -0.8397017173686856, 3.4171842496732343, -0.03240707071761557, 2.0380270035253045, 2.8151562569722834, -0.717914564753821, -1.157507973230692, -0.93279744512447, -0.8166613732106576, -0.6968346454269855, -0.45748453879540246, 1.0988259161026193, 2.554304773352523, 0.5336627772053052, 0.014301766781108173, -0.4718930003595435, -0.40481172279818795, -1.651738488435024, -1.505710836941473, -0.8397017170778128, 1.0248785509913378]*********************************** TSSOS ***********************************\n",
            "Version 1.0.0, developed by Jie Wang, 2020--2024\n",
            "TSSOS is launching...\n",
            "Starting to compute the block structure...\n",
            "-----------------------------------------------------------------------------\n",
            "The sizes of PSD blocks:\n",
            "[3, 2, 1]\n",
            "[20, 60, 1]\n",
            "-----------------------------------------------------------------------------\n",
            "Obtained the block structure in 0.008862976 seconds.\n",
            "The maximal size of blocks is 3.\n",
            "Assembling the SDP...\n",
            "There are 3486 affine constraints.\n",
            "SDP assembling time: 2.252684485 seconds.\n",
            "Solving the SDP...\n",
            "Problem\n",
            "  Name                   :                 \n",
            "  Objective sense        : maximize        \n",
            "  Type                   : CONIC (conic optimization problem)\n",
            "  Constraints            : 3486            \n",
            "  Affine conic cons.     : 0               \n",
            "  Disjunctive cons.      : 0               \n",
            "  Cones                  : 0               \n",
            "  Scalar variables       : 82              \n",
            "  Matrix variables       : 161 (scalarized: 282666)\n",
            "  Integer variables      : 0               \n",
            "\n",
            "Optimizer started.\n",
            "Presolve started.\n",
            "Linear dependency checker started.\n",
            "Linear dependency checker terminated.\n",
            "Eliminator started.\n",
            "Freed constraints in eliminator : 0\n",
            "Eliminator terminated.\n",
            "Eliminator - tries                  : 1                 time                   : 0.00            \n",
            "Lin. dep.  - tries                  : 1                 time                   : 0.00            \n",
            "Lin. dep.  - primal attempts        : 1                 successes              : 1               \n",
            "Lin. dep.  - dual attempts          : 0                 successes              : 0               \n",
            "Lin. dep.  - primal deps.           : 0                 dual deps.             : 0               \n",
            "Presolve terminated. Time: 0.00    \n",
            "GP based matrix reordering started.\n",
            "GP based matrix reordering terminated.\n",
            "Optimizer  - threads                : 1               \n",
            "Optimizer  - solved problem         : the primal      \n",
            "Optimizer  - Constraints            : 3486            \n",
            "Optimizer  - Cones                  : 61              \n",
            "Optimizer  - Scalar variables       : 223               conic                  : 222             \n",
            "Optimizer  - Semi-definite variables: 101               scalarized             : 282486          \n",
            "Factor     - setup time             : 4.49            \n",
            "Factor     - dense det. time        : 0.46              GP order time          : 0.03            \n",
            "Factor     - nonzeros before factor : 6.08e+06          after factor           : 6.08e+06        \n",
            "Factor     - dense dim.             : 0                 flops                  : 1.76e+10        \n",
            "ITE PFEAS    DFEAS    GFEAS    PRSTATUS   POBJ              DOBJ              MU       TIME  \n",
            "0   2.7e+04  1.0e+00  1.0e+00  0.00e+00   -0.000000000e+00  -0.000000000e+00  1.0e+00  4.94  \n",
            "1   6.6e+02  2.4e-02  1.4e-01  -9.89e-01  3.973892687e-01   -3.214169060e+01  2.4e-02  12.10 \n",
            "2   1.9e+02  7.2e-03  5.5e-02  -6.29e-01  9.727669890e+01   4.011636499e+01   7.2e-03  16.46 \n",
            "3   1.6e+02  6.0e-03  4.4e-02  -1.53e-02  1.619841385e+03   1.567208239e+03   6.0e-03  21.02 \n",
            "4   1.1e+02  3.9e-03  2.6e-02  1.98e-02   1.365108919e+04   1.360651748e+04   3.9e-03  26.31 \n",
            "5   2.2e+01  8.1e-04  2.6e-03  3.56e-01   2.205589959e+04   2.204591963e+04   8.1e-04  30.67 \n",
            "6   5.9e+00  2.2e-04  5.5e-04  5.68e-01   2.105181235e+04   2.104549582e+04   2.2e-04  35.32 \n",
            "7   1.6e+00  6.0e-05  1.4e-04  -1.33e-01  1.817573628e+04   1.816985486e+04   6.0e-05  40.65 \n",
            "8   4.5e-01  1.7e-05  3.8e-05  -2.35e-01  1.391028470e+04   1.390512187e+04   1.7e-05  45.03 \n",
            "9   1.3e-01  4.9e-06  8.6e-06  3.51e-02   8.678285864e+03   8.675160546e+03   4.9e-06  50.94 \n",
            "10  3.4e-02  1.3e-06  1.4e-06  3.23e-01   3.765516879e+03   3.764257433e+03   1.3e-06  56.46 \n",
            "11  5.0e-03  1.9e-07  7.0e-08  7.19e-01   7.147510863e+02   7.146085109e+02   1.9e-07  60.81 \n",
            "12  1.3e-03  4.9e-08  8.7e-09  1.80e+00   1.555887711e+02   1.555575155e+02   4.9e-08  66.11 \n",
            "13  2.3e-04  8.4e-09  6.7e-10  1.06e+00   2.860706926e+01   2.860067961e+01   8.4e-09  70.45 \n",
            "14  5.6e-05  2.1e-09  8.3e-11  9.52e-01   7.562938243e+00   7.561354168e+00   2.1e-09  74.58 \n",
            "15  1.7e-06  6.2e-11  4.1e-13  9.63e-01   2.102499398e-01   2.102071760e-01   6.1e-11  80.18 \n",
            "16  3.4e-07  2.4e-10  2.4e-16  1.00e+00   1.291844781e-03   1.291616549e-03   4.0e-13  84.46 \n",
            "17  2.1e-07  1.9e-08  3.9e-19  1.00e+00   7.002900597e-05   7.002222257e-05   1.2e-14  111.13\n",
            "Optimizer terminated. Time: 111.15  \n",
            "\n",
            "SDP solving time: 111.660868332 seconds.\n",
            "optimum = 7.002900596769546e-5\n",
            "Found a locally optimal solution by Ipopt, giving an upper bound: 0.65693700.\n",
            "The relative optimality gap is: 65.686697%.\n",
            "[28.739631216977997, 28.002386294264884, 30.195989320732753, 33.56252117276326, 33.59221569472132, 33.23451912183293, 33.11461810519636, 33.11575357788256, 33.23903126236527, 33.60449840745539, 35.541555209059645, 38.989478888432274, 40.491272227626766, 41.50937476814042, 42.06170019281832, 42.68610049354543, 42.0435939519901, 41.455530513609745, 41.322766621264236, 41.51601739687804, 42.22346956606451, 29.987521101158194, 25.029726596972907, 29.011841478423094, 36.965965556165976, 33.9959625316309, 33.00232197150331, 33.001134832724716, 33.001146075028544, 33.00236664616203, 32.01588612284609, 34.01526292286197, 40.98009385038051, 40.99496309136265, 41.99514232443704, 42.0006108929982, 43.986991093995506, 42.000431623287035, 41.00451020310505, 41.003195709121435, 41.005109083137405, 1.0e-10, 1.2478898841801827, -2.9726596972919936, -1.1841478423096727, 3.403444383402706, 0.40374683690957686, -0.23219715032963442, -0.11348327247164594, -0.11460750285402524, -0.23666461620325488, -1.5886122846093103, -1.5262922861976793, 1.9906149619482312, 0.5036908637358813, 0.4857675562966145, -0.06108929982012345, 1.300890600450074, -0.04316232870305868, -0.4510203105046979, -0.31957091214280675, -0.5109083137406425, -1.2269815525954912, 1.7164293916049675, 2.851978205387157, -0.5422263870269076, -0.9301234902838448, -0.6862326187232016, -0.5631529605314937, -0.44103009771556273, -0.200941345961531, 1.3644205810938614, 2.8422791136016388, 0.8373945566386074, 0.32811250373609296, -0.1550135510370893, -0.09235055609468554, -1.3698974687622847, -1.304505756471195, -0.8391853370195466, -0.5109083108303388, 1.0170404632608028]*********************************** TSSOS ***********************************\n",
            "Version 1.0.0, developed by Jie Wang, 2020--2024\n",
            "TSSOS is launching...\n",
            "Starting to compute the block structure...\n",
            "-----------------------------------------------------------------------------\n",
            "The sizes of PSD blocks:\n",
            "[3, 2, 1]\n",
            "[20, 60, 1]\n",
            "-----------------------------------------------------------------------------\n",
            "Obtained the block structure in 0.390698505 seconds.\n",
            "The maximal size of blocks is 3.\n",
            "Assembling the SDP...\n",
            "There are 3486 affine constraints.\n",
            "SDP assembling time: 3.448899558 seconds.\n",
            "Solving the SDP...\n",
            "Problem\n",
            "  Name                   :                 \n",
            "  Objective sense        : maximize        \n",
            "  Type                   : CONIC (conic optimization problem)\n",
            "  Constraints            : 3486            \n",
            "  Affine conic cons.     : 0               \n",
            "  Disjunctive cons.      : 0               \n",
            "  Cones                  : 0               \n",
            "  Scalar variables       : 82              \n",
            "  Matrix variables       : 161 (scalarized: 282666)\n",
            "  Integer variables      : 0               \n",
            "\n",
            "Optimizer started.\n",
            "Presolve started.\n",
            "Linear dependency checker started.\n",
            "Linear dependency checker terminated.\n",
            "Eliminator started.\n",
            "Freed constraints in eliminator : 0\n",
            "Eliminator terminated.\n",
            "Eliminator - tries                  : 1                 time                   : 0.00            \n",
            "Lin. dep.  - tries                  : 1                 time                   : 0.00            \n",
            "Lin. dep.  - primal attempts        : 1                 successes              : 1               \n",
            "Lin. dep.  - dual attempts          : 0                 successes              : 0               \n",
            "Lin. dep.  - primal deps.           : 0                 dual deps.             : 0               \n",
            "Presolve terminated. Time: 0.00    \n",
            "GP based matrix reordering started.\n",
            "GP based matrix reordering terminated.\n",
            "Optimizer  - threads                : 1               \n",
            "Optimizer  - solved problem         : the primal      \n",
            "Optimizer  - Constraints            : 3486            \n",
            "Optimizer  - Cones                  : 61              \n",
            "Optimizer  - Scalar variables       : 223               conic                  : 222             \n",
            "Optimizer  - Semi-definite variables: 101               scalarized             : 282486          \n",
            "Factor     - setup time             : 4.58            \n",
            "Factor     - dense det. time        : 0.53              GP order time          : 0.03            \n",
            "Factor     - nonzeros before factor : 6.08e+06          after factor           : 6.08e+06        \n",
            "Factor     - dense dim.             : 0                 flops                  : 1.76e+10        \n",
            "ITE PFEAS    DFEAS    GFEAS    PRSTATUS   POBJ              DOBJ              MU       TIME  \n",
            "0   2.8e+04  1.0e+00  1.0e+00  0.00e+00   -0.000000000e+00  -0.000000000e+00  1.0e+00  5.05  \n",
            "1   6.8e+02  2.4e-02  1.4e-01  -9.90e-01  3.881358156e-01   -3.232130420e+01  2.4e-02  11.76 \n",
            "2   1.9e+02  7.0e-03  5.4e-02  -6.38e-01  9.583543452e+01   3.678810209e+01   7.0e-03  16.44 \n",
            "3   1.6e+02  5.9e-03  4.4e-02  -1.87e-02  1.513351417e+03   1.458967280e+03   5.9e-03  20.48 \n",
            "4   1.1e+02  4.0e-03  2.7e-02  1.32e-02   1.360817483e+04   1.356096185e+04   4.0e-03  25.53 \n",
            "5   2.3e+01  8.2e-04  2.6e-03  3.25e-01   2.267788137e+04   2.266771863e+04   8.2e-04  30.39 \n",
            "6   5.9e+00  2.1e-04  5.5e-04  4.86e-01   2.167725143e+04   2.167061206e+04   2.1e-04  35.28 \n",
            "7   1.6e+00  5.8e-05  1.5e-04  -5.63e-02  1.866950772e+04   1.866251723e+04   5.8e-05  41.85 \n",
            "8   5.1e-01  1.8e-05  4.2e-05  6.33e-01   1.433647912e+04   1.433125452e+04   1.8e-05  47.18 \n",
            "9   2.3e-01  8.3e-06  2.3e-05  1.44e-01   1.169115086e+04   1.168335788e+04   8.3e-06  51.77 \n",
            "10  5.9e-02  2.1e-06  3.2e-06  1.18e+00   5.194449902e+03   5.192196215e+03   2.1e-06  57.25 \n",
            "11  8.0e-03  2.9e-07  1.8e-07  3.71e-01   1.184991891e+03   1.184602300e+03   2.9e-07  61.56 \n",
            "12  2.0e-03  7.3e-08  1.7e-08  1.63e+00   2.553458917e+02   2.552946240e+02   7.3e-08  65.90 \n",
            "13  3.3e-04  1.2e-08  1.2e-09  1.32e+00   4.174314925e+01   4.173284996e+01   1.2e-08  71.36 \n",
            "14  4.8e-05  1.7e-09  5.6e-11  8.23e-01   6.053469754e+00   6.052448388e+00   1.7e-09  75.71 \n",
            "15  1.8e-06  6.8e-11  4.3e-13  9.83e-01   2.537606325e-01   2.537190902e-01   6.7e-11  80.09 \n",
            "16  8.2e-08  3.9e-10  1.3e-16  1.00e+00   1.225823181e-03   1.225629205e-03   3.1e-13  85.64 \n",
            "17  2.3e-07  2.8e-08  1.6e-19  1.00e+00   2.381819726e-06   2.381583633e-06   3.5e-16  110.36\n",
            "Optimizer terminated. Time: 110.39  \n",
            "\n",
            "SDP solving time: 110.911122872 seconds.\n",
            "optimum = 2.38181972562811e-6\n",
            "Found a locally optimal solution by Ipopt, giving an upper bound: 0.62230998.\n",
            "The relative optimality gap is: 62.230760%.\n",
            "[27.233991960503825, 29.89812902053742, 33.44530405415976, 33.546065192636185, 33.21608411463688, 33.10688091079709, 33.112215275169106, 33.23727684404676, 33.603734015730076, 35.540649385342945, 38.987289726305285, 40.488944312534606, 41.50652487373257, 42.05745487206464, 42.67771648747492, 42.025646151995204, 41.41196174536918, 41.212177463166164, 41.23192956306688, 41.49043423243997, 42.239182398493426, 25.022118732282216, 29.008892366539975, 36.96480499063525, 33.995505595966705, 33.00213944667957, 33.00105822683957, 33.0011110423284, 33.002349275683635, 32.0158785546112, 34.015253954310325, 40.98007217550797, 40.99494004269836, 41.995114107660726, 42.00056886011946, 43.98690808403441, 42.000253922296984, 41.004078829162076, 41.002100766962045, 41.002296332307594, 41.0048557844796, 1.0e-10, -2.211873228221628, -0.8892366539974604, 3.51950093647549, 0.44944040333052143, -0.2139446679573131, -0.10582268395753217, -0.11110423284071684, -0.23492756836313375, -1.5878554611188895, -1.5253954310326283, 1.9927824492026796, 0.5059957301637497, 0.4885892339281507, -0.05688601194517499, 1.3091915965595016, -0.025392229698218978, -0.40788291620710293, -0.21007669620411654, -0.2296332307592884, -0.48557844796037347, 2.172664702320352, 3.0076249014842418, -0.5028023222813739, -0.935362902894243, -0.7086300964339673, -0.5921218161745597, -0.47249087712419396, -0.23335217092785535, 1.3304928367491513, 2.805263682946273, 0.7980788772249544, 0.2869055668213764, -0.1981085440069615, -0.13871916623038008, -1.422244534485422, -1.3720911590658067, -0.9471163114566501, -0.7239745654257063, -0.48557844796087796, 1.0180462841593483]*********************************** TSSOS ***********************************\n",
            "Version 1.0.0, developed by Jie Wang, 2020--2024\n",
            "TSSOS is launching...\n",
            "Starting to compute the block structure...\n",
            "-----------------------------------------------------------------------------\n",
            "The sizes of PSD blocks:\n",
            "[3, 2, 1]\n",
            "[20, 60, 1]\n",
            "-----------------------------------------------------------------------------\n",
            "Obtained the block structure in 0.016444443 seconds.\n",
            "The maximal size of blocks is 3.\n",
            "Assembling the SDP...\n",
            "There are 3486 affine constraints.\n",
            "SDP assembling time: 2.228476346 seconds.\n",
            "Solving the SDP...\n",
            "Problem\n",
            "  Name                   :                 \n",
            "  Objective sense        : maximize        \n",
            "  Type                   : CONIC (conic optimization problem)\n",
            "  Constraints            : 3486            \n",
            "  Affine conic cons.     : 0               \n",
            "  Disjunctive cons.      : 0               \n",
            "  Cones                  : 0               \n",
            "  Scalar variables       : 82              \n",
            "  Matrix variables       : 161 (scalarized: 282666)\n",
            "  Integer variables      : 0               \n",
            "\n",
            "Optimizer started.\n",
            "Presolve started.\n",
            "Linear dependency checker started.\n",
            "Linear dependency checker terminated.\n",
            "Eliminator started.\n",
            "Freed constraints in eliminator : 0\n",
            "Eliminator terminated.\n",
            "Eliminator - tries                  : 1                 time                   : 0.00            \n",
            "Lin. dep.  - tries                  : 1                 time                   : 0.00            \n",
            "Lin. dep.  - primal attempts        : 1                 successes              : 1               \n",
            "Lin. dep.  - dual attempts          : 0                 successes              : 0               \n",
            "Lin. dep.  - primal deps.           : 0                 dual deps.             : 0               \n",
            "Presolve terminated. Time: 0.00    \n",
            "GP based matrix reordering started.\n",
            "GP based matrix reordering terminated.\n",
            "Optimizer  - threads                : 1               \n",
            "Optimizer  - solved problem         : the primal      \n",
            "Optimizer  - Constraints            : 3486            \n",
            "Optimizer  - Cones                  : 61              \n",
            "Optimizer  - Scalar variables       : 223               conic                  : 222             \n",
            "Optimizer  - Semi-definite variables: 101               scalarized             : 282486          \n",
            "Factor     - setup time             : 6.21            \n",
            "Factor     - dense det. time        : 0.46              GP order time          : 0.03            \n",
            "Factor     - nonzeros before factor : 6.08e+06          after factor           : 6.08e+06        \n",
            "Factor     - dense dim.             : 0                 flops                  : 1.76e+10        \n",
            "ITE PFEAS    DFEAS    GFEAS    PRSTATUS   POBJ              DOBJ              MU       TIME  \n",
            "0   2.9e+04  1.0e+00  1.0e+00  0.00e+00   -0.000000000e+00  -0.000000000e+00  1.0e+00  6.68  \n",
            "1   7.0e+02  2.4e-02  1.4e-01  -9.90e-01  3.762883516e-01   -3.255126047e+01  2.4e-02  12.80 \n",
            "2   2.0e+02  6.8e-03  5.4e-02  -6.50e-01  9.403854644e+01   3.244328360e+01   6.8e-03  17.45 \n",
            "3   1.6e+02  5.7e-03  4.3e-02  -2.34e-02  1.397308230e+03   1.340583288e+03   5.7e-03  22.57 \n",
            "4   1.2e+02  4.0e-03  2.9e-02  6.16e-03   1.359265302e+04   1.354200613e+04   4.0e-03  26.70 \n",
            "5   2.4e+01  8.4e-04  2.7e-03  2.89e-01   2.351093363e+04   2.350041613e+04   8.4e-04  31.35 \n",
            "6   6.0e+00  2.1e-04  5.5e-04  4.21e-01   2.255105936e+04   2.254424565e+04   2.1e-04  36.59 \n",
            "7   1.6e+00  5.5e-05  1.4e-04  -1.62e-02  1.940099088e+04   1.939424558e+04   5.5e-05  40.83 \n",
            "8   5.6e-01  2.0e-05  5.2e-05  4.97e-01   1.527085989e+04   1.526389889e+04   2.0e-05  45.45 \n",
            "9   1.4e-01  5.0e-06  1.1e-05  1.07e+00   9.005202357e+03   9.000250159e+03   5.0e-06  50.49 \n",
            "10  2.8e-02  9.7e-07  1.3e-06  1.84e-01   3.540074450e+03   3.538187799e+03   9.7e-07  54.86 \n",
            "11  5.6e-03  1.9e-07  7.5e-08  7.83e-01   7.746641986e+02   7.745148222e+02   1.9e-07  59.85 \n",
            "12  1.3e-03  4.6e-08  6.3e-09  1.55e+00   1.638323592e+02   1.638132906e+02   4.6e-08  64.63 \n",
            "13  2.2e-04  7.6e-09  5.7e-10  1.02e+00   2.952303014e+01   2.951729904e+01   7.6e-09  68.81 \n",
            "14  1.6e-05  5.4e-10  1.2e-11  9.49e-01   2.278751231e+00   2.278301282e+00   5.5e-10  73.94 \n",
            "15  4.6e-08  2.3e-11  5.9e-16  1.00e+00   2.778193795e-03   2.777707443e-03   8.0e-13  78.51 \n",
            "16  9.1e-08  6.2e-10  1.1e-19  1.00e+00   1.626949871e-05   1.626872796e-05   1.2e-15  103.53\n",
            "Optimizer terminated. Time: 103.55  \n",
            "\n",
            "SDP solving time: 104.130491695 seconds.\n",
            "optimum = 1.626949870895455e-5\n",
            "Found a locally optimal solution by Ipopt, giving an upper bound: 0.49581030.\n",
            "The relative optimality gap is: 49.579403%.\n",
            "[31.32777150096797, 34.007191398122366, 33.76674934068493, 33.303851790566235, 33.14343614567308, 33.12867103298663, 33.245121267860746, 33.60663514729293, 35.54414107177808, 38.99686975296664, 40.49795862039557, 41.51495662106169, 42.06464618204739, 42.68443475617035, 42.025278420647545, 41.39773297571662, 41.16576674484282, 41.10259645613057, 41.146463294222514, 41.34025395429617, 41.87342908205633, 29.023047242583846, 36.97036823166458, 33.99769058753153, 33.00300843356997, 33.00142015985816, 33.001273970623636, 33.00242694324614, 32.01590727868607, 34.01528852546316, 40.980167027257096, 40.99502929327124, 41.995197590307555, 42.00064006120839, 43.986974601546244, 42.000250281392546, 41.003937950254624, 41.00164125489943, 41.00101580649634, 41.001450131625965, 41.00336885103265, 1.0e-10, -2.304724258384122, 2.9631768335422177, 0.230941246846597, -0.3008433569962722, -0.14201598581492464, -0.12739706236299386, -0.24269432461460486, -1.590727868606856, -1.5288525463149234, 1.983297274290458, 0.4970706728756628, 0.48024096924586035, -0.06400612083900398, 1.3025398453758927, -0.025028139254996667, -0.3937950254619993, -0.16412548994339338, -0.10158064963422705, -0.1450131625965512, -0.3368851032635281, 2.275378146686775, -0.6790409261938615, -0.8983953802401251, -0.58994337476564, -0.44222392367769936, -0.31081814693275006, -0.06725638886346554, 1.504073125352942, 2.9943074054503382, 0.9981369253394888, 0.4946861569767542, 0.014261251211328483, 0.07727078680858997, -1.209667684090029, -1.1695554968250688, -0.7658826792998481, -0.594095013262607, -0.4862431641591278, -0.336885103264168, 1.012897238811102]*********************************** TSSOS ***********************************\n",
            "Version 1.0.0, developed by Jie Wang, 2020--2024\n",
            "TSSOS is launching...\n",
            "Starting to compute the block structure...\n",
            "-----------------------------------------------------------------------------\n",
            "The sizes of PSD blocks:\n",
            "[3, 2, 1]\n",
            "[20, 60, 1]\n",
            "-----------------------------------------------------------------------------\n",
            "Obtained the block structure in 0.006049876 seconds.\n",
            "The maximal size of blocks is 3.\n",
            "Assembling the SDP...\n",
            "There are 3486 affine constraints.\n",
            "SDP assembling time: 1.427608148 seconds.\n",
            "Solving the SDP...\n",
            "Problem\n",
            "  Name                   :                 \n",
            "  Objective sense        : maximize        \n",
            "  Type                   : CONIC (conic optimization problem)\n",
            "  Constraints            : 3486            \n",
            "  Affine conic cons.     : 0               \n",
            "  Disjunctive cons.      : 0               \n",
            "  Cones                  : 0               \n",
            "  Scalar variables       : 82              \n",
            "  Matrix variables       : 161 (scalarized: 282666)\n",
            "  Integer variables      : 0               \n",
            "\n",
            "Optimizer started.\n",
            "Presolve started.\n",
            "Linear dependency checker started.\n",
            "Linear dependency checker terminated.\n",
            "Eliminator started.\n",
            "Freed constraints in eliminator : 0\n",
            "Eliminator terminated.\n",
            "Eliminator - tries                  : 1                 time                   : 0.00            \n",
            "Lin. dep.  - tries                  : 1                 time                   : 0.00            \n",
            "Lin. dep.  - primal attempts        : 1                 successes              : 1               \n",
            "Lin. dep.  - dual attempts          : 0                 successes              : 0               \n",
            "Lin. dep.  - primal deps.           : 0                 dual deps.             : 0               \n",
            "Presolve terminated. Time: 0.00    \n",
            "GP based matrix reordering started.\n",
            "GP based matrix reordering terminated.\n",
            "Optimizer  - threads                : 1               \n",
            "Optimizer  - solved problem         : the primal      \n",
            "Optimizer  - Constraints            : 3486            \n",
            "Optimizer  - Cones                  : 61              \n",
            "Optimizer  - Scalar variables       : 223               conic                  : 222             \n",
            "Optimizer  - Semi-definite variables: 101               scalarized             : 282486          \n",
            "Factor     - setup time             : 6.27            \n",
            "Factor     - dense det. time        : 0.51              GP order time          : 0.04            \n",
            "Factor     - nonzeros before factor : 6.08e+06          after factor           : 6.08e+06        \n",
            "Factor     - dense dim.             : 0                 flops                  : 1.76e+10        \n",
            "ITE PFEAS    DFEAS    GFEAS    PRSTATUS   POBJ              DOBJ              MU       TIME  \n",
            "0   3.0e+04  1.0e+00  1.0e+00  0.00e+00   -0.000000000e+00  -0.000000000e+00  1.0e+00  6.70  \n",
            "1   7.2e+02  2.4e-02  1.4e-01  -9.90e-01  3.673683969e-01   -3.272438672e+01  2.4e-02  14.85 \n",
            "2   2.0e+02  6.6e-03  5.3e-02  -6.58e-01  9.271865341e+01   2.910020735e+01   6.6e-03  20.24 \n",
            "3   1.7e+02  5.6e-03  4.3e-02  -2.72e-02  1.322111228e+03   1.263543241e+03   5.6e-03  24.22 \n",
            "4   1.2e+02  4.1e-03  3.0e-02  1.68e-03   1.361038513e+04   1.355710385e+04   4.1e-03  28.19 \n",
            "5   2.5e+01  8.4e-04  2.8e-03  2.64e-01   2.416951970e+04   2.415865527e+04   8.4e-04  33.58 \n",
            "6   7.3e+00  2.5e-04  6.3e-04  3.89e-01   2.358561122e+04   2.357924518e+04   2.5e-04  37.68 \n",
            "7   2.0e+00  6.6e-05  1.7e-04  6.23e-02   2.039411136e+04   2.038769788e+04   6.6e-05  41.77 \n",
            "8   6.4e-01  2.2e-05  5.7e-05  6.19e-01   1.606572485e+04   1.605887609e+04   2.2e-05  47.75 \n",
            "9   1.6e-01  5.5e-06  1.3e-05  1.00e+00   9.992565324e+03   9.987013064e+03   5.5e-06  53.37 \n",
            "10  3.6e-02  1.2e-06  1.8e-06  1.55e-01   4.377261074e+03   4.374966105e+03   1.2e-06  58.25 \n",
            "11  7.1e-03  2.4e-07  1.2e-07  6.34e-01   1.026724747e+03   1.026484272e+03   2.4e-07  63.06 \n",
            "12  1.7e-03  5.7e-08  8.6e-09  1.53e+00   2.119121659e+02   2.118888960e+02   5.7e-08  67.34 \n",
            "13  2.7e-04  9.2e-09  8.0e-10  1.18e+00   3.888697273e+01   3.887954010e+01   9.2e-09  72.27 \n",
            "14  2.2e-04  7.5e-09  6.1e-10  4.33e-01   3.323661025e+01   3.322993243e+01   7.5e-09  76.65 \n",
            "15  7.9e-06  2.7e-10  3.5e-12  1.04e+00   1.036420199e+00   1.036251693e+00   2.7e-10  80.78 \n",
            "16  2.0e-08  2.3e-11  5.0e-16  1.00e+00   3.539031136e-03   3.538435008e-03   8.3e-13  85.66 \n",
            "17  1.1e-07  2.7e-09  1.5e-19  1.00e+00   1.606250811e-05   1.606133854e-05   1.6e-15  109.55\n",
            "Optimizer terminated. Time: 109.56  \n",
            "\n",
            "SDP solving time: 110.071122312 seconds.\n",
            "optimum = 1.606250810986835e-5\n",
            "Found a locally optimal solution by Ipopt, giving an upper bound: 0.35337448.\n",
            "The relative optimality gap is: 35.335842%.\n",
            "[35.53574072607146, 34.35756331241532, 33.53266769923289, 33.23311625732267, 33.16446991174791, 33.25925389567924, 33.610634530062065, 35.54687519504235, 39.00541181391087, 40.5055972696039, 41.522013704826286, 42.07085091153864, 42.69157920856819, 42.02857372793647, 41.39590371896542, 41.15457646880681, 41.06738340034062, 41.04861953423973, 41.0798412522175, 41.191737417491154, 41.49429449755534, 36.98550238342644, 34.00354023081599, 33.00527393761616, 33.002308081755665, 33.00162841496781, 33.002566870254256, 32.01594687653527, 34.01531559599052, 40.98025160211793, 40.995104923461426, 41.99526746242403, 42.00070149417366, 43.9870453386987, 42.000282908197384, 41.00391983880165, 41.001530460087196, 41.00066716237961, 41.00048138152713, 41.00079050744769, 41.00189839027219, 1.0e-10, 1.44976165735498, -0.35402308159933504, -0.5273937616167419, -0.23080817556701894, -0.16284149678010992, -0.2566870254249949, -1.5946876535268144, -1.5315595990518363, 1.9748397882070532, 0.4895076538575148, 0.4732537575977413, -0.07014941736498415, 1.2954661301305, -0.028290819739083754, -0.3919838801637799, -0.15304600871962082, -0.06671623796102195, -0.04813815271260203, -0.07905074476981427, -0.18983902721897755, -1.4391906805400994, -1.0772550591688208, -0.5458519541461317, -0.3127466250631397, -0.14881208186818745, 0.10708837154934242, 1.6893674792384956, 3.1974415682910498, 1.21368713722025, 0.7188991173219107, 0.24385421710078686, 0.3117140479202115, -0.9765790358746628, -0.9413737282987505, -0.5453839503859224, -0.3894771979614682, -0.3204075545307801, -0.27028414813886426, -0.1898390272180584, 1.0073450914924262]*********************************** TSSOS ***********************************\n",
            "Version 1.0.0, developed by Jie Wang, 2020--2024\n",
            "TSSOS is launching...\n",
            "Starting to compute the block structure...\n",
            "-----------------------------------------------------------------------------\n",
            "The sizes of PSD blocks:\n",
            "[3, 2, 1]\n",
            "[20, 60, 1]\n",
            "-----------------------------------------------------------------------------\n",
            "Obtained the block structure in 0.005902557 seconds.\n",
            "The maximal size of blocks is 3.\n",
            "Assembling the SDP...\n",
            "There are 3486 affine constraints.\n",
            "SDP assembling time: 1.456165138 seconds.\n",
            "Solving the SDP...\n",
            "Problem\n",
            "  Name                   :                 \n",
            "  Objective sense        : maximize        \n",
            "  Type                   : CONIC (conic optimization problem)\n",
            "  Constraints            : 3486            \n",
            "  Affine conic cons.     : 0               \n",
            "  Disjunctive cons.      : 0               \n",
            "  Cones                  : 0               \n",
            "  Scalar variables       : 82              \n",
            "  Matrix variables       : 161 (scalarized: 282666)\n",
            "  Integer variables      : 0               \n",
            "\n",
            "Optimizer started.\n",
            "Presolve started.\n",
            "Linear dependency checker started.\n",
            "Linear dependency checker terminated.\n",
            "Eliminator started.\n",
            "Freed constraints in eliminator : 0\n",
            "Eliminator terminated.\n",
            "Eliminator - tries                  : 1                 time                   : 0.00            \n",
            "Lin. dep.  - tries                  : 1                 time                   : 0.00            \n",
            "Lin. dep.  - primal attempts        : 1                 successes              : 1               \n",
            "Lin. dep.  - dual attempts          : 0                 successes              : 0               \n",
            "Lin. dep.  - primal deps.           : 0                 dual deps.             : 0               \n",
            "Presolve terminated. Time: 0.00    \n",
            "GP based matrix reordering started.\n",
            "GP based matrix reordering terminated.\n",
            "Optimizer  - threads                : 1               \n"
          ]
        }
      ]
    },
    {
      "cell_type": "markdown",
      "source": [
        "## **6.3. Save Krebs cycle TSSOS test results**"
      ],
      "metadata": {
        "id": "b36VL94_k14O"
      }
    },
    {
      "cell_type": "code",
      "source": [
        "CSV.write(\"Krebs_cycle_TSSOS_d1.csv\", opt)\n",
        "opt"
      ],
      "metadata": {
        "id": "xQkmrVxA4IaM"
      },
      "execution_count": null,
      "outputs": []
    },
    {
      "cell_type": "markdown",
      "source": [
        "# __Step 7: NCTSSOS_Krebs cycle__\n",
        "* Function timing"
      ],
      "metadata": {
        "id": "I6eop4z6YhFk"
      }
    },
    {
      "cell_type": "code",
      "execution_count": null,
      "metadata": {
        "scrolled": true,
        "id": "7Layd5MHsDJ-",
        "outputId": "17d52b95-0b16-43a0-ca23-2b6832bd3adc",
        "colab": {
          "base_uri": "https://localhost:8080/"
        }
      },
      "outputs": [
        {
          "output_type": "execute_result",
          "data": {
            "text/plain": [
              "timing (generic function with 1 method)"
            ]
          },
          "metadata": {},
          "execution_count": 7
        }
      ],
      "source": [
        "function timing(T,level)\n",
        "    #T=length(Y)\n",
        "    start=rand(0:100)\n",
        "    Y=ts[start+1:start+T]\n",
        "\n",
        "    @ncpolyvar G Fdash p[1:T] q[1:T] f[1:T+1] m[1:T+1]; # all variables are assumed to be nc\n",
        "    var=vcat(m,f,p,q,G,Fdash);\n",
        "\n",
        "    # constraints\n",
        "    ine1 = [f[i] - Fdash*m[i] - p[i] for i in 1:T];\n",
        "    ine2 = [- f[i] + Fdash*m[i] + p[i] for i in 1:T];\n",
        "    ine3 = [m[i+1] - G*m[i] - q[i] for i in 1:T];\n",
        "    ine4 = [-m[i+1] + G*m[i] + q[i] for i in 1:T];\n",
        "\n",
        "    #objective\n",
        "    obj=sum((Y[i]-f[i])^2 for i in 1:T)+ 0.01*sum(p[i]^2 for i in 1:T) +0.01*sum(q[i]^2 for i in 1:T) #+ p[T+1]^2 + q[T]^2 #+ 0.0001*sum(p[i]^2 for i in 1:T); #+0.1*q[i]^2\n",
        "\n",
        "    # pop\n",
        "    pop=[obj;vcat(ine1,ine2,ine3,ine4)]\n",
        "\n",
        "    # solve model\n",
        "    tssos_first = nctssos.nctssos_first\n",
        "    return @elapsed nctssos_first(pop,var,level,numeq=0,TS=\"MD\", obj=\"trace\")\n",
        "end"
      ]
    },
    {
      "cell_type": "markdown",
      "source": [
        "## **7.1. Save NCTSSOS runtime**"
      ],
      "metadata": {
        "id": "vZfyAqBNmaBR"
      }
    },
    {
      "cell_type": "code",
      "execution_count": null,
      "metadata": {
        "id": "iyUS27bpsDJ-",
        "outputId": "a34712e9-1021-464a-d955-45e2b49b1220",
        "colab": {
          "base_uri": "https://localhost:8080/",
          "height": 384
        }
      },
      "outputs": [
        {
          "output_type": "error",
          "ename": "LoadError",
          "evalue": "MethodError: no method matching *(::Nothing, ::Vector{UInt16})\n\u001b[0mClosest candidates are:\n\u001b[0m  *(::Any, ::Any, \u001b[91m::Any\u001b[39m, \u001b[91m::Any...\u001b[39m) at operators.jl:591\n\u001b[0m  *(\u001b[91m::StridedMatrix{T}\u001b[39m, ::StridedVector{S}) where {T<:Union{Float32, Float64, ComplexF32, ComplexF64}, S<:Real} at /usr/local/share/julia/stdlib/v1.8/LinearAlgebra/src/matmul.jl:49\n\u001b[0m  *(\u001b[91m::StridedMatrix{var\"#s31\"} where var\"#s31\"<:MutableArithmetics.AbstractMutable\u001b[39m, ::StridedVector{var\"#s37\"} where var\"#s37\") at ~/.julia/packages/MutableArithmetics/umkRQ/src/dispatch.jl:359\n\u001b[0m  ...",
          "traceback": [
            "MethodError: no method matching *(::Nothing, ::Vector{UInt16})\n\u001b[0mClosest candidates are:\n\u001b[0m  *(::Any, ::Any, \u001b[91m::Any\u001b[39m, \u001b[91m::Any...\u001b[39m) at operators.jl:591\n\u001b[0m  *(\u001b[91m::StridedMatrix{T}\u001b[39m, ::StridedVector{S}) where {T<:Union{Float32, Float64, ComplexF32, ComplexF64}, S<:Real} at /usr/local/share/julia/stdlib/v1.8/LinearAlgebra/src/matmul.jl:49\n\u001b[0m  *(\u001b[91m::StridedMatrix{var\"#s31\"} where var\"#s31\"<:MutableArithmetics.AbstractMutable\u001b[39m, ::StridedVector{var\"#s37\"} where var\"#s37\") at ~/.julia/packages/MutableArithmetics/umkRQ/src/dispatch.jl:359\n\u001b[0m  ...",
            "",
            "Stacktrace:",
            " [1] polys_info(pop::Vector{Polynomial{false, Float64}}, x::Vector{PolyVar{false}})",
            "   @ NCTSSOS ~/.julia/packages/NCTSSOS/qNl9W/src/nccpop.jl:60",
            " [2] #nctssos_first#51",
            "   @ ~/.julia/packages/NCTSSOS/qNl9W/src/nccpop.jl:39 [inlined]",
            " [3] macro expansion",
            "   @ ./timing.jl:382 [inlined]",
            " [4] timing(T::Int64, level::Int64)",
            "   @ Main ./In[12]:22",
            " [5] top-level scope",
            "   @ ./In[16]:7"
          ]
        }
      ],
      "source": [
        "function runtime_NCTSSOS()\n",
        "    for level in 1:2\n",
        "        meanO=Float64[]\n",
        "        stdO=Float64[]\n",
        "        for T in 5:30\n",
        "            rtime=Float64[]\n",
        "            for r in 1:3\n",
        "                run_tem=timing(T,level)\n",
        "                print(run_tem)\n",
        "                push!(rtime,copy(run_tem))\n",
        "            end\n",
        "            push!(meanO,mean(copy(rtime)))\n",
        "            push!(stdO,std(copy(rtime)))\n",
        "        end\n",
        "        writedlm( string(\"krebs_cycle_NCTSSOS_k\",level,\".csv\"),hcat(collect(5:30),meanO,stdO), ',')\n",
        "    end\n",
        "    writedlm( \"Krebs_cycle_opt.csv\", opt, ',')\n",
        "end\n",
        "runtime_NCTSSOS()"
      ]
    },
    {
      "cell_type": "markdown",
      "source": [],
      "metadata": {
        "id": "FGJ0YwK5mUB7"
      }
    },
    {
      "cell_type": "code",
      "execution_count": null,
      "metadata": {
        "id": "BfnB-SONsDJ-",
        "colab": {
          "base_uri": "https://localhost:8080/",
          "height": 124
        },
        "outputId": "127102e3-253a-4cad-c4de-0150a492f781"
      },
      "outputs": [
        {
          "output_type": "error",
          "ename": "LoadError",
          "evalue": "UndefVarError: meanO not defined",
          "traceback": [
            "UndefVarError: meanO not defined",
            "",
            "Stacktrace:",
            " [1] top-level scope",
            "   @ In[15]:1"
          ]
        }
      ],
      "source": [
        "writedlm( string(\"Krebs_cycle_NCTSSOS_k\",2,\".csv\"),hcat(collect(5:24),meanO,stdO), ',')"
      ]
    },
    {
      "cell_type": "markdown",
      "source": [
        "# <img src=\"https://github.com/JuliaLang/julia-logo-graphics/raw/master/images/julia-logo-color.png\" height=\"60\" /> Need Help?\n",
        "\n",
        "* Learning: https://julialang.org/learning/\n",
        "* Documentation: https://docs.julialang.org/\n",
        "* Questions & Discussions:\n",
        "  * https://discourse.julialang.org/\n",
        "  * http://julialang.slack.com/\n",
        "  * https://stackoverflow.com/questions/tagged/julia\n",
        "\n",
        "If you ever ask for help or file an issue about Julia, you should generally provide the output of `versioninfo()`."
      ],
      "metadata": {
        "id": "nFXG2dxlivvI"
      }
    },
    {
      "cell_type": "code",
      "source": [
        "import pandas as pd\n",
        "import os\n",
        "\n",
        "# 原始文件位置\n",
        "source_path = \"/content/gdrive/MyDrive/Colab Notebooks/TSSOS/krebs_cycle/\"\n",
        "# 保存位置\n",
        "save_path = \"/content/gdrive/MyDrive/Colab Notebooks/TSSOS/krebs_cycle/\"\n",
        "if not os.path.exists(save_path):\n",
        "    os.mkdir(save_path)\n",
        "pathDir = os.listdir(source_path)\n",
        "Name = []\n",
        "End = []\n",
        "\n",
        "\n",
        "# 获得文件的名称和后缀\n",
        "def getName(workdir):\n",
        "    for filename in os.listdir(workdir):\n",
        "        split_file = os.path.splitext(filename)\n",
        "        # print(split_file[0])\n",
        "        Name.append(split_file[0])\n",
        "        End.append(split_file[1])\n",
        "    return Name, End\n",
        "\n",
        "\n",
        "name, end = getName(source_path)\n",
        "# print(Name, End)\n",
        "\n",
        "TsvFile = os.listdir(source_path)\n",
        "# print(len(TsvFile))\n",
        "# print(TsvFile)\n",
        "\n",
        "# 循环将tsv文件转为csv文件\n",
        "for long in range(len(TsvFile)):\n",
        "    with open(source_path + TsvFile[long], 'r', encoding='utf-8') as tsv_file:\n",
        "        # print(tsv_file)\n",
        "        if end[long] == '.tsv':\n",
        "            pd_all = pd.read_csv(tsv_file, sep='\\t')\n",
        "            pd_all.to_csv(save_path + name[long] + '.csv', index=False, sep=',')\n",
        "\n",
        "CsvFile = os.listdir(save_path)\n",
        "# print(len(CsvFile))\n",
        "# print(CsvFile)\n",
        "\n",
        "# 循环合并csv文件\n",
        "# f2是我的label文件\n",
        "for long in range(len(CsvFile)):\n",
        "    f2 = pd.read_csv('/content/gdrive/MyDrive/Colab Notebooks/TSSOS/krebs_cycle/series1713272059020.csv')\n",
        "    with open(save_path + CsvFile[long], 'r', encoding='utf-8') as csv_file:\n",
        "        # print(csv_file)\n",
        "        f1 = pd.read_csv(csv_file)\n",
        "        file = [f1, f2]\n",
        "        # print(file)\n",
        "        # axis=1 列合并\n",
        "\t\t# axis=0 行合并（默认）\n",
        "        train = pd.concat(file, axis=1)\n",
        "        train.to_csv(save_path + name[long] + '.csv', index=False, sep=',')\n",
        "\n"
      ],
      "metadata": {
        "id": "3wpXhHIbeoow"
      },
      "execution_count": null,
      "outputs": []
    }
  ],
  "metadata": {
    "kernelspec": {
      "display_name": "Python 3",
      "name": "python3"
    },
    "colab": {
      "provenance": [],
      "toc_visible": true
    },
    "language_info": {
      "name": "python"
    }
  },
  "nbformat": 4,
  "nbformat_minor": 0
}
