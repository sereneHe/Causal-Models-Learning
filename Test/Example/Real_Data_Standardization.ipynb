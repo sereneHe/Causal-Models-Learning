{
  "cells": [
    {
      "cell_type": "markdown",
      "id": "kq1OSo5X0whe",
      "metadata": {
        "id": "kq1OSo5X0whe"
      },
      "source": [
        "#ANMNCPOP_Real_Data_Standardization\n",
        "Welcome to the example for real data standardization in causal discovery!\n",
        "\n",
        "# Input Data Form:\n",
        "-------------------------------------------------------\n",
        "The data can be any format that is supported by the Real_Data_Standardization() function, currently including tar.gz, csv and tsv.\n",
        "\n",
        "**Two Dimensions Causality Data:**\n",
        "* **tar.gz file**\n",
        "\n",
        "Archiving and compressing causality files and folders as a tar.gz file.\n",
        "\n",
        "* **csv files**\n",
        "\n",
        "Raw data and casaul matrix are saved in separate csv files.\n",
        "\n",
        "**Multiple Features Time Series:**\n",
        "* **tsv files**\n",
        "\n",
        "Single sample trajectory with multiple features Time Series as shape of (F features, T timeSets) - incluing S smples, i.e. S number of .tsv files\n",
        "\n",
        "# Standardization process:\n",
        "-------------------------------------------------------\n",
        "* Causality Data stored as NumPy array x and y under a npz file.\n",
        "* For multiple features time series data, all time series are reorganized as a (Feature_num, Sample_num, Time_sets) three-dims array for applying ANM-NCPOP.\n",
        "\n",
        "# Output Data Form\n",
        "-------------------------------------------------------\n",
        "For further analysis, all useful infomation is extracted and saved as **npz file** storing causality Data as NumPy array x and y.\n",
        "\n",
        "* **x**\n",
        "\n",
        "An array saves F features and S smples.\n",
        "\n",
        "Or an array saves F features, S smples and T timesets Time Series.\n",
        "\n",
        "* **y**\n",
        "\n",
        "A causal matrix is saved as shape of (F features, F features)\n",
        "\n",
        "Learned underlying causal relationships between obeservations, according to expert experience or ground true causality.\n",
        "\n",
        "# Examples\n",
        "-------------------------------------------------------\n",
        "In our paper, we tested Telephone, Microwave and Krebs_Cycle data in respect to testing orignal two dimensions data and multi-features time series.\n",
        "\n",
        "* Telephone\n",
        "\n",
        "Rawdata is saved as real_dataset_processed.csv, and\n",
        "the causal_matrix is saved as true_graph.csv.\n",
        "\n",
        "* Microwave\n",
        "\n",
        "Rawdata is saved in Alarm.csv and causal_matrix is saved in DAG.npy.\n",
        "\n",
        "Examples: 25V_474N_Microwave.tar.gz, 24V_439N_Microwave.tar.gz, 18V_55N_Wireless.tar.gz.\n",
        "\n",
        "* Krebs_Cycle\n",
        "\n",
        "Multiple features time series are saved under file Krebs_Cycle_TS. The causal_matrix is saved as true_graph.csv.\n",
        "\n",
        "Krebs_Cycle Output:\n",
        "* __x__: is an array in shape(F, S, T), where the number of row F is features_num, the number of column S is smples_num and the number of deep T is timesets.\n",
        "* __y__: is a nonsymmetric square matrix.\n"
      ]
    },
    {
      "cell_type": "markdown",
      "id": "Po_zr02dCTVJ",
      "metadata": {
        "id": "Po_zr02dCTVJ"
      },
      "source": [
        "#__Get start__\n",
        "\n",
        "\n",
        "* mount drive\n",
        "* set envirment"
      ]
    },
    {
      "cell_type": "code",
      "execution_count": null,
      "id": "PquTJd-1eTSe",
      "metadata": {
        "id": "PquTJd-1eTSe",
        "colab": {
          "base_uri": "https://localhost:8080/"
        },
        "outputId": "20deb445-6762-48e8-db40-ed1b89a0ddd8"
      },
      "outputs": [
        {
          "output_type": "stream",
          "name": "stdout",
          "text": [
            "Mounted at /content/drive\n"
          ]
        }
      ],
      "source": [
        "from google.colab import drive\n",
        "drive.mount('/content/drive')\n",
        "\n",
        "import os\n",
        "os.chdir(\"/content/drive/MyDrive/Colab Notebooks/NCPOP/Causal_Models_Learning/Test/\")\n",
        "# os.chdir(\"/content/drive/MyDrive/Colab Notebooks/NCPOP/\")"
      ]
    },
    {
      "cell_type": "code",
      "execution_count": 1,
      "id": "DINBSSHDde5W",
      "metadata": {
        "id": "DINBSSHDde5W"
      },
      "outputs": [],
      "source": [
        "# from Data_Standardization import*\n",
        "from pickle import TRUE\n",
        "import os\n",
        "import re\n",
        "import numpy as np\n",
        "import pandas as pd\n",
        "import tarfile\n",
        "from itertools import combinations\n",
        "import urllib\n",
        "import hashlib\n",
        "from urllib.error import URLError\n",
        "USER_AGENT = \"gcastle/dataset\"\n",
        "\n",
        "def _check_exist(root, filename, files):\n",
        "    path_exist = os.path.join(root, filename.split('.')[0])\n",
        "    processed_folder_exists = os.path.exists(path_exist)\n",
        "    if not processed_folder_exists:\n",
        "        return False\n",
        "\n",
        "    return all(\n",
        "        _check_integrity(os.path.join(path_exist, file)) for file in files\n",
        "    )\n",
        "\n",
        "def _read_data(root, filename, files):\n",
        "    path_exist = os.path.join(root, filename.split('.')[0])\n",
        "\n",
        "    result = []\n",
        "    for file in files:\n",
        "        if file.split('.')[-1] == 'csv':\n",
        "            file_path = os.path.join(path_exist, file)\n",
        "            result.append(pd.read_csv(file_path))\n",
        "        elif file.split('.')[-1] == 'npy':\n",
        "            file_path = os.path.join(path_exist, file)\n",
        "            result.append(np.load(file_path))\n",
        "\n",
        "    if len(result) == 2:\n",
        "        result.append(None)\n",
        "\n",
        "    return result\n",
        "\n",
        "def _check_integrity(fpath, md5=None):\n",
        "    if not os.path.isfile(fpath):\n",
        "        return False\n",
        "    if md5 is None:\n",
        "        return True\n",
        "\n",
        "    md5f = hashlib.md5()\n",
        "    with open(fpath, 'rb') as f:\n",
        "        md5f.update(f.read())\n",
        "\n",
        "    return md5 == md5f.hexdigest()\n",
        "\n",
        "\n",
        "def _download(root, url, filename, md5):\n",
        "    \"\"\"Download the datasets if it doesn't exist already.\"\"\"\n",
        "\n",
        "    os.makedirs(root, exist_ok=True)\n",
        "\n",
        "    # download files\n",
        "    for mirror in url:\n",
        "        filepath = \"{}{}\".format(mirror, filename)\n",
        "        savegz = os.path.join(root, filename)\n",
        "        try:\n",
        "            print(\"Downloading {}\".format(filepath))\n",
        "            response = urllib.request.urlopen( \\\n",
        "                urllib.request.Request( \\\n",
        "                    filepath, headers={\"User-Agent\": USER_AGENT}))\n",
        "            with open(savegz, \"wb\") as fh:\n",
        "                fh.write(response.read())\n",
        "\n",
        "            tar = tarfile.open(savegz)\n",
        "            names = tar.getnames()\n",
        "            for name in names:\n",
        "                tar.extract(name, path=root)\n",
        "            tar.close()\n",
        "        except URLError as error:\n",
        "            print(\"Failed to download (trying next):\\n{}\".format(error))\n",
        "            continue\n",
        "        break\n",
        "    else:\n",
        "        raise RuntimeError(\"Error downloading {}\".format(filename))\n",
        "\n",
        "    # check integrity of downloaded file\n",
        "    if not _check_integrity(savegz, md5):\n",
        "        raise RuntimeError(\"File not found or corrupted.\")\n",
        "\n",
        "def load_dataset(name='IID_Test', root=None, download=False):\n",
        "    \"\"\"\n",
        "    A function for loading some well-known datasets.\n",
        "\n",
        "    Parameters\n",
        "    ----------\n",
        "    name: class, default='IID_Test'\n",
        "        Dataset name, independent and identically distributed (IID),\n",
        "        Topological Hawkes Process (THP) and real datasets.\n",
        "    root: str\n",
        "        Root directory in which the dataset will be saved.\n",
        "    download: bool\n",
        "        If true, downloads the dataset from the internet and\n",
        "        puts it in root directory. If dataset is already downloaded, it is not\n",
        "        downloaded again.\n",
        "\n",
        "    Return\n",
        "    ------\n",
        "    out: tuple\n",
        "        true_graph_matrix: numpy.matrix\n",
        "            adjacency matrix for the target causal graph.\n",
        "        topology_matrix: numpy.matrix\n",
        "            adjacency matrix for the topology.\n",
        "        data: pandas.core.frame.DataFrame\n",
        "            standard trainning dataset.\n",
        "    \"\"\"\n",
        "\n",
        "    if name not in DataSetRegistry.meta.keys():\n",
        "        raise ValueError('The dataset {} has not been registered, you can use'\n",
        "                         ' ''castle.datasets.__builtin_dataset__'' to get registered '\n",
        "                         'dataset list'.format(name))\n",
        "    loader = DataSetRegistry.meta.get(name)()\n",
        "    loader.load(root, download)\n",
        "    return loader.data, loader.true_graph_matrix, loader.topology_matrix\n",
        "\n",
        "\n",
        "class BuiltinDataSet(object):\n",
        "\n",
        "    def __init__(self):\n",
        "        self._data = None\n",
        "        self._true_graph_matrix = None\n",
        "        self._topology_matrix = None\n",
        "\n",
        "    def load(self, *args, **kwargs):\n",
        "        raise NotImplementedError\n",
        "\n",
        "    @property\n",
        "    def data(self):\n",
        "        return self._data\n",
        "\n",
        "    @property\n",
        "    def true_graph_matrix(self):\n",
        "        return self._true_graph_matrix\n",
        "\n",
        "    @property\n",
        "    def topology_matrix(self):\n",
        "        return self._topology_matrix\n",
        "\n",
        "class RealDataSet(BuiltinDataSet):\n",
        "\n",
        "    def __init__(self):\n",
        "        super().__init__()\n",
        "        self.url = None\n",
        "        self.tar_file = None\n",
        "        self.md5 = None\n",
        "        self.file_list = None\n",
        "\n",
        "    def load(self, root=None, download=False):\n",
        "\n",
        "        if root is None:\n",
        "            root = './'\n",
        "\n",
        "        if _check_exist(root, self.tar_file, self.file_list):\n",
        "            self._data, self._true_graph_matrix, self._topology_matrix = \\\n",
        "                _read_data(root, self.tar_file, self.file_list)\n",
        "            return\n",
        "\n",
        "        if download:\n",
        "            _download(root, self.url, self.tar_file, self.md5)\n",
        "\n",
        "        if not _check_exist(root, self.tar_file, self.file_list):\n",
        "            raise RuntimeError('Dataset not found.' +\n",
        "                               ' You can use download=True to download it.')\n",
        "\n",
        "        self._data, self._true_graph_matrix, self._topology_matrix = \\\n",
        "            _read_data(root, self.tar_file, self.file_list)\n",
        "\n",
        "\n",
        "class V18_N55_Wireless(RealDataSet):\n",
        "    \"\"\"\n",
        "    A function for loading the real dataset: V18_N55_Wireless\n",
        "    url: https://raw.githubusercontent.com/gcastle-hub/dataset/master/alarm/18V_55N_Wireless.tar.gz\n",
        "    \"\"\"\n",
        "\n",
        "    def __init__(self):\n",
        "        super().__init__()\n",
        "        self.url = ['https://raw.githubusercontent.com/gcastle-hub/dataset/master/alarm/']\n",
        "        self.tar_file = \"18V_55N_Wireless.tar.gz\"\n",
        "        self.md5 = \"36ee135b86c8dbe09668d9284c23575b\"\n",
        "        self.file_list = ['Alarm.csv', 'DAG.npy']\n",
        "\n",
        "\n",
        "class V24_N439_Microwave(RealDataSet):\n",
        "    \"\"\"\n",
        "    A function for loading the real dataset: V24_N439_Microwave\n",
        "    url: https://raw.githubusercontent.com/gcastle-hub/dataset/master/alarm/24V_439N_Microwave.tar.gz\n",
        "    \"\"\"\n",
        "\n",
        "    def __init__(self):\n",
        "        super().__init__()\n",
        "        self.url = ['https://raw.githubusercontent.com/gcastle-hub/dataset/master/alarm/']\n",
        "        self.tar_file = \"24V_439N_Microwave.tar.gz\"\n",
        "        self.md5 = \"b4c8b32d34c04a86aa93c7259f7d086c\"\n",
        "        self.file_list = ['Alarm.csv', 'DAG.npy', 'Topology.npy']\n",
        "\n",
        "\n",
        "class V25_N474_Microwave(RealDataSet):\n",
        "    \"\"\"\n",
        "    A function for loading the real dataset: V25_N474_Microwave\n",
        "    url: https://raw.githubusercontent.com/gcastle-hub/dataset/master/alarm/25V_474N_Microwave.tar.gz\n",
        "    \"\"\"\n",
        "\n",
        "    def __init__(self):\n",
        "        super().__init__()\n",
        "        self.url = ['https://raw.githubusercontent.com/gcastle-hub/dataset/master/alarm/']\n",
        "        self.tar_file = \"25V_474N_Microwave.tar.gz\"\n",
        "        self.md5 = \"51f43ed622d4b44ef6daf8fabf81e162\"\n",
        "        self.file_list = ['Alarm.csv', 'DAG.npy', 'Topology.npy']\n",
        "\n",
        "\n",
        "class DataSetRegistry(object):\n",
        "    '''\n",
        "    A class for resgistering the datasets, in which each dataset\n",
        "    can be loaded by 'load_dataset' api.\n",
        "    '''\n",
        "\n",
        "    meta = {'V18_N55_Wireless': V18_N55_Wireless,\n",
        "            'V24_N439_Microwave': V24_N439_Microwave,\n",
        "            'V25_N474_Microwave': V25_N474_Microwave}\n",
        "\n",
        "\n",
        "\n",
        "class Real_Data_Standardization(object):\n",
        "    '''\n",
        "    A class for preparing data to simulate random (causal) DAG.\n",
        "\n",
        "    Parameters\n",
        "    ------------------------------------------------------------------------------------------------\n",
        "    File_PATH: str\n",
        "               Read file path\n",
        "    File_NAME: str\n",
        "               Read data name\n",
        "\n",
        "    Returns\n",
        "    ------------------------------------------------------------------------------------------------\n",
        "    Input data: npz\n",
        "            Raw_data：[d, n, T] sample time series\n",
        "            true_dag: true_causal_matrix\n",
        "    File_PATH_Datasets:\n",
        "            Route of saving test data\n",
        "\n",
        "    Examples\n",
        "    -------------------------------------------------------------------------------------------------\n",
        "    >>> File_PATH = \"../Test/Examples/Test_data/\"\n",
        "    >>> file_name = 'Telephone'\n",
        "    >>> dt = Real_Data_Standardization(File_PATH, file_name)\n",
        "    >>> dt.standardize_data()\n",
        "\n",
        "    >>> File_PATH = \"../Test/Datasets/Synthetic datasets/Krebs_Cycle/\"\n",
        "    >>> file_name = 'Krebs_Cycle'\n",
        "    >>> dt = Real_Data_Standardization(File_PATH, file_name)\n",
        "    >>> dt.standardize_data()\n",
        "\n",
        "    >>> File_PATH = \"../Test/Datasets/Real_data/Microwave/\"\n",
        "    >>> file_name = 'V24_N439_Microwave'\n",
        "    >>> dt = Real_Data_Standardization(File_PATH, file_name)\n",
        "    >>> dt.standardize_data()\n",
        "    '''\n",
        "\n",
        "    def __init__(self, File_PATH='Kreb_Cycles/', filename='Krebs_Cycle'):\n",
        "        self.File_PATH = File_PATH\n",
        "        self.filename = filename\n",
        "\n",
        "    def standardize_data(self):\n",
        "        ################################################  Create Ground Tier Folders #############################################\n",
        "        self.File_PATH_Base = self.File_PATH +'Result_'+ self.filename +'/'\n",
        "\n",
        "        ################################################  Create First Tier Folders #############################################\n",
        "        self.File_PATH_Datasets = self.File_PATH_Base + 'Datasets_'+ self.filename +'/'\n",
        "        if not os.path.exists(self.File_PATH_Datasets):\n",
        "            os.makedirs(self.File_PATH_Datasets)\n",
        "        print('ANM-NCPOP INFO: Created Datasets' + ' File!')\n",
        "\n",
        "        Raw_data = Real_Data_Standardization.Produce_Rawdata(self)[0]\n",
        "        true_dag = Real_Data_Standardization.Produce_Rawdata(self)[1]\n",
        "\n",
        "        # save numpy to npz file\n",
        "        nn = len(true_dag)\n",
        "        ne = np.count_nonzero(true_dag)\n",
        "        data_name = self.filename  +'_'+str(nn)+'Nodes_'+str(ne)+'Edges_TS'\n",
        "        if self.filename in ['IID_Test','THP_Test','V18_N55_Wireless', 'V24_N439_Microwave', 'V25_N474_Microwave']:\n",
        "            topology_matrix_devices = Real_Data_Standardization.Produce_Rawdata(self)[2]\n",
        "            np.savez(self.File_PATH_Datasets + data_name +'.npz', x=Raw_data , y=true_dag , z=topology_matrix_devices)\n",
        "        else:\n",
        "            np.savez(self.File_PATH_Datasets + data_name +'.npz', x=Raw_data , y=true_dag)\n",
        "        print('ANM-NCPOP INFO: Finished '+ data_name+' dataset standardization!')\n",
        "\n",
        "    @staticmethod\n",
        "    def Produce_Rawdata(self):\n",
        "\n",
        "        def readable_File(FilePATH):\n",
        "            read_Dir=os.listdir(FilePATH)\n",
        "            count = 0\n",
        "            readable_F = []\n",
        "            for f in read_Dir:\n",
        "                file = os.path.join(FilePATH, f)\n",
        "                if os.path.isdir(file):\n",
        "                    count = count+1\n",
        "                else:\n",
        "                    readable_F.append(f)\n",
        "            return count,readable_F\n",
        "\n",
        "        self.Read_File = readable_File(self.File_PATH)[1]\n",
        "\n",
        "        # Website data\n",
        "        if self.filename in ['IID_Test','THP_Test','V18_N55_Wireless', 'V24_N439_Microwave', 'V25_N474_Microwave']:\n",
        "            Raw_data, true_dag, topology_matrix_devices  = load_dataset(self.filename, download=True)\n",
        "            return Raw_data, true_dag, topology_matrix_devices\n",
        "\n",
        "        else:\n",
        "            # Check empty files under riute\n",
        "            if len(self.Read_File ) == 0:\n",
        "                raise ValueError('No Data Under the Current Route!')\n",
        "            else:\n",
        "                self.File_PATH_TS = self.File_PATH +self.filename +'_TS/'\n",
        "                File_NAME = []\n",
        "                File_TYPE = []\n",
        "                # Delete files and list readable Files\n",
        "                for i in self.Read_File:\n",
        "                    File_NAME.append(re.split(\"\\.\", i)[0])\n",
        "                    File_TYPE.append(re.split(\"\\.\", i)[1])\n",
        "\n",
        "                ###################################### Deal with Two Dimensions Causality Data ###################################\n",
        "                if self.filename+'.npz' in self.Read_File:\n",
        "                    Test_data = np.load(self.File_PATH + self.filename+'.npz', allow_pickle=True)\n",
        "                    Raw_data = Test_data['x']\n",
        "                    true_dag = Test_data['y']\n",
        "                    return Raw_data, true_dag\n",
        "\n",
        "                elif self.filename+'.tar.gz' in self.Read_File:\n",
        "                    # open file\n",
        "                    file = tarfile.open(self.File_PATH + self.filename + '.tar.gz')\n",
        "                    file_names = file.getnames()\n",
        "                    # extract files\n",
        "                    file.extractall(self.File_PATH)\n",
        "                    file.close()\n",
        "                    Raw_data = np.load(self.File_PATH+file_names[2])\n",
        "                    true_dag = pd.read_csv(self.File_PATH+file_names[3])\n",
        "                    return Raw_data, true_dag\n",
        "\n",
        "                elif self.filename+'.csv' in self.Read_File:\n",
        "                    Raw_data = pd.read_csv(self.File_PATH+ self.filename+'.csv', header=0, index_col=False)\n",
        "                    true_dag = pd.read_csv(self.File_PATH+'true_graph.csv', header=0, index_col=0)\n",
        "                    return Raw_data, true_dag\n",
        "\n",
        "                ################################ Deal with Multi-dimensions Causality Data ###################################\n",
        "                elif os.path.exists(self.File_PATH_TS):\n",
        "                    read_Dir_TS=os.listdir(self.File_PATH_TS)\n",
        "                    true_graph = np.load(self.File_PATH+'true_graph.npz')\n",
        "\n",
        "                    # labels = [\"FUMARATE\", \"GTP\", \"H2O\", \"CIS-ACONITATE\", \"MALATE\",\n",
        "                    # \"OXALOACETATE\", \"FAD\", \"SUCCINYL-COA\", \"NAD\",\n",
        "                    #           \"A-K-GLUTARATE\", \"GDP\", \"NADH\", \"CITRATE\", \"SUCCINATE\",\n",
        "                    # \"ISOCITRATE\", \"ACETY-COA\"]\n",
        "                    #true_dag = pd.DataFrame(true_graph['arr_0'],  index=labels, columns=labels)\n",
        "                    true_dag = pd.DataFrame(true_graph['arr_0'])\n",
        "\n",
        "                    # print(true_dag)\n",
        "                    lds = pd.read_csv(self.File_PATH_TS+ read_Dir_TS[0], delimiter='\\t', index_col=0, header=None)\n",
        "                    feature_name = np.array(lds.index)\n",
        "                    feature_num = len(feature_name)\n",
        "                    sample_num = len(read_Dir_TS)\n",
        "                    T_num = lds.shape[1]\n",
        "                    # if labels == feature_name:\n",
        "                    Raw_data = np.zeros((feature_num, sample_num, T_num))\n",
        "                    for ns in range(sample_num):\n",
        "                        X = pd.read_csv(self.File_PATH_TS+ read_Dir_TS[ns], delimiter='\\t', index_col=0, header=None)\n",
        "                        X_trans = np.transpose(X)\n",
        "                        for fn in range(feature_num):\n",
        "                            Raw_data[fn, ns, :] = list(X_trans[feature_name[fn]])\n",
        "                    return Raw_data, true_dag\n",
        "\n",
        "                else:\n",
        "                    raise ValueError('Unknown input data type.')\n"
      ]
    },
    {
      "cell_type": "code",
      "execution_count": null,
      "id": "NijYqL8iaRSZ",
      "metadata": {
        "id": "NijYqL8iaRSZ"
      },
      "outputs": [],
      "source": [
        "__builtin_dataset__ = DataSetRegistry.meta.keys()"
      ]
    },
    {
      "cell_type": "code",
      "execution_count": null,
      "id": "X8go85wbaRZJ",
      "metadata": {
        "colab": {
          "base_uri": "https://localhost:8080/"
        },
        "id": "X8go85wbaRZJ",
        "outputId": "dc6bca9a-612d-4790-ddf3-cb5c6d15dd45"
      },
      "outputs": [
        {
          "data": {
            "text/plain": [
              "dict_keys(['V18_N55_Wireless', 'V24_N439_Microwave', 'V25_N474_Microwave'])"
            ]
          },
          "execution_count": 7,
          "metadata": {},
          "output_type": "execute_result"
        }
      ],
      "source": [
        "__builtin_dataset__"
      ]
    },
    {
      "cell_type": "code",
      "execution_count": null,
      "id": "xSjM6iP9d3yM",
      "metadata": {
        "id": "xSjM6iP9d3yM"
      },
      "outputs": [],
      "source": [
        "X, true_dag, topology_matrix = load_dataset(name='IID_Test')"
      ]
    },
    {
      "cell_type": "code",
      "execution_count": null,
      "id": "b4kDPtbteNwQ",
      "metadata": {
        "id": "b4kDPtbteNwQ"
      },
      "outputs": [],
      "source": [
        "X, true_causal_matrix, topology_matrix = load_dataset('THP_Test')"
      ]
    },
    {
      "cell_type": "code",
      "execution_count": null,
      "id": "59xnCtjYeN0D",
      "metadata": {
        "id": "59xnCtjYeN0D"
      },
      "outputs": [],
      "source": [
        "X, true_causal_matrix, topology_matrix  = load_dataset('V24_N439_Microwave', download=True)"
      ]
    },
    {
      "cell_type": "code",
      "execution_count": null,
      "id": "DDJ3kkiPeN3-",
      "metadata": {
        "colab": {
          "base_uri": "https://localhost:8080/"
        },
        "id": "DDJ3kkiPeN3-",
        "outputId": "a7a4a78e-ff49-4e70-dce5-04b071edba4b"
      },
      "outputs": [
        {
          "data": {
            "text/plain": [
              "alarm_id               23\n",
              "device_id             438\n",
              "start_timestamp    518368\n",
              "end_timestamp      518368\n",
              "dtype: int64"
            ]
          },
          "execution_count": 56,
          "metadata": {},
          "output_type": "execute_result"
        }
      ],
      "source": [
        "X.max()"
      ]
    },
    {
      "cell_type": "code",
      "execution_count": null,
      "id": "hBwJZ3XpLjwV",
      "metadata": {
        "id": "hBwJZ3XpLjwV"
      },
      "outputs": [],
      "source": []
    },
    {
      "cell_type": "code",
      "execution_count": null,
      "id": "gOVDdxekg9O4",
      "metadata": {
        "colab": {
          "base_uri": "https://localhost:8080/",
          "height": 452
        },
        "id": "gOVDdxekg9O4",
        "outputId": "94970ca2-e9f3-456a-d89c-6a5349029990"
      },
      "outputs": [
        {
          "data": {
            "image/png": "[encoded data removed]",
            "text/plain": [
              "<Figure size 640x480 with 1 Axes>"
            ]
          },
          "metadata": {},
          "output_type": "display_data"
        }
      ],
      "source": [
        "from matplotlib import pyplot as plt\n",
        "X['device_id'].plot(kind='hist', bins=20, title='alarm_id')\n",
        "plt.gca().spines[['top', 'right',]].set_visible(False)"
      ]
    },
    {
      "cell_type": "code",
      "execution_count": null,
      "id": "tM_54dg1fqQl",
      "metadata": {
        "colab": {
          "base_uri": "https://localhost:8080/"
        },
        "id": "tM_54dg1fqQl",
        "outputId": "6ec90726-5eb4-4c7a-c6fd-e49e88624720"
      },
      "outputs": [
        {
          "data": {
            "text/plain": [
              "(24, 24)"
            ]
          },
          "execution_count": 51,
          "metadata": {},
          "output_type": "execute_result"
        }
      ],
      "source": [
        "true_causal_matrix.shape"
      ]
    },
    {
      "cell_type": "code",
      "execution_count": null,
      "id": "iMNT8ZaGfqUp",
      "metadata": {
        "colab": {
          "base_uri": "https://localhost:8080/"
        },
        "id": "iMNT8ZaGfqUp",
        "outputId": "00c9aa24-43e1-44c6-a547-29acbd04da62"
      },
      "outputs": [
        {
          "data": {
            "text/plain": [
              "(439, 439)"
            ]
          },
          "execution_count": 52,
          "metadata": {},
          "output_type": "execute_result"
        }
      ],
      "source": [
        "topology_matrix.shape"
      ]
    },
    {
      "cell_type": "markdown",
      "id": "bLtPEw3od7Oh",
      "metadata": {
        "id": "bLtPEw3od7Oh"
      },
      "source": [
        "## __Test 1: Telephone_55Nodes_587Edges__"
      ]
    },
    {
      "cell_type": "code",
      "execution_count": null,
      "id": "1bzjIMcHdd3R",
      "metadata": {
        "id": "1bzjIMcHdd3R",
        "colab": {
          "base_uri": "https://localhost:8080/"
        },
        "outputId": "0b479339-ae9f-4037-d59f-23513530d484"
      },
      "outputs": [
        {
          "output_type": "stream",
          "name": "stdout",
          "text": [
            "ANM-NCPOP INFO: Created Datasets File!\n",
            "ANM-NCPOP INFO: Finished Telephone_55Nodes_587Edges_TS dataset standardization!\n"
          ]
        }
      ],
      "source": [
        "File_PATH = \"../Test/Examples/Test_data/\"\n",
        "file_name = 'Telephone'\n",
        "dt = Real_Data_Standardization(File_PATH, file_name)\n",
        "dt.standardize_data()"
      ]
    },
    {
      "cell_type": "markdown",
      "id": "joc33E4AeBX6",
      "metadata": {
        "id": "joc33E4AeBX6"
      },
      "source": [
        "## __Test 2: Krebs_Cycle_16Nodes_43Edge__"
      ]
    },
    {
      "cell_type": "code",
      "execution_count": null,
      "id": "5gqa2ZtTeIlL",
      "metadata": {
        "colab": {
          "base_uri": "https://localhost:8080/"
        },
        "id": "5gqa2ZtTeIlL",
        "outputId": "bb8de28b-edae-44d3-a2d8-abb23e9fec69"
      },
      "outputs": [
        {
          "output_type": "stream",
          "name": "stdout",
          "text": [
            "ANM-NCPOP INFO: Created Datasets File!\n",
            "ANM-NCPOP INFO: Finished Krebs_Cycle_16Nodes_43Edges_TS dataset standardization!\n"
          ]
        }
      ],
      "source": [
        "# Krebs_Cycle\n",
        "File_PATH = \"../Test/Datasets/Synthetic datasets/Krebs_Cycle/\"\n",
        "file_name = 'Krebs_Cycle'\n",
        "dt = Real_Data_Standardization(File_PATH, file_name)\n",
        "dt.standardize_data()"
      ]
    },
    {
      "cell_type": "markdown",
      "id": "rD3kwtoVeAW1",
      "metadata": {
        "id": "rD3kwtoVeAW1"
      },
      "source": [
        "## __Test 3: Microwave_25Alarm_474Devices__"
      ]
    },
    {
      "cell_type": "code",
      "execution_count": null,
      "id": "_A_twkRMeFvN",
      "metadata": {
        "colab": {
          "base_uri": "https://localhost:8080/"
        },
        "id": "_A_twkRMeFvN",
        "outputId": "f7ac6b9c-9f38-496b-d8c7-e5997cfd1101"
      },
      "outputs": [
        {
          "output_type": "stream",
          "name": "stdout",
          "text": [
            "ANM-NCPOP INFO: Created Datasets File!\n",
            "ANM-NCPOP INFO: Finished V24_N439_Microwave_24Nodes_137Edges_TS dataset standardization!\n"
          ]
        }
      ],
      "source": [
        "File_PATH = \"../Test/Datasets/Real_data/Microwave/\"\n",
        "file_name = 'V24_N439_Microwave'\n",
        "dt = Real_Data_Standardization(File_PATH, file_name)\n",
        "dt.standardize_data()\n"
      ]
    },
    {
      "cell_type": "markdown",
      "id": "mbQ5MNiNdr6y",
      "metadata": {
        "id": "mbQ5MNiNdr6y"
      },
      "source": [
        "# __Step-by-Step__"
      ]
    },
    {
      "cell_type": "markdown",
      "id": "vK-ciKBQTALM",
      "metadata": {
        "id": "vK-ciKBQTALM"
      },
      "source": [
        "##__Step 1: Standardized Data class__"
      ]
    },
    {
      "cell_type": "code",
      "execution_count": null,
      "id": "URW4L5m4qjw-",
      "metadata": {
        "id": "URW4L5m4qjw-"
      },
      "outputs": [],
      "source": [
        "# from Data_Standardization import*\n",
        "from pickle import TRUE\n",
        "import os\n",
        "import re\n",
        "import numpy as np\n",
        "import pandas as pd\n",
        "import tarfile\n",
        "from itertools import combinations\n",
        "\n",
        "class Real_Data_Standardization(object):\n",
        "    '''\n",
        "    A class for preparing data to simulate random (causal) DAG.\n",
        "\n",
        "    Parameters\n",
        "    ----------\n",
        "    File_PATH: str\n",
        "        Read file path\n",
        "    File_NAME: str\n",
        "        Read data name\n",
        "    '''\n",
        "\n",
        "    def __init__(self, File_PATH, Data_NAME):\n",
        "        self.File_PATH = File_PATH\n",
        "        self.Data_NAME = Data_NAME\n",
        "\n",
        "    def Produce_Rawdata(self):\n",
        "\n",
        "        def readable_File(FilePATH):\n",
        "            read_Dir=os.listdir(FilePATH)\n",
        "            count = 0\n",
        "            readable_F = []\n",
        "            for f in read_Dir:\n",
        "                file = os.path.join(FilePATH, f)\n",
        "                if os.path.isdir(file):\n",
        "                    count = count+1\n",
        "                else:\n",
        "                    readable_F.append(f)\n",
        "            return count,readable_F\n",
        "\n",
        "        self.Read_File = readable_File(self.File_PATH)[1]\n",
        "        self.TS_path = self.File_PATH + self.Data_NAME + '_TS/'\n",
        "\n",
        "        # Check empty files under riute\n",
        "        if len(self.File_PATH) == 0:\n",
        "            print('INFO: No Data Under the Current Route!')\n",
        "        else:\n",
        "            File_NAME = []\n",
        "            File_TYPE = []\n",
        "\n",
        "            # Delete files and list readable Files\n",
        "            for i in self.Read_File:\n",
        "                File_NAME.append(re.split(\"\\.\", i)[0])\n",
        "                File_TYPE.append(re.split(\"\\.\", i)[1])\n",
        "\n",
        "            ###################################### Deal with Two Dimensions Causality Data ###################################\n",
        "            '''if self.Data_NAME+'.npz' in self.Read_File:\n",
        "                Tests_data = np.load(self.File_PATH + self.Data_NAME+'.npz', allow_pickle=True)\n",
        "                Raw_data = Tests_data['x']\n",
        "                true_dag = Tests_data['y']\n",
        "                print('INFO: Check for '+self.Data_NAME +'.npz'+ '!')'''\n",
        "\n",
        "            if self.Data_NAME+'.tar.gz' in self.Read_File:\n",
        "                # open file\n",
        "                file = tarfile.open(self.File_PATH + self.Data_NAME + '.tar.gz')\n",
        "\n",
        "                # print file names\n",
        "                file_names = file.getnames()\n",
        "                print(file_names)\n",
        "\n",
        "                # extract files\n",
        "                file.extractall(self.File_PATH)\n",
        "\n",
        "                # close file\n",
        "                file.close()\n",
        "\n",
        "                Raw_data = np.load(self.File_PATH+file_names[2])\n",
        "                true_dag = pd.read_csv(self.File_PATH+file_names[3])\n",
        "\n",
        "                # save numpy to npz file\n",
        "                np.savez(self.Data_NAME+'.npz', x=Raw_data , y=true_dag)\n",
        "                print('INFO: Check for '+self.Data_NAME +'.npz'+ '!')\n",
        "\n",
        "            elif self.Data_NAME+'.csv' in self.Read_File:\n",
        "                Raw_data = pd.read_csv(self.File_PATH+ self.Data_NAME+'.csv', header=0, index_col=False)\n",
        "                true_dag = pd.read_csv(self.File_PATH+'true_graph.csv', header=0, index_col=0)\n",
        "\n",
        "                # save numpy to npz file\n",
        "                np.savez(self.Data_NAME+'.npz', x=Raw_data , y=true_dag)\n",
        "                print('INFO: Check for '+self.Data_NAME +'.npz'+ '!')\n",
        "\n",
        "            ################################ Deal with Multi-dimensions Causality Data ###################################\n",
        "            elif os.path.exists(self.TS_path):\n",
        "                read_Dir_TS=os.listdir(self.TS_path)\n",
        "                true_graph = np.load(self.File_PATH+'true_graph.npz')\n",
        "\n",
        "                labels = [\"FUMARATE\", \"GTP\", \"H2O\", \"CIS-ACONITATE\", \"MALATE\",\n",
        "                \"OXALOACETATE\", \"FAD\", \"SUCCINYL-COA\", \"NAD\",\n",
        "                          \"A-K-GLUTARATE\", \"GDP\", \"NADH\", \"CITRATE\", \"SUCCINATE\",\n",
        "                \"ISOCITRATE\", \"ACETY-COA\"]\n",
        "                true_dag = pd.DataFrame(true_graph['arr_0'],  index=labels, columns=labels)\n",
        "                # print(true_dag)\n",
        "                lds = pd.read_csv(self.TS_path+ read_Dir_TS[0], delimiter='\\t', index_col=0, header=None)\n",
        "                feature_name = np.array(lds.index)\n",
        "                # lds_trans = np.transpose(lds)\n",
        "                # feature_name = lds_trans.columns\n",
        "                feature_num = len(feature_name)\n",
        "                sample_num = len(read_Dir_TS)\n",
        "                T_num = lds.shape[1]\n",
        "                # if labels == feature_name:\n",
        "                df = np.zeros((feature_num, sample_num, T_num))\n",
        "                Raw_data = np.zeros((feature_num, sample_num *T_num))\n",
        "                for ns in range(sample_num):\n",
        "                    X = pd.read_csv(self.TS_path+ read_Dir_TS[ns], delimiter='\\t', index_col=0, header=None)\n",
        "                    X_trans = np.transpose(X)\n",
        "                    for fn in range(feature_num):\n",
        "                        df[fn, ns, :] = list(X_trans[feature_name[fn]])\n",
        "                for fn in range(feature_num):\n",
        "                    Raw_data[fn, :] = list(df[fn, :, :].reshape(-1))\n",
        "\n",
        "                non_zero_count = np.count_nonzero(true_dag)\n",
        "\n",
        "                # save numpy to npz file\n",
        "                sname = self.Data_NAME + '_'+str(feature_num)+'_'+str(non_zero_count)+'_TS_1'\n",
        "                np.savez(sname+'.npz', x=Raw_data , y=true_dag)\n",
        "                print('INFO: Check for '+sname + '!')\n",
        "\n",
        "            else:\n",
        "                print('INFO: Wrong DataType!')\n",
        "\n",
        "            '''\n",
        "            ################################ Deal with Multi-dimensions Causality Data ###################################\n",
        "            elif os.path.exists(self.TS_path):\n",
        "                read_Dir_TS=os.listdir(self.TS_path)\n",
        "                # true_dag = pd.read_csv(self.File_PATH+'true_graph.csv', header=0, index_col=0)\n",
        "                true_graph = np.load(self.File_PATH+'true_graph.npz')\n",
        "\n",
        "                labels = [\"FUMARATE\", \"GTP\", \"H2O\", \"CIS-ACONITATE\", \"MALATE\",\n",
        "                \"OXALOACETATE\", \"FAD\", \"SUCCINYL-COA\", \"NAD\",\n",
        "                          \"A-K-GLUTARATE\", \"GDP\", \"NADH\", \"CITRATE\", \"SUCCINATE\",\n",
        "                \"ISOCITRATE\", \"ACETY-COA\"]\n",
        "                true_dag = pd.DataFrame(true_graph['arr_0'],  index=labels, columns=labels)\n",
        "                # print(true_dag)\n",
        "                lds = pd.read_csv(self.TS_path+ read_Dir_TS[0], delimiter='\\t', index_col=0, header=None)\n",
        "                feature_name = np.array(lds.index)\n",
        "                # lds_trans = np.transpose(lds)\n",
        "                # feature_name = lds_trans.columns\n",
        "                feature_num = len(feature_name)\n",
        "                sample_num = len(read_Dir_TS)\n",
        "                T_num = lds.shape[1]\n",
        "                # if labels == feature_name:\n",
        "                Raw_data = np.zeros((feature_num, sample_num, T_num))\n",
        "                for ns in range(sample_num):\n",
        "                    X = pd.read_csv(self.TS_path+ read_Dir_TS[ns], delimiter='\\t', index_col=0, header=None)\n",
        "                    X_trans = np.transpose(X)\n",
        "                    for fn in range(feature_num):\n",
        "                        Raw_data[fn, ns, :] = list(X_trans[feature_name[fn]])\n",
        "                non_zero_count = np.count_nonzero(true_dag)\n",
        "\n",
        "                # save numpy to npz file\n",
        "                sname = self.Data_NAME + '_'+str(feature_num)+'_'+str(non_zero_count)+'_TS'\n",
        "                np.savez(sname+'.npz', x=Raw_data , y=true_dag)\n",
        "                print('INFO: Check for '+sname + '!')'''\n"
      ]
    },
    {
      "cell_type": "markdown",
      "id": "u_4vgMBI1eFQ",
      "metadata": {
        "id": "u_4vgMBI1eFQ"
      },
      "source": [
        "##__Step 2: Test__"
      ]
    },
    {
      "cell_type": "code",
      "execution_count": null,
      "id": "ai2O_kDa23fJ",
      "metadata": {
        "colab": {
          "base_uri": "https://localhost:8080/"
        },
        "id": "ai2O_kDa23fJ",
        "outputId": "1abe9bd9-f727-4602-f355-eb4b644eb289"
      },
      "outputs": [
        {
          "name": "stdout",
          "output_type": "stream",
          "text": [
            "INFO: Check for Krebs_Cycle_16_43_TS_1!\n"
          ]
        }
      ],
      "source": [
        "if __name__ == \"__main__\":\n",
        "    ############################################################################################################\n",
        "    ############################################ SETTING File_PATH and file_name ###############################\n",
        "    ############################################################################################################\n",
        "    # Krebs_Cycle\n",
        "    File_PATH = \"/content/drive/MyDrive/Colab Notebooks/NCPOP/Causal_Models_Learning/Test/Datasets/Synthetic datasets/Krebs_Cycle/\"\n",
        "    file_name = 'Krebs_Cycle'\n",
        "\n",
        "    '''\n",
        "    # Microwave\n",
        "    File_PATH = \"/content/drive/MyDrive/Colab Notebooks/NCPOP/Causal_Models_Learning/Test/Datasets/Real_data/Microwave/\"\n",
        "    file_name = '25V_474N_Microwave'\n",
        "\n",
        "    # Telephone\n",
        "    File_PATH = \"/content/drive/MyDrive/Colab Notebooks/NCPOP/Causal_Models_Learning/Test/Datasets/Real_data/Telephone/\"\n",
        "    file_name = 'Telephone'\n",
        "\n",
        "    '''\n",
        "\n",
        "    dt = Real_Data_Standardization(File_PATH, file_name)\n",
        "    dt.Produce_Rawdata()\n",
        "\n"
      ]
    },
    {
      "cell_type": "code",
      "execution_count": null,
      "id": "ffyb1rzWydCR",
      "metadata": {
        "colab": {
          "base_uri": "https://localhost:8080/"
        },
        "id": "ffyb1rzWydCR",
        "outputId": "15b05d14-8751-42db-d238-94d13f31cdf1"
      },
      "outputs": [
        {
          "name": "stdout",
          "output_type": "stream",
          "text": [
            "(16, 60000) (16, 16)\n"
          ]
        }
      ],
      "source": [
        "data = np.load('Krebs_Cycle_16_43_TS_1.npz')\n",
        "Raw_data = data['x']\n",
        "true_dag = data['y']\n",
        "print(Raw_data.shape, true_dag.shape)"
      ]
    },
    {
      "cell_type": "markdown",
      "id": "i9WfAVotsbxZ",
      "metadata": {
        "id": "i9WfAVotsbxZ"
      },
      "source": [
        "# Backup"
      ]
    },
    {
      "cell_type": "code",
      "execution_count": null,
      "id": "ZCPDiPrGpDQ0",
      "metadata": {
        "colab": {
          "base_uri": "https://localhost:8080/"
        },
        "id": "ZCPDiPrGpDQ0",
        "outputId": "dd610c41-4e9e-4fd3-bd2f-d578024fec40"
      },
      "outputs": [
        {
          "data": {
            "text/plain": [
              "(4, 6)"
            ]
          },
          "execution_count": 21,
          "metadata": {},
          "output_type": "execute_result"
        }
      ],
      "source": [
        "df = np.zeros((4, 2*3))\n",
        "df.shape"
      ]
    },
    {
      "cell_type": "code",
      "execution_count": null,
      "id": "NCjEDGWcpdRK",
      "metadata": {
        "colab": {
          "base_uri": "https://localhost:8080/"
        },
        "id": "NCjEDGWcpdRK",
        "outputId": "7d99246e-50b7-4da2-fa15-c2e9d6d369aa"
      },
      "outputs": [
        {
          "data": {
            "text/plain": [
              "(4, 2, 3)"
            ]
          },
          "execution_count": 22,
          "metadata": {},
          "output_type": "execute_result"
        }
      ],
      "source": [
        "df = np.zeros((4, 2,3))\n",
        "df.shape"
      ]
    },
    {
      "cell_type": "code",
      "execution_count": null,
      "id": "E7Y5FRv8QyUD",
      "metadata": {
        "id": "E7Y5FRv8QyUD"
      },
      "outputs": [],
      "source": [
        "# from Data_Standardization import*\n",
        "from pickle import TRUE\n",
        "import os\n",
        "import re\n",
        "import numpy as np\n",
        "import pandas as pd\n",
        "import tarfile\n",
        "from itertools import combinations\n",
        "\n",
        "class Real_Data_Standardization(object):\n",
        "    '''\n",
        "    A class for preparing data to simulate random (causal) DAG.\n",
        "\n",
        "    Parameters\n",
        "    ----------\n",
        "    File_PATH: str\n",
        "        Save file path\n",
        "    File_NAME: str\n",
        "        Read data name\n",
        "    '''\n",
        "\n",
        "    def __init__(self, File_PATH, Data_NAME):\n",
        "        self.File_PATH = File_PATH\n",
        "        self.Data_NAME = Data_NAME\n",
        "\n",
        "    def Produce_Rawdata(self):\n",
        "\n",
        "        def readable_File(FilePATH):\n",
        "            read_Dir=os.listdir(FilePATH)\n",
        "            count = 0\n",
        "            readable_F = []\n",
        "            for f in read_Dir:\n",
        "                file = os.path.join(FilePATH, f)\n",
        "                if os.path.isdir(file):\n",
        "                    count = count+1\n",
        "                else:\n",
        "                    readable_F.append(f)\n",
        "            return count,readable_F\n",
        "\n",
        "        self.Read_File = readable_File(self.File_PATH)[1]\n",
        "        self.TS_path = self.File_PATH + self.Data_NAME + '_TS/'\n",
        "\n",
        "        # Check empty files under riute\n",
        "        if len(self.File_PATH) == 0:\n",
        "            print('INFO: No Data Under the Current Route!')\n",
        "        else:\n",
        "            File_NAME = []\n",
        "            File_TYPE = []\n",
        "\n",
        "            # Delete files and list readable Files\n",
        "            for i in self.Read_File:\n",
        "                File_NAME.append(re.split(\"\\.\", i)[0])\n",
        "                File_TYPE.append(re.split(\"\\.\", i)[1])\n",
        "\n",
        "            ###################################### Deal with Two Dimensions Causality Data ###################################\n",
        "            if self.Data_NAME+'.npz' in self.Read_File:\n",
        "                Tests_data = np.load(self.File_PATH + self.Data_NAME+'.npz', allow_pickle=True)\n",
        "                Raw_data = Tests_data['x']\n",
        "                true_dag = Tests_data['y']\n",
        "                print('INFO: Check for '+self.Data_NAME +'.npz'+ '!')\n",
        "\n",
        "            elif self.Data_NAME+'.tar.gz' in self.Read_File:\n",
        "                # open file\n",
        "                file = tarfile.open(self.File_PATH + self.Data_NAME + '.tar.gz')\n",
        "\n",
        "                # print file names\n",
        "                file_names = file.getnames()\n",
        "                print(file_names)\n",
        "\n",
        "                # extract files\n",
        "                file.extractall(self.File_PATH)\n",
        "\n",
        "                # close file\n",
        "                file.close()\n",
        "\n",
        "                Raw_data = pd.read_csv(self.File_PATH+file_names[1])\n",
        "                true_dag = np.load(self.File_PATH+file_names[2])\n",
        "\n",
        "                # save numpy to npz file\n",
        "                np.savez(self.File_PATH + self.Data_NAME+'.npz', x=Raw_data , y=true_dag)\n",
        "                print('INFO: Check for '+self.Data_NAME +'.npz'+ '!')\n",
        "\n",
        "            elif self.Data_NAME+'.csv' in self.Read_File:\n",
        "                Raw_data = pd.read_csv(self.File_PATH+ self.Data_NAME+'.csv', header=0, index_col=0)\n",
        "                true_dag = pd.read_csv(self.File_PATH+'true_graph.csv', header=0, index_col=0)\n",
        "\n",
        "                # save numpy to npz file\n",
        "                np.savez(self.File_PATH + self.Data_NAME+'.npz', x=Raw_data , y=true_dag)\n",
        "                print('INFO: Check for '+self.Data_NAME +'.npz'+ '!')\n",
        "\n",
        "            ################################ Deal with Multi-dimensions Causality Data ###################################\n",
        "            elif os.path.exists(self.TS_path):\n",
        "                read_Dir_TS=os.listdir(self.TS_path)\n",
        "                Timeseries_List_path = self.File_PATH+'series_list.csv'\n",
        "                Read_Timeseries = pd.read_csv(Timeseries_List_path)\n",
        "                # print(len(Read_Timeseries), len(read_Dir_TS))\n",
        "                if len(Read_Timeseries) >= len(read_Dir_TS):\n",
        "                    print('INFO: Start Analyzing '+ self.Data_NAME + ' Time Series File!')\n",
        "                    TS_List = read_Dir_TS\n",
        "                else:\n",
        "                    print('INFO: Start Analyzing '+ self.Data_NAME + ' Time Series List!')\n",
        "                    TS_List = Read_Timeseries['Series_num']\n",
        "                lds = pd.read_csv(self.TS_path+ TS_List[0], delimiter='\\t', index_col=0, header=None)\n",
        "                # print(lds)\n",
        "                n = len(TS_List)\n",
        "                T = lds.shape[1]\n",
        "                # d = lds.shape[0]\n",
        "                # print(d, T, n)\n",
        "                df = np.transpose(lds)\n",
        "                feature_name = df.columns\n",
        "                d = len(feature_name)\n",
        "                Raw_data = np.zeros((d, n, T))\n",
        "                for ns in range(n):\n",
        "                    X = pd.read_csv(self.TS_path+ TS_List[ns], delimiter='\\t', index_col=0, header=None)\n",
        "                    df = np.transpose(X)\n",
        "                    feature_name = df.columns\n",
        "                    for fn in range(d):\n",
        "                        Raw_data[fn, ns, :] = list(df[feature_name[fn]])\n",
        "                # print(Raw_data.shape)\n",
        "                # save numpy to npz file\n",
        "                matrix = np.zeros((d, d))\n",
        "                np.fill_diagonal(matrix, 0)\n",
        "                np.fill_diagonal(matrix[:, 1:], 1)\n",
        "                np.savez(self.File_PATH + self.Data_NAME+'.npz', x=Raw_data , y=matrix)\n",
        "                print('INFO: Check for '+self.Data_NAME +'.npz'+ '!')\n",
        "\n",
        "            else:\n",
        "                print('INFO: Wrong DataType!')\n"
      ]
    },
    {
      "cell_type": "code",
      "execution_count": null,
      "id": "p-cnYLZkBZn4",
      "metadata": {
        "id": "p-cnYLZkBZn4"
      },
      "outputs": [],
      "source": [
        "import pandas as pd\n",
        "File_PATH = '/content/drive/MyDrive/Colab Notebooks/Causality_NotesTest/Test_Causality_Datasets/Telephone/'\n",
        "Raw_data_path = File_PATH+'real_dataset_processed.csv'\n",
        "Raw_dag_path = File_PATH+'true_graph.csv'\n",
        "\n",
        "x = pd.read_csv(Raw_data_path, header=0)\n",
        "y = pd.read_csv(Raw_dag_path, header=0, index_col=0)\n",
        "\n",
        "np.savez('/content/drive/MyDrive/Colab Notebooks/Causality_NotesTest/Test_Causality_Datasets/Real_data/Telephone.npz', x=x, y=y)"
      ]
    },
    {
      "cell_type": "markdown",
      "id": "5AZGUtcqX1aF",
      "metadata": {
        "id": "5AZGUtcqX1aF"
      },
      "source": [
        "##Debug class"
      ]
    },
    {
      "cell_type": "code",
      "execution_count": null,
      "id": "w5LewQI1kZ0i",
      "metadata": {
        "colab": {
          "base_uri": "https://localhost:8080/"
        },
        "id": "w5LewQI1kZ0i",
        "outputId": "3c996139-d556-4da1-cbff-e79afcfdb02a"
      },
      "outputs": [
        {
          "name": "stdout",
          "output_type": "stream",
          "text": [
            "INFO: Start Analyzing Krebs_Cycle Time Series List!\n"
          ]
        }
      ],
      "source": [
        "import pandas as pd\n",
        "import numpy as np\n",
        "import tarfile\n",
        "import os\n",
        "import re\n",
        "import sys\n",
        "from itertools import combinations\n",
        "from pickle import TRUE\n",
        "\n",
        "File_PATH = \"/content/drive/MyDrive/Colab Notebooks/NCPOP-Colab Notebooks/Test_Causality_Datasets/Real_data/Krebs_Cycle/\"\n",
        "os.chdir(File_PATH)\n",
        "read_Dir=os.listdir(File_PATH)\n",
        "Data_NAME = 'Krebs_Cycle'\n",
        "Readable_File = readable_File(File_PATH)[1]\n",
        "num_readable_File = len(read_Dir) - readable_File(File_PATH)[0]\n",
        "TS_path = File_PATH+Data_NAME+'_TS/'\n",
        "\n",
        "def readable_File(path):\n",
        "    read_Dir=os.listdir(path)\n",
        "    count = 0\n",
        "    readable_File = []\n",
        "    for f in read_Dir:\n",
        "      file = os.path.join(path, f)\n",
        "      if os.path.isdir(file):\n",
        "        count = count+1\n",
        "      else:\n",
        "        readable_File.append(f)\n",
        "    return count,readable_File\n",
        "\n",
        "read_Dir_TS=os.listdir(TS_path)\n",
        "Timeseries_List_path = File_PATH+'series_list.csv'\n",
        "Read_Timeseries = pd.read_csv(Timeseries_List_path)\n",
        "# print(len(Read_Timeseries), len(read_Dir_TS))\n",
        "if len(Read_Timeseries) >= len(read_Dir_TS):\n",
        "  print('INFO: Start Analyzing '+ Data_NAME + ' Time Series File!')\n",
        "  TS_List = read_Dir_TS\n",
        "else:\n",
        "  print('INFO: Start Analyzing '+ Data_NAME + ' Time Series List!')\n",
        "  TS_List = Read_Timeseries['Series_num']\n"
      ]
    },
    {
      "cell_type": "markdown",
      "id": "_SE8d5bu14h1",
      "metadata": {
        "id": "_SE8d5bu14h1"
      },
      "source": [
        "##Tested"
      ]
    },
    {
      "cell_type": "code",
      "execution_count": null,
      "id": "hwHnZl8_mDWh",
      "metadata": {
        "colab": {
          "base_uri": "https://localhost:8080/"
        },
        "id": "hwHnZl8_mDWh",
        "outputId": "c3f73152-6ac1-413b-9f01-fd4b1abb12a2"
      },
      "outputs": [
        {
          "name": "stdout",
          "output_type": "stream",
          "text": [
            "/content/drive/MyDrive/Colab Notebooks/NCPOP-Colab Notebooks/Test_Causality_Datasets/Real_data/Krebs_Cycle/\n"
          ]
        },
        {
          "data": {
            "text/plain": [
              "['series_list.csv',\n",
              " 'real_dataset_processed.csv',\n",
              " 'true_graph.csv',\n",
              " 'stock-market.txt',\n",
              " 'linearGauss_6_15.npz',\n",
              " '18V_55N_Wireless.tar.gz']"
            ]
          },
          "execution_count": 198,
          "metadata": {},
          "output_type": "execute_result"
        }
      ],
      "source": [
        "from pickle import TRUE\n",
        "import os\n",
        "import re\n",
        "import numpy as np\n",
        "import pandas as pd\n",
        "import tarfile\n",
        "from itertools import combinations\n",
        "\n",
        "File_PATH = \"/content/drive/MyDrive/Colab Notebooks/NCPOP-Colab Notebooks/Test_Causality_Datasets/Real_data/Krebs_Cycle/\"\n",
        "os.chdir(File_PATH)\n",
        "# os.chdir(\"/content/drive/MyDrive/Colab Notebooks/NCPOP-Colab Notebooks/Test_Causality_Datasets/Real_data/Krebs_Cycle/\")\n",
        "\n",
        "# self.File_PATH\n",
        "read_Dir=os.listdir(File_PATH)\n",
        "Data_NAME = 'real_dataset_processed'\n",
        "print(File_PATH)\n",
        "\n",
        "def readable_File(path):\n",
        "    read_Dir=os.listdir(path)\n",
        "    count = 0\n",
        "    readable_File = []\n",
        "    for f in read_Dir:\n",
        "      file = os.path.join(path, f)\n",
        "      if os.path.isdir(file):\n",
        "        count = count+1\n",
        "      else:\n",
        "        readable_File.append(f)\n",
        "    return count,readable_File\n",
        "\n",
        "readable_File(File_PATH)[1]\n"
      ]
    },
    {
      "cell_type": "code",
      "execution_count": null,
      "id": "-pMuVUUbhOqA",
      "metadata": {
        "colab": {
          "base_uri": "https://localhost:8080/"
        },
        "id": "-pMuVUUbhOqA",
        "outputId": "c4270c54-2ab4-41c1-9c72-7b9b2a87f202"
      },
      "outputs": [
        {
          "name": "stdout",
          "output_type": "stream",
          "text": [
            "     A_1  A_2  A_3  A_4  A_5  A_6  A_7  A_8  A_9  A_10  ...  A_47  A_48  A_49  \\\n",
            "A_0                                                     ...                     \n",
            "0      1    0    0    0    0    0    4    0    1     0  ...     0     0     0   \n",
            "0      0    0    0    0    0    0    4    0    0     0  ...     3     0     0   \n",
            "0      0    0    0    0    0    3    2    0    1     0  ...     3     2     0   \n",
            "0      2    0    0    0    0    0    4    0    3     0  ...     0     2     0   \n",
            "0      4    0    0    0    0    0   11    0    4     0  ...     0     2     0   \n",
            "..   ...  ...  ...  ...  ...  ...  ...  ...  ...   ...  ...   ...   ...   ...   \n",
            "0      0    0    0    0    0    0    0    0    0     0  ...     3     0     0   \n",
            "0      1    0    0    0    0    0    5    0    4     0  ...     0     3     0   \n",
            "0      3    0    0    0    0    0    4    0    1     0  ...     0     2     0   \n",
            "0      1    0    0    0    0    0    1    0    1     0  ...     0     1     0   \n",
            "0      0    0    0    0    0    0    3    0    1     0  ...     0     1     0   \n",
            "\n",
            "     A_50  A_51  A_52  A_53  A_54  A_55  A_56  \n",
            "A_0                                            \n",
            "0       0     1     0     0     0     0     0  \n",
            "0       0     0     0     0     0     0     0  \n",
            "0       1     2     0     0     0     0     0  \n",
            "0       0     6     0     0     0     0     0  \n",
            "0       0    14     0     0     0     0     0  \n",
            "..    ...   ...   ...   ...   ...   ...   ...  \n",
            "0       0     0     0     0     0     0     0  \n",
            "0       0     0     0     0     0     0     0  \n",
            "0       0     0     0     0     0     0     0  \n",
            "0       0     0     0     0     0     0     0  \n",
            "0       0     0     0     0     0     0     0  \n",
            "\n",
            "[22589 rows x 54 columns]\n",
            "      A_0  A_1  A_2  A_3  A_4  A_5  A_6  A_7  A_8  A_9  ...  A_47  A_48  A_49  \\\n",
            "A_0     0    0    0    0    0    0    0    0    0    0  ...     0     0     0   \n",
            "A_1     0    0    0    1    0    0    0    0    0    0  ...     0     0     0   \n",
            "A_2     0    0    0    0    1    1    0    0    1    1  ...     1     1     1   \n",
            "A_3     0    0    0    0    0    0    1    0    0    0  ...     1     0     0   \n",
            "A_4     0    0    0    1    0    0    1    0    0    0  ...     1     0     0   \n",
            "A_5     0    0    0    0    0    0    0    0    0    0  ...     0     0     0   \n",
            "A_6     0    0    0    0    0    0    0    0    0    0  ...     1     0     0   \n",
            "A_7     0    1    0    1    0    0    0    0    0    1  ...     0     1     0   \n",
            "A_8     0    0    0    0    0    0    0    0    0    0  ...     0     0     0   \n",
            "A_9     0    0    0    1    0    0    1    0    1    0  ...     0     0     1   \n",
            "A_10    0    0    0    1    0    0    1    0    1    1  ...     1     1     0   \n",
            "A_11    0    0    0    0    0    0    0    0    0    0  ...     0     0     0   \n",
            "A_12    0    0    0    0    0    0    1    0    0    0  ...     0     0     0   \n",
            "A_13    0    0    0    1    1    0    1    0    1    0  ...     0     1     1   \n",
            "A_14    0    0    0    0    0    0    0    0    0    0  ...     0     0     0   \n",
            "A_15    0    0    0    1    1    0    1    0    0    0  ...     1     0     1   \n",
            "A_16    0    0    0    1    1    0    1    0    0    0  ...     1     0     0   \n",
            "A_17    0    0    0    1    0    0    1    0    1    0  ...     0     0     1   \n",
            "A_18    0    0    0    1    0    0    0    0    0    0  ...     0     0     0   \n",
            "A_19    0    0    0    1    0    0    1    0    0    1  ...     1     0     0   \n",
            "A_20    0    1    0    1    0    0    1    0    1    1  ...     1     0     1   \n",
            "A_22    0    0    0    0    0    1    0    0    0    0  ...     0     1     0   \n",
            "A_23    0    0    0    0    0    0    0    0    0    0  ...     0     0     0   \n",
            "A_24    0    0    0    1    0    0    1    0    1    0  ...     1     0     1   \n",
            "A_25    0    0    0    0    0    0    0    0    0    0  ...     0     0     0   \n",
            "A_26    0    0    0    1    0    0    1    0    1    1  ...     0     1     0   \n",
            "A_27    0    0    0    0    0    0    0    0    0    0  ...     0     0     0   \n",
            "A_28    0    0    0    0    1    0    0    0    0    1  ...     0     0     0   \n",
            "A_29    0    0    0    1    0    0    1    0    0    0  ...     1     0     0   \n",
            "A_30    0    0    0    1    0    0    1    0    1    1  ...     0     1     1   \n",
            "A_31    0    0    0    1    0    0    0    0    0    0  ...     0     0     0   \n",
            "A_32    0    0    0    1    0    0    1    1    1    1  ...     0     1     0   \n",
            "A_33    0    1    0    1    1    1    1    1    1    1  ...     1     1     1   \n",
            "A_35    0    0    0    0    0    0    0    0    0    0  ...     0     0     0   \n",
            "A_36    0    0    0    1    0    0    1    1    1    1  ...     1     1     0   \n",
            "A_37    0    0    0    0    0    0    0    0    0    0  ...     0     0     0   \n",
            "A_38    0    0    0    1    0    0    1    0    1    1  ...     1     0     0   \n",
            "A_39    0    0    0    0    0    0    0    0    0    0  ...     0     0     0   \n",
            "A_40    0    0    0    1    0    0    1    0    1    0  ...     1     0     0   \n",
            "A_41    0    0    0    1    0    1    1    1    1    1  ...     1     1     1   \n",
            "A_42    0    0    0    1    0    0    1    0    1    1  ...     0     1     0   \n",
            "A_43    0    0    0    0    0    0    0    0    0    0  ...     1     0     0   \n",
            "A_44    0    0    0    0    0    0    0    0    0    0  ...     0     0     0   \n",
            "A_45    0    0    0    0    0    0    1    0    1    1  ...     0     1     0   \n",
            "A_46    0    0    0    0    0    0    0    0    0    0  ...     0     0     0   \n",
            "A_47    0    0    0    1    0    0    1    0    1    1  ...     1     0     1   \n",
            "A_48    0    0    0    0    0    0    0    0    0    0  ...     0     0     0   \n",
            "A_49    0    0    0    0    0    0    0    0    0    0  ...     0     0     0   \n",
            "A_50    0    0    0    0    0    0    0    0    0    0  ...     0     0     0   \n",
            "A_51    0    0    0    0    0    0    0    0    0    0  ...     0     0     0   \n",
            "A_52    0    1    0    1    1    0    1    0    0    1  ...     1     0     1   \n",
            "A_53    0    0    0    0    0    0    0    0    0    0  ...     1     0     0   \n",
            "A_54    0    0    0    1    1    0    1    0    1    0  ...     1     0     1   \n",
            "A_55    0    0    0    0    0    1    0    0    0    0  ...     0     0     0   \n",
            "A_56    1    0    0    1    0    0    0    0    0    0  ...     0     0     0   \n",
            "\n",
            "      A_50  A_51  A_52  A_53  A_54  A_55  A_56  \n",
            "A_0      0     0     0     0     0     0     0  \n",
            "A_1      1     1     0     0     0     0     0  \n",
            "A_2      1     1     1     0     1     1     0  \n",
            "A_3      0     0     0     0     0     0     0  \n",
            "A_4      0     0     0     0     0     0     0  \n",
            "A_5      0     0     0     0     0     0     0  \n",
            "A_6      0     0     0     0     0     0     0  \n",
            "A_7      0     0     0     0     0     1     0  \n",
            "A_8      0     0     0     0     0     0     0  \n",
            "A_9      1     1     0     0     0     1     0  \n",
            "A_10     0     0     0     0     0     1     0  \n",
            "A_11     0     0     0     0     0     0     0  \n",
            "A_12     0     0     0     0     0     0     0  \n",
            "A_13     1     1     0     0     0     0     0  \n",
            "A_14     0     0     0     0     0     0     0  \n",
            "A_15     0     1     0     0     0     0     0  \n",
            "A_16     0     0     0     0     0     0     0  \n",
            "A_17     0     0     0     0     0     1     0  \n",
            "A_18     0     0     0     0     0     0     0  \n",
            "A_19     1     1     0     0     0     0     0  \n",
            "A_20     1     1     0     0     0     0     0  \n",
            "A_22     0     0     0     0     0     0     0  \n",
            "A_23     0     0     0     0     0     0     0  \n",
            "A_24     1     1     0     0     0     1     0  \n",
            "A_25     0     0     0     0     0     0     0  \n",
            "A_26     1     1     0     0     0     1     0  \n",
            "A_27     0     0     0     0     0     0     0  \n",
            "A_28     0     0     0     0     0     1     0  \n",
            "A_29     0     0     0     0     0     0     0  \n",
            "A_30     0     1     0     0     0     1     0  \n",
            "A_31     0     0     0     0     0     0     0  \n",
            "A_32     1     1     0     0     0     1     0  \n",
            "A_33     1     1     1     0     1     1     0  \n",
            "A_35     0     0     0     0     0     0     0  \n",
            "A_36     1     1     0     0     0     1     0  \n",
            "A_37     0     0     0     0     0     0     0  \n",
            "A_38     1     1     0     0     0     1     0  \n",
            "A_39     0     0     0     0     0     0     0  \n",
            "A_40     1     1     0     0     0     0     0  \n",
            "A_41     1     1     0     0     0     1     0  \n",
            "A_42     1     1     0     0     0     0     0  \n",
            "A_43     0     0     0     0     0     0     0  \n",
            "A_44     0     0     0     0     0     0     0  \n",
            "A_45     1     1     0     0     0     1     0  \n",
            "A_46     0     0     0     0     0     0     0  \n",
            "A_47     1     1     0     0     0     1     0  \n",
            "A_48     0     0     0     0     0     0     0  \n",
            "A_49     0     0     0     0     0     0     0  \n",
            "A_50     1     0     0     0     0     0     0  \n",
            "A_51     0     0     0     0     0     0     0  \n",
            "A_52     1     1     0     0     0     0     0  \n",
            "A_53     0     0     0     0     0     0     0  \n",
            "A_54     0     1     0     0     0     0     0  \n",
            "A_55     0     0     0     0     0     0     0  \n",
            "A_56     0     0     0     0     0     0     0  \n",
            "\n",
            "[55 rows x 55 columns]\n"
          ]
        }
      ],
      "source": [
        "# File_NAME = data\\\\\n",
        "Readable_File = readable_File(File_PATH)[1]\n",
        "num_readable_File = len(read_Dir) - readable_File(File_PATH)[0]\n",
        "TS_path = File_PATH+Data_NAME+'_TS/'\n",
        "if len(read_Dir) == 0:\n",
        "    print('INFO: No Data Under the Current Route!')\n",
        "else:\n",
        "    File_NAME = []\n",
        "    File_TYPE = []\n",
        "    for i in Readable_File:\n",
        "      File_NAME.append(re.split(\"\\.\", i)[0])\n",
        "      File_TYPE.append(re.split(\"\\.\", i)[1])\n",
        "\n",
        "    # Deal with Two Dimensions Causality Data\n",
        "    if Data_NAME+'.npz' in Readable_File:\n",
        "      Tests_data = np.load(Data_NAME+'.npz', allow_pickle=True)\n",
        "      Raw_data = Tests_data['x']\n",
        "      # print(Raw_data)\n",
        "      true_dag = Tests_data['y']\n",
        "      # print(true_dag)\n",
        "\n",
        "    elif Data_NAME+'.tar.gz' in Readable_File:\n",
        "      # open file\n",
        "      file = tarfile.open(File_PATH+Data_NAME+'.tar.gz')\n",
        "\n",
        "      # print file names\n",
        "      file_names = file.getnames()\n",
        "      # extract files\n",
        "      file.extractall(File_PATH)\n",
        "\n",
        "      # close file\n",
        "      file.close()\n",
        "\n",
        "      # x = np.load(File_PATH+file_names[1])\n",
        "      Raw_data = pd.read_csv(File_PATH+file_names[1])\n",
        "      # print(Raw_data)\n",
        "      true_dag = np.load(File_PATH+file_names[2])\n",
        "      # print(true_dag)\n",
        "      '''\n",
        "      # 将两个 numpy 数组保存到 npz 文件中\n",
        "      np.savez(Data_NAME+'.npz', x=Raw_data , y=true_dag)\n",
        "\n",
        "      # 从 npz 文件中加载数据\n",
        "      data = np.load(Data_NAME+'.npz')\n",
        "      Raw_data = Tests_data['x']\n",
        "      true_dag = Tests_data['y']\n",
        "      '''\n",
        "\n",
        "    elif Data_NAME+'.csv' in Readable_File:\n",
        "      Raw_data = pd.read_csv(File_PATH+ Data_NAME+'.csv', header=0, index_col=0)\n",
        "      print(Raw_data)\n",
        "      true_dag = pd.read_csv(File_PATH+'true_graph.csv', header=0, index_col=0)\n",
        "      print(true_dag)\n",
        "############################################################\n",
        "    # Deal with Multi-dimensions Data\n",
        "    elif os.path.exists(TS_path):\n",
        "      read_Dir_TS=os.listdir(TS_path)\n",
        "      Timeseries_List_path = File_PATH+'series_list.csv'\n",
        "      Read_Timeseries = pd.read_csv(Timeseries_List_path)\n",
        "      # print(len(Read_Timeseries), len(read_Dir_TS))\n",
        "      if len(Read_Timeseries) >= len(read_Dir_TS):\n",
        "        print('INFO: Start Analyzing '+ Data_NAME + ' Time Series File!')\n",
        "        TS_List = read_Dir_TS\n",
        "      else:\n",
        "        print('INFO: Start Analyzing '+ Data_NAME + ' Time Series List!')\n",
        "        TS_List = Read_Timeseries['Series_num']\n",
        "\n",
        "      # for i, j in combinations(range(len(TS_List)), 2):\n",
        "      [i, j] = [1,2]\n",
        "      x = pd.read_csv(TS_path+TS_List[i], header=0, index_col=0)\n",
        "      y = pd.read_csv(TS_path+TS_List[j], header=0, index_col=0)\n",
        "      print(TS_List[i], TS_List[j])\n",
        "    else:\n",
        "      print('INFO: Wrong DataType!')"
      ]
    }
  ],
  "metadata": {
    "colab": {
      "toc_visible": true,
      "provenance": []
    },
    "kernelspec": {
      "display_name": "Python 3 (ipykernel)",
      "language": "python",
      "name": "python3"
    },
    "language_info": {
      "codemirror_mode": {
        "name": "ipython",
        "version": 3
      },
      "file_extension": ".py",
      "mimetype": "text/x-python",
      "name": "python",
      "nbconvert_exporter": "python",
      "pygments_lexer": "ipython3",
      "version": "3.10.12"
    }
  },
  "nbformat": 4,
  "nbformat_minor": 5
}
