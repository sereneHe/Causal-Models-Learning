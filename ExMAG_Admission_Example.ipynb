{
  "cells": [
    {
      "cell_type": "markdown",
      "id": "74553d5d-0bb1-45f4-a56c-c9561b519993",
      "metadata": {
        "id": "74553d5d-0bb1-45f4-a56c-c9561b519993"
      },
      "source": [
        "# Jupter Notebook Causality Model ExMAG Template\n",
        "_Example: Berkeley graduate admission paradox_\n",
        "\n",
        "## Introduction\n",
        "Simpson's paradox is not a paradox, but empirically analysing causality without considering confounding factors in statistical analysis. An interesting example is Berkeley graduate admission paradox. The data show that women face higher difficulties when applying to graduate schools. Therefore, a confusing conclusion can be made that gender influences the chance of admission. Nevertheless, the reason is that women tend to apply to popular departments. Gender influences the choice of department, and the department influences the chance of admission. Controlling for department reveals a more plausible direct causal influence of gender. If one represents variable G is gender, D is department, and A is acceptance, the DAG form is\n",
        "\n",
        "$$              \\quad   \\quad \\quad  \\quad D   \\quad \\longleftarrow   \\quad U $$\n",
        "$$     \\quad \\quad \\nearrow  \\quad  \\searrow  \\quad \\swarrow $$\n",
        "$$ G  \\quad  \\longrightarrow  \\quad  A$$\n",
        "\n",
        "In this example, academic ability can be a potential confounder(U), since ability could influence the choice of department and the probability of admission. We used a causal structure learning(CSL) tool ExMAG to identify confounding elements in this notebook.\n",
        "\n",
        "## Evaluation:\n",
        "\n",
        "* Various commonly used metrics for causal learning, including F1, SHD, FDR, TPR, FDR, NNZ, etc.\n",
        "\n",
        "* Weight matrix, bidirect matrix(indicate confounders)\n"
      ]
    },
    {
      "cell_type": "markdown",
      "id": "e09127fd-6737-420f-85a5-0f72b6e4f765",
      "metadata": {
        "id": "e09127fd-6737-420f-85a5-0f72b6e4f765"
      },
      "source": [
        "# 1.Get start\n",
        "\n"
      ]
    },
    {
      "cell_type": "code",
      "execution_count": null,
      "id": "8d7031c6-50e1-424c-a027-20d9cf5e9188",
      "metadata": {
        "colab": {
          "base_uri": "https://localhost:8080/"
        },
        "id": "8d7031c6-50e1-424c-a027-20d9cf5e9188",
        "outputId": "0ef45c6f-7ee0-42cb-c64c-c32834cf2a85"
      },
      "outputs": [
        {
          "output_type": "stream",
          "name": "stderr",
          "text": [
            "Installing packages into ‘/usr/local/lib/R/site-library’\n",
            "(as ‘lib’ is unspecified)\n",
            "\n",
            "also installing the dependencies ‘abind’, ‘tensorA’, ‘distributional’, ‘numDeriv’, ‘quadprog’, ‘svUnit’, ‘checkmate’, ‘matrixStats’, ‘posterior’, ‘V8’, ‘ggdist’, ‘arrayhelpers’\n",
            "\n",
            "\n",
            "Downloading GitHub repo stan-dev/cmdstanr@HEAD\n",
            "\n"
          ]
        },
        {
          "output_type": "stream",
          "name": "stdout",
          "text": [
            "\n",
            "\u001b[36m──\u001b[39m \u001b[36mR CMD build\u001b[39m \u001b[36m─────────────────────────────────────────────────────────────────\u001b[39m\n",
            "* checking for file ‘/tmp/RtmpiA1nP6/remotes8076314d5c8/stan-dev-cmdstanr-ce58981/DESCRIPTION’ ... OK\n",
            "* preparing ‘cmdstanr’:\n",
            "* checking DESCRIPTION meta-information ... OK\n",
            "* checking for LF line-endings in source and make files and shell scripts\n",
            "* checking for empty or unneeded directories\n",
            "Omitted ‘LazyData’ from DESCRIPTION\n",
            "* building ‘cmdstanr_0.8.1.9000.tar.gz’\n",
            "\n"
          ]
        },
        {
          "output_type": "stream",
          "name": "stderr",
          "text": [
            "Installing package into ‘/usr/local/lib/R/site-library’\n",
            "(as ‘lib’ is unspecified)\n",
            "\n",
            "Downloading GitHub repo rmcelreath/rethinking@HEAD\n",
            "\n"
          ]
        },
        {
          "output_type": "stream",
          "name": "stdout",
          "text": [
            "shape (NA -> 1.4.6.1) [CRAN]\n"
          ]
        },
        {
          "output_type": "stream",
          "name": "stderr",
          "text": [
            "Installing 1 packages: shape\n",
            "\n",
            "Installing package into ‘/usr/local/lib/R/site-library’\n",
            "(as ‘lib’ is unspecified)\n",
            "\n"
          ]
        },
        {
          "output_type": "stream",
          "name": "stdout",
          "text": [
            "\u001b[36m──\u001b[39m \u001b[36mR CMD build\u001b[39m \u001b[36m─────────────────────────────────────────────────────────────────\u001b[39m\n",
            "* checking for file ‘/tmp/RtmpiA1nP6/remotes8071e15cb37/rmcelreath-rethinking-ac1b3b2/DESCRIPTION’ ... OK\n",
            "* preparing ‘rethinking’:\n",
            "* checking DESCRIPTION meta-information ... OK\n",
            "* checking for LF line-endings in source and make files and shell scripts\n",
            "* checking for empty or unneeded directories\n",
            "* looking to see if a ‘data/datalist’ file should be added\n",
            "* building ‘rethinking_2.42.tar.gz’\n",
            "\n"
          ]
        },
        {
          "output_type": "stream",
          "name": "stderr",
          "text": [
            "Installing package into ‘/usr/local/lib/R/site-library’\n",
            "(as ‘lib’ is unspecified)\n",
            "\n",
            "Downloading GitHub repo mjskay/tidybayes@dev\n",
            "\n"
          ]
        },
        {
          "output_type": "stream",
          "name": "stdout",
          "text": [
            "\n",
            "\u001b[36m──\u001b[39m \u001b[36mR CMD build\u001b[39m \u001b[36m─────────────────────────────────────────────────────────────────\u001b[39m\n",
            "* checking for file ‘/tmp/RtmpiA1nP6/remotes8073c3adb03/mjskay-tidybayes-fb49436/DESCRIPTION’ ... OK\n",
            "* preparing ‘tidybayes’:\n",
            "* checking DESCRIPTION meta-information ... OK\n",
            "* checking for LF line-endings in source and make files and shell scripts\n",
            "* checking for empty or unneeded directories\n",
            "Omitted ‘LazyData’ from DESCRIPTION\n",
            "* building ‘tidybayes_3.0.7.9000.tar.gz’\n",
            "\n"
          ]
        },
        {
          "output_type": "stream",
          "name": "stderr",
          "text": [
            "Installing package into ‘/usr/local/lib/R/site-library’\n",
            "(as ‘lib’ is unspecified)\n",
            "\n"
          ]
        }
      ],
      "source": [
        "## R code\n",
        "install.packages(c(\"coda\",\"mvtnorm\",\"devtools\",\"loo\",\"dagitty\",\"tidybayes\",\"remotes\",\"magrittr\"))\n",
        "remotes::install_github(\"stan-dev/cmdstanr\")\n",
        "devtools::install_github(\"rmcelreath/rethinking\")\n",
        "devtools::install_github(\"mjskay/tidybayes\", ref = \"dev\")"
      ]
    },
    {
      "cell_type": "code",
      "execution_count": null,
      "id": "e1ad743b-30b5-4d60-a997-d99372e4475d",
      "metadata": {
        "colab": {
          "base_uri": "https://localhost:8080/"
        },
        "id": "e1ad743b-30b5-4d60-a997-d99372e4475d",
        "outputId": "3c302479-8442-4503-a057-3079c6c0b38b"
      },
      "outputs": [
        {
          "output_type": "stream",
          "name": "stderr",
          "text": [
            "This is cmdstanr version 0.8.1.9000\n",
            "\n",
            "- CmdStanR documentation and vignettes: mc-stan.org/cmdstanr\n",
            "\n",
            "- Use set_cmdstan_path() to set the path to CmdStan\n",
            "\n",
            "- Use install_cmdstan() to install CmdStan\n",
            "\n",
            "The C++ toolchain required for CmdStan is setup properly!\n",
            "\n",
            "* Latest CmdStan release is v2.36.0\n",
            "\n",
            "* Installing CmdStan v2.36.0 in /root/.cmdstan/cmdstan-2.36.0\n",
            "\n",
            "* Downloading cmdstan-2.36.0.tar.gz from GitHub...\n",
            "\n",
            "* Download complete\n",
            "\n",
            "* Unpacking archive...\n",
            "\n",
            "* Building CmdStan binaries...\n",
            "\n"
          ]
        },
        {
          "output_type": "stream",
          "name": "stdout",
          "text": [
            "g++ -Wno-deprecated-declarations -std=c++17 -pthread -D_REENTRANT -Wno-sign-compare -Wno-ignored-attributes -Wno-class-memaccess      -I stan/lib/stan_math/lib/tbb_2020.3/include    -O3 -I src -I stan/src -I stan/lib/rapidjson_1.1.0/ -I lib/CLI11-1.9.1/ -I stan/lib/stan_math/ -I stan/lib/stan_math/lib/eigen_3.4.0 -I stan/lib/stan_math/lib/boost_1.84.0 -I stan/lib/stan_math/lib/sundials_6.1.1/include -I stan/lib/stan_math/lib/sundials_6.1.1/src/sundials    -DBOOST_DISABLE_ASSERTS          -c -MT bin/cmdstan/stansummary.o -MM -E -MG -MP -MF src/cmdstan/stansummary.d src/cmdstan/stansummary.cpp\n",
            "cp bin/linux-stanc bin/stanc\n",
            "g++ -pipe   -pthread -D_REENTRANT  -O3 -I stan/lib/stan_math/lib/sundials_6.1.1/include -I stan/lib/stan_math/lib/sundials_6.1.1/src/sundials -DNO_FPRINTF_OUTPUT     -O3  -c -x c -include stan/lib/stan_math/lib/sundials_6.1.1/include/stan_sundials_printf_override.hpp stan/lib/stan_math/lib/sundials_6.1.1/src/nvector/serial/nvector_serial.c -o stan/lib/stan_math/lib/sundials_6.1.1/src/nvector/serial/nvector_serial.o\n",
            "chmod +x bin/stanc\n",
            "g++ -pipe   -pthread -D_REENTRANT  -O3 -I stan/lib/stan_math/lib/sundials_6.1.1/include -I stan/lib/stan_math/lib/sundials_6.1.1/src/sundials -DNO_FPRINTF_OUTPUT     -O3  -c -x c -include stan/lib/stan_math/lib/sundials_6.1.1/include/stan_sundials_printf_override.hpp stan/lib/stan_math/lib/sundials_6.1.1/src/sundials/sundials_math.c -o stan/lib/stan_math/lib/sundials_6.1.1/src/sundials/sundials_math.o\n",
            "g++ -pipe   -pthread -D_REENTRANT  -O3 -I stan/lib/stan_math/lib/sundials_6.1.1/include -I stan/lib/stan_math/lib/sundials_6.1.1/src/sundials -DNO_FPRINTF_OUTPUT     -O3  -c -x c -include stan/lib/stan_math/lib/sundials_6.1.1/include/stan_sundials_printf_override.hpp stan/lib/stan_math/lib/sundials_6.1.1/src/cvodes/cvodea.c -o stan/lib/stan_math/lib/sundials_6.1.1/src/cvodes/cvodea.o\n",
            "g++ -pipe   -pthread -D_REENTRANT  -O3 -I stan/lib/stan_math/lib/sundials_6.1.1/include -I stan/lib/stan_math/lib/sundials_6.1.1/src/sundials -DNO_FPRINTF_OUTPUT     -O3  -c -x c -include stan/lib/stan_math/lib/sundials_6.1.1/include/stan_sundials_printf_override.hpp stan/lib/stan_math/lib/sundials_6.1.1/src/cvodes/cvodea_io.c -o stan/lib/stan_math/lib/sundials_6.1.1/src/cvodes/cvodea_io.o\n",
            "g++ -pipe   -pthread -D_REENTRANT  -O3 -I stan/lib/stan_math/lib/sundials_6.1.1/include -I stan/lib/stan_math/lib/sundials_6.1.1/src/sundials -DNO_FPRINTF_OUTPUT     -O3  -c -x c -include stan/lib/stan_math/lib/sundials_6.1.1/include/stan_sundials_printf_override.hpp stan/lib/stan_math/lib/sundials_6.1.1/src/cvodes/cvodes_bandpre.c -o stan/lib/stan_math/lib/sundials_6.1.1/src/cvodes/cvodes_bandpre.o\n",
            "g++ -pipe   -pthread -D_REENTRANT  -O3 -I stan/lib/stan_math/lib/sundials_6.1.1/include -I stan/lib/stan_math/lib/sundials_6.1.1/src/sundials -DNO_FPRINTF_OUTPUT     -O3  -c -x c -include stan/lib/stan_math/lib/sundials_6.1.1/include/stan_sundials_printf_override.hpp stan/lib/stan_math/lib/sundials_6.1.1/src/cvodes/cvodes_bbdpre.c -o stan/lib/stan_math/lib/sundials_6.1.1/src/cvodes/cvodes_bbdpre.o\n",
            "g++ -pipe   -pthread -D_REENTRANT  -O3 -I stan/lib/stan_math/lib/sundials_6.1.1/include -I stan/lib/stan_math/lib/sundials_6.1.1/src/sundials -DNO_FPRINTF_OUTPUT     -O3  -c -x c -include stan/lib/stan_math/lib/sundials_6.1.1/include/stan_sundials_printf_override.hpp stan/lib/stan_math/lib/sundials_6.1.1/src/cvodes/cvodes.c -o stan/lib/stan_math/lib/sundials_6.1.1/src/cvodes/cvodes.o\n",
            "g++ -pipe   -pthread -D_REENTRANT  -O3 -I stan/lib/stan_math/lib/sundials_6.1.1/include -I stan/lib/stan_math/lib/sundials_6.1.1/src/sundials -DNO_FPRINTF_OUTPUT     -O3  -c -x c -include stan/lib/stan_math/lib/sundials_6.1.1/include/stan_sundials_printf_override.hpp stan/lib/stan_math/lib/sundials_6.1.1/src/cvodes/cvodes_diag.c -o stan/lib/stan_math/lib/sundials_6.1.1/src/cvodes/cvodes_diag.o\n",
            "g++ -pipe   -pthread -D_REENTRANT  -O3 -I stan/lib/stan_math/lib/sundials_6.1.1/include -I stan/lib/stan_math/lib/sundials_6.1.1/src/sundials -DNO_FPRINTF_OUTPUT     -O3  -c -x c -include stan/lib/stan_math/lib/sundials_6.1.1/include/stan_sundials_printf_override.hpp stan/lib/stan_math/lib/sundials_6.1.1/src/cvodes/cvodes_direct.c -o stan/lib/stan_math/lib/sundials_6.1.1/src/cvodes/cvodes_direct.o\n",
            "g++ -pipe   -pthread -D_REENTRANT  -O3 -I stan/lib/stan_math/lib/sundials_6.1.1/include -I stan/lib/stan_math/lib/sundials_6.1.1/src/sundials -DNO_FPRINTF_OUTPUT     -O3  -c -x c -include stan/lib/stan_math/lib/sundials_6.1.1/include/stan_sundials_printf_override.hpp stan/lib/stan_math/lib/sundials_6.1.1/src/cvodes/cvodes_io.c -o stan/lib/stan_math/lib/sundials_6.1.1/src/cvodes/cvodes_io.o\n",
            "g++ -pipe   -pthread -D_REENTRANT  -O3 -I stan/lib/stan_math/lib/sundials_6.1.1/include -I stan/lib/stan_math/lib/sundials_6.1.1/src/sundials -DNO_FPRINTF_OUTPUT     -O3  -c -x c -include stan/lib/stan_math/lib/sundials_6.1.1/include/stan_sundials_printf_override.hpp stan/lib/stan_math/lib/sundials_6.1.1/src/cvodes/cvodes_ls.c -o stan/lib/stan_math/lib/sundials_6.1.1/src/cvodes/cvodes_ls.o\n",
            "g++ -pipe   -pthread -D_REENTRANT  -O3 -I stan/lib/stan_math/lib/sundials_6.1.1/include -I stan/lib/stan_math/lib/sundials_6.1.1/src/sundials -DNO_FPRINTF_OUTPUT     -O3  -c -x c -include stan/lib/stan_math/lib/sundials_6.1.1/include/stan_sundials_printf_override.hpp stan/lib/stan_math/lib/sundials_6.1.1/src/cvodes/cvodes_nls.c -o stan/lib/stan_math/lib/sundials_6.1.1/src/cvodes/cvodes_nls.o\n",
            "g++ -pipe   -pthread -D_REENTRANT  -O3 -I stan/lib/stan_math/lib/sundials_6.1.1/include -I stan/lib/stan_math/lib/sundials_6.1.1/src/sundials -DNO_FPRINTF_OUTPUT     -O3  -c -x c -include stan/lib/stan_math/lib/sundials_6.1.1/include/stan_sundials_printf_override.hpp stan/lib/stan_math/lib/sundials_6.1.1/src/cvodes/cvodes_nls_sim.c -o stan/lib/stan_math/lib/sundials_6.1.1/src/cvodes/cvodes_nls_sim.o\n",
            "g++ -pipe   -pthread -D_REENTRANT  -O3 -I stan/lib/stan_math/lib/sundials_6.1.1/include -I stan/lib/stan_math/lib/sundials_6.1.1/src/sundials -DNO_FPRINTF_OUTPUT     -O3  -c -x c -include stan/lib/stan_math/lib/sundials_6.1.1/include/stan_sundials_printf_override.hpp stan/lib/stan_math/lib/sundials_6.1.1/src/cvodes/cvodes_nls_stg1.c -o stan/lib/stan_math/lib/sundials_6.1.1/src/cvodes/cvodes_nls_stg1.o\n",
            "g++ -pipe   -pthread -D_REENTRANT  -O3 -I stan/lib/stan_math/lib/sundials_6.1.1/include -I stan/lib/stan_math/lib/sundials_6.1.1/src/sundials -DNO_FPRINTF_OUTPUT     -O3  -c -x c -include stan/lib/stan_math/lib/sundials_6.1.1/include/stan_sundials_printf_override.hpp stan/lib/stan_math/lib/sundials_6.1.1/src/cvodes/cvodes_nls_stg.c -o stan/lib/stan_math/lib/sundials_6.1.1/src/cvodes/cvodes_nls_stg.o\n",
            "g++ -pipe   -pthread -D_REENTRANT  -O3 -I stan/lib/stan_math/lib/sundials_6.1.1/include -I stan/lib/stan_math/lib/sundials_6.1.1/src/sundials -DNO_FPRINTF_OUTPUT     -O3  -c -x c -include stan/lib/stan_math/lib/sundials_6.1.1/include/stan_sundials_printf_override.hpp stan/lib/stan_math/lib/sundials_6.1.1/src/cvodes/cvodes_spils.c -o stan/lib/stan_math/lib/sundials_6.1.1/src/cvodes/cvodes_spils.o\n",
            "g++ -pipe   -pthread -D_REENTRANT  -O3 -I stan/lib/stan_math/lib/sundials_6.1.1/include -I stan/lib/stan_math/lib/sundials_6.1.1/src/sundials -DNO_FPRINTF_OUTPUT     -O3  -c -x c -include stan/lib/stan_math/lib/sundials_6.1.1/include/stan_sundials_printf_override.hpp stan/lib/stan_math/lib/sundials_6.1.1/src/sundials/sundials_band.c -o stan/lib/stan_math/lib/sundials_6.1.1/src/sundials/sundials_band.o\n",
            "g++ -pipe   -pthread -D_REENTRANT  -O3 -I stan/lib/stan_math/lib/sundials_6.1.1/include -I stan/lib/stan_math/lib/sundials_6.1.1/src/sundials -DNO_FPRINTF_OUTPUT     -O3  -c -x c -include stan/lib/stan_math/lib/sundials_6.1.1/include/stan_sundials_printf_override.hpp stan/lib/stan_math/lib/sundials_6.1.1/src/sundials/sundials_context.c -o stan/lib/stan_math/lib/sundials_6.1.1/src/sundials/sundials_context.o\n",
            "g++ -pipe   -pthread -D_REENTRANT  -O3 -I stan/lib/stan_math/lib/sundials_6.1.1/include -I stan/lib/stan_math/lib/sundials_6.1.1/src/sundials -DNO_FPRINTF_OUTPUT     -O3  -c -x c -include stan/lib/stan_math/lib/sundials_6.1.1/include/stan_sundials_printf_override.hpp stan/lib/stan_math/lib/sundials_6.1.1/src/sundials/sundials_dense.c -o stan/lib/stan_math/lib/sundials_6.1.1/src/sundials/sundials_dense.o\n",
            "g++ -pipe   -pthread -D_REENTRANT  -O3 -I stan/lib/stan_math/lib/sundials_6.1.1/include -I stan/lib/stan_math/lib/sundials_6.1.1/src/sundials -DNO_FPRINTF_OUTPUT     -O3  -c -x c -include stan/lib/stan_math/lib/sundials_6.1.1/include/stan_sundials_printf_override.hpp stan/lib/stan_math/lib/sundials_6.1.1/src/sundials/sundials_direct.c -o stan/lib/stan_math/lib/sundials_6.1.1/src/sundials/sundials_direct.o\n",
            "g++ -pipe   -pthread -D_REENTRANT  -O3 -I stan/lib/stan_math/lib/sundials_6.1.1/include -I stan/lib/stan_math/lib/sundials_6.1.1/src/sundials -DNO_FPRINTF_OUTPUT     -O3  -c -x c -include stan/lib/stan_math/lib/sundials_6.1.1/include/stan_sundials_printf_override.hpp stan/lib/stan_math/lib/sundials_6.1.1/src/sundials/sundials_futils.c -o stan/lib/stan_math/lib/sundials_6.1.1/src/sundials/sundials_futils.o\n",
            "g++ -pipe   -pthread -D_REENTRANT  -O3 -I stan/lib/stan_math/lib/sundials_6.1.1/include -I stan/lib/stan_math/lib/sundials_6.1.1/src/sundials -DNO_FPRINTF_OUTPUT     -O3  -c -x c -include stan/lib/stan_math/lib/sundials_6.1.1/include/stan_sundials_printf_override.hpp stan/lib/stan_math/lib/sundials_6.1.1/src/sundials/sundials_iterative.c -o stan/lib/stan_math/lib/sundials_6.1.1/src/sundials/sundials_iterative.o\n",
            "g++ -pipe   -pthread -D_REENTRANT  -O3 -I stan/lib/stan_math/lib/sundials_6.1.1/include -I stan/lib/stan_math/lib/sundials_6.1.1/src/sundials -DNO_FPRINTF_OUTPUT     -O3  -c -x c -include stan/lib/stan_math/lib/sundials_6.1.1/include/stan_sundials_printf_override.hpp stan/lib/stan_math/lib/sundials_6.1.1/src/sundials/sundials_linearsolver.c -o stan/lib/stan_math/lib/sundials_6.1.1/src/sundials/sundials_linearsolver.o\n",
            "g++ -pipe   -pthread -D_REENTRANT  -O3 -I stan/lib/stan_math/lib/sundials_6.1.1/include -I stan/lib/stan_math/lib/sundials_6.1.1/src/sundials -DNO_FPRINTF_OUTPUT     -O3  -c -x c -include stan/lib/stan_math/lib/sundials_6.1.1/include/stan_sundials_printf_override.hpp stan/lib/stan_math/lib/sundials_6.1.1/src/sundials/sundials_matrix.c -o stan/lib/stan_math/lib/sundials_6.1.1/src/sundials/sundials_matrix.o\n",
            "g++ -pipe   -pthread -D_REENTRANT  -O3 -I stan/lib/stan_math/lib/sundials_6.1.1/include -I stan/lib/stan_math/lib/sundials_6.1.1/src/sundials -DNO_FPRINTF_OUTPUT     -O3  -c -x c -include stan/lib/stan_math/lib/sundials_6.1.1/include/stan_sundials_printf_override.hpp stan/lib/stan_math/lib/sundials_6.1.1/src/sundials/sundials_memory.c -o stan/lib/stan_math/lib/sundials_6.1.1/src/sundials/sundials_memory.o\n",
            "g++ -pipe   -pthread -D_REENTRANT  -O3 -I stan/lib/stan_math/lib/sundials_6.1.1/include -I stan/lib/stan_math/lib/sundials_6.1.1/src/sundials -DNO_FPRINTF_OUTPUT     -O3  -c -x c -include stan/lib/stan_math/lib/sundials_6.1.1/include/stan_sundials_printf_override.hpp stan/lib/stan_math/lib/sundials_6.1.1/src/sundials/sundials_nonlinearsolver.c -o stan/lib/stan_math/lib/sundials_6.1.1/src/sundials/sundials_nonlinearsolver.o\n",
            "g++ -pipe   -pthread -D_REENTRANT  -O3 -I stan/lib/stan_math/lib/sundials_6.1.1/include -I stan/lib/stan_math/lib/sundials_6.1.1/src/sundials -DNO_FPRINTF_OUTPUT     -O3  -c -x c -include stan/lib/stan_math/lib/sundials_6.1.1/include/stan_sundials_printf_override.hpp stan/lib/stan_math/lib/sundials_6.1.1/src/sundials/sundials_nvector.c -o stan/lib/stan_math/lib/sundials_6.1.1/src/sundials/sundials_nvector.o\n",
            "g++ -pipe   -pthread -D_REENTRANT  -O3 -I stan/lib/stan_math/lib/sundials_6.1.1/include -I stan/lib/stan_math/lib/sundials_6.1.1/src/sundials -DNO_FPRINTF_OUTPUT     -O3  -c -x c -include stan/lib/stan_math/lib/sundials_6.1.1/include/stan_sundials_printf_override.hpp stan/lib/stan_math/lib/sundials_6.1.1/src/sundials/sundials_nvector_senswrapper.c -o stan/lib/stan_math/lib/sundials_6.1.1/src/sundials/sundials_nvector_senswrapper.o\n",
            "g++ -pipe   -pthread -D_REENTRANT  -O3 -I stan/lib/stan_math/lib/sundials_6.1.1/include -I stan/lib/stan_math/lib/sundials_6.1.1/src/sundials -DNO_FPRINTF_OUTPUT     -O3  -c -x c -include stan/lib/stan_math/lib/sundials_6.1.1/include/stan_sundials_printf_override.hpp stan/lib/stan_math/lib/sundials_6.1.1/src/sundials/sundials_version.c -o stan/lib/stan_math/lib/sundials_6.1.1/src/sundials/sundials_version.o\n",
            "g++ -pipe   -pthread -D_REENTRANT  -O3 -I stan/lib/stan_math/lib/sundials_6.1.1/include -I stan/lib/stan_math/lib/sundials_6.1.1/src/sundials -DNO_FPRINTF_OUTPUT     -O3  -c -x c -include stan/lib/stan_math/lib/sundials_6.1.1/include/stan_sundials_printf_override.hpp stan/lib/stan_math/lib/sundials_6.1.1/src/sunmatrix/band/sunmatrix_band.c -o stan/lib/stan_math/lib/sundials_6.1.1/src/sunmatrix/band/sunmatrix_band.o\n",
            "g++ -pipe   -pthread -D_REENTRANT  -O3 -I stan/lib/stan_math/lib/sundials_6.1.1/include -I stan/lib/stan_math/lib/sundials_6.1.1/src/sundials -DNO_FPRINTF_OUTPUT     -O3  -c -x c -include stan/lib/stan_math/lib/sundials_6.1.1/include/stan_sundials_printf_override.hpp stan/lib/stan_math/lib/sundials_6.1.1/src/sunmatrix/dense/sunmatrix_dense.c -o stan/lib/stan_math/lib/sundials_6.1.1/src/sunmatrix/dense/sunmatrix_dense.o\n",
            "g++ -pipe   -pthread -D_REENTRANT  -O3 -I stan/lib/stan_math/lib/sundials_6.1.1/include -I stan/lib/stan_math/lib/sundials_6.1.1/src/sundials -DNO_FPRINTF_OUTPUT     -O3  -c -x c -include stan/lib/stan_math/lib/sundials_6.1.1/include/stan_sundials_printf_override.hpp stan/lib/stan_math/lib/sundials_6.1.1/src/sunlinsol/band/sunlinsol_band.c -o stan/lib/stan_math/lib/sundials_6.1.1/src/sunlinsol/band/sunlinsol_band.o\n",
            "g++ -pipe   -pthread -D_REENTRANT  -O3 -I stan/lib/stan_math/lib/sundials_6.1.1/include -I stan/lib/stan_math/lib/sundials_6.1.1/src/sundials -DNO_FPRINTF_OUTPUT     -O3  -c -x c -include stan/lib/stan_math/lib/sundials_6.1.1/include/stan_sundials_printf_override.hpp stan/lib/stan_math/lib/sundials_6.1.1/src/sunlinsol/dense/sunlinsol_dense.c -o stan/lib/stan_math/lib/sundials_6.1.1/src/sunlinsol/dense/sunlinsol_dense.o\n",
            "g++ -pipe   -pthread -D_REENTRANT  -O3 -I stan/lib/stan_math/lib/sundials_6.1.1/include -I stan/lib/stan_math/lib/sundials_6.1.1/src/sundials -DNO_FPRINTF_OUTPUT     -O3  -c -x c -include stan/lib/stan_math/lib/sundials_6.1.1/include/stan_sundials_printf_override.hpp stan/lib/stan_math/lib/sundials_6.1.1/src/sunnonlinsol/newton/sunnonlinsol_newton.c -o stan/lib/stan_math/lib/sundials_6.1.1/src/sunnonlinsol/newton/sunnonlinsol_newton.o\n",
            "g++ -pipe   -pthread -D_REENTRANT  -O3 -I stan/lib/stan_math/lib/sundials_6.1.1/include -I stan/lib/stan_math/lib/sundials_6.1.1/src/sundials -DNO_FPRINTF_OUTPUT     -O3  -c -x c -include stan/lib/stan_math/lib/sundials_6.1.1/include/stan_sundials_printf_override.hpp stan/lib/stan_math/lib/sundials_6.1.1/src/sunnonlinsol/fixedpoint/sunnonlinsol_fixedpoint.c -o stan/lib/stan_math/lib/sundials_6.1.1/src/sunnonlinsol/fixedpoint/sunnonlinsol_fixedpoint.o\n",
            "g++ -pipe   -pthread -D_REENTRANT  -O3 -I stan/lib/stan_math/lib/sundials_6.1.1/include -I stan/lib/stan_math/lib/sundials_6.1.1/src/sundials -DNO_FPRINTF_OUTPUT     -O3  -c -x c -include stan/lib/stan_math/lib/sundials_6.1.1/include/stan_sundials_printf_override.hpp stan/lib/stan_math/lib/sundials_6.1.1/src/idas/idaa.c -o stan/lib/stan_math/lib/sundials_6.1.1/src/idas/idaa.o\n",
            "g++ -pipe   -pthread -D_REENTRANT  -O3 -I stan/lib/stan_math/lib/sundials_6.1.1/include -I stan/lib/stan_math/lib/sundials_6.1.1/src/sundials -DNO_FPRINTF_OUTPUT     -O3  -c -x c -include stan/lib/stan_math/lib/sundials_6.1.1/include/stan_sundials_printf_override.hpp stan/lib/stan_math/lib/sundials_6.1.1/src/idas/idaa_io.c -o stan/lib/stan_math/lib/sundials_6.1.1/src/idas/idaa_io.o\n",
            "g++ -pipe   -pthread -D_REENTRANT  -O3 -I stan/lib/stan_math/lib/sundials_6.1.1/include -I stan/lib/stan_math/lib/sundials_6.1.1/src/sundials -DNO_FPRINTF_OUTPUT     -O3  -c -x c -include stan/lib/stan_math/lib/sundials_6.1.1/include/stan_sundials_printf_override.hpp stan/lib/stan_math/lib/sundials_6.1.1/src/idas/idas_bbdpre.c -o stan/lib/stan_math/lib/sundials_6.1.1/src/idas/idas_bbdpre.o\n",
            "g++ -pipe   -pthread -D_REENTRANT  -O3 -I stan/lib/stan_math/lib/sundials_6.1.1/include -I stan/lib/stan_math/lib/sundials_6.1.1/src/sundials -DNO_FPRINTF_OUTPUT     -O3  -c -x c -include stan/lib/stan_math/lib/sundials_6.1.1/include/stan_sundials_printf_override.hpp stan/lib/stan_math/lib/sundials_6.1.1/src/idas/idas.c -o stan/lib/stan_math/lib/sundials_6.1.1/src/idas/idas.o\n",
            "g++ -pipe   -pthread -D_REENTRANT  -O3 -I stan/lib/stan_math/lib/sundials_6.1.1/include -I stan/lib/stan_math/lib/sundials_6.1.1/src/sundials -DNO_FPRINTF_OUTPUT     -O3  -c -x c -include stan/lib/stan_math/lib/sundials_6.1.1/include/stan_sundials_printf_override.hpp stan/lib/stan_math/lib/sundials_6.1.1/src/idas/idas_direct.c -o stan/lib/stan_math/lib/sundials_6.1.1/src/idas/idas_direct.o\n",
            "g++ -pipe   -pthread -D_REENTRANT  -O3 -I stan/lib/stan_math/lib/sundials_6.1.1/include -I stan/lib/stan_math/lib/sundials_6.1.1/src/sundials -DNO_FPRINTF_OUTPUT     -O3  -c -x c -include stan/lib/stan_math/lib/sundials_6.1.1/include/stan_sundials_printf_override.hpp stan/lib/stan_math/lib/sundials_6.1.1/src/idas/idas_ic.c -o stan/lib/stan_math/lib/sundials_6.1.1/src/idas/idas_ic.o\n",
            "g++ -pipe   -pthread -D_REENTRANT  -O3 -I stan/lib/stan_math/lib/sundials_6.1.1/include -I stan/lib/stan_math/lib/sundials_6.1.1/src/sundials -DNO_FPRINTF_OUTPUT     -O3  -c -x c -include stan/lib/stan_math/lib/sundials_6.1.1/include/stan_sundials_printf_override.hpp stan/lib/stan_math/lib/sundials_6.1.1/src/idas/idas_io.c -o stan/lib/stan_math/lib/sundials_6.1.1/src/idas/idas_io.o\n",
            "g++ -pipe   -pthread -D_REENTRANT  -O3 -I stan/lib/stan_math/lib/sundials_6.1.1/include -I stan/lib/stan_math/lib/sundials_6.1.1/src/sundials -DNO_FPRINTF_OUTPUT     -O3  -c -x c -include stan/lib/stan_math/lib/sundials_6.1.1/include/stan_sundials_printf_override.hpp stan/lib/stan_math/lib/sundials_6.1.1/src/idas/idas_ls.c -o stan/lib/stan_math/lib/sundials_6.1.1/src/idas/idas_ls.o\n",
            "g++ -pipe   -pthread -D_REENTRANT  -O3 -I stan/lib/stan_math/lib/sundials_6.1.1/include -I stan/lib/stan_math/lib/sundials_6.1.1/src/sundials -DNO_FPRINTF_OUTPUT     -O3  -c -x c -include stan/lib/stan_math/lib/sundials_6.1.1/include/stan_sundials_printf_override.hpp stan/lib/stan_math/lib/sundials_6.1.1/src/idas/idas_nls.c -o stan/lib/stan_math/lib/sundials_6.1.1/src/idas/idas_nls.o\n",
            "g++ -pipe   -pthread -D_REENTRANT  -O3 -I stan/lib/stan_math/lib/sundials_6.1.1/include -I stan/lib/stan_math/lib/sundials_6.1.1/src/sundials -DNO_FPRINTF_OUTPUT     -O3  -c -x c -include stan/lib/stan_math/lib/sundials_6.1.1/include/stan_sundials_printf_override.hpp stan/lib/stan_math/lib/sundials_6.1.1/src/idas/idas_nls_sim.c -o stan/lib/stan_math/lib/sundials_6.1.1/src/idas/idas_nls_sim.o\n",
            "g++ -pipe   -pthread -D_REENTRANT  -O3 -I stan/lib/stan_math/lib/sundials_6.1.1/include -I stan/lib/stan_math/lib/sundials_6.1.1/src/sundials -DNO_FPRINTF_OUTPUT     -O3  -c -x c -include stan/lib/stan_math/lib/sundials_6.1.1/include/stan_sundials_printf_override.hpp stan/lib/stan_math/lib/sundials_6.1.1/src/idas/idas_nls_stg.c -o stan/lib/stan_math/lib/sundials_6.1.1/src/idas/idas_nls_stg.o\n",
            "g++ -pipe   -pthread -D_REENTRANT  -O3 -I stan/lib/stan_math/lib/sundials_6.1.1/include -I stan/lib/stan_math/lib/sundials_6.1.1/src/sundials -DNO_FPRINTF_OUTPUT     -O3  -c -x c -include stan/lib/stan_math/lib/sundials_6.1.1/include/stan_sundials_printf_override.hpp stan/lib/stan_math/lib/sundials_6.1.1/src/idas/idas_spils.c -o stan/lib/stan_math/lib/sundials_6.1.1/src/idas/idas_spils.o\n",
            "g++ -pipe   -pthread -D_REENTRANT  -O3 -I stan/lib/stan_math/lib/sundials_6.1.1/include -I stan/lib/stan_math/lib/sundials_6.1.1/src/sundials -DNO_FPRINTF_OUTPUT     -O3  -c -x c -include stan/lib/stan_math/lib/sundials_6.1.1/include/stan_sundials_printf_override.hpp stan/lib/stan_math/lib/sundials_6.1.1/src/kinsol/kinsol_bbdpre.c -o stan/lib/stan_math/lib/sundials_6.1.1/src/kinsol/kinsol_bbdpre.o\n",
            "g++ -pipe   -pthread -D_REENTRANT  -O3 -I stan/lib/stan_math/lib/sundials_6.1.1/include -I stan/lib/stan_math/lib/sundials_6.1.1/src/sundials -DNO_FPRINTF_OUTPUT     -O3  -c -x c -include stan/lib/stan_math/lib/sundials_6.1.1/include/stan_sundials_printf_override.hpp stan/lib/stan_math/lib/sundials_6.1.1/src/kinsol/kinsol.c -o stan/lib/stan_math/lib/sundials_6.1.1/src/kinsol/kinsol.o\n",
            "g++ -pipe   -pthread -D_REENTRANT  -O3 -I stan/lib/stan_math/lib/sundials_6.1.1/include -I stan/lib/stan_math/lib/sundials_6.1.1/src/sundials -DNO_FPRINTF_OUTPUT     -O3  -c -x c -include stan/lib/stan_math/lib/sundials_6.1.1/include/stan_sundials_printf_override.hpp stan/lib/stan_math/lib/sundials_6.1.1/src/kinsol/kinsol_direct.c -o stan/lib/stan_math/lib/sundials_6.1.1/src/kinsol/kinsol_direct.o\n",
            "g++ -pipe   -pthread -D_REENTRANT  -O3 -I stan/lib/stan_math/lib/sundials_6.1.1/include -I stan/lib/stan_math/lib/sundials_6.1.1/src/sundials -DNO_FPRINTF_OUTPUT     -O3  -c -x c -include stan/lib/stan_math/lib/sundials_6.1.1/include/stan_sundials_printf_override.hpp stan/lib/stan_math/lib/sundials_6.1.1/src/kinsol/kinsol_io.c -o stan/lib/stan_math/lib/sundials_6.1.1/src/kinsol/kinsol_io.o\n",
            "g++ -pipe   -pthread -D_REENTRANT  -O3 -I stan/lib/stan_math/lib/sundials_6.1.1/include -I stan/lib/stan_math/lib/sundials_6.1.1/src/sundials -DNO_FPRINTF_OUTPUT     -O3  -c -x c -include stan/lib/stan_math/lib/sundials_6.1.1/include/stan_sundials_printf_override.hpp stan/lib/stan_math/lib/sundials_6.1.1/src/kinsol/kinsol_ls.c -o stan/lib/stan_math/lib/sundials_6.1.1/src/kinsol/kinsol_ls.o\n",
            "g++ -pipe   -pthread -D_REENTRANT  -O3 -I stan/lib/stan_math/lib/sundials_6.1.1/include -I stan/lib/stan_math/lib/sundials_6.1.1/src/sundials -DNO_FPRINTF_OUTPUT     -O3  -c -x c -include stan/lib/stan_math/lib/sundials_6.1.1/include/stan_sundials_printf_override.hpp stan/lib/stan_math/lib/sundials_6.1.1/src/kinsol/kinsol_spils.c -o stan/lib/stan_math/lib/sundials_6.1.1/src/kinsol/kinsol_spils.o\n",
            "touch stan/lib/stan_math/lib/tbb/tbb-make-check\n",
            "\n",
            "--- Compiling the main object file. This might take up to a minute. ---\n",
            "g++ -Wno-deprecated-declarations -std=c++17 -pthread -D_REENTRANT -Wno-sign-compare -Wno-ignored-attributes -Wno-class-memaccess      -I stan/lib/stan_math/lib/tbb_2020.3/include    -O3 -I src -I stan/src -I stan/lib/rapidjson_1.1.0/ -I lib/CLI11-1.9.1/ -I stan/lib/stan_math/ -I stan/lib/stan_math/lib/eigen_3.4.0 -I stan/lib/stan_math/lib/boost_1.84.0 -I stan/lib/stan_math/lib/sundials_6.1.1/include -I stan/lib/stan_math/lib/sundials_6.1.1/src/sundials    -DBOOST_DISABLE_ASSERTS          -c -o src/cmdstan/main.o src/cmdstan/main.cpp\n",
            "\n",
            "--- Compiling pre-compiled header. This might take a few seconds. ---\n",
            "g++ -Wno-deprecated-declarations -std=c++17 -pthread -D_REENTRANT -Wno-sign-compare -Wno-ignored-attributes -Wno-class-memaccess      -I stan/lib/stan_math/lib/tbb_2020.3/include    -O3 -I src -I stan/src -I stan/lib/rapidjson_1.1.0/ -I lib/CLI11-1.9.1/ -I stan/lib/stan_math/ -I stan/lib/stan_math/lib/eigen_3.4.0 -I stan/lib/stan_math/lib/boost_1.84.0 -I stan/lib/stan_math/lib/sundials_6.1.1/include -I stan/lib/stan_math/lib/sundials_6.1.1/src/sundials    -DBOOST_DISABLE_ASSERTS          -c stan/src/stan/model/model_header.hpp -o stan/src/stan/model/model_header.hpp.gch/model_header_11_4.hpp.gch\n",
            "g++ -Wno-deprecated-declarations -std=c++17 -pthread -D_REENTRANT -Wno-sign-compare -Wno-ignored-attributes -Wno-class-memaccess      -I stan/lib/stan_math/lib/tbb_2020.3/include    -O3 -I src -I stan/src -I stan/lib/rapidjson_1.1.0/ -I lib/CLI11-1.9.1/ -I stan/lib/stan_math/ -I stan/lib/stan_math/lib/eigen_3.4.0 -I stan/lib/stan_math/lib/boost_1.84.0 -I stan/lib/stan_math/lib/sundials_6.1.1/include -I stan/lib/stan_math/lib/sundials_6.1.1/src/sundials    -DBOOST_DISABLE_ASSERTS          -c -fvisibility=hidden src/cmdstan/stansummary.cpp -o bin/cmdstan/stansummary.o\n",
            "g++ -Wno-deprecated-declarations -std=c++17 -pthread -D_REENTRANT -Wno-sign-compare -Wno-ignored-attributes -Wno-class-memaccess      -I stan/lib/stan_math/lib/tbb_2020.3/include    -O3 -I src -I stan/src -I stan/lib/rapidjson_1.1.0/ -I lib/CLI11-1.9.1/ -I stan/lib/stan_math/ -I stan/lib/stan_math/lib/eigen_3.4.0 -I stan/lib/stan_math/lib/boost_1.84.0 -I stan/lib/stan_math/lib/sundials_6.1.1/include -I stan/lib/stan_math/lib/sundials_6.1.1/src/sundials    -DBOOST_DISABLE_ASSERTS          -c -fvisibility=hidden src/cmdstan/print.cpp -o bin/cmdstan/print.o\n",
            "g++ -Wno-deprecated-declarations -std=c++17 -pthread -D_REENTRANT -Wno-sign-compare -Wno-ignored-attributes -Wno-class-memaccess      -I stan/lib/stan_math/lib/tbb_2020.3/include    -O3 -I src -I stan/src -I stan/lib/rapidjson_1.1.0/ -I lib/CLI11-1.9.1/ -I stan/lib/stan_math/ -I stan/lib/stan_math/lib/eigen_3.4.0 -I stan/lib/stan_math/lib/boost_1.84.0 -I stan/lib/stan_math/lib/sundials_6.1.1/include -I stan/lib/stan_math/lib/sundials_6.1.1/src/sundials    -DBOOST_DISABLE_ASSERTS          -c -fvisibility=hidden src/cmdstan/diagnose.cpp -o bin/cmdstan/diagnose.o\n",
            "ar -rs stan/lib/stan_math/lib/sundials_6.1.1/lib/libsundials_nvecserial.a stan/lib/stan_math/lib/sundials_6.1.1/src/nvector/serial/nvector_serial.o stan/lib/stan_math/lib/sundials_6.1.1/src/sundials/sundials_math.o\n",
            "\u001b[31mar: \u001b[39m\u001b[31mcreating stan/lib/stan_math/lib/sundials_6.1.1/lib/libsundials_nvecserial.a\n",
            "\u001b[39mar -rs stan/lib/stan_math/lib/sundials_6.1.1/lib/libsundials_cvodes.a stan/lib/stan_math/lib/sundials_6.1.1/src/cvodes/cvodea.o stan/lib/stan_math/lib/sundials_6.1.1/src/cvodes/cvodea_io.o stan/lib/stan_math/lib/sundials_6.1.1/src/cvodes/cvodes_bandpre.o stan/lib/stan_math/lib/sundials_6.1.1/src/cvodes/cvodes_bbdpre.o stan/lib/stan_math/lib/sundials_6.1.1/src/cvodes/cvodes.o stan/lib/stan_math/lib/sundials_6.1.1/src/cvodes/cvodes_diag.o stan/lib/stan_math/lib/sundials_6.1.1/src/cvodes/cvodes_direct.o stan/lib/stan_math/lib/sundials_6.1.1/src/cvodes/cvodes_io.o stan/lib/stan_math/lib/sundials_6.1.1/src/cvodes/cvodes_ls.o stan/lib/stan_math/lib/sundials_6.1.1/src/cvodes/cvodes_nls.o stan/lib/stan_math/lib/sundials_6.1.1/src/cvodes/cvodes_nls_sim.o stan/lib/stan_math/lib/sundials_6.1.1/src/cvodes/cvodes_nls_stg1.o stan/lib/stan_math/lib/sundials_6.1.1/src/cvodes/cvodes_nls_stg.o stan/lib/stan_math/lib/sundials_6.1.1/src/cvodes/cvodes_spils.o stan/lib/stan_math/lib/sundials_6.1.1/src/sundials/sundials_band.o stan/lib/stan_math/lib/sundials_6.1.1/src/sundials/sundials_context.o stan/lib/stan_math/lib/sundials_6.1.1/src/sundials/sundials_dense.o stan/lib/stan_math/lib/sundials_6.1.1/src/sundials/sundials_direct.o stan/lib/stan_math/lib/sundials_6.1.1/src/sundials/sundials_futils.o stan/lib/stan_math/lib/sundials_6.1.1/src/sundials/sundials_iterative.o stan/lib/stan_math/lib/sundials_6.1.1/src/sundials/sundials_linearsolver.o stan/lib/stan_math/lib/sundials_6.1.1/src/sundials/sundials_math.o stan/lib/stan_math/lib/sundials_6.1.1/src/sundials/sundials_matrix.o stan/lib/stan_math/lib/sundials_6.1.1/src/sundials/sundials_memory.o stan/lib/stan_math/lib/sundials_6.1.1/src/sundials/sundials_nonlinearsolver.o stan/lib/stan_math/lib/sundials_6.1.1/src/sundials/sundials_nvector.o stan/lib/stan_math/lib/sundials_6.1.1/src/sundials/sundials_nvector_senswrapper.o stan/lib/stan_math/lib/sundials_6.1.1/src/sundials/sundials_version.o stan/lib/stan_math/lib/sundials_6.1.1/src/sunmatrix/band/sunmatrix_band.o stan/lib/stan_math/lib/sundials_6.1.1/src/sunmatrix/dense/sunmatrix_dense.o stan/lib/stan_math/lib/sundials_6.1.1/src/sunlinsol/band/sunlinsol_band.o stan/lib/stan_math/lib/sundials_6.1.1/src/sunlinsol/dense/sunlinsol_dense.o stan/lib/stan_math/lib/sundials_6.1.1/src/sunnonlinsol/newton/sunnonlinsol_newton.o stan/lib/stan_math/lib/sundials_6.1.1/src/sunnonlinsol/fixedpoint/sunnonlinsol_fixedpoint.o\n",
            "\u001b[31mar: \u001b[39m\u001b[31mcreating stan/lib/stan_math/lib/sundials_6.1.1/lib/libsundials_cvodes.a\u001b[39m\u001b[31m\n",
            "\u001b[39mar -rs stan/lib/stan_math/lib/sundials_6.1.1/lib/libsundials_idas.a stan/lib/stan_math/lib/sundials_6.1.1/src/idas/idaa.o stan/lib/stan_math/lib/sundials_6.1.1/src/idas/idaa_io.o stan/lib/stan_math/lib/sundials_6.1.1/src/idas/idas_bbdpre.o stan/lib/stan_math/lib/sundials_6.1.1/src/idas/idas.o stan/lib/stan_math/lib/sundials_6.1.1/src/idas/idas_direct.o stan/lib/stan_math/lib/sundials_6.1.1/src/idas/idas_ic.o stan/lib/stan_math/lib/sundials_6.1.1/src/idas/idas_io.o stan/lib/stan_math/lib/sundials_6.1.1/src/idas/idas_ls.o stan/lib/stan_math/lib/sundials_6.1.1/src/idas/idas_nls.o stan/lib/stan_math/lib/sundials_6.1.1/src/idas/idas_nls_sim.o stan/lib/stan_math/lib/sundials_6.1.1/src/idas/idas_nls_stg.o stan/lib/stan_math/lib/sundials_6.1.1/src/idas/idas_spils.o stan/lib/stan_math/lib/sundials_6.1.1/src/sundials/sundials_band.o stan/lib/stan_math/lib/sundials_6.1.1/src/sundials/sundials_context.o stan/lib/stan_math/lib/sundials_6.1.1/src/sundials/sundials_dense.o stan/lib/stan_math/lib/sundials_6.1.1/src/sundials/sundials_direct.o stan/lib/stan_math/lib/sundials_6.1.1/src/sundials/sundials_futils.o stan/lib/stan_math/lib/sundials_6.1.1/src/sundials/sundials_iterative.o stan/lib/stan_math/lib/sundials_6.1.1/src/sundials/sundials_linearsolver.o stan/lib/stan_math/lib/sundials_6.1.1/src/sundials/sundials_math.o stan/lib/stan_math/lib/sundials_6.1.1/src/sundials/sundials_matrix.o stan/lib/stan_math/lib/sundials_6.1.1/src/sundials/sundials_memory.o stan/lib/stan_math/lib/sundials_6.1.1/src/sundials/sundials_nonlinearsolver.o stan/lib/stan_math/lib/sundials_6.1.1/src/sundials/sundials_nvector.o stan/lib/stan_math/lib/sundials_6.1.1/src/sundials/sundials_nvector_senswrapper.o stan/lib/stan_math/lib/sundials_6.1.1/src/sundials/sundials_version.o stan/lib/stan_math/lib/sundials_6.1.1/src/sunmatrix/band/sunmatrix_band.o stan/lib/stan_math/lib/sundials_6.1.1/src/sunmatrix/dense/sunmatrix_dense.o stan/lib/stan_math/lib/sundials_6.1.1/src/sunlinsol/band/sunlinsol_band.o stan/lib/stan_math/lib/sundials_6.1.1/src/sunlinsol/dense/sunlinsol_dense.o stan/lib/stan_math/lib/sundials_6.1.1/src/sunnonlinsol/newton/sunnonlinsol_newton.o stan/lib/stan_math/lib/sundials_6.1.1/src/sunnonlinsol/fixedpoint/sunnonlinsol_fixedpoint.o\n",
            "\u001b[31mar: \u001b[39m\u001b[31mcreating stan/lib/stan_math/lib/sundials_6.1.1/lib/libsundials_idas.a\u001b[39m\u001b[31m\n",
            "\u001b[39mar -rs stan/lib/stan_math/lib/sundials_6.1.1/lib/libsundials_kinsol.a stan/lib/stan_math/lib/sundials_6.1.1/src/kinsol/kinsol_bbdpre.o stan/lib/stan_math/lib/sundials_6.1.1/src/kinsol/kinsol.o stan/lib/stan_math/lib/sundials_6.1.1/src/kinsol/kinsol_direct.o stan/lib/stan_math/lib/sundials_6.1.1/src/kinsol/kinsol_io.o stan/lib/stan_math/lib/sundials_6.1.1/src/kinsol/kinsol_ls.o stan/lib/stan_math/lib/sundials_6.1.1/src/kinsol/kinsol_spils.o stan/lib/stan_math/lib/sundials_6.1.1/src/sundials/sundials_band.o stan/lib/stan_math/lib/sundials_6.1.1/src/sundials/sundials_context.o stan/lib/stan_math/lib/sundials_6.1.1/src/sundials/sundials_dense.o stan/lib/stan_math/lib/sundials_6.1.1/src/sundials/sundials_direct.o stan/lib/stan_math/lib/sundials_6.1.1/src/sundials/sundials_futils.o stan/lib/stan_math/lib/sundials_6.1.1/src/sundials/sundials_iterative.o stan/lib/stan_math/lib/sundials_6.1.1/src/sundials/sundials_linearsolver.o stan/lib/stan_math/lib/sundials_6.1.1/src/sundials/sundials_math.o stan/lib/stan_math/lib/sundials_6.1.1/src/sundials/sundials_matrix.o stan/lib/stan_math/lib/sundials_6.1.1/src/sundials/sundials_memory.o stan/lib/stan_math/lib/sundials_6.1.1/src/sundials/sundials_nonlinearsolver.o stan/lib/stan_math/lib/sundials_6.1.1/src/sundials/sundials_nvector.o stan/lib/stan_math/lib/sundials_6.1.1/src/sundials/sundials_nvector_senswrapper.o stan/lib/stan_math/lib/sundials_6.1.1/src/sundials/sundials_version.o stan/lib/stan_math/lib/sundials_6.1.1/src/sunmatrix/band/sunmatrix_band.o stan/lib/stan_math/lib/sundials_6.1.1/src/sunmatrix/dense/sunmatrix_dense.o stan/lib/stan_math/lib/sundials_6.1.1/src/sunlinsol/band/sunlinsol_band.o stan/lib/stan_math/lib/sundials_6.1.1/src/sunlinsol/dense/sunlinsol_dense.o stan/lib/stan_math/lib/sundials_6.1.1/src/sunnonlinsol/newton/sunnonlinsol_newton.o stan/lib/stan_math/lib/sundials_6.1.1/src/sunnonlinsol/fixedpoint/sunnonlinsol_fixedpoint.o\n",
            "\u001b[31mar: \u001b[39m\u001b[31mcreating stan/lib/stan_math/lib/sundials_6.1.1/lib/libsundials_kinsol.a\u001b[39m\u001b[31m\n",
            "\u001b[39mtouch stan/lib/stan_math/lib/tbb/version_tbb_2020.3\n",
            "tbb_root=\"../tbb_2020.3\" WINARM64=\"\" CXX=\"g++\" CC=\"gcc\" LDFLAGS='-Wl,-L,\"/root/.cmdstan/cmdstan-2.36.0/stan/lib/stan_math/lib/tbb\"   -Wl,-rpath,\"/root/.cmdstan/cmdstan-2.36.0/stan/lib/stan_math/lib/tbb\"' 'make' -C \"stan/lib/stan_math/lib/tbb\" -r -f \"/root/.cmdstan/cmdstan-2.36.0/stan/lib/stan_math/lib/tbb_2020.3/build/Makefile.tbb\" compiler=gcc cfg=release stdver=c++17  CXXFLAGS=\"-Wno-unknown-warning-option -Wno-deprecated-copy -Wno-missing-attributes -Wno-class-memaccess -Wno-sized-deallocation  \"\n",
            "make[1]: Entering directory '/root/.cmdstan/cmdstan-2.36.0/stan/lib/stan_math/lib/tbb'\n",
            "\u001b[31m/root/.cmdstan/cmdstan-2.36.0/stan/lib/stan_math/lib/tbb_2020.3/build/Makefile.tbb:28: CONFIG: cfg=release arch=intel64 compiler=gcc target=linux runtime=cc11.4.0_libc2.35_kernel6.1.85+\n",
            "\u001b[39mg++ -o concurrent_hash_map.o -c -MMD -O2 -g -DDO_ITT_NOTIFY -DUSE_PTHREAD -pthread -m64 -mrtm  -fPIC -flifetime-dse=1 -D__TBB_BUILD=1 -Wall -Wextra -Wno-parentheses -Wno-sized-deallocation -Wno-unknown-warning-option -Wno-deprecated-copy -Wno-missing-attributes -Wno-class-memaccess -Wno-sized-deallocation   -DTBB_SUPPRESS_DEPRECATED_MESSAGES=1 -std=c++17  -I../tbb_2020.3/src -I../tbb_2020.3/src/rml/include -I../tbb_2020.3/include ../tbb_2020.3/src/tbb/concurrent_hash_map.cpp\n",
            "g++ -o concurrent_queue.o -c -MMD -O2 -g -DDO_ITT_NOTIFY -DUSE_PTHREAD -pthread -m64 -mrtm  -fPIC -flifetime-dse=1 -D__TBB_BUILD=1 -Wall -Wextra -Wno-parentheses -Wno-sized-deallocation -Wno-unknown-warning-option -Wno-deprecated-copy -Wno-missing-attributes -Wno-class-memaccess -Wno-sized-deallocation   -DTBB_SUPPRESS_DEPRECATED_MESSAGES=1 -std=c++17  -I../tbb_2020.3/src -I../tbb_2020.3/src/rml/include -I../tbb_2020.3/include ../tbb_2020.3/src/tbb/concurrent_queue.cpp\n",
            "g++ -o concurrent_vector.o -c -MMD -O2 -g -DDO_ITT_NOTIFY -DUSE_PTHREAD -pthread -m64 -mrtm  -fPIC -flifetime-dse=1 -D__TBB_BUILD=1 -Wall -Wextra -Wno-parentheses -Wno-sized-deallocation -Wno-unknown-warning-option -Wno-deprecated-copy -Wno-missing-attributes -Wno-class-memaccess -Wno-sized-deallocation   -DTBB_SUPPRESS_DEPRECATED_MESSAGES=1 -std=c++17  -I../tbb_2020.3/src -I../tbb_2020.3/src/rml/include -I../tbb_2020.3/include ../tbb_2020.3/src/tbb/concurrent_vector.cpp\n",
            "g++ -o dynamic_link.o -c -MMD -O2 -g -DDO_ITT_NOTIFY -DUSE_PTHREAD -pthread -m64 -mrtm  -fPIC -flifetime-dse=1 -D__TBB_BUILD=1 -Wall -Wextra -Wno-parentheses -Wno-sized-deallocation -Wno-unknown-warning-option -Wno-deprecated-copy -Wno-missing-attributes -Wno-class-memaccess -Wno-sized-deallocation   -DTBB_SUPPRESS_DEPRECATED_MESSAGES=1 -std=c++17  -I../tbb_2020.3/src -I../tbb_2020.3/src/rml/include -I../tbb_2020.3/include ../tbb_2020.3/src/tbb/dynamic_link.cpp\n",
            "g++ -o itt_notify.o -c -MMD -O2 -g -DDO_ITT_NOTIFY -DUSE_PTHREAD -pthread -m64 -mrtm  -fPIC -flifetime-dse=1 -D__TBB_BUILD=1 -Wall -Wextra -Wno-parentheses -Wno-sized-deallocation -Wno-unknown-warning-option -Wno-deprecated-copy -Wno-missing-attributes -Wno-class-memaccess -Wno-sized-deallocation   -DTBB_SUPPRESS_DEPRECATED_MESSAGES=1 -std=c++17  -I../tbb_2020.3/src -I../tbb_2020.3/src/rml/include -I../tbb_2020.3/include ../tbb_2020.3/src/tbb/itt_notify.cpp\n",
            "g++ -o cache_aligned_allocator.o -c -MMD -O2 -g -DDO_ITT_NOTIFY -DUSE_PTHREAD -pthread -m64 -mrtm  -fPIC -flifetime-dse=1 -D__TBB_BUILD=1 -Wall -Wextra -Wno-parentheses -Wno-sized-deallocation -Wno-unknown-warning-option -Wno-deprecated-copy -Wno-missing-attributes -Wno-class-memaccess -Wno-sized-deallocation   -DTBB_SUPPRESS_DEPRECATED_MESSAGES=1 -std=c++17  -I../tbb_2020.3/src -I../tbb_2020.3/src/rml/include -I../tbb_2020.3/include ../tbb_2020.3/src/tbb/cache_aligned_allocator.cpp\n",
            "g++ -o pipeline.o -c -MMD -O2 -g -DDO_ITT_NOTIFY -DUSE_PTHREAD -pthread -m64 -mrtm  -fPIC -flifetime-dse=1 -D__TBB_BUILD=1 -Wall -Wextra -Wno-parentheses -Wno-sized-deallocation -Wno-unknown-warning-option -Wno-deprecated-copy -Wno-missing-attributes -Wno-class-memaccess -Wno-sized-deallocation   -DTBB_SUPPRESS_DEPRECATED_MESSAGES=1 -std=c++17  -I../tbb_2020.3/src -I../tbb_2020.3/src/rml/include -I../tbb_2020.3/include ../tbb_2020.3/src/tbb/pipeline.cpp\n",
            "g++ -o queuing_mutex.o -c -MMD -O2 -g -DDO_ITT_NOTIFY -DUSE_PTHREAD -pthread -m64 -mrtm  -fPIC -flifetime-dse=1 -D__TBB_BUILD=1 -Wall -Wextra -Wno-parentheses -Wno-sized-deallocation -Wno-unknown-warning-option -Wno-deprecated-copy -Wno-missing-attributes -Wno-class-memaccess -Wno-sized-deallocation   -DTBB_SUPPRESS_DEPRECATED_MESSAGES=1 -std=c++17  -I../tbb_2020.3/src -I../tbb_2020.3/src/rml/include -I../tbb_2020.3/include ../tbb_2020.3/src/tbb/queuing_mutex.cpp\n",
            "g++ -o queuing_rw_mutex.o -c -MMD -O2 -g -DDO_ITT_NOTIFY -DUSE_PTHREAD -pthread -m64 -mrtm  -fPIC -flifetime-dse=1 -D__TBB_BUILD=1 -Wall -Wextra -Wno-parentheses -Wno-sized-deallocation -Wno-unknown-warning-option -Wno-deprecated-copy -Wno-missing-attributes -Wno-class-memaccess -Wno-sized-deallocation   -DTBB_SUPPRESS_DEPRECATED_MESSAGES=1 -std=c++17  -I../tbb_2020.3/src -I../tbb_2020.3/src/rml/include -I../tbb_2020.3/include ../tbb_2020.3/src/tbb/queuing_rw_mutex.cpp\n",
            "g++ -o reader_writer_lock.o -c -MMD -O2 -g -DDO_ITT_NOTIFY -DUSE_PTHREAD -pthread -m64 -mrtm  -fPIC -flifetime-dse=1 -D__TBB_BUILD=1 -Wall -Wextra -Wno-parentheses -Wno-sized-deallocation -Wno-unknown-warning-option -Wno-deprecated-copy -Wno-missing-attributes -Wno-class-memaccess -Wno-sized-deallocation   -DTBB_SUPPRESS_DEPRECATED_MESSAGES=1 -std=c++17  -I../tbb_2020.3/src -I../tbb_2020.3/src/rml/include -I../tbb_2020.3/include ../tbb_2020.3/src/tbb/reader_writer_lock.cpp\n",
            "g++ -o spin_rw_mutex.o -c -MMD -O2 -g -DDO_ITT_NOTIFY -DUSE_PTHREAD -pthread -m64 -mrtm  -fPIC -flifetime-dse=1 -D__TBB_BUILD=1 -Wall -Wextra -Wno-parentheses -Wno-sized-deallocation -Wno-unknown-warning-option -Wno-deprecated-copy -Wno-missing-attributes -Wno-class-memaccess -Wno-sized-deallocation   -DTBB_SUPPRESS_DEPRECATED_MESSAGES=1 -std=c++17  -I../tbb_2020.3/src -I../tbb_2020.3/src/rml/include -I../tbb_2020.3/include ../tbb_2020.3/src/tbb/spin_rw_mutex.cpp\n",
            "g++ -o x86_rtm_rw_mutex.o -c -MMD -O2 -g -DDO_ITT_NOTIFY -DUSE_PTHREAD -pthread -m64 -mrtm  -fPIC -flifetime-dse=1 -D__TBB_BUILD=1 -Wall -Wextra -Wno-parentheses -Wno-sized-deallocation -Wno-unknown-warning-option -Wno-deprecated-copy -Wno-missing-attributes -Wno-class-memaccess -Wno-sized-deallocation   -DTBB_SUPPRESS_DEPRECATED_MESSAGES=1 -std=c++17  -I../tbb_2020.3/src -I../tbb_2020.3/src/rml/include -I../tbb_2020.3/include ../tbb_2020.3/src/tbb/x86_rtm_rw_mutex.cpp\n",
            "g++ -o spin_mutex.o -c -MMD -O2 -g -DDO_ITT_NOTIFY -DUSE_PTHREAD -pthread -m64 -mrtm  -fPIC -flifetime-dse=1 -D__TBB_BUILD=1 -Wall -Wextra -Wno-parentheses -Wno-sized-deallocation -Wno-unknown-warning-option -Wno-deprecated-copy -Wno-missing-attributes -Wno-class-memaccess -Wno-sized-deallocation   -DTBB_SUPPRESS_DEPRECATED_MESSAGES=1 -std=c++17  -I../tbb_2020.3/src -I../tbb_2020.3/src/rml/include -I../tbb_2020.3/include ../tbb_2020.3/src/tbb/spin_mutex.cpp\n",
            "g++ -o critical_section.o -c -MMD -O2 -g -DDO_ITT_NOTIFY -DUSE_PTHREAD -pthread -m64 -mrtm  -fPIC -flifetime-dse=1 -D__TBB_BUILD=1 -Wall -Wextra -Wno-parentheses -Wno-sized-deallocation -Wno-unknown-warning-option -Wno-deprecated-copy -Wno-missing-attributes -Wno-class-memaccess -Wno-sized-deallocation   -DTBB_SUPPRESS_DEPRECATED_MESSAGES=1 -std=c++17  -I../tbb_2020.3/src -I../tbb_2020.3/src/rml/include -I../tbb_2020.3/include ../tbb_2020.3/src/tbb/critical_section.cpp\n",
            "g++ -o mutex.o -c -MMD -O2 -g -DDO_ITT_NOTIFY -DUSE_PTHREAD -pthread -m64 -mrtm  -fPIC -flifetime-dse=1 -D__TBB_BUILD=1 -Wall -Wextra -Wno-parentheses -Wno-sized-deallocation -Wno-unknown-warning-option -Wno-deprecated-copy -Wno-missing-attributes -Wno-class-memaccess -Wno-sized-deallocation   -DTBB_SUPPRESS_DEPRECATED_MESSAGES=1 -std=c++17  -I../tbb_2020.3/src -I../tbb_2020.3/src/rml/include -I../tbb_2020.3/include ../tbb_2020.3/src/tbb/mutex.cpp\n",
            "g++ -o recursive_mutex.o -c -MMD -O2 -g -DDO_ITT_NOTIFY -DUSE_PTHREAD -pthread -m64 -mrtm  -fPIC -flifetime-dse=1 -D__TBB_BUILD=1 -Wall -Wextra -Wno-parentheses -Wno-sized-deallocation -Wno-unknown-warning-option -Wno-deprecated-copy -Wno-missing-attributes -Wno-class-memaccess -Wno-sized-deallocation   -DTBB_SUPPRESS_DEPRECATED_MESSAGES=1 -std=c++17  -I../tbb_2020.3/src -I../tbb_2020.3/src/rml/include -I../tbb_2020.3/include ../tbb_2020.3/src/tbb/recursive_mutex.cpp\n",
            "g++ -o condition_variable.o -c -MMD -O2 -g -DDO_ITT_NOTIFY -DUSE_PTHREAD -pthread -m64 -mrtm  -fPIC -flifetime-dse=1 -D__TBB_BUILD=1 -Wall -Wextra -Wno-parentheses -Wno-sized-deallocation -Wno-unknown-warning-option -Wno-deprecated-copy -Wno-missing-attributes -Wno-class-memaccess -Wno-sized-deallocation   -DTBB_SUPPRESS_DEPRECATED_MESSAGES=1 -std=c++17  -I../tbb_2020.3/src -I../tbb_2020.3/src/rml/include -I../tbb_2020.3/include ../tbb_2020.3/src/tbb/condition_variable.cpp\n",
            "g++ -o tbb_thread.o -c -MMD -O2 -g -DDO_ITT_NOTIFY -DUSE_PTHREAD -pthread -m64 -mrtm  -fPIC -flifetime-dse=1 -D__TBB_BUILD=1 -Wall -Wextra -Wno-parentheses -Wno-sized-deallocation -Wno-unknown-warning-option -Wno-deprecated-copy -Wno-missing-attributes -Wno-class-memaccess -Wno-sized-deallocation   -DTBB_SUPPRESS_DEPRECATED_MESSAGES=1 -std=c++17  -I../tbb_2020.3/src -I../tbb_2020.3/src/rml/include -I../tbb_2020.3/include ../tbb_2020.3/src/tbb/tbb_thread.cpp\n",
            "g++ -o concurrent_monitor.o -c -MMD -O2 -g -DDO_ITT_NOTIFY -DUSE_PTHREAD -pthread -m64 -mrtm  -fPIC -flifetime-dse=1 -D__TBB_BUILD=1 -Wall -Wextra -Wno-parentheses -Wno-sized-deallocation -Wno-unknown-warning-option -Wno-deprecated-copy -Wno-missing-attributes -Wno-class-memaccess -Wno-sized-deallocation   -DTBB_SUPPRESS_DEPRECATED_MESSAGES=1 -std=c++17  -I../tbb_2020.3/src -I../tbb_2020.3/src/rml/include -I../tbb_2020.3/include ../tbb_2020.3/src/tbb/concurrent_monitor.cpp\n",
            "g++ -o semaphore.o -c -MMD -O2 -g -DDO_ITT_NOTIFY -DUSE_PTHREAD -pthread -m64 -mrtm  -fPIC -flifetime-dse=1 -D__TBB_BUILD=1 -Wall -Wextra -Wno-parentheses -Wno-sized-deallocation -Wno-unknown-warning-option -Wno-deprecated-copy -Wno-missing-attributes -Wno-class-memaccess -Wno-sized-deallocation   -DTBB_SUPPRESS_DEPRECATED_MESSAGES=1 -std=c++17  -I../tbb_2020.3/src -I../tbb_2020.3/src/rml/include -I../tbb_2020.3/include ../tbb_2020.3/src/tbb/semaphore.cpp\n",
            "g++ -o private_server.o -c -MMD -O2 -g -DDO_ITT_NOTIFY -DUSE_PTHREAD -pthread -m64 -mrtm  -fPIC -flifetime-dse=1 -D__TBB_BUILD=1 -Wall -Wextra -Wno-parentheses -Wno-sized-deallocation -Wno-unknown-warning-option -Wno-deprecated-copy -Wno-missing-attributes -Wno-class-memaccess -Wno-sized-deallocation   -DTBB_SUPPRESS_DEPRECATED_MESSAGES=1 -std=c++17  -I../tbb_2020.3/src -I../tbb_2020.3/src/rml/include -I../tbb_2020.3/include ../tbb_2020.3/src/tbb/private_server.cpp\n",
            "g++ -o rml_tbb.o -c -MMD -O2 -g -DDO_ITT_NOTIFY -DUSE_PTHREAD -pthread -m64 -mrtm  -fPIC -flifetime-dse=1 -D__TBB_BUILD=1 -Wall -Wextra -Wno-parentheses -Wno-sized-deallocation -Wno-unknown-warning-option -Wno-deprecated-copy -Wno-missing-attributes -Wno-class-memaccess -Wno-sized-deallocation   -DTBB_SUPPRESS_DEPRECATED_MESSAGES=1 -std=c++17  -I../tbb_2020.3/src -I../tbb_2020.3/src/rml/include -I../tbb_2020.3/include ../tbb_2020.3/src/rml/client/rml_tbb.cpp\n",
            "sh ../tbb_2020.3/build/version_info_linux.sh g++ -O2 -g -DDO_ITT_NOTIFY -DUSE_PTHREAD -pthread -m64 -mrtm  -fPIC -flifetime-dse=1 -D__TBB_BUILD=1 -Wall -Wextra -Wno-parentheses -Wno-sized-deallocation -Wno-unknown-warning-option -Wno-deprecated-copy -Wno-missing-attributes -Wno-class-memaccess -Wno-sized-deallocation   -DTBB_SUPPRESS_DEPRECATED_MESSAGES=1 -std=c++17 -I../tbb_2020.3/src -I../tbb_2020.3/src/rml/include -I../tbb_2020.3/include -I. >version_string.ver\n",
            "g++ -o tbb_misc_ex.o -c -MMD -O2 -g -DDO_ITT_NOTIFY -DUSE_PTHREAD -pthread -m64 -mrtm  -fPIC -flifetime-dse=1 -D__TBB_BUILD=1 -Wall -Wextra -Wno-parentheses -Wno-sized-deallocation -Wno-unknown-warning-option -Wno-deprecated-copy -Wno-missing-attributes -Wno-class-memaccess -Wno-sized-deallocation   -DTBB_SUPPRESS_DEPRECATED_MESSAGES=1 -std=c++17  -I../tbb_2020.3/src -I../tbb_2020.3/src/rml/include -I../tbb_2020.3/include ../tbb_2020.3/src/tbb/tbb_misc_ex.cpp\n",
            "g++ -o task.o -c -MMD -O2 -g -DDO_ITT_NOTIFY -DUSE_PTHREAD -pthread -m64 -mrtm  -fPIC -flifetime-dse=1 -D__TBB_BUILD=1 -Wall -Wextra -Wno-parentheses -Wno-sized-deallocation -Wno-unknown-warning-option -Wno-deprecated-copy -Wno-missing-attributes -Wno-class-memaccess -Wno-sized-deallocation   -DTBB_SUPPRESS_DEPRECATED_MESSAGES=1 -std=c++17  -I../tbb_2020.3/src -I../tbb_2020.3/src/rml/include -I../tbb_2020.3/include ../tbb_2020.3/src/tbb/task.cpp\n",
            "g++ -o task_group_context.o -c -MMD -O2 -g -DDO_ITT_NOTIFY -DUSE_PTHREAD -pthread -m64 -mrtm  -fPIC -flifetime-dse=1 -D__TBB_BUILD=1 -Wall -Wextra -Wno-parentheses -Wno-sized-deallocation -Wno-unknown-warning-option -Wno-deprecated-copy -Wno-missing-attributes -Wno-class-memaccess -Wno-sized-deallocation   -DTBB_SUPPRESS_DEPRECATED_MESSAGES=1 -std=c++17  -I../tbb_2020.3/src -I../tbb_2020.3/src/rml/include -I../tbb_2020.3/include ../tbb_2020.3/src/tbb/task_group_context.cpp\n",
            "g++ -o governor.o -c -MMD -O2 -g -DDO_ITT_NOTIFY -DUSE_PTHREAD -pthread -m64 -mrtm  -fPIC -flifetime-dse=1 -D__TBB_BUILD=1 -Wall -Wextra -Wno-parentheses -Wno-sized-deallocation -Wno-unknown-warning-option -Wno-deprecated-copy -Wno-missing-attributes -Wno-class-memaccess -Wno-sized-deallocation   -DTBB_SUPPRESS_DEPRECATED_MESSAGES=1 -std=c++17  -I../tbb_2020.3/src -I../tbb_2020.3/src/rml/include -I../tbb_2020.3/include ../tbb_2020.3/src/tbb/governor.cpp\n",
            "g++ -o market.o -c -MMD -O2 -g -DDO_ITT_NOTIFY -DUSE_PTHREAD -pthread -m64 -mrtm  -fPIC -flifetime-dse=1 -D__TBB_BUILD=1 -Wall -Wextra -Wno-parentheses -Wno-sized-deallocation -Wno-unknown-warning-option -Wno-deprecated-copy -Wno-missing-attributes -Wno-class-memaccess -Wno-sized-deallocation   -DTBB_SUPPRESS_DEPRECATED_MESSAGES=1 -std=c++17  -I../tbb_2020.3/src -I../tbb_2020.3/src/rml/include -I../tbb_2020.3/include ../tbb_2020.3/src/tbb/market.cpp\n",
            "g++ -o arena.o -c -MMD -O2 -g -DDO_ITT_NOTIFY -DUSE_PTHREAD -pthread -m64 -mrtm  -fPIC -flifetime-dse=1 -D__TBB_BUILD=1 -Wall -Wextra -Wno-parentheses -Wno-sized-deallocation -Wno-unknown-warning-option -Wno-deprecated-copy -Wno-missing-attributes -Wno-class-memaccess -Wno-sized-deallocation   -DTBB_SUPPRESS_DEPRECATED_MESSAGES=1 -std=c++17  -I../tbb_2020.3/src -I../tbb_2020.3/src/rml/include -I../tbb_2020.3/include ../tbb_2020.3/src/tbb/arena.cpp\n",
            "g++ -o scheduler.o -c -MMD -O2 -g -DDO_ITT_NOTIFY -DUSE_PTHREAD -pthread -m64 -mrtm  -fPIC -flifetime-dse=1 -D__TBB_BUILD=1 -Wall -Wextra -Wno-parentheses -Wno-sized-deallocation -Wno-unknown-warning-option -Wno-deprecated-copy -Wno-missing-attributes -Wno-class-memaccess -Wno-sized-deallocation   -DTBB_SUPPRESS_DEPRECATED_MESSAGES=1 -std=c++17  -I../tbb_2020.3/src -I../tbb_2020.3/src/rml/include -I../tbb_2020.3/include ../tbb_2020.3/src/tbb/scheduler.cpp\n",
            "g++ -o observer_proxy.o -c -MMD -O2 -g -DDO_ITT_NOTIFY -DUSE_PTHREAD -pthread -m64 -mrtm  -fPIC -flifetime-dse=1 -D__TBB_BUILD=1 -Wall -Wextra -Wno-parentheses -Wno-sized-deallocation -Wno-unknown-warning-option -Wno-deprecated-copy -Wno-missing-attributes -Wno-class-memaccess -Wno-sized-deallocation   -DTBB_SUPPRESS_DEPRECATED_MESSAGES=1 -std=c++17  -I../tbb_2020.3/src -I../tbb_2020.3/src/rml/include -I../tbb_2020.3/include ../tbb_2020.3/src/tbb/observer_proxy.cpp\n",
            "g++ -o tbb_statistics.o -c -MMD -O2 -g -DDO_ITT_NOTIFY -DUSE_PTHREAD -pthread -m64 -mrtm  -fPIC -flifetime-dse=1 -D__TBB_BUILD=1 -Wall -Wextra -Wno-parentheses -Wno-sized-deallocation -Wno-unknown-warning-option -Wno-deprecated-copy -Wno-missing-attributes -Wno-class-memaccess -Wno-sized-deallocation   -DTBB_SUPPRESS_DEPRECATED_MESSAGES=1 -std=c++17  -I../tbb_2020.3/src -I../tbb_2020.3/src/rml/include -I../tbb_2020.3/include ../tbb_2020.3/src/tbb/tbb_statistics.cpp\n",
            "g++ -o tbb_main.o -c -MMD -O2 -g -DDO_ITT_NOTIFY -DUSE_PTHREAD -pthread -m64 -mrtm  -fPIC -flifetime-dse=1 -D__TBB_BUILD=1 -Wall -Wextra -Wno-parentheses -Wno-sized-deallocation -Wno-unknown-warning-option -Wno-deprecated-copy -Wno-missing-attributes -Wno-class-memaccess -Wno-sized-deallocation   -DTBB_SUPPRESS_DEPRECATED_MESSAGES=1 -std=c++17  -I../tbb_2020.3/src -I../tbb_2020.3/src/rml/include -I../tbb_2020.3/include ../tbb_2020.3/src/tbb/tbb_main.cpp\n",
            "g++ -o concurrent_vector_v2.o -c -MMD -O2 -g -DDO_ITT_NOTIFY -DUSE_PTHREAD -pthread -m64 -mrtm  -fPIC -flifetime-dse=1 -D__TBB_BUILD=1 -Wall -Wextra -Wno-parentheses -Wno-sized-deallocation -Wno-unknown-warning-option -Wno-deprecated-copy -Wno-missing-attributes -Wno-class-memaccess -Wno-sized-deallocation   -DTBB_SUPPRESS_DEPRECATED_MESSAGES=1 -std=c++17  -I../tbb_2020.3/src -I../tbb_2020.3/src/rml/include -I../tbb_2020.3/include ../tbb_2020.3/src/old/concurrent_vector_v2.cpp\n",
            "g++ -o concurrent_queue_v2.o -c -MMD -O2 -g -DDO_ITT_NOTIFY -DUSE_PTHREAD -pthread -m64 -mrtm  -fPIC -flifetime-dse=1 -D__TBB_BUILD=1 -Wall -Wextra -Wno-parentheses -Wno-sized-deallocation -Wno-unknown-warning-option -Wno-deprecated-copy -Wno-missing-attributes -Wno-class-memaccess -Wno-sized-deallocation   -DTBB_SUPPRESS_DEPRECATED_MESSAGES=1 -std=c++17  -I../tbb_2020.3/src -I../tbb_2020.3/src/rml/include -I../tbb_2020.3/include ../tbb_2020.3/src/old/concurrent_queue_v2.cpp\n",
            "g++ -o spin_rw_mutex_v2.o -c -MMD -O2 -g -DDO_ITT_NOTIFY -DUSE_PTHREAD -pthread -m64 -mrtm  -fPIC -flifetime-dse=1 -D__TBB_BUILD=1 -Wall -Wextra -Wno-parentheses -Wno-sized-deallocation -Wno-unknown-warning-option -Wno-deprecated-copy -Wno-missing-attributes -Wno-class-memaccess -Wno-sized-deallocation   -DTBB_SUPPRESS_DEPRECATED_MESSAGES=1 -std=c++17  -I../tbb_2020.3/src -I../tbb_2020.3/src/rml/include -I../tbb_2020.3/include ../tbb_2020.3/src/old/spin_rw_mutex_v2.cpp\n",
            "g++ -o task_v2.o -c -MMD -O2 -g -DDO_ITT_NOTIFY -DUSE_PTHREAD -pthread -m64 -mrtm  -fPIC -flifetime-dse=1 -D__TBB_BUILD=1 -Wall -Wextra -Wno-parentheses -Wno-sized-deallocation -Wno-unknown-warning-option -Wno-deprecated-copy -Wno-missing-attributes -Wno-class-memaccess -Wno-sized-deallocation   -DTBB_SUPPRESS_DEPRECATED_MESSAGES=1 -std=c++17  -I../tbb_2020.3/src -I../tbb_2020.3/src/rml/include -I../tbb_2020.3/include ../tbb_2020.3/src/old/task_v2.cpp\n",
            "sh ../tbb_2020.3/build/generate_tbbvars.sh\n",
            "echo \"INPUT (libtbb.so.2)\" > libtbb.so\n",
            "g++ -E -x c++ ../tbb_2020.3/src/tbb/lin64-tbb-export.def -O2 -g -DDO_ITT_NOTIFY -DUSE_PTHREAD -pthread -m64 -mrtm  -fPIC -flifetime-dse=1 -D__TBB_BUILD=1 -Wall -Wextra -Wno-parentheses -Wno-sized-deallocation -Wno-unknown-warning-option -Wno-deprecated-copy -Wno-missing-attributes -Wno-class-memaccess -Wno-sized-deallocation   -DTBB_SUPPRESS_DEPRECATED_MESSAGES=1 -I../tbb_2020.3/src -I../tbb_2020.3/src/rml/include -I../tbb_2020.3/include > tbb.def\n",
            "g++ -o tbb_misc.o -c -MMD -O2 -g -DDO_ITT_NOTIFY -DUSE_PTHREAD -pthread -m64 -mrtm  -fPIC -flifetime-dse=1 -D__TBB_BUILD=1 -Wall -Wextra -Wno-parentheses -Wno-sized-deallocation -Wno-unknown-warning-option -Wno-deprecated-copy -Wno-missing-attributes -Wno-class-memaccess -Wno-sized-deallocation   -DTBB_SUPPRESS_DEPRECATED_MESSAGES=1 -std=c++17  -I../tbb_2020.3/src -I../tbb_2020.3/src/rml/include -I../tbb_2020.3/include -I. ../tbb_2020.3/src/tbb/tbb_misc.cpp\n",
            "g++ -fPIC -o libtbb.so.2 concurrent_hash_map.o concurrent_queue.o concurrent_vector.o dynamic_link.o itt_notify.o cache_aligned_allocator.o pipeline.o queuing_mutex.o queuing_rw_mutex.o reader_writer_lock.o spin_rw_mutex.o x86_rtm_rw_mutex.o spin_mutex.o critical_section.o mutex.o recursive_mutex.o condition_variable.o tbb_thread.o concurrent_monitor.o semaphore.o private_server.o rml_tbb.o tbb_misc.o tbb_misc_ex.o task.o task_group_context.o governor.o market.o arena.o scheduler.o observer_proxy.o tbb_statistics.o tbb_main.o concurrent_vector_v2.o concurrent_queue_v2.o spin_rw_mutex_v2.o task_v2.o   -ldl -lrt -shared -Wl,-soname=libtbb.so.2 -pthread -m64 -Wl,-L,\"/root/.cmdstan/cmdstan-2.36.0/stan/lib/stan_math/lib/tbb\"   -Wl,-rpath,\"/root/.cmdstan/cmdstan-2.36.0/stan/lib/stan_math/lib/tbb\" -Wl,--version-script,tbb.def\n",
            "make[1]: Leaving directory '/root/.cmdstan/cmdstan-2.36.0/stan/lib/stan_math/lib/tbb'\n",
            "g++ -Wno-deprecated-declarations -std=c++17 -pthread -D_REENTRANT -Wno-sign-compare -Wno-ignored-attributes -Wno-class-memaccess      -I stan/lib/stan_math/lib/tbb_2020.3/include    -O3 -I src -I stan/src -I stan/lib/rapidjson_1.1.0/ -I lib/CLI11-1.9.1/ -I stan/lib/stan_math/ -I stan/lib/stan_math/lib/eigen_3.4.0 -I stan/lib/stan_math/lib/boost_1.84.0 -I stan/lib/stan_math/lib/sundials_6.1.1/include -I stan/lib/stan_math/lib/sundials_6.1.1/src/sundials    -DBOOST_DISABLE_ASSERTS               -Wl,-L,\"/root/.cmdstan/cmdstan-2.36.0/stan/lib/stan_math/lib/tbb\"   -Wl,-rpath,\"/root/.cmdstan/cmdstan-2.36.0/stan/lib/stan_math/lib/tbb\"      bin/cmdstan/stansummary.o stan/lib/stan_math/lib/tbb/libtbb.so.2       -ltbb   -o bin/stansummary\n",
            "g++ -Wno-deprecated-declarations -std=c++17 -pthread -D_REENTRANT -Wno-sign-compare -Wno-ignored-attributes -Wno-class-memaccess      -I stan/lib/stan_math/lib/tbb_2020.3/include    -O3 -I src -I stan/src -I stan/lib/rapidjson_1.1.0/ -I lib/CLI11-1.9.1/ -I stan/lib/stan_math/ -I stan/lib/stan_math/lib/eigen_3.4.0 -I stan/lib/stan_math/lib/boost_1.84.0 -I stan/lib/stan_math/lib/sundials_6.1.1/include -I stan/lib/stan_math/lib/sundials_6.1.1/src/sundials    -DBOOST_DISABLE_ASSERTS               -Wl,-L,\"/root/.cmdstan/cmdstan-2.36.0/stan/lib/stan_math/lib/tbb\"   -Wl,-rpath,\"/root/.cmdstan/cmdstan-2.36.0/stan/lib/stan_math/lib/tbb\"      bin/cmdstan/print.o stan/lib/stan_math/lib/tbb/libtbb.so.2       -ltbb   -o bin/print\n",
            "g++ -Wno-deprecated-declarations -std=c++17 -pthread -D_REENTRANT -Wno-sign-compare -Wno-ignored-attributes -Wno-class-memaccess      -I stan/lib/stan_math/lib/tbb_2020.3/include    -O3 -I src -I stan/src -I stan/lib/rapidjson_1.1.0/ -I lib/CLI11-1.9.1/ -I stan/lib/stan_math/ -I stan/lib/stan_math/lib/eigen_3.4.0 -I stan/lib/stan_math/lib/boost_1.84.0 -I stan/lib/stan_math/lib/sundials_6.1.1/include -I stan/lib/stan_math/lib/sundials_6.1.1/src/sundials    -DBOOST_DISABLE_ASSERTS               -Wl,-L,\"/root/.cmdstan/cmdstan-2.36.0/stan/lib/stan_math/lib/tbb\"   -Wl,-rpath,\"/root/.cmdstan/cmdstan-2.36.0/stan/lib/stan_math/lib/tbb\"      bin/cmdstan/diagnose.o stan/lib/stan_math/lib/tbb/libtbb.so.2       -ltbb   -o bin/diagnose\n",
            "\n",
            "--- CmdStan v2.36.0 built ---\n",
            "g++ -Wno-deprecated-declarations -std=c++17 -pthread -D_REENTRANT -Wno-sign-compare -Wno-ignored-attributes -Wno-class-memaccess      -I stan/lib/stan_math/lib/tbb_2020.3/include    -O3 -I src -I stan/src -I stan/lib/rapidjson_1.1.0/ -I lib/CLI11-1.9.1/ -I stan/lib/stan_math/ -I stan/lib/stan_math/lib/eigen_3.4.0 -I stan/lib/stan_math/lib/boost_1.84.0 -I stan/lib/stan_math/lib/sundials_6.1.1/include -I stan/lib/stan_math/lib/sundials_6.1.1/src/sundials    -DBOOST_DISABLE_ASSERTS          -c -MT src/cmdstan/main.o -MM -E -MG -MP -MF src/cmdstan/main.d src/cmdstan/main.cpp\n",
            "g++ -Wno-deprecated-declarations -std=c++17 -pthread -D_REENTRANT -Wno-sign-compare -Wno-ignored-attributes -Wno-class-memaccess      -I stan/lib/stan_math/lib/tbb_2020.3/include    -O3 -I src -I stan/src -I stan/lib/rapidjson_1.1.0/ -I lib/CLI11-1.9.1/ -I stan/lib/stan_math/ -I stan/lib/stan_math/lib/eigen_3.4.0 -I stan/lib/stan_math/lib/boost_1.84.0 -I stan/lib/stan_math/lib/sundials_6.1.1/include -I stan/lib/stan_math/lib/sundials_6.1.1/src/sundials    -DBOOST_DISABLE_ASSERTS          -c -MT stan/src/stan/model/model_header.hpp.gch/model_header_11_4.hpp.gch -M -E -MG -MP -MF stan/src/stan/model/model_header.hpp.gch/model_header_11_4.d stan/src/stan/model/model_header.hpp\n",
            "\n",
            "--- Translating Stan model to C++ code ---\n",
            "bin/stanc  --o=examples/bernoulli/bernoulli.hpp examples/bernoulli/bernoulli.stan\n",
            "\n",
            "--- Compiling C++ code ---\n",
            "g++ -Wno-deprecated-declarations -std=c++17 -pthread -D_REENTRANT -Wno-sign-compare -Wno-ignored-attributes -Wno-class-memaccess      -I stan/lib/stan_math/lib/tbb_2020.3/include    -O3 -I src -I stan/src -I stan/lib/rapidjson_1.1.0/ -I lib/CLI11-1.9.1/ -I stan/lib/stan_math/ -I stan/lib/stan_math/lib/eigen_3.4.0 -I stan/lib/stan_math/lib/boost_1.84.0 -I stan/lib/stan_math/lib/sundials_6.1.1/include -I stan/lib/stan_math/lib/sundials_6.1.1/src/sundials    -DBOOST_DISABLE_ASSERTS          -c -Wno-ignored-attributes   -x c++ -o examples/bernoulli/bernoulli.o examples/bernoulli/bernoulli.hpp\n",
            "\n",
            "--- Linking model ---\n",
            "g++ -Wno-deprecated-declarations -std=c++17 -pthread -D_REENTRANT -Wno-sign-compare -Wno-ignored-attributes -Wno-class-memaccess      -I stan/lib/stan_math/lib/tbb_2020.3/include    -O3 -I src -I stan/src -I stan/lib/rapidjson_1.1.0/ -I lib/CLI11-1.9.1/ -I stan/lib/stan_math/ -I stan/lib/stan_math/lib/eigen_3.4.0 -I stan/lib/stan_math/lib/boost_1.84.0 -I stan/lib/stan_math/lib/sundials_6.1.1/include -I stan/lib/stan_math/lib/sundials_6.1.1/src/sundials    -DBOOST_DISABLE_ASSERTS               -Wl,-L,\"/root/.cmdstan/cmdstan-2.36.0/stan/lib/stan_math/lib/tbb\"   -Wl,-rpath,\"/root/.cmdstan/cmdstan-2.36.0/stan/lib/stan_math/lib/tbb\"      examples/bernoulli/bernoulli.o src/cmdstan/main.o       -ltbb   stan/lib/stan_math/lib/sundials_6.1.1/lib/libsundials_nvecserial.a stan/lib/stan_math/lib/sundials_6.1.1/lib/libsundials_cvodes.a stan/lib/stan_math/lib/sundials_6.1.1/lib/libsundials_idas.a stan/lib/stan_math/lib/sundials_6.1.1/lib/libsundials_kinsol.a  stan/lib/stan_math/lib/tbb/libtbb.so.2 -o examples/bernoulli/bernoulli\n",
            "rm examples/bernoulli/bernoulli.o examples/bernoulli/bernoulli.hpp\n"
          ]
        },
        {
          "output_type": "stream",
          "name": "stderr",
          "text": [
            "* Finished installing CmdStan to /root/.cmdstan/cmdstan-2.36.0\n",
            "\n",
            "\n",
            "CmdStan path set to: /root/.cmdstan/cmdstan-2.36.0\n",
            "\n"
          ]
        }
      ],
      "source": [
        "## R code\n",
        "library(cmdstanr)\n",
        "cmdstanr::install_cmdstan()"
      ]
    },
    {
      "cell_type": "code",
      "execution_count": null,
      "id": "4c34c049-50cc-4232-bb8f-1c9840f89ba6",
      "metadata": {
        "colab": {
          "base_uri": "https://localhost:8080/"
        },
        "id": "4c34c049-50cc-4232-bb8f-1c9840f89ba6",
        "outputId": "771ffdfb-ea6a-4628-82fd-c9fb8328c9cb"
      },
      "outputs": [
        {
          "output_type": "stream",
          "name": "stderr",
          "text": [
            "── \u001b[1mAttaching core tidyverse packages\u001b[22m ──────────────────────── tidyverse 2.0.0 ──\n",
            "\u001b[32m✔\u001b[39m \u001b[34mdplyr    \u001b[39m 1.1.4     \u001b[32m✔\u001b[39m \u001b[34mreadr    \u001b[39m 2.1.5\n",
            "\u001b[32m✔\u001b[39m \u001b[34mforcats  \u001b[39m 1.0.0     \u001b[32m✔\u001b[39m \u001b[34mstringr  \u001b[39m 1.5.1\n",
            "\u001b[32m✔\u001b[39m \u001b[34mggplot2  \u001b[39m 3.5.1     \u001b[32m✔\u001b[39m \u001b[34mtibble   \u001b[39m 3.2.1\n",
            "\u001b[32m✔\u001b[39m \u001b[34mlubridate\u001b[39m 1.9.4     \u001b[32m✔\u001b[39m \u001b[34mtidyr    \u001b[39m 1.3.1\n",
            "\u001b[32m✔\u001b[39m \u001b[34mpurrr    \u001b[39m 1.0.2     \n",
            "── \u001b[1mConflicts\u001b[22m ────────────────────────────────────────── tidyverse_conflicts() ──\n",
            "\u001b[31m✖\u001b[39m \u001b[34mdplyr\u001b[39m::\u001b[32mfilter()\u001b[39m masks \u001b[34mstats\u001b[39m::filter()\n",
            "\u001b[31m✖\u001b[39m \u001b[34mdplyr\u001b[39m::\u001b[32mlag()\u001b[39m    masks \u001b[34mstats\u001b[39m::lag()\n",
            "\u001b[36mℹ\u001b[39m Use the conflicted package (\u001b[3m\u001b[34m<http://conflicted.r-lib.org/>\u001b[39m\u001b[23m) to force all conflicts to become errors\n",
            "Loading required package: posterior\n",
            "\n",
            "This is posterior version 1.6.0\n",
            "\n",
            "\n",
            "Attaching package: ‘posterior’\n",
            "\n",
            "\n",
            "The following objects are masked from ‘package:stats’:\n",
            "\n",
            "    mad, sd, var\n",
            "\n",
            "\n",
            "The following objects are masked from ‘package:base’:\n",
            "\n",
            "    %in%, match\n",
            "\n",
            "\n",
            "Loading required package: parallel\n",
            "\n",
            "rethinking (Version 2.42)\n",
            "\n",
            "\n",
            "Attaching package: ‘rethinking’\n",
            "\n",
            "\n",
            "The following object is masked from ‘package:purrr’:\n",
            "\n",
            "    map\n",
            "\n",
            "\n",
            "The following object is masked from ‘package:stats’:\n",
            "\n",
            "    rstudent\n",
            "\n",
            "\n",
            "\n",
            "Attaching package: ‘magrittr’\n",
            "\n",
            "\n",
            "The following object is masked from ‘package:purrr’:\n",
            "\n",
            "    set_names\n",
            "\n",
            "\n",
            "The following object is masked from ‘package:tidyr’:\n",
            "\n",
            "    extract\n",
            "\n",
            "\n"
          ]
        }
      ],
      "source": [
        "## R code\n",
        "library(tidyverse)\n",
        "library(tidybayes)\n",
        "#library(StanR)\n",
        "#library(patchwork)\n",
        "library(rethinking)\n",
        "library(magrittr)"
      ]
    },
    {
      "cell_type": "markdown",
      "id": "1b1c5e42-640c-425b-a261-9529d1f25b02",
      "metadata": {
        "id": "1b1c5e42-640c-425b-a261-9529d1f25b02"
      },
      "source": [
        "# 2.Fitting Binomial Regression\n",
        "\n",
        "Based on the introduction, one practical application is rethinking[1], in which an R package accompanies a course and book on Bayesian data analysis. Model 11.8 estimates unique female and male admission rates in each department to calculate the probability of admission between females and males within departments with a parameter p_i. Then admit is mimicked as a function of each applicant’s gender. This is what the model looks like in mathematical form:\n",
        "$$ A_i \\sim {\\rm Binomial} \\left(N_i, p_i\\right)$$\n",
        "$$ logit \\left(p_i\\right) = \\alpha_{GID[i]} + \\delta_{DEPT[i]}$$\n",
        "$$ \\alpha_j \\leftarrow Normal\\left(0, 1.5\\right)$$\n",
        "$$ \\delta_k \\leftarrow Normal\\left(0, 1.5\\right)$$\n",
        "\n",
        "where DEPT indexes department in $k = 1,...,6$,\n",
        "GID indexes gender $i = 1,2$, and\n",
        "Sample indexes $j = num_{sample}$ in the coding example. So now each department $k$ gets its own log-odds of admission, $\\delta_k$, but the model still estimates universal adjustments—same in all departments for male and female applications.\n"
      ]
    },
    {
      "cell_type": "markdown",
      "id": "218db09c-b42b-423e-9c0c-457c05febe24",
      "metadata": {
        "id": "218db09c-b42b-423e-9c0c-457c05febe24"
      },
      "source": [
        "# 3.Run Hamiltonian Monte Carlo with ulam"
      ]
    },
    {
      "cell_type": "code",
      "execution_count": null,
      "id": "6bc4d1f7-2e5f-4346-80e2-b7de4537c7c0",
      "metadata": {
        "colab": {
          "base_uri": "https://localhost:8080/",
          "height": 1000
        },
        "id": "6bc4d1f7-2e5f-4346-80e2-b7de4537c7c0",
        "outputId": "6fbd8829-ecf9-48f7-f01d-2b3aa716adcb"
      },
      "outputs": [
        {
          "output_type": "stream",
          "name": "stdout",
          "text": [
            "Running MCMC with 4 sequential chains, with 1 thread(s) per chain...\n",
            "\n",
            "Chain 1 Iteration:    1 / 4000 [  0%]  (Warmup) \n",
            "Chain 1 Iteration:  100 / 4000 [  2%]  (Warmup) \n",
            "Chain 1 Iteration:  200 / 4000 [  5%]  (Warmup) \n",
            "Chain 1 Iteration:  300 / 4000 [  7%]  (Warmup) \n",
            "Chain 1 Iteration:  400 / 4000 [ 10%]  (Warmup) \n",
            "Chain 1 Iteration:  500 / 4000 [ 12%]  (Warmup) \n",
            "Chain 1 Iteration:  600 / 4000 [ 15%]  (Warmup) \n",
            "Chain 1 Iteration:  700 / 4000 [ 17%]  (Warmup) \n",
            "Chain 1 Iteration:  800 / 4000 [ 20%]  (Warmup) \n",
            "Chain 1 Iteration:  900 / 4000 [ 22%]  (Warmup) \n",
            "Chain 1 Iteration: 1000 / 4000 [ 25%]  (Warmup) \n",
            "Chain 1 Iteration: 1100 / 4000 [ 27%]  (Warmup) \n",
            "Chain 1 Iteration: 1200 / 4000 [ 30%]  (Warmup) \n",
            "Chain 1 Iteration: 1300 / 4000 [ 32%]  (Warmup) \n",
            "Chain 1 Iteration: 1400 / 4000 [ 35%]  (Warmup) \n",
            "Chain 1 Iteration: 1500 / 4000 [ 37%]  (Warmup) \n",
            "Chain 1 Iteration: 1600 / 4000 [ 40%]  (Warmup) \n",
            "Chain 1 Iteration: 1700 / 4000 [ 42%]  (Warmup) \n",
            "Chain 1 Iteration: 1800 / 4000 [ 45%]  (Warmup) \n",
            "Chain 1 Iteration: 1900 / 4000 [ 47%]  (Warmup) \n",
            "Chain 1 Iteration: 2000 / 4000 [ 50%]  (Warmup) \n",
            "Chain 1 Iteration: 2001 / 4000 [ 50%]  (Sampling) \n",
            "Chain 1 Iteration: 2100 / 4000 [ 52%]  (Sampling) \n",
            "Chain 1 Iteration: 2200 / 4000 [ 55%]  (Sampling) \n",
            "Chain 1 Iteration: 2300 / 4000 [ 57%]  (Sampling) \n",
            "Chain 1 Iteration: 2400 / 4000 [ 60%]  (Sampling) \n",
            "Chain 1 Iteration: 2500 / 4000 [ 62%]  (Sampling) \n",
            "Chain 1 Iteration: 2600 / 4000 [ 65%]  (Sampling) \n",
            "Chain 1 Iteration: 2700 / 4000 [ 67%]  (Sampling) \n",
            "Chain 1 Iteration: 2800 / 4000 [ 70%]  (Sampling) \n",
            "Chain 1 Iteration: 2900 / 4000 [ 72%]  (Sampling) \n",
            "Chain 1 Iteration: 3000 / 4000 [ 75%]  (Sampling) \n",
            "Chain 1 Iteration: 3100 / 4000 [ 77%]  (Sampling) \n",
            "Chain 1 Iteration: 3200 / 4000 [ 80%]  (Sampling) \n",
            "Chain 1 Iteration: 3300 / 4000 [ 82%]  (Sampling) \n",
            "Chain 1 Iteration: 3400 / 4000 [ 85%]  (Sampling) \n",
            "Chain 1 Iteration: 3500 / 4000 [ 87%]  (Sampling) \n",
            "Chain 1 Iteration: 3600 / 4000 [ 90%]  (Sampling) \n",
            "Chain 1 Iteration: 3700 / 4000 [ 92%]  (Sampling) \n",
            "Chain 1 Iteration: 3800 / 4000 [ 95%]  (Sampling) \n",
            "Chain 1 Iteration: 3900 / 4000 [ 97%]  (Sampling) \n",
            "Chain 1 Iteration: 4000 / 4000 [100%]  (Sampling) \n",
            "Chain 1 finished in 0.4 seconds.\n",
            "Chain 2 Iteration:    1 / 4000 [  0%]  (Warmup) \n",
            "Chain 2 Iteration:  100 / 4000 [  2%]  (Warmup) \n",
            "Chain 2 Iteration:  200 / 4000 [  5%]  (Warmup) \n",
            "Chain 2 Iteration:  300 / 4000 [  7%]  (Warmup) \n",
            "Chain 2 Iteration:  400 / 4000 [ 10%]  (Warmup) \n",
            "Chain 2 Iteration:  500 / 4000 [ 12%]  (Warmup) \n",
            "Chain 2 Iteration:  600 / 4000 [ 15%]  (Warmup) \n",
            "Chain 2 Iteration:  700 / 4000 [ 17%]  (Warmup) \n",
            "Chain 2 Iteration:  800 / 4000 [ 20%]  (Warmup) \n",
            "Chain 2 Iteration:  900 / 4000 [ 22%]  (Warmup) \n",
            "Chain 2 Iteration: 1000 / 4000 [ 25%]  (Warmup) \n",
            "Chain 2 Iteration: 1100 / 4000 [ 27%]  (Warmup) \n",
            "Chain 2 Iteration: 1200 / 4000 [ 30%]  (Warmup) \n",
            "Chain 2 Iteration: 1300 / 4000 [ 32%]  (Warmup) \n",
            "Chain 2 Iteration: 1400 / 4000 [ 35%]  (Warmup) \n",
            "Chain 2 Iteration: 1500 / 4000 [ 37%]  (Warmup) \n",
            "Chain 2 Iteration: 1600 / 4000 [ 40%]  (Warmup) \n",
            "Chain 2 Iteration: 1700 / 4000 [ 42%]  (Warmup) \n",
            "Chain 2 Iteration: 1800 / 4000 [ 45%]  (Warmup) \n",
            "Chain 2 Iteration: 1900 / 4000 [ 47%]  (Warmup) \n",
            "Chain 2 Iteration: 2000 / 4000 [ 50%]  (Warmup) \n",
            "Chain 2 Iteration: 2001 / 4000 [ 50%]  (Sampling) \n",
            "Chain 2 Iteration: 2100 / 4000 [ 52%]  (Sampling) \n",
            "Chain 2 Iteration: 2200 / 4000 [ 55%]  (Sampling) \n",
            "Chain 2 Iteration: 2300 / 4000 [ 57%]  (Sampling) \n",
            "Chain 2 Iteration: 2400 / 4000 [ 60%]  (Sampling) \n",
            "Chain 2 Iteration: 2500 / 4000 [ 62%]  (Sampling) \n",
            "Chain 2 Iteration: 2600 / 4000 [ 65%]  (Sampling) \n",
            "Chain 2 Iteration: 2700 / 4000 [ 67%]  (Sampling) \n",
            "Chain 2 Iteration: 2800 / 4000 [ 70%]  (Sampling) \n",
            "Chain 2 Iteration: 2900 / 4000 [ 72%]  (Sampling) \n",
            "Chain 2 Iteration: 3000 / 4000 [ 75%]  (Sampling) \n",
            "Chain 2 Iteration: 3100 / 4000 [ 77%]  (Sampling) \n",
            "Chain 2 Iteration: 3200 / 4000 [ 80%]  (Sampling) \n",
            "Chain 2 Iteration: 3300 / 4000 [ 82%]  (Sampling) \n",
            "Chain 2 Iteration: 3400 / 4000 [ 85%]  (Sampling) \n",
            "Chain 2 Iteration: 3500 / 4000 [ 87%]  (Sampling) \n",
            "Chain 2 Iteration: 3600 / 4000 [ 90%]  (Sampling) \n",
            "Chain 2 Iteration: 3700 / 4000 [ 92%]  (Sampling) \n",
            "Chain 2 Iteration: 3800 / 4000 [ 95%]  (Sampling) \n",
            "Chain 2 Iteration: 3900 / 4000 [ 97%]  (Sampling) \n",
            "Chain 2 Iteration: 4000 / 4000 [100%]  (Sampling) \n",
            "Chain 2 finished in 0.3 seconds.\n",
            "Chain 3 Iteration:    1 / 4000 [  0%]  (Warmup) \n",
            "Chain 3 Iteration:  100 / 4000 [  2%]  (Warmup) \n",
            "Chain 3 Iteration:  200 / 4000 [  5%]  (Warmup) \n",
            "Chain 3 Iteration:  300 / 4000 [  7%]  (Warmup) \n",
            "Chain 3 Iteration:  400 / 4000 [ 10%]  (Warmup) \n",
            "Chain 3 Iteration:  500 / 4000 [ 12%]  (Warmup) \n",
            "Chain 3 Iteration:  600 / 4000 [ 15%]  (Warmup) \n",
            "Chain 3 Iteration:  700 / 4000 [ 17%]  (Warmup) \n",
            "Chain 3 Iteration:  800 / 4000 [ 20%]  (Warmup) \n",
            "Chain 3 Iteration:  900 / 4000 [ 22%]  (Warmup) \n",
            "Chain 3 Iteration: 1000 / 4000 [ 25%]  (Warmup) \n",
            "Chain 3 Iteration: 1100 / 4000 [ 27%]  (Warmup) \n",
            "Chain 3 Iteration: 1200 / 4000 [ 30%]  (Warmup) \n",
            "Chain 3 Iteration: 1300 / 4000 [ 32%]  (Warmup) \n",
            "Chain 3 Iteration: 1400 / 4000 [ 35%]  (Warmup) \n",
            "Chain 3 Iteration: 1500 / 4000 [ 37%]  (Warmup) \n",
            "Chain 3 Iteration: 1600 / 4000 [ 40%]  (Warmup) \n",
            "Chain 3 Iteration: 1700 / 4000 [ 42%]  (Warmup) \n",
            "Chain 3 Iteration: 1800 / 4000 [ 45%]  (Warmup) \n",
            "Chain 3 Iteration: 1900 / 4000 [ 47%]  (Warmup) \n",
            "Chain 3 Iteration: 2000 / 4000 [ 50%]  (Warmup) \n",
            "Chain 3 Iteration: 2001 / 4000 [ 50%]  (Sampling) \n",
            "Chain 3 Iteration: 2100 / 4000 [ 52%]  (Sampling) \n",
            "Chain 3 Iteration: 2200 / 4000 [ 55%]  (Sampling) \n",
            "Chain 3 Iteration: 2300 / 4000 [ 57%]  (Sampling) \n",
            "Chain 3 Iteration: 2400 / 4000 [ 60%]  (Sampling) \n",
            "Chain 3 Iteration: 2500 / 4000 [ 62%]  (Sampling) \n",
            "Chain 3 Iteration: 2600 / 4000 [ 65%]  (Sampling) \n",
            "Chain 3 Iteration: 2700 / 4000 [ 67%]  (Sampling) \n",
            "Chain 3 Iteration: 2800 / 4000 [ 70%]  (Sampling) \n",
            "Chain 3 Iteration: 2900 / 4000 [ 72%]  (Sampling) \n",
            "Chain 3 Iteration: 3000 / 4000 [ 75%]  (Sampling) \n",
            "Chain 3 Iteration: 3100 / 4000 [ 77%]  (Sampling) \n",
            "Chain 3 Iteration: 3200 / 4000 [ 80%]  (Sampling) \n",
            "Chain 3 Iteration: 3300 / 4000 [ 82%]  (Sampling) \n",
            "Chain 3 Iteration: 3400 / 4000 [ 85%]  (Sampling) \n",
            "Chain 3 Iteration: 3500 / 4000 [ 87%]  (Sampling) \n",
            "Chain 3 Iteration: 3600 / 4000 [ 90%]  (Sampling) \n",
            "Chain 3 Iteration: 3700 / 4000 [ 92%]  (Sampling) \n",
            "Chain 3 Iteration: 3800 / 4000 [ 95%]  (Sampling) \n",
            "Chain 3 Iteration: 3900 / 4000 [ 97%]  (Sampling) \n",
            "Chain 3 Iteration: 4000 / 4000 [100%]  (Sampling) \n",
            "Chain 3 finished in 0.7 seconds.\n",
            "Chain 4 Iteration:    1 / 4000 [  0%]  (Warmup) \n",
            "Chain 4 Iteration:  100 / 4000 [  2%]  (Warmup) \n",
            "Chain 4 Iteration:  200 / 4000 [  5%]  (Warmup) \n",
            "Chain 4 Iteration:  300 / 4000 [  7%]  (Warmup) \n",
            "Chain 4 Iteration:  400 / 4000 [ 10%]  (Warmup) \n",
            "Chain 4 Iteration:  500 / 4000 [ 12%]  (Warmup) \n",
            "Chain 4 Iteration:  600 / 4000 [ 15%]  (Warmup) \n",
            "Chain 4 Iteration:  700 / 4000 [ 17%]  (Warmup) \n",
            "Chain 4 Iteration:  800 / 4000 [ 20%]  (Warmup) \n",
            "Chain 4 Iteration:  900 / 4000 [ 22%]  (Warmup) \n",
            "Chain 4 Iteration: 1000 / 4000 [ 25%]  (Warmup) \n",
            "Chain 4 Iteration: 1100 / 4000 [ 27%]  (Warmup) \n",
            "Chain 4 Iteration: 1200 / 4000 [ 30%]  (Warmup) \n",
            "Chain 4 Iteration: 1300 / 4000 [ 32%]  (Warmup) \n",
            "Chain 4 Iteration: 1400 / 4000 [ 35%]  (Warmup) \n",
            "Chain 4 Iteration: 1500 / 4000 [ 37%]  (Warmup) \n",
            "Chain 4 Iteration: 1600 / 4000 [ 40%]  (Warmup) \n",
            "Chain 4 Iteration: 1700 / 4000 [ 42%]  (Warmup) \n",
            "Chain 4 Iteration: 1800 / 4000 [ 45%]  (Warmup) \n",
            "Chain 4 Iteration: 1900 / 4000 [ 47%]  (Warmup) \n",
            "Chain 4 Iteration: 2000 / 4000 [ 50%]  (Warmup) \n",
            "Chain 4 Iteration: 2001 / 4000 [ 50%]  (Sampling) \n",
            "Chain 4 Iteration: 2100 / 4000 [ 52%]  (Sampling) \n",
            "Chain 4 Iteration: 2200 / 4000 [ 55%]  (Sampling) \n",
            "Chain 4 Iteration: 2300 / 4000 [ 57%]  (Sampling) \n",
            "Chain 4 Iteration: 2400 / 4000 [ 60%]  (Sampling) \n",
            "Chain 4 Iteration: 2500 / 4000 [ 62%]  (Sampling) \n",
            "Chain 4 Iteration: 2600 / 4000 [ 65%]  (Sampling) \n",
            "Chain 4 Iteration: 2700 / 4000 [ 67%]  (Sampling) \n",
            "Chain 4 Iteration: 2800 / 4000 [ 70%]  (Sampling) \n",
            "Chain 4 Iteration: 2900 / 4000 [ 72%]  (Sampling) \n",
            "Chain 4 Iteration: 3000 / 4000 [ 75%]  (Sampling) \n",
            "Chain 4 Iteration: 3100 / 4000 [ 77%]  (Sampling) \n",
            "Chain 4 Iteration: 3200 / 4000 [ 80%]  (Sampling) \n",
            "Chain 4 Iteration: 3300 / 4000 [ 82%]  (Sampling) \n",
            "Chain 4 Iteration: 3400 / 4000 [ 85%]  (Sampling) \n",
            "Chain 4 Iteration: 3500 / 4000 [ 87%]  (Sampling) \n",
            "Chain 4 Iteration: 3600 / 4000 [ 90%]  (Sampling) \n",
            "Chain 4 Iteration: 3700 / 4000 [ 92%]  (Sampling) \n",
            "Chain 4 Iteration: 3800 / 4000 [ 95%]  (Sampling) \n",
            "Chain 4 Iteration: 3900 / 4000 [ 97%]  (Sampling) \n",
            "Chain 4 Iteration: 4000 / 4000 [100%]  (Sampling) \n",
            "Chain 4 finished in 0.6 seconds.\n",
            "\n",
            "All 4 chains finished successfully.\n",
            "Mean chain execution time: 0.5 seconds.\n",
            "Total execution time: 2.6 seconds.\n",
            "\n"
          ]
        },
        {
          "output_type": "display_data",
          "data": {
            "text/html": [
              "<table class=\"dataframe\">\n",
              "<caption>A precis: 8 × 6</caption>\n",
              "<thead>\n",
              "\t<tr><th></th><th scope=col>mean</th><th scope=col>sd</th><th scope=col>5.5%</th><th scope=col>94.5%</th><th scope=col>rhat</th><th scope=col>ess_bulk</th></tr>\n",
              "\t<tr><th></th><th scope=col>&lt;dbl&gt;</th><th scope=col>&lt;dbl&gt;</th><th scope=col>&lt;dbl&gt;</th><th scope=col>&lt;dbl&gt;</th><th scope=col>&lt;dbl&gt;</th><th scope=col>&lt;dbl&gt;</th></tr>\n",
              "</thead>\n",
              "<tbody>\n",
              "\t<tr><th scope=row>a[1]</th><td>-0.5269248</td><td>0.5289409</td><td>-1.3757168</td><td> 0.3228402</td><td>1.014367</td><td>602.6885</td></tr>\n",
              "\t<tr><th scope=row>a[2]</th><td>-0.4290667</td><td>0.5307214</td><td>-1.2722252</td><td> 0.4244073</td><td>1.014089</td><td>611.6976</td></tr>\n",
              "\t<tr><th scope=row>delta[1]</th><td> 1.1091507</td><td>0.5325078</td><td> 0.2477277</td><td> 1.9634662</td><td>1.013277</td><td>615.9009</td></tr>\n",
              "\t<tr><th scope=row>delta[2]</th><td> 1.0639805</td><td>0.5349251</td><td> 0.1969538</td><td> 1.9312865</td><td>1.014280</td><td>611.1214</td></tr>\n",
              "\t<tr><th scope=row>delta[3]</th><td>-0.1543803</td><td>0.5321091</td><td>-1.0157160</td><td> 0.6954021</td><td>1.013600</td><td>611.6782</td></tr>\n",
              "\t<tr><th scope=row>delta[4]</th><td>-0.1859093</td><td>0.5322783</td><td>-1.0409923</td><td> 0.6595290</td><td>1.014346</td><td>613.4112</td></tr>\n",
              "\t<tr><th scope=row>delta[5]</th><td>-0.6302199</td><td>0.5338373</td><td>-1.4807171</td><td> 0.2032978</td><td>1.012032</td><td>619.7943</td></tr>\n",
              "\t<tr><th scope=row>delta[6]</th><td>-2.1832578</td><td>0.5461205</td><td>-3.0631999</td><td>-1.3189888</td><td>1.010738</td><td>647.3394</td></tr>\n",
              "</tbody>\n",
              "</table>\n"
            ],
            "text/markdown": "\nA precis: 8 × 6\n\n| <!--/--> | mean &lt;dbl&gt; | sd &lt;dbl&gt; | 5.5% &lt;dbl&gt; | 94.5% &lt;dbl&gt; | rhat &lt;dbl&gt; | ess_bulk &lt;dbl&gt; |\n|---|---|---|---|---|---|---|\n| a[1] | -0.5269248 | 0.5289409 | -1.3757168 |  0.3228402 | 1.014367 | 602.6885 |\n| a[2] | -0.4290667 | 0.5307214 | -1.2722252 |  0.4244073 | 1.014089 | 611.6976 |\n| delta[1] |  1.1091507 | 0.5325078 |  0.2477277 |  1.9634662 | 1.013277 | 615.9009 |\n| delta[2] |  1.0639805 | 0.5349251 |  0.1969538 |  1.9312865 | 1.014280 | 611.1214 |\n| delta[3] | -0.1543803 | 0.5321091 | -1.0157160 |  0.6954021 | 1.013600 | 611.6782 |\n| delta[4] | -0.1859093 | 0.5322783 | -1.0409923 |  0.6595290 | 1.014346 | 613.4112 |\n| delta[5] | -0.6302199 | 0.5338373 | -1.4807171 |  0.2032978 | 1.012032 | 619.7943 |\n| delta[6] | -2.1832578 | 0.5461205 | -3.0631999 | -1.3189888 | 1.010738 | 647.3394 |\n\n",
            "text/latex": "A precis: 8 × 6\n\\begin{tabular}{r|llllll}\n  & mean & sd & 5.5\\% & 94.5\\% & rhat & ess\\_bulk\\\\\n  & <dbl> & <dbl> & <dbl> & <dbl> & <dbl> & <dbl>\\\\\n\\hline\n\ta{[}1{]} & -0.5269248 & 0.5289409 & -1.3757168 &  0.3228402 & 1.014367 & 602.6885\\\\\n\ta{[}2{]} & -0.4290667 & 0.5307214 & -1.2722252 &  0.4244073 & 1.014089 & 611.6976\\\\\n\tdelta{[}1{]} &  1.1091507 & 0.5325078 &  0.2477277 &  1.9634662 & 1.013277 & 615.9009\\\\\n\tdelta{[}2{]} &  1.0639805 & 0.5349251 &  0.1969538 &  1.9312865 & 1.014280 & 611.1214\\\\\n\tdelta{[}3{]} & -0.1543803 & 0.5321091 & -1.0157160 &  0.6954021 & 1.013600 & 611.6782\\\\\n\tdelta{[}4{]} & -0.1859093 & 0.5322783 & -1.0409923 &  0.6595290 & 1.014346 & 613.4112\\\\\n\tdelta{[}5{]} & -0.6302199 & 0.5338373 & -1.4807171 &  0.2032978 & 1.012032 & 619.7943\\\\\n\tdelta{[}6{]} & -2.1832578 & 0.5461205 & -3.0631999 & -1.3189888 & 1.010738 & 647.3394\\\\\n\\end{tabular}\n",
            "text/plain": [
              "         mean       sd        5.5%       94.5%      rhat     ess_bulk\n",
              "a[1]     -0.5269248 0.5289409 -1.3757168  0.3228402 1.014367 602.6885\n",
              "a[2]     -0.4290667 0.5307214 -1.2722252  0.4244073 1.014089 611.6976\n",
              "delta[1]  1.1091507 0.5325078  0.2477277  1.9634662 1.013277 615.9009\n",
              "delta[2]  1.0639805 0.5349251  0.1969538  1.9312865 1.014280 611.1214\n",
              "delta[3] -0.1543803 0.5321091 -1.0157160  0.6954021 1.013600 611.6782\n",
              "delta[4] -0.1859093 0.5322783 -1.0409923  0.6595290 1.014346 613.4112\n",
              "delta[5] -0.6302199 0.5338373 -1.4807171  0.2032978 1.012032 619.7943\n",
              "delta[6] -2.1832578 0.5461205 -3.0631999 -1.3189888 1.010738 647.3394"
            ]
          },
          "metadata": {}
        }
      ],
      "source": [
        "## R code\n",
        "library(rethinking)\n",
        "data(UCBadmit)\n",
        "d <- UCBadmit\n",
        "\n",
        "# Generate data\n",
        "dat_list <- list(\n",
        "  admit = d$admit,\n",
        "  applications = d$applications,\n",
        "  gid = ifelse( d$applicant.gender==\"male\" , 1 , 2 )\n",
        ")\n",
        "dat_list$dept_id <- rep(1:6,each=2)\n",
        "\n",
        "model_dept <- ulam(\n",
        "  alist(\n",
        "    admit ~ dbinom( applications , p ) ,\n",
        "    logit(p) <- a[gid] + delta[dept_id] ,\n",
        "    a[gid] ~ dnorm( 0 , 1.5 ) ,\n",
        "    delta[dept_id] ~ dnorm( 0 , 1.5 )\n",
        "  ) , data=dat_list , chains=4 , iter=4000 )\n",
        "precis( model_dept , depth=2 )"
      ]
    },
    {
      "cell_type": "markdown",
      "id": "9ef74bdf-da94-47ba-a5ab-7f1e1c4da91d",
      "metadata": {
        "id": "9ef74bdf-da94-47ba-a5ab-7f1e1c4da91d"
      },
      "source": [
        "The intercept for male applicants, a[1], is now a little smaller on average than the one for\n",
        "female applicants a[2]."
      ]
    },
    {
      "cell_type": "code",
      "execution_count": null,
      "id": "42a4eb16-94cf-41c7-9407-daf0c2212e1d",
      "metadata": {
        "colab": {
          "base_uri": "https://localhost:8080/",
          "height": 129
        },
        "id": "42a4eb16-94cf-41c7-9407-daf0c2212e1d",
        "outputId": "8e0c9028-b1fd-43f3-cad4-874c49a547c7"
      },
      "outputs": [
        {
          "output_type": "display_data",
          "data": {
            "text/html": [
              "<table class=\"dataframe\">\n",
              "<caption>A matrix: 2 × 6 of type dbl</caption>\n",
              "<thead>\n",
              "\t<tr><th></th><th scope=col>A</th><th scope=col>B</th><th scope=col>C</th><th scope=col>D</th><th scope=col>E</th><th scope=col>F</th></tr>\n",
              "</thead>\n",
              "<tbody>\n",
              "\t<tr><th scope=row>male</th><td>0.88</td><td>0.96</td><td>0.35</td><td>0.53</td><td>0.33</td><td>0.52</td></tr>\n",
              "\t<tr><th scope=row>female</th><td>0.12</td><td>0.04</td><td>0.65</td><td>0.47</td><td>0.67</td><td>0.48</td></tr>\n",
              "</tbody>\n",
              "</table>\n"
            ],
            "text/markdown": "\nA matrix: 2 × 6 of type dbl\n\n| <!--/--> | A | B | C | D | E | F |\n|---|---|---|---|---|---|---|\n| male | 0.88 | 0.96 | 0.35 | 0.53 | 0.33 | 0.52 |\n| female | 0.12 | 0.04 | 0.65 | 0.47 | 0.67 | 0.48 |\n\n",
            "text/latex": "A matrix: 2 × 6 of type dbl\n\\begin{tabular}{r|llllll}\n  & A & B & C & D & E & F\\\\\n\\hline\n\tmale & 0.88 & 0.96 & 0.35 & 0.53 & 0.33 & 0.52\\\\\n\tfemale & 0.12 & 0.04 & 0.65 & 0.47 & 0.67 & 0.48\\\\\n\\end{tabular}\n",
            "text/plain": [
              "       A    B    C    D    E    F   \n",
              "male   0.88 0.96 0.35 0.53 0.33 0.52\n",
              "female 0.12 0.04 0.65 0.47 0.67 0.48"
            ]
          },
          "metadata": {}
        }
      ],
      "source": [
        "## R code\n",
        "\n",
        "pg <- with( dat_list , sapply( 1:6 , function(k)\n",
        "                               applications[dept_id==k]/sum(applications[dept_id==k]) ) )\n",
        "rownames(pg) <- c(\"male\",\"female\")\n",
        "colnames(pg) <- unique(d$dept)\n",
        "round( pg , 2 )\n",
        "dat<- as.data.frame(round( pg , 2 ))\n",
        "write.csv(dat, \" proportions_gender.csv \", row.names= TRUE )\n"
      ]
    },
    {
      "cell_type": "markdown",
      "id": "f02de9f5-e0ab-4bdd-bd17-ae24f6ef52a6",
      "metadata": {
        "editable": true,
        "tags": [],
        "id": "f02de9f5-e0ab-4bdd-bd17-ae24f6ef52a6"
      },
      "source": [
        "# 4.Generating Sampling Data"
      ]
    },
    {
      "cell_type": "code",
      "source": [
        "## Python\n",
        "\n",
        "import os\n",
        "import numpy as np\n",
        "import pandas as pd\n",
        "\n",
        "\n",
        "# Upload data\n",
        "data = {\n",
        "    \"A\": [0.88, 0.12],\n",
        "    \"B\": [0.96, 0.04],\n",
        "    \"C\": [0.35, 0.65],\n",
        "    \"D\": [0.53, 0.47],\n",
        "    \"E\": [0.33, 0.67],\n",
        "    \"F\": [0.52, 0.48]\n",
        "}\n",
        "\n",
        "dat = pd.DataFrame(data, index=[\"male\", \"female\"])\n",
        "print(dat)\n",
        "\n",
        "# Prior\n",
        "n_departments = 6\n",
        "genders = [0, 1]  # 0: male, 1: female\n",
        "\n",
        "# dat = pd.read_csv('proportions_gender.csv', sep=',', names=[ 'A', 'B', 'C', 'D', 'E', 'F'], header=0)\n",
        "a1 = np.array(dat.loc['male'].values.tolist())\n",
        "a2 = np.array(dat.loc['female'].values.tolist())\n",
        "\n",
        "# Initial admit and rej list\n",
        "admit_data = []\n",
        "rej_data = []\n",
        "department_data = []\n",
        "gender_data = []\n",
        "applications_data = []\n",
        "\n",
        "# Generate admit and rej data between females and males within departments\n",
        "for dep in range(n_departments):\n",
        "    for gender in genders:\n",
        "        # Cal lambda1 和 lambda2\n",
        "        lambda1 = np.exp(a1[dep])  # admit的lambda\n",
        "        lambda2 = np.exp(a2[dep])  # rej的lambda\n",
        "\n",
        "        # Poisson dis admit 和 rej\n",
        "        admit = np.random.poisson(lambda1)\n",
        "        rej = np.random.poisson(lambda2)\n",
        "        # applications[dep, gender] = admit + rej # Remove this line\n",
        "        applications_data.append(admit + rej) # append to list\n",
        "\n",
        "\n",
        "        # Save\n",
        "        admit_data.append(admit)\n",
        "        rej_data.append(rej)\n",
        "        department_data.append(dep + 1)\n",
        "        gender_data.append(gender)\n",
        "        #applications_data.append(applications[dep, gender])  # Remove this line\n",
        "\n",
        "# Save as DataFrame\n",
        "data = pd.DataFrame({\n",
        "    'department': department_data,\n",
        "    'gender': gender_data,\n",
        "    'admit': admit_data,\n",
        "    'reject': rej_data,\n",
        "    'applications': applications_data # use the list\n",
        "})\n",
        "\n",
        "data[\"gender\"] = data['gender'].map({1: 'male',  0:'female'})\n",
        "data['department'] = data['department'].map({1: 'A', 2: 'B', 3:'C', 4:'D', 5:'E', 6:'F'})\n",
        "print(data)\n",
        "\n",
        "data.to_csv(\"data_admit.csv\")"
      ],
      "metadata": {
        "colab": {
          "base_uri": "https://localhost:8080/"
        },
        "id": "kbuqtH057r4Y",
        "outputId": "e2267195-5f81-44d7-c884-259703f97fc3"
      },
      "id": "kbuqtH057r4Y",
      "execution_count": null,
      "outputs": [
        {
          "output_type": "stream",
          "name": "stdout",
          "text": [
            "           A     B     C     D     E     F\n",
            "male    0.88  0.96  0.35  0.53  0.33  0.52\n",
            "female  0.12  0.04  0.65  0.47  0.67  0.48\n",
            "   department  gender  admit  reject  applications\n",
            "0           A  female      2       1             3\n",
            "1           A    male      2       0             2\n",
            "2           B  female      2       1             3\n",
            "3           B    male      5       3             8\n",
            "4           C  female      2       1             3\n",
            "5           C    male      1       0             1\n",
            "6           D  female      1       2             3\n",
            "7           D    male      4       5             9\n",
            "8           E  female      3       2             5\n",
            "9           E    male      0       2             2\n",
            "10          F  female      4       2             6\n",
            "11          F    male      1       1             2\n"
          ]
        }
      ]
    },
    {
      "cell_type": "markdown",
      "source": [
        "# 5.Transfer to Long-data"
      ],
      "metadata": {
        "id": "0MN4EpU99eaL"
      },
      "id": "0MN4EpU99eaL"
    },
    {
      "cell_type": "code",
      "execution_count": null,
      "id": "4e98ebd1-6e89-4800-aad6-e75ade4a886d",
      "metadata": {
        "colab": {
          "base_uri": "https://localhost:8080/"
        },
        "id": "4e98ebd1-6e89-4800-aad6-e75ade4a886d",
        "outputId": "78b07619-5a4d-4e11-e896-4a05f215b705"
      },
      "outputs": [
        {
          "output_type": "stream",
          "name": "stdout",
          "text": [
            "   department  gender  admit\n",
            "0           A  female      1\n",
            "1           A  female      1\n",
            "2           A  female      0\n",
            "3           A    male      1\n",
            "4           A    male      1\n",
            "5           B  female      1\n",
            "6           B  female      1\n",
            "7           B  female      0\n",
            "8           B    male      1\n",
            "9           B    male      1\n",
            "10          B    male      1\n",
            "11          B    male      1\n",
            "12          B    male      1\n",
            "13          B    male      0\n",
            "14          B    male      0\n",
            "15          B    male      0\n",
            "16          C  female      1\n",
            "17          C  female      1\n",
            "18          C  female      0\n",
            "19          C    male      1\n",
            "20          D  female      1\n",
            "21          D  female      0\n",
            "22          D  female      0\n",
            "23          D    male      1\n",
            "24          D    male      1\n",
            "25          D    male      1\n",
            "26          D    male      1\n",
            "27          D    male      0\n",
            "28          D    male      0\n",
            "29          D    male      0\n",
            "30          D    male      0\n",
            "31          D    male      0\n",
            "32          E  female      1\n",
            "33          E  female      1\n",
            "34          E  female      1\n",
            "35          E  female      0\n",
            "36          E  female      0\n",
            "37          E    male      0\n",
            "38          E    male      0\n",
            "39          F  female      1\n",
            "40          F  female      1\n",
            "41          F  female      1\n",
            "42          F  female      1\n",
            "43          F  female      0\n",
            "44          F  female      0\n",
            "45          F    male      1\n",
            "46          F    male      0\n"
          ]
        }
      ],
      "source": [
        "import pandas as pd\n",
        "'''\n",
        "data = {\n",
        "    \"department\": [\"A\", \"A\", \"B\", \"B\", \"C\", \"C\", \"D\", \"D\", \"E\", \"E\", \"F\", \"F\"],\n",
        "    \"gender\": [\"male\", \"female\", \"male\", \"female\", \"male\", \"female\", \"male\", \"female\", \"male\", \"female\", \"male\", \"female\"],\n",
        "    \"admit\":        [8, 0, 9, 0, 1, 4, 3, 2, 1, 4, 3, 3],\n",
        "    \"reject\":       [1, 1, 1, 0, 2, 3, 2, 3, 2, 3, 2, 2],\n",
        "    \"applications\": [9, 1, 10, 0, 3, 7, 5, 5, 3, 7, 5, 5]\n",
        "}\n",
        "data = {\n",
        "    \"department\": [\"A\", \"A\", \"B\", \"B\", \"C\", \"C\", \"D\", \"D\", \"E\", \"E\", \"F\", \"F\"],\n",
        "    \"gender\": [\"male\", \"female\", \"male\", \"female\", \"male\", \"female\", \"male\", \"female\", \"male\", \"female\", \"male\", \"female\"],\n",
        "    \"admit\":        [1, 1, 0, 1, 3, 0, 0, 0, 3, 4, 1, 1],\n",
        "    \"reject\":       [3, 0, 1, 0, 2, 2, 4, 3, 3, 6, 1, 1],\n",
        "    \"applications\": [4, 1, 1, 1, 5, 2, 4, 3, 6, 10, 2, 2]\n",
        "}'''\n",
        "df = pd.DataFrame(data)\n",
        "\n",
        "long_data = []\n",
        "\n",
        "for i, row in df.iterrows():\n",
        "    dept = row['department']\n",
        "    gender = row['gender']\n",
        "    admit_count = row['admit']\n",
        "\n",
        "    # Generate admit rows\n",
        "    for _ in range(admit_count):\n",
        "        long_data.append([dept, gender, 1])  # Admit=1\n",
        "\n",
        "    # Generate reject rows\n",
        "    reject_count = row['applications'] - admit_count\n",
        "    for _ in range(reject_count):\n",
        "        long_data.append([dept, gender, 0])  # Admit=0\n",
        "\n",
        "# Save as DataFrame\n",
        "X = pd.DataFrame(long_data, columns=[\"department\", \"gender\", \"admit\"])\n",
        "X.to_csv('UCBadmit_long_samples.csv', index=False, sep=';')\n",
        "\n",
        "print(X)\n"
      ]
    },
    {
      "cell_type": "markdown",
      "id": "a65d3571-d8c0-4040-b06a-dcbe019277d0",
      "metadata": {
        "id": "a65d3571-d8c0-4040-b06a-dcbe019277d0"
      },
      "source": [
        "# 6.Test ExMAG"
      ]
    },
    {
      "cell_type": "code",
      "execution_count": null,
      "id": "fd77b0e2-989f-4545-9d89-440ca0aad199",
      "metadata": {
        "colab": {
          "base_uri": "https://localhost:8080/"
        },
        "id": "fd77b0e2-989f-4545-9d89-440ca0aad199",
        "outputId": "117c327c-5b0c-4380-b7aa-0c432fd1b851"
      },
      "outputs": [
        {
          "output_type": "stream",
          "name": "stdout",
          "text": [
            "    department  gender  admit\n",
            "0            1       0      1\n",
            "1            1       0      1\n",
            "2            1       0      0\n",
            "3            1       1      1\n",
            "4            1       1      1\n",
            "5            2       0      1\n",
            "6            2       0      1\n",
            "7            2       0      0\n",
            "8            2       1      1\n",
            "9            2       1      1\n",
            "10           2       1      1\n",
            "11           2       1      1\n",
            "12           2       1      1\n",
            "13           2       1      0\n",
            "14           2       1      0\n",
            "15           2       1      0\n",
            "16           3       0      1\n",
            "17           3       0      1\n",
            "18           3       0      0\n",
            "19           3       1      1\n",
            "20           4       0      1\n",
            "21           4       0      0\n",
            "22           4       0      0\n",
            "23           4       1      1\n",
            "24           4       1      1\n",
            "25           4       1      1\n",
            "26           4       1      1\n",
            "27           4       1      0\n",
            "28           4       1      0\n",
            "29           4       1      0\n",
            "30           4       1      0\n",
            "31           4       1      0\n",
            "32           5       0      1\n",
            "33           5       0      1\n",
            "34           5       0      1\n",
            "35           5       0      0\n",
            "36           5       0      0\n",
            "37           5       1      0\n",
            "38           5       1      0\n",
            "39           6       0      1\n",
            "40           6       0      1\n",
            "41           6       0      1\n",
            "42           6       0      1\n",
            "43           6       0      0\n",
            "44           6       0      0\n",
            "45           6       1      1\n",
            "46           6       1      0 [[0 1 0]\n",
            " [0 0 0]\n",
            " [1 1 0]]\n"
          ]
        }
      ],
      "source": [
        "import numpy as np\n",
        "import pandas as pd\n",
        "\n",
        "# File_PATH = \"/content/drive/MyDrive/Colab Notebooks/Causality/DAG/Causal_Opti_Modelling/python_Ncpol2sdpa/Test/Examples/Test_data/\"\n",
        "# X = pd.read_csv(File_PATH+'UCBadmit_long.csv', sep=';', names=[ 'department', 'gender', 'admit'], header=0)\n",
        "# X = pd.read_csv('UCBadmit_long_samples.csv', sep=';', names=[ 'department', 'gender', 'admit'], header=0)\n",
        "\n",
        "X[\"gender\"] = X['gender'].map({'male': 1, 'female': 0})\n",
        "X['department'] = X['department'].map({'A': 1, 'B': 2, 'C': 3,'D': 4, 'E': 5, 'F': 6})\n",
        "true_dag = np.array([[0, 1, 0], [0, 0, 0], [1, 1, 0]])\n",
        "print(X, true_dag)"
      ]
    },
    {
      "cell_type": "code",
      "source": [
        "!pip install gurobipy\n",
        "!pip install igraph"
      ],
      "metadata": {
        "colab": {
          "base_uri": "https://localhost:8080/"
        },
        "id": "QbpeVRwdJhTe",
        "outputId": "42aaf7b2-a9b5-457e-fe98-d82f2a7dc7c9"
      },
      "id": "QbpeVRwdJhTe",
      "execution_count": null,
      "outputs": [
        {
          "output_type": "stream",
          "name": "stdout",
          "text": [
            "Requirement already satisfied: gurobipy in /usr/local/lib/python3.11/dist-packages (12.0.1)\n",
            "Collecting igraph\n",
            "  Downloading igraph-0.11.8-cp39-abi3-manylinux_2_17_x86_64.manylinux2014_x86_64.whl.metadata (3.8 kB)\n",
            "Collecting texttable>=1.6.2 (from igraph)\n",
            "  Downloading texttable-1.7.0-py2.py3-none-any.whl.metadata (9.8 kB)\n",
            "Downloading igraph-0.11.8-cp39-abi3-manylinux_2_17_x86_64.manylinux2014_x86_64.whl (3.1 MB)\n",
            "\u001b[2K   \u001b[90m━━━━━━━━━━━━━━━━━━━━━━━━━━━━━━━━━━━━━━━━\u001b[0m \u001b[32m3.1/3.1 MB\u001b[0m \u001b[31m30.7 MB/s\u001b[0m eta \u001b[36m0:00:00\u001b[0m\n",
            "\u001b[?25hDownloading texttable-1.7.0-py2.py3-none-any.whl (10 kB)\n",
            "Installing collected packages: texttable, igraph\n",
            "Successfully installed igraph-0.11.8 texttable-1.7.0\n"
          ]
        }
      ]
    },
    {
      "cell_type": "code",
      "source": [
        "from google.colab import drive\n",
        "drive.mount('/content/drive')\n"
      ],
      "metadata": {
        "colab": {
          "base_uri": "https://localhost:8080/"
        },
        "id": "du6vd_MTEik7",
        "outputId": "41d8094a-1520-4830-cd30-6f06671219a7"
      },
      "id": "du6vd_MTEik7",
      "execution_count": null,
      "outputs": [
        {
          "output_type": "stream",
          "name": "stdout",
          "text": [
            "Mounted at /content/drive\n"
          ]
        }
      ]
    },
    {
      "cell_type": "code",
      "source": [
        "import os\n",
        "os.chdir(\"/content/drive/My Drive/Colab Notebooks/\")"
      ],
      "metadata": {
        "id": "X04KO2xwH_Za"
      },
      "id": "X04KO2xwH_Za",
      "execution_count": null,
      "outputs": []
    },
    {
      "cell_type": "code",
      "source": [
        "from dagsolvers.solve_exmag import *  # 导入 solve_exmag 模块\n"
      ],
      "metadata": {
        "id": "oVjniX_tEkxY"
      },
      "id": "oVjniX_tEkxY",
      "execution_count": null,
      "outputs": []
    },
    {
      "cell_type": "code",
      "execution_count": null,
      "id": "a5ccf0fd-f2ba-42a4-ab0b-482816a9c7e1",
      "metadata": {
        "colab": {
          "base_uri": "https://localhost:8080/"
        },
        "id": "a5ccf0fd-f2ba-42a4-ab0b-482816a9c7e1",
        "outputId": "1e6f7758-5153-40e6-965a-3513bb782361"
      },
      "outputs": [
        {
          "output_type": "stream",
          "name": "stdout",
          "text": [
            "Restricted license - for non-production use only - expires 2026-11-23\n",
            "0.0\n",
            "Set parameter LazyConstraints to value 1\n",
            "Set parameter MIPGap to value 0.1\n",
            "Set parameter TimeLimit to value 300\n",
            "Gurobi Optimizer version 12.0.1 build v12.0.1rc0 (linux64 - \"Ubuntu 22.04.4 LTS\")\n",
            "\n",
            "CPU model: Intel(R) Xeon(R) CPU @ 2.20GHz, instruction set [SSE2|AVX|AVX2]\n",
            "Thread count: 1 physical cores, 2 logical processors, using up to 2 threads\n",
            "\n",
            "Non-default parameters:\n",
            "TimeLimit  300\n",
            "MIPGap  0.1\n",
            "LazyConstraints  1\n",
            "\n",
            "Optimize a model with 36 rows, 18 columns and 72 nonzeros\n",
            "Model fingerprint: 0x363e40a8\n",
            "Model has 9 quadratic objective terms\n",
            "Variable types: 6 continuous, 12 integer (12 binary)\n",
            "Coefficient statistics:\n",
            "  Matrix range     [1e+00, 1e+02]\n",
            "  Objective range  [3e-01, 6e-01]\n",
            "  QObjective range [7e-01, 2e+00]\n",
            "  Bounds range     [1e+00, 1e+00]\n",
            "  RHS range        [1e+00, 1e+00]\n",
            "Found heuristic solution: objective 3.0000000\n",
            "Presolve removed 21 rows and 6 columns\n",
            "Presolve time: 0.00s\n",
            "Presolved: 33 rows, 18 columns, 66 nonzeros\n",
            "Presolved model has 15 quadratic objective terms\n",
            "Variable types: 12 continuous, 6 integer (6 binary)\n",
            "\n",
            "Root relaxation: objective 2.480776e+00, 25 iterations, 0.00 seconds (0.00 work units)\n",
            "\n",
            "    Nodes    |    Current Node    |     Objective Bounds      |     Work\n",
            " Expl Unexpl |  Obj  Depth IntInf | Incumbent    BestBd   Gap | It/Node Time\n",
            "\n",
            "     0     0    2.48078    0    6    3.00000    2.48078  17.3%     -    0s\n",
            "H    0     0                       2.7584098    2.48078  10.1%     -    0s\n",
            "     0     0    2.48078    0    6    2.75841    2.48078  10.1%     -    0s\n",
            "H    0     0                       2.7566604    2.48078  10.0%     -    0s\n",
            "     0     2    2.48078    0    6    2.75666    2.48078  10.0%     -    0s\n",
            "\n",
            "Explored 2 nodes (29 simplex iterations) in 0.05 seconds (0.00 work units)\n",
            "Thread count was 2 (of 2 available processors)\n",
            "\n",
            "Solution count 3: 2.75666 2.75841 3 \n",
            "\n",
            "Optimal solution found (tolerance 1.00e-01)\n",
            "Best objective 2.756660446794e+00, best bound 2.612929559944e+00, gap 5.2139%\n",
            "\n",
            "User-callback calls 184, time in user-callback 0.00 sec\n",
            "Freeing default Gurobi environment\n"
          ]
        },
        {
          "output_type": "stream",
          "name": "stderr",
          "text": [
            ".\n",
            "----------------------------------------------------------------------\n",
            "Ran 1 test in 0.141s\n",
            "\n",
            "OK\n"
          ]
        },
        {
          "output_type": "stream",
          "name": "stdout",
          "text": [
            "[]\n",
            "{'fdr': 0.3333333333333333, 'tpr': 0.6666666666666666, 'fpr': 1.0, 'shd': 1, 'nnz': 3, 'true_pos': 2, 'false_pos': 0, 'false_neg': 1, 'cond': 3, 'precision': 1.0, 'f1score': 0.8, 'g_score': 0.6666666666666666}\n",
            "[[ 0.         -0.36120655 -0.31282475]\n",
            " [ 0.          0.          0.        ]\n",
            " [ 0.         -0.27966102  0.        ]]\n",
            "[[0. 0. 0.]\n",
            " [0. 0. 0.]\n",
            " [0. 0. 0.]]\n"
          ]
        }
      ],
      "source": [
        "#test_run\n",
        "######################################\n",
        "\n",
        "import unittest\n",
        "\n",
        "import numpy as np\n",
        "import pandas as pd\n",
        "import numpy.testing as npt\n",
        "\n",
        "from dagsolvers.solve_exmag import *\n",
        "\n",
        "\n",
        "def normalize_data(X):\n",
        "    mean = np.mean(X, axis=0)\n",
        "    std = np.std(X, axis=0)\n",
        "    X = X - mean\n",
        "    X = X / std\n",
        "    return X\n",
        "\n",
        "class TestRun(unittest.TestCase):\n",
        "\n",
        "    def test_default(self):\n",
        "        tabu_edges = [(0, 1)]\n",
        "        # File_PATH = \"/content/drive/MyDrive/Colab Notebooks/Causality/DAG/Causal_Opti_Modelling/python_Ncpol2sdpa/Test/Examples/Test_data/\"\n",
        "        # X = pd.read_csv(File_PATH+'UCBadmit_long.csv', sep=';', names=[ 'department', 'gender', 'admit'], header=0)\n",
        "        X = pd.read_csv('UCBadmit_long_samples.csv', sep=';', names=[ 'department', 'gender', 'admit'], header=0)\n",
        "        X = X.sample(n=10)\n",
        "        X[\"gender\"] = X['gender'].map({'male': 1, 'female': 0})\n",
        "        X['department'] = X['department'].map({'A': 1, 'B': 2, 'C': 3,'D': 4, 'E': 5, 'F': 6})\n",
        "        X = normalize_data(np.array(X))\n",
        "\n",
        "        # W_est, A_est, _, _, stats = solve(X, cfg, 0, Y=Y, B_ref=None)\n",
        "        # W_est, W_bi, _, _, stats = solve(X, lambda1=1, loss_type='l2', reg_type='l1', w_threshold=0,\n",
        "        #                                 tabu_edges=tabu_edges, B_ref=None, mode='all_cycles')\n",
        "        B_true = np.array([[0, 1, 0], [0, 0, 0], [1, 1, 0]])\n",
        "\n",
        "        W_est, W_bi, _, _, stats = solve(X, lambda1=0, loss_type='l2', reg_type='l1', w_threshold=0.1, B_ref=B_true,\n",
        "                               mode='all_cycles')  # lambda1=0.0009\n",
        "        assert utils.is_dag(W_est)\n",
        "        np.savetxt('W_est_milp.csv', W_est, delimiter=',')\n",
        "        acc = utils.count_accuracy(B_true, W_est != 0)\n",
        "        print(stats)\n",
        "        print(acc)\n",
        "        print(W_est)\n",
        "        print(W_bi)\n",
        "\n",
        "\n",
        "if __name__ == '__main__':\n",
        "    unittest.main(argv=[''], exit=False)\n"
      ]
    },
    {
      "cell_type": "markdown",
      "source": [
        "For more information, please refer to\n",
        "\n",
        "[1] McElreath, R. (2020). Statistical Rethinking: A Bayesian Course with Examples in R and STAN (2nd ed.). Chapman and Hall/CRC. https://doi.org/10.1201/9780429029608"
      ],
      "metadata": {
        "id": "un1QHco_xwcj"
      },
      "id": "un1QHco_xwcj"
    }
  ],
  "metadata": {
    "kernelspec": {
      "display_name": "Python 3",
      "name": "python3"
    },
    "language_info": {
      "name": "python"
    },
    "colab": {
      "provenance": [],
      "toc_visible": true
    }
  },
  "nbformat": 4,
  "nbformat_minor": 5
}